{
 "cells": [
  {
   "cell_type": "markdown",
   "metadata": {
    "id": "WBwkivRf0XVR"
   },
   "source": [
    "# Problem    \n",
    "  \n",
    "Suppose you are a data scientist hired by a nonprofit organization whose mission is to advocate for better health outcomes for low income populations in the United States. You have been asked to examine whether low income groups are at greater risk for being diagnosed and dying from lung cancer. "
   ]
  },
  {
   "cell_type": "markdown",
   "metadata": {
    "id": "LvzgnK9X0XVV"
   },
   "source": [
    "# Strategy    \n",
    "    \n",
    "As a data scientist, we will begin by looking for data. In this case, the US federal government has published open-source data fitting our present needs. Specifically cancer.gov has cancer incidence and mortality data, and the Census American Community Survey includes a multitude of additional variables that cam be useful to our analysis. \n",
    "\n",
    "**Our broad goals**:   \n",
    "1. Demonstrate whether or not lung cancer incidence and mortality are correlated with socioeconomic status\n",
    "2. Interpret results by providing both quantitative and visual evidence for the clients.\n",
    "\n",
    "**Objectives**:    \n",
    "1. Gather, clean and prepare data\n",
    "2. Perform exploratory analysis\n",
    "3. Develop statistical model\n",
    "4. Visualize and interpret results\n",
    " "
   ]
  },
  {
   "cell_type": "markdown",
   "metadata": {
    "id": "GOAJu3R80XVW"
   },
   "source": [
    "###   "
   ]
  },
  {
   "cell_type": "code",
   "execution_count": 1,
   "metadata": {
    "colab": {
     "base_uri": "https://localhost:8080/"
    },
    "id": "ZGqEkXJv0XVW",
    "outputId": "2da3d81e-f598-4cf1-c2c3-a24cdf60e86e"
   },
   "outputs": [],
   "source": [
    "# data wrangling tools\n",
    "import pandas as pd\n",
    "import numpy as np\n",
    "\n",
    "# visualization\n",
    "import matplotlib.pyplot as plt\n",
    "%matplotlib inline\n",
    "import seaborn as sns\n",
    "\n",
    "# statistical analysis tool\n",
    "import statsmodels.api as sm\n",
    "from statsmodels.stats.outliers_influence import variance_inflation_factor\n",
    "\n",
    "import time"
   ]
  },
  {
   "cell_type": "markdown",
   "metadata": {
    "id": "byOlKz3w0XVY"
   },
   "source": [
    "# 1. Gather, Clean and Prepare Data   \n",
    "\n",
    "### Cancer Incidence & Mortality Data\n",
    "Cancer mortality and incidence data can be found at cancer.gov"
   ]
  },
  {
   "cell_type": "markdown",
   "metadata": {
    "id": "3zIGPFpx0XVY"
   },
   "source": [
    "For our analysis, we will using cancer statistics aggregated at the county level. In turn, we will be able to merge with data from the Census, also aggregated at the county level."
   ]
  },
  {
   "cell_type": "code",
   "execution_count": 2,
   "metadata": {},
   "outputs": [],
   "source": [
    "\n",
    "path = ''\n"
   ]
  },
  {
   "cell_type": "code",
   "execution_count": 3,
   "metadata": {
    "colab": {
     "base_uri": "https://localhost:8080/",
     "height": 458
    },
    "id": "LGME_2rG0XVY",
    "outputId": "9b92b24a-8b9f-4c67-efd6-241f6e8ec99a"
   },
   "outputs": [
    {
     "data": {
      "text/html": [
       "<div>\n",
       "<style scoped>\n",
       "    .dataframe tbody tr th:only-of-type {\n",
       "        vertical-align: middle;\n",
       "    }\n",
       "\n",
       "    .dataframe tbody tr th {\n",
       "        vertical-align: top;\n",
       "    }\n",
       "\n",
       "    .dataframe thead th {\n",
       "        text-align: right;\n",
       "    }\n",
       "</style>\n",
       "<table border=\"1\" class=\"dataframe\">\n",
       "  <thead>\n",
       "    <tr style=\"text-align: right;\">\n",
       "      <th></th>\n",
       "      <th>County</th>\n",
       "      <th>FIPS</th>\n",
       "      <th>Met Objective of 45.5? (1)</th>\n",
       "      <th>Age-Adjusted Death Rate</th>\n",
       "      <th>Lower 95% Confidence Interval for Death Rate</th>\n",
       "      <th>Upper 95% Confidence Interval for Death Rate</th>\n",
       "      <th>Average Deaths per Year</th>\n",
       "      <th>Recent Trend (2)</th>\n",
       "      <th>Recent 5-Year Trend (2) in Death Rates</th>\n",
       "      <th>Lower 95% Confidence Interval for Trend</th>\n",
       "      <th>Upper 95% Confidence Interval for Trend</th>\n",
       "    </tr>\n",
       "  </thead>\n",
       "  <tbody>\n",
       "    <tr>\n",
       "      <th>0</th>\n",
       "      <td>United States</td>\n",
       "      <td>0</td>\n",
       "      <td>No</td>\n",
       "      <td>46</td>\n",
       "      <td>45.9</td>\n",
       "      <td>46.1</td>\n",
       "      <td>157,376</td>\n",
       "      <td>falling</td>\n",
       "      <td>-2.4</td>\n",
       "      <td>-2.6</td>\n",
       "      <td>-2.2</td>\n",
       "    </tr>\n",
       "    <tr>\n",
       "      <th>1</th>\n",
       "      <td>Perry County, Kentucky</td>\n",
       "      <td>21193</td>\n",
       "      <td>No</td>\n",
       "      <td>125.6</td>\n",
       "      <td>108.9</td>\n",
       "      <td>144.2</td>\n",
       "      <td>43</td>\n",
       "      <td>stable</td>\n",
       "      <td>-0.6</td>\n",
       "      <td>-2.7</td>\n",
       "      <td>1.6</td>\n",
       "    </tr>\n",
       "    <tr>\n",
       "      <th>2</th>\n",
       "      <td>Powell County, Kentucky</td>\n",
       "      <td>21197</td>\n",
       "      <td>No</td>\n",
       "      <td>125.3</td>\n",
       "      <td>100.2</td>\n",
       "      <td>155.1</td>\n",
       "      <td>18</td>\n",
       "      <td>stable</td>\n",
       "      <td>1.7</td>\n",
       "      <td>0</td>\n",
       "      <td>3.4</td>\n",
       "    </tr>\n",
       "    <tr>\n",
       "      <th>3</th>\n",
       "      <td>North Slope Borough, Alaska</td>\n",
       "      <td>2185</td>\n",
       "      <td>No</td>\n",
       "      <td>124.9</td>\n",
       "      <td>73</td>\n",
       "      <td>194.7</td>\n",
       "      <td>5</td>\n",
       "      <td>**</td>\n",
       "      <td>**</td>\n",
       "      <td>**</td>\n",
       "      <td>**</td>\n",
       "    </tr>\n",
       "    <tr>\n",
       "      <th>4</th>\n",
       "      <td>Owsley County, Kentucky</td>\n",
       "      <td>21189</td>\n",
       "      <td>No</td>\n",
       "      <td>118.5</td>\n",
       "      <td>83.1</td>\n",
       "      <td>165.5</td>\n",
       "      <td>8</td>\n",
       "      <td>stable</td>\n",
       "      <td>2.2</td>\n",
       "      <td>-0.4</td>\n",
       "      <td>4.8</td>\n",
       "    </tr>\n",
       "  </tbody>\n",
       "</table>\n",
       "</div>"
      ],
      "text/plain": [
       "                        County   FIPS Met Objective of 45.5? (1)  \\\n",
       "0                United States      0                         No   \n",
       "1       Perry County, Kentucky  21193                         No   \n",
       "2      Powell County, Kentucky  21197                         No   \n",
       "3  North Slope Borough, Alaska   2185                         No   \n",
       "4      Owsley County, Kentucky  21189                         No   \n",
       "\n",
       "  Age-Adjusted Death Rate Lower 95% Confidence Interval for Death Rate  \\\n",
       "0                      46                                         45.9   \n",
       "1                   125.6                                        108.9   \n",
       "2                   125.3                                        100.2   \n",
       "3                   124.9                                           73   \n",
       "4                   118.5                                         83.1   \n",
       "\n",
       "  Upper 95% Confidence Interval for Death Rate Average Deaths per Year  \\\n",
       "0                                         46.1                 157,376   \n",
       "1                                        144.2                      43   \n",
       "2                                        155.1                      18   \n",
       "3                                        194.7                       5   \n",
       "4                                        165.5                       8   \n",
       "\n",
       "  Recent Trend (2) Recent 5-Year Trend (2) in Death Rates  \\\n",
       "0          falling                                   -2.4   \n",
       "1           stable                                   -0.6   \n",
       "2           stable                                    1.7   \n",
       "3               **                                     **   \n",
       "4           stable                                    2.2   \n",
       "\n",
       "  Lower 95% Confidence Interval for Trend  \\\n",
       "0                                    -2.6   \n",
       "1                                    -2.7   \n",
       "2                                       0   \n",
       "3                                      **   \n",
       "4                                    -0.4   \n",
       "\n",
       "  Upper 95% Confidence Interval for Trend  \n",
       "0                                    -2.2  \n",
       "1                                     1.6  \n",
       "2                                     3.4  \n",
       "3                                      **  \n",
       "4                                     4.8  "
      ]
     },
     "execution_count": 3,
     "metadata": {},
     "output_type": "execute_result"
    }
   ],
   "source": [
    "\n",
    "\n",
    "#open the csv file in excel using pandas dataframe\n",
    "mortdf = pd.read_csv('Cancer Analysis Data Files\\death.csv', delimiter=',')\n",
    "\n",
    "#incddf = pd.read_csv('incd.csv', delimiter=',')\n",
    "incddf = pd.read_csv('Cancer Analysis Data Files\\incd2.csv', delimiter=',')\n",
    "\n",
    "mortdf.head()\n"
   ]
  },
  {
   "cell_type": "code",
   "execution_count": 4,
   "metadata": {
    "colab": {
     "base_uri": "https://localhost:8080/"
    },
    "id": "7N7gMQAX0XVa",
    "outputId": "01d341d6-caff-4238-8773-c51af62d7a68"
   },
   "outputs": [
    {
     "data": {
      "text/plain": [
       "0           0\n",
       "1        1001\n",
       "2        1003\n",
       "3        1005\n",
       "4        1007\n",
       "        ...  \n",
       "3136    56037\n",
       "3137    56039\n",
       "3138    56041\n",
       "3139    56043\n",
       "3140    56045\n",
       "Name: FIPS, Length: 3141, dtype: int64"
      ]
     },
     "execution_count": 4,
     "metadata": {},
     "output_type": "execute_result"
    }
   ],
   "source": [
    "incddf.head()\n",
    "incddf.FIPS"
   ]
  },
  {
   "cell_type": "code",
   "execution_count": 5,
   "metadata": {
    "colab": {
     "base_uri": "https://localhost:8080/"
    },
    "id": "4LTaYaay0XVa",
    "outputId": "19b642c5-cefa-42ac-d319-e742d3271640"
   },
   "outputs": [
    {
     "data": {
      "text/plain": [
       "0           0\n",
       "1       21193\n",
       "2       21197\n",
       "3        2185\n",
       "4       21189\n",
       "        ...  \n",
       "3136     2282\n",
       "3137     2290\n",
       "3138    48505\n",
       "3139    48507\n",
       "3140    46137\n",
       "Name: FIPS, Length: 3141, dtype: int64"
      ]
     },
     "execution_count": 5,
     "metadata": {},
     "output_type": "execute_result"
    }
   ],
   "source": [
    "mortdf.FIPS"
   ]
  },
  {
   "cell_type": "code",
   "execution_count": 6,
   "metadata": {
    "id": "THfF0MFq0XVb"
   },
   "outputs": [],
   "source": [
    "mortdf = mortdf[mortdf.FIPS.notnull()]\n",
    "incddf = incddf[incddf.FIPS.notnull()]\n",
    "\n",
    "mortdf['FIPS'] = mortdf.FIPS.apply(lambda x: str(int(x)))\\\n",
    "                            .astype(np.object_)\\\n",
    "                            .str.pad(5, 'left', '0')\n",
    "\n",
    "incddf['FIPS'] = incddf.FIPS.apply(lambda x: str(int(x)))\\\n",
    "                            .astype(np.object_)\\\n",
    "                            .str.pad(5, 'left', '0')\n",
    "\n",
    "incddf.drop(incddf.columns[[0,3,4,7,8,9]].values, axis=1, inplace=True)\n",
    "mortdf.drop(mortdf.columns[[0,2,4,5,7,8,9,10]], axis=1, inplace=True)\n",
    "\n",
    "incddf.rename(columns={incddf.columns[1]:'Incidence_Rate',\n",
    "                       incddf.columns[2]:'Avg_Ann_Incidence'}, inplace=True)\n",
    "mortdf.rename(columns={mortdf.columns[1]:'Mortality_Rate',\n",
    "                       mortdf.columns[2]:'Avg_Ann_Deaths'}, inplace=True)"
   ]
  },
  {
   "cell_type": "code",
   "execution_count": 7,
   "metadata": {
    "colab": {
     "base_uri": "https://localhost:8080/",
     "height": 206
    },
    "id": "wrlPe7HJ0XVc",
    "outputId": "0a485f53-5db6-4703-8920-b33c31adf768"
   },
   "outputs": [
    {
     "data": {
      "text/html": [
       "<div>\n",
       "<style scoped>\n",
       "    .dataframe tbody tr th:only-of-type {\n",
       "        vertical-align: middle;\n",
       "    }\n",
       "\n",
       "    .dataframe tbody tr th {\n",
       "        vertical-align: top;\n",
       "    }\n",
       "\n",
       "    .dataframe thead th {\n",
       "        text-align: right;\n",
       "    }\n",
       "</style>\n",
       "<table border=\"1\" class=\"dataframe\">\n",
       "  <thead>\n",
       "    <tr style=\"text-align: right;\">\n",
       "      <th></th>\n",
       "      <th>FIPS</th>\n",
       "      <th>Mortality_Rate</th>\n",
       "      <th>Avg_Ann_Deaths</th>\n",
       "    </tr>\n",
       "  </thead>\n",
       "  <tbody>\n",
       "    <tr>\n",
       "      <th>0</th>\n",
       "      <td>00000</td>\n",
       "      <td>46</td>\n",
       "      <td>157,376</td>\n",
       "    </tr>\n",
       "    <tr>\n",
       "      <th>1</th>\n",
       "      <td>21193</td>\n",
       "      <td>125.6</td>\n",
       "      <td>43</td>\n",
       "    </tr>\n",
       "    <tr>\n",
       "      <th>2</th>\n",
       "      <td>21197</td>\n",
       "      <td>125.3</td>\n",
       "      <td>18</td>\n",
       "    </tr>\n",
       "    <tr>\n",
       "      <th>3</th>\n",
       "      <td>02185</td>\n",
       "      <td>124.9</td>\n",
       "      <td>5</td>\n",
       "    </tr>\n",
       "    <tr>\n",
       "      <th>4</th>\n",
       "      <td>21189</td>\n",
       "      <td>118.5</td>\n",
       "      <td>8</td>\n",
       "    </tr>\n",
       "  </tbody>\n",
       "</table>\n",
       "</div>"
      ],
      "text/plain": [
       "    FIPS Mortality_Rate Avg_Ann_Deaths\n",
       "0  00000             46        157,376\n",
       "1  21193          125.6             43\n",
       "2  21197          125.3             18\n",
       "3  02185          124.9              5\n",
       "4  21189          118.5              8"
      ]
     },
     "execution_count": 7,
     "metadata": {},
     "output_type": "execute_result"
    }
   ],
   "source": [
    "mortdf.head()"
   ]
  },
  {
   "cell_type": "code",
   "execution_count": 8,
   "metadata": {
    "colab": {
     "base_uri": "https://localhost:8080/",
     "height": 206
    },
    "id": "jXJ8L7Sb0XVc",
    "outputId": "88608eed-3397-4cd7-9f79-b910d31962c5"
   },
   "outputs": [
    {
     "data": {
      "text/html": [
       "<div>\n",
       "<style scoped>\n",
       "    .dataframe tbody tr th:only-of-type {\n",
       "        vertical-align: middle;\n",
       "    }\n",
       "\n",
       "    .dataframe tbody tr th {\n",
       "        vertical-align: top;\n",
       "    }\n",
       "\n",
       "    .dataframe thead th {\n",
       "        text-align: right;\n",
       "    }\n",
       "</style>\n",
       "<table border=\"1\" class=\"dataframe\">\n",
       "  <thead>\n",
       "    <tr style=\"text-align: right;\">\n",
       "      <th></th>\n",
       "      <th>FIPS</th>\n",
       "      <th>Incidence_Rate</th>\n",
       "      <th>Avg_Ann_Incidence</th>\n",
       "      <th>Recent Trend</th>\n",
       "    </tr>\n",
       "  </thead>\n",
       "  <tbody>\n",
       "    <tr>\n",
       "      <th>0</th>\n",
       "      <td>00000</td>\n",
       "      <td>62.4</td>\n",
       "      <td>214614</td>\n",
       "      <td>falling</td>\n",
       "    </tr>\n",
       "    <tr>\n",
       "      <th>1</th>\n",
       "      <td>01001</td>\n",
       "      <td>74.9</td>\n",
       "      <td>43</td>\n",
       "      <td>stable</td>\n",
       "    </tr>\n",
       "    <tr>\n",
       "      <th>2</th>\n",
       "      <td>01003</td>\n",
       "      <td>66.9</td>\n",
       "      <td>170</td>\n",
       "      <td>stable</td>\n",
       "    </tr>\n",
       "    <tr>\n",
       "      <th>3</th>\n",
       "      <td>01005</td>\n",
       "      <td>74.6</td>\n",
       "      <td>25</td>\n",
       "      <td>stable</td>\n",
       "    </tr>\n",
       "    <tr>\n",
       "      <th>4</th>\n",
       "      <td>01007</td>\n",
       "      <td>86.4</td>\n",
       "      <td>23</td>\n",
       "      <td>stable</td>\n",
       "    </tr>\n",
       "  </tbody>\n",
       "</table>\n",
       "</div>"
      ],
      "text/plain": [
       "    FIPS Incidence_Rate Avg_Ann_Incidence Recent Trend\n",
       "0  00000           62.4            214614      falling\n",
       "1  01001           74.9                43       stable\n",
       "2  01003           66.9               170       stable\n",
       "3  01005           74.6                25       stable\n",
       "4  01007           86.4                23       stable"
      ]
     },
     "execution_count": 8,
     "metadata": {},
     "output_type": "execute_result"
    }
   ],
   "source": [
    "incddf.head()"
   ]
  },
  {
   "cell_type": "code",
   "execution_count": 9,
   "metadata": {
    "colab": {
     "base_uri": "https://localhost:8080/",
     "height": 206
    },
    "id": "SEXqNVPI8Ay0",
    "outputId": "9e1af404-3bb1-48b7-c78b-d9132a9a07d3"
   },
   "outputs": [
    {
     "data": {
      "text/html": [
       "<div>\n",
       "<style scoped>\n",
       "    .dataframe tbody tr th:only-of-type {\n",
       "        vertical-align: middle;\n",
       "    }\n",
       "\n",
       "    .dataframe tbody tr th {\n",
       "        vertical-align: top;\n",
       "    }\n",
       "\n",
       "    .dataframe thead th {\n",
       "        text-align: right;\n",
       "    }\n",
       "</style>\n",
       "<table border=\"1\" class=\"dataframe\">\n",
       "  <thead>\n",
       "    <tr style=\"text-align: right;\">\n",
       "      <th></th>\n",
       "      <th>FIPS</th>\n",
       "      <th>Incidence_Rate</th>\n",
       "      <th>Avg_Ann_Incidence</th>\n",
       "    </tr>\n",
       "  </thead>\n",
       "  <tbody>\n",
       "    <tr>\n",
       "      <th>0</th>\n",
       "      <td>00000</td>\n",
       "      <td>62.4</td>\n",
       "      <td>214614</td>\n",
       "    </tr>\n",
       "    <tr>\n",
       "      <th>1</th>\n",
       "      <td>01001</td>\n",
       "      <td>74.9</td>\n",
       "      <td>43</td>\n",
       "    </tr>\n",
       "    <tr>\n",
       "      <th>2</th>\n",
       "      <td>01003</td>\n",
       "      <td>66.9</td>\n",
       "      <td>170</td>\n",
       "    </tr>\n",
       "    <tr>\n",
       "      <th>3</th>\n",
       "      <td>01005</td>\n",
       "      <td>74.6</td>\n",
       "      <td>25</td>\n",
       "    </tr>\n",
       "    <tr>\n",
       "      <th>4</th>\n",
       "      <td>01007</td>\n",
       "      <td>86.4</td>\n",
       "      <td>23</td>\n",
       "    </tr>\n",
       "  </tbody>\n",
       "</table>\n",
       "</div>"
      ],
      "text/plain": [
       "    FIPS Incidence_Rate Avg_Ann_Incidence\n",
       "0  00000           62.4            214614\n",
       "1  01001           74.9                43\n",
       "2  01003           66.9               170\n",
       "3  01005           74.6                25\n",
       "4  01007           86.4                23"
      ]
     },
     "execution_count": 9,
     "metadata": {},
     "output_type": "execute_result"
    }
   ],
   "source": [
    "incddf.drop(\"Recent Trend\", axis=1, inplace=True)\n",
    "incddf.head()"
   ]
  },
  {
   "cell_type": "markdown",
   "metadata": {
    "id": "2WYA2gmI0XVd"
   },
   "source": [
    "### Census Data     \n",
    "  \n",
    "1. To join with incidence and mortality, we need data that are indexed by US County.\n",
    "2. We're looking for variables which explain (are correlated with) incidence and mortality.\n",
    "3. We want interesting (meaningful and relevant) variables. For example:\n",
    "  * Poverty\n",
    "  * Median Income\n",
    "  * Educational Attainment\n",
    "  * Employment\n",
    "  * etc."
   ]
  },
  {
   "cell_type": "markdown",
   "metadata": {
    "id": "qpQxqjzG0XVd"
   },
   "source": [
    "#### A. Poverty Data"
   ]
  },
  {
   "cell_type": "markdown",
   "metadata": {
    "id": "kwkeG_0R0XVd"
   },
   "source": [
    "We will select these data from the poverty file:\n",
    "\n",
    "B17001_002\n",
    "POVERTY STATUS IN THE PAST 12 MONTHS BY SEX BY AGE for Population For Whom Poverty Status Is Determined% Income in the past 12 months below poverty level    \n",
    "B17001_003\n",
    "POVERTY STATUS IN THE PAST 12 MONTHS BY SEX BY AGE for Population For Whom Poverty Status Is Determined% Income in the past 12 months below poverty level:% Male    \n",
    "B17001_017\n",
    "POVERTY STATUS IN THE PAST 12 MONTHS BY SEX BY AGE for Population For Whom Poverty Status Is Determined% Income in the past 12 months below poverty level:% Female"
   ]
  },
  {
   "cell_type": "code",
   "execution_count": 10,
   "metadata": {
    "colab": {
     "base_uri": "https://localhost:8080/"
    },
    "id": "hqELIEje0XVe",
    "outputId": "f877c2f7-4007-47c5-b6d4-efd5b679ec3c"
   },
   "outputs": [
    {
     "data": {
      "text/plain": [
       "['ak.csv',\n",
       " 'al.csv',\n",
       " 'ar.csv',\n",
       " 'az.csv',\n",
       " 'ca.csv',\n",
       " 'co.csv',\n",
       " 'ct.csv',\n",
       " 'dc.csv',\n",
       " 'de.csv',\n",
       " 'fl.csv',\n",
       " 'ga.csv',\n",
       " 'hi.csv',\n",
       " 'ia.csv',\n",
       " 'id.csv',\n",
       " 'il.csv',\n",
       " 'in.csv',\n",
       " 'ks.csv',\n",
       " 'ky.csv',\n",
       " 'la.csv',\n",
       " 'ma.csv',\n",
       " 'md.csv',\n",
       " 'me.csv',\n",
       " 'mi.csv',\n",
       " 'mn.csv',\n",
       " 'mo.csv',\n",
       " 'ms.csv',\n",
       " 'mt.csv',\n",
       " 'nc.csv',\n",
       " 'nd.csv',\n",
       " 'ne.csv',\n",
       " 'nh.csv',\n",
       " 'nj.csv',\n",
       " 'nm.csv',\n",
       " 'nv.csv',\n",
       " 'ny.csv',\n",
       " 'oh.csv',\n",
       " 'ok.csv',\n",
       " 'or.csv',\n",
       " 'pa.csv',\n",
       " 'ri.csv',\n",
       " 'sc.csv',\n",
       " 'sd.csv',\n",
       " 'tn.csv',\n",
       " 'tx.csv',\n",
       " 'ut.csv',\n",
       " 'va.csv',\n",
       " 'vt.csv',\n",
       " 'wa.csv',\n",
       " 'wi.csv',\n",
       " 'wv.csv',\n",
       " 'wy.csv']"
      ]
     },
     "execution_count": 10,
     "metadata": {},
     "output_type": "execute_result"
    }
   ],
   "source": [
    "import os\n",
    "# assign directory\n",
    "directory = 'Cancer Analysis Data Files/acs-2015-5-e-poverty/'\n",
    "\n",
    "list_ = os.listdir(directory)\n",
    "list_"
   ]
  },
  {
   "cell_type": "code",
   "execution_count": 11,
   "metadata": {
    "colab": {
     "base_uri": "https://localhost:8080/"
    },
    "id": "CnpATgy30XVe",
    "outputId": "e039ee73-d8f7-416f-baf7-4357cebbab5e"
   },
   "outputs": [
    {
     "data": {
      "text/plain": [
       "array(['al.csv', 'ar.csv', 'az.csv', 'ca.csv', 'co.csv', 'ct.csv',\n",
       "       'dc.csv', 'de.csv', 'fl.csv', 'ga.csv', 'hi.csv', 'ia.csv',\n",
       "       'id.csv', 'il.csv', 'in.csv', 'ks.csv', 'ky.csv', 'la.csv',\n",
       "       'ma.csv', 'md.csv', 'me.csv', 'mi.csv', 'mn.csv', 'mo.csv',\n",
       "       'ms.csv', 'mt.csv', 'nc.csv', 'nd.csv', 'ne.csv', 'nh.csv',\n",
       "       'nj.csv', 'nm.csv', 'nv.csv', 'ny.csv', 'oh.csv', 'ok.csv',\n",
       "       'or.csv', 'pa.csv', 'ri.csv', 'sc.csv', 'sd.csv', 'tn.csv',\n",
       "       'tx.csv', 'ut.csv', 'va.csv', 'vt.csv', 'wa.csv', 'wi.csv',\n",
       "       'wv.csv', 'wy.csv'], dtype='<U6')"
      ]
     },
     "execution_count": 11,
     "metadata": {},
     "output_type": "execute_result"
    }
   ],
   "source": [
    "#sort the states\n",
    "list1_ = np.sort(list_)\n",
    "list1_[1:]"
   ]
  },
  {
   "cell_type": "code",
   "execution_count": 12,
   "metadata": {
    "id": "7EZvAVtH0XVe"
   },
   "outputs": [
    {
     "name": "stdout",
     "output_type": "stream",
     "text": [
      "al.csv\n",
      "ar.csv\n",
      "az.csv\n",
      "ca.csv\n",
      "co.csv\n",
      "ct.csv\n",
      "dc.csv\n",
      "de.csv\n",
      "fl.csv\n",
      "ga.csv\n",
      "hi.csv\n",
      "ia.csv\n",
      "id.csv\n",
      "il.csv\n",
      "in.csv\n",
      "ks.csv\n",
      "ky.csv\n",
      "la.csv\n",
      "ma.csv\n",
      "md.csv\n",
      "me.csv\n",
      "mi.csv\n",
      "mn.csv\n",
      "mo.csv\n",
      "ms.csv\n",
      "mt.csv\n",
      "nc.csv\n",
      "nd.csv\n",
      "ne.csv\n",
      "nh.csv\n",
      "nj.csv\n",
      "nm.csv\n",
      "nv.csv\n",
      "ny.csv\n",
      "oh.csv\n",
      "ok.csv\n",
      "or.csv\n",
      "pa.csv\n",
      "ri.csv\n",
      "sc.csv\n",
      "sd.csv\n",
      "tn.csv\n",
      "tx.csv\n",
      "ut.csv\n",
      "va.csv\n",
      "vt.csv\n",
      "wa.csv\n",
      "wi.csv\n",
      "wv.csv\n",
      "wy.csv\n"
     ]
    }
   ],
   "source": [
    "for i in list1_[1:]:\n",
    "    print(i)"
   ]
  },
  {
   "cell_type": "code",
   "execution_count": 13,
   "metadata": {
    "colab": {
     "base_uri": "https://localhost:8080/",
     "height": 456
    },
    "id": "eHGfwp110XVf",
    "outputId": "5e5125c2-b68b-487b-ebc2-6d6051d26031"
   },
   "outputs": [
    {
     "data": {
      "text/html": [
       "<div>\n",
       "<style scoped>\n",
       "    .dataframe tbody tr th:only-of-type {\n",
       "        vertical-align: middle;\n",
       "    }\n",
       "\n",
       "    .dataframe tbody tr th {\n",
       "        vertical-align: top;\n",
       "    }\n",
       "\n",
       "    .dataframe thead th {\n",
       "        text-align: right;\n",
       "    }\n",
       "</style>\n",
       "<table border=\"1\" class=\"dataframe\">\n",
       "  <thead>\n",
       "    <tr style=\"text-align: right;\">\n",
       "      <th></th>\n",
       "      <th>summarylevel</th>\n",
       "      <th>state</th>\n",
       "      <th>statefips</th>\n",
       "      <th>countyfips</th>\n",
       "      <th>placefips</th>\n",
       "      <th>cbsacode</th>\n",
       "      <th>congressdistrict</th>\n",
       "      <th>geoid</th>\n",
       "      <th>areaname</th>\n",
       "      <th>b17001_001</th>\n",
       "      <th>...</th>\n",
       "      <th>b17026_004</th>\n",
       "      <th>b17026_005</th>\n",
       "      <th>b17026_006</th>\n",
       "      <th>b17026_007</th>\n",
       "      <th>b17026_008</th>\n",
       "      <th>b17026_009</th>\n",
       "      <th>b17026_010</th>\n",
       "      <th>b17026_011</th>\n",
       "      <th>b17026_012</th>\n",
       "      <th>b17026_013</th>\n",
       "    </tr>\n",
       "  </thead>\n",
       "  <tbody>\n",
       "    <tr>\n",
       "      <th>0</th>\n",
       "      <td>40</td>\n",
       "      <td>AK</td>\n",
       "      <td>2</td>\n",
       "      <td>NaN</td>\n",
       "      <td>NaN</td>\n",
       "      <td>NaN</td>\n",
       "      <td>NaN</td>\n",
       "      <td>04000US02</td>\n",
       "      <td>Alaska</td>\n",
       "      <td>716218</td>\n",
       "      <td>...</td>\n",
       "      <td>3920</td>\n",
       "      <td>4605</td>\n",
       "      <td>5516</td>\n",
       "      <td>5315</td>\n",
       "      <td>2066</td>\n",
       "      <td>3599</td>\n",
       "      <td>22287</td>\n",
       "      <td>22591</td>\n",
       "      <td>20750</td>\n",
       "      <td>69145</td>\n",
       "    </tr>\n",
       "    <tr>\n",
       "      <th>1</th>\n",
       "      <td>40</td>\n",
       "      <td>AK</td>\n",
       "      <td>2</td>\n",
       "      <td>NaN</td>\n",
       "      <td>NaN</td>\n",
       "      <td>NaN</td>\n",
       "      <td>NaN</td>\n",
       "      <td>04001US02</td>\n",
       "      <td>Alaska -- Urban</td>\n",
       "      <td>471025</td>\n",
       "      <td>...</td>\n",
       "      <td>2172</td>\n",
       "      <td>2712</td>\n",
       "      <td>3406</td>\n",
       "      <td>3421</td>\n",
       "      <td>1319</td>\n",
       "      <td>2080</td>\n",
       "      <td>15001</td>\n",
       "      <td>15243</td>\n",
       "      <td>14322</td>\n",
       "      <td>47806</td>\n",
       "    </tr>\n",
       "    <tr>\n",
       "      <th>2</th>\n",
       "      <td>40</td>\n",
       "      <td>AK</td>\n",
       "      <td>2</td>\n",
       "      <td>NaN</td>\n",
       "      <td>NaN</td>\n",
       "      <td>NaN</td>\n",
       "      <td>NaN</td>\n",
       "      <td>04043US02</td>\n",
       "      <td>Alaska -- Rural</td>\n",
       "      <td>245193</td>\n",
       "      <td>...</td>\n",
       "      <td>1748</td>\n",
       "      <td>1893</td>\n",
       "      <td>2110</td>\n",
       "      <td>1894</td>\n",
       "      <td>747</td>\n",
       "      <td>1519</td>\n",
       "      <td>7286</td>\n",
       "      <td>7348</td>\n",
       "      <td>6428</td>\n",
       "      <td>21339</td>\n",
       "    </tr>\n",
       "    <tr>\n",
       "      <th>3</th>\n",
       "      <td>40</td>\n",
       "      <td>AK</td>\n",
       "      <td>2</td>\n",
       "      <td>NaN</td>\n",
       "      <td>NaN</td>\n",
       "      <td>NaN</td>\n",
       "      <td>NaN</td>\n",
       "      <td>040A0US02</td>\n",
       "      <td>Alaska -- In metropolitan or micropolitan stat...</td>\n",
       "      <td>527605</td>\n",
       "      <td>...</td>\n",
       "      <td>2387</td>\n",
       "      <td>2832</td>\n",
       "      <td>3771</td>\n",
       "      <td>3378</td>\n",
       "      <td>1403</td>\n",
       "      <td>2427</td>\n",
       "      <td>16191</td>\n",
       "      <td>17232</td>\n",
       "      <td>16161</td>\n",
       "      <td>55428</td>\n",
       "    </tr>\n",
       "    <tr>\n",
       "      <th>4</th>\n",
       "      <td>40</td>\n",
       "      <td>AK</td>\n",
       "      <td>2</td>\n",
       "      <td>NaN</td>\n",
       "      <td>NaN</td>\n",
       "      <td>NaN</td>\n",
       "      <td>NaN</td>\n",
       "      <td>040C0US02</td>\n",
       "      <td>Alaska -- In metropolitan statistical area</td>\n",
       "      <td>482151</td>\n",
       "      <td>...</td>\n",
       "      <td>2160</td>\n",
       "      <td>2644</td>\n",
       "      <td>3622</td>\n",
       "      <td>3117</td>\n",
       "      <td>1344</td>\n",
       "      <td>2219</td>\n",
       "      <td>14816</td>\n",
       "      <td>15748</td>\n",
       "      <td>14683</td>\n",
       "      <td>49936</td>\n",
       "    </tr>\n",
       "  </tbody>\n",
       "</table>\n",
       "<p>5 rows × 1979 columns</p>\n",
       "</div>"
      ],
      "text/plain": [
       "   summarylevel state  statefips  countyfips  placefips  cbsacode  \\\n",
       "0            40    AK          2         NaN        NaN       NaN   \n",
       "1            40    AK          2         NaN        NaN       NaN   \n",
       "2            40    AK          2         NaN        NaN       NaN   \n",
       "3            40    AK          2         NaN        NaN       NaN   \n",
       "4            40    AK          2         NaN        NaN       NaN   \n",
       "\n",
       "   congressdistrict      geoid  \\\n",
       "0               NaN  04000US02   \n",
       "1               NaN  04001US02   \n",
       "2               NaN  04043US02   \n",
       "3               NaN  040A0US02   \n",
       "4               NaN  040C0US02   \n",
       "\n",
       "                                            areaname  b17001_001  ...  \\\n",
       "0                                             Alaska      716218  ...   \n",
       "1                                    Alaska -- Urban      471025  ...   \n",
       "2                                    Alaska -- Rural      245193  ...   \n",
       "3  Alaska -- In metropolitan or micropolitan stat...      527605  ...   \n",
       "4         Alaska -- In metropolitan statistical area      482151  ...   \n",
       "\n",
       "   b17026_004  b17026_005  b17026_006  b17026_007  b17026_008  b17026_009  \\\n",
       "0        3920        4605        5516        5315        2066        3599   \n",
       "1        2172        2712        3406        3421        1319        2080   \n",
       "2        1748        1893        2110        1894         747        1519   \n",
       "3        2387        2832        3771        3378        1403        2427   \n",
       "4        2160        2644        3622        3117        1344        2219   \n",
       "\n",
       "   b17026_010  b17026_011  b17026_012  b17026_013  \n",
       "0       22287       22591       20750       69145  \n",
       "1       15001       15243       14322       47806  \n",
       "2        7286        7348        6428       21339  \n",
       "3       16191       17232       16161       55428  \n",
       "4       14816       15748       14683       49936  \n",
       "\n",
       "[5 rows x 1979 columns]"
      ]
     },
     "execution_count": 13,
     "metadata": {},
     "output_type": "execute_result"
    }
   ],
   "source": [
    "#take a look at one of the files\n",
    "filename=directory+'ak.csv'\n",
    "tdf = pd.read_csv(filename, delimiter=',')\n",
    "tdf.head()"
   ]
  },
  {
   "cell_type": "code",
   "execution_count": 14,
   "metadata": {
    "colab": {
     "base_uri": "https://localhost:8080/",
     "height": 206
    },
    "id": "pec5s5620XVf",
    "outputId": "ad254404-a67d-4c04-ce4a-5c818eb26407"
   },
   "outputs": [
    {
     "data": {
      "text/html": [
       "<div>\n",
       "<style scoped>\n",
       "    .dataframe tbody tr th:only-of-type {\n",
       "        vertical-align: middle;\n",
       "    }\n",
       "\n",
       "    .dataframe tbody tr th {\n",
       "        vertical-align: top;\n",
       "    }\n",
       "\n",
       "    .dataframe thead th {\n",
       "        text-align: right;\n",
       "    }\n",
       "</style>\n",
       "<table border=\"1\" class=\"dataframe\">\n",
       "  <thead>\n",
       "    <tr style=\"text-align: right;\">\n",
       "      <th></th>\n",
       "      <th>state</th>\n",
       "      <th>statefips</th>\n",
       "      <th>countyfips</th>\n",
       "      <th>b17001_002</th>\n",
       "      <th>b17001_003</th>\n",
       "      <th>b17001_017</th>\n",
       "    </tr>\n",
       "  </thead>\n",
       "  <tbody>\n",
       "    <tr>\n",
       "      <th>12</th>\n",
       "      <td>AK</td>\n",
       "      <td>2</td>\n",
       "      <td>13.0</td>\n",
       "      <td>553</td>\n",
       "      <td>334</td>\n",
       "      <td>219</td>\n",
       "    </tr>\n",
       "    <tr>\n",
       "      <th>13</th>\n",
       "      <td>AK</td>\n",
       "      <td>2</td>\n",
       "      <td>16.0</td>\n",
       "      <td>499</td>\n",
       "      <td>273</td>\n",
       "      <td>226</td>\n",
       "    </tr>\n",
       "    <tr>\n",
       "      <th>14</th>\n",
       "      <td>AK</td>\n",
       "      <td>2</td>\n",
       "      <td>20.0</td>\n",
       "      <td>23914</td>\n",
       "      <td>10698</td>\n",
       "      <td>13216</td>\n",
       "    </tr>\n",
       "    <tr>\n",
       "      <th>15</th>\n",
       "      <td>AK</td>\n",
       "      <td>2</td>\n",
       "      <td>50.0</td>\n",
       "      <td>4364</td>\n",
       "      <td>2199</td>\n",
       "      <td>2165</td>\n",
       "    </tr>\n",
       "    <tr>\n",
       "      <th>16</th>\n",
       "      <td>AK</td>\n",
       "      <td>2</td>\n",
       "      <td>60.0</td>\n",
       "      <td>69</td>\n",
       "      <td>33</td>\n",
       "      <td>36</td>\n",
       "    </tr>\n",
       "  </tbody>\n",
       "</table>\n",
       "</div>"
      ],
      "text/plain": [
       "   state  statefips  countyfips  b17001_002  b17001_003  b17001_017\n",
       "12    AK          2        13.0         553         334         219\n",
       "13    AK          2        16.0         499         273         226\n",
       "14    AK          2        20.0       23914       10698       13216\n",
       "15    AK          2        50.0        4364        2199        2165\n",
       "16    AK          2        60.0          69          33          36"
      ]
     },
     "execution_count": 14,
     "metadata": {},
     "output_type": "execute_result"
    }
   ],
   "source": [
    "#summarylevel 50: Counties and county equivalents      \n",
    "cols = ['state','statefips', 'countyfips', 'areaName', 'b17001_002', 'b17001_003', 'b17001_017']\n",
    "povdf1 = tdf.loc[tdf['summarylevel'] == 50]\n",
    "povdf1\n",
    "povdf = povdf1[povdf1.columns & cols]\n",
    "povdf = povdf1.filter(cols)\n",
    "povdf.head()\n"
   ]
  },
  {
   "cell_type": "code",
   "execution_count": 15,
   "metadata": {
    "colab": {
     "base_uri": "https://localhost:8080/"
    },
    "id": "MwD6cRuw0XVf",
    "outputId": "fe3712f2-a87c-4c51-a748-3de92649d407"
   },
   "outputs": [
    {
     "data": {
      "text/plain": [
       "array(['al.csv', 'ar.csv', 'az.csv', 'ca.csv', 'co.csv', 'ct.csv',\n",
       "       'dc.csv', 'de.csv', 'fl.csv', 'ga.csv', 'hi.csv', 'ia.csv',\n",
       "       'id.csv', 'il.csv', 'in.csv', 'ks.csv', 'ky.csv', 'la.csv',\n",
       "       'ma.csv', 'md.csv', 'me.csv', 'mi.csv', 'mn.csv', 'mo.csv',\n",
       "       'ms.csv', 'mt.csv', 'nc.csv', 'nd.csv', 'ne.csv', 'nh.csv',\n",
       "       'nj.csv', 'nm.csv', 'nv.csv', 'ny.csv', 'oh.csv', 'ok.csv',\n",
       "       'or.csv', 'pa.csv', 'ri.csv', 'sc.csv', 'sd.csv', 'tn.csv',\n",
       "       'tx.csv', 'ut.csv', 'va.csv', 'vt.csv', 'wa.csv', 'wi.csv',\n",
       "       'wv.csv', 'wy.csv'], dtype='<U6')"
      ]
     },
     "execution_count": 15,
     "metadata": {},
     "output_type": "execute_result"
    }
   ],
   "source": [
    "tables_file = []\n",
    "for i in list1_[1:]:\n",
    "    tables_file.append(i)\n",
    "tables_file\n",
    "np.array(tables_file)"
   ]
  },
  {
   "cell_type": "code",
   "execution_count": 16,
   "metadata": {
    "colab": {
     "base_uri": "https://localhost:8080/",
     "height": 1000
    },
    "id": "bJsGyvIQ0XVg",
    "outputId": "f7db5500-a9fc-4153-90c5-d5872321dc81"
   },
   "outputs": [
    {
     "name": "stdout",
     "output_type": "stream",
     "text": [
      "Cancer Analysis Data Files/acs-2015-5-e-poverty/al.csv\n",
      "Cancer Analysis Data Files/acs-2015-5-e-poverty/ar.csv\n",
      "Cancer Analysis Data Files/acs-2015-5-e-poverty/az.csv\n",
      "Cancer Analysis Data Files/acs-2015-5-e-poverty/ca.csv\n",
      "Cancer Analysis Data Files/acs-2015-5-e-poverty/co.csv\n",
      "Cancer Analysis Data Files/acs-2015-5-e-poverty/ct.csv\n",
      "Cancer Analysis Data Files/acs-2015-5-e-poverty/dc.csv\n",
      "Cancer Analysis Data Files/acs-2015-5-e-poverty/de.csv\n",
      "Cancer Analysis Data Files/acs-2015-5-e-poverty/fl.csv\n",
      "Cancer Analysis Data Files/acs-2015-5-e-poverty/ga.csv\n",
      "Cancer Analysis Data Files/acs-2015-5-e-poverty/hi.csv\n",
      "Cancer Analysis Data Files/acs-2015-5-e-poverty/ia.csv\n",
      "Cancer Analysis Data Files/acs-2015-5-e-poverty/id.csv\n",
      "Cancer Analysis Data Files/acs-2015-5-e-poverty/il.csv\n",
      "Cancer Analysis Data Files/acs-2015-5-e-poverty/in.csv\n",
      "Cancer Analysis Data Files/acs-2015-5-e-poverty/ks.csv\n",
      "Cancer Analysis Data Files/acs-2015-5-e-poverty/ky.csv\n",
      "Cancer Analysis Data Files/acs-2015-5-e-poverty/la.csv\n",
      "Cancer Analysis Data Files/acs-2015-5-e-poverty/ma.csv\n",
      "Cancer Analysis Data Files/acs-2015-5-e-poverty/md.csv\n",
      "Cancer Analysis Data Files/acs-2015-5-e-poverty/me.csv\n",
      "Cancer Analysis Data Files/acs-2015-5-e-poverty/mi.csv\n",
      "Cancer Analysis Data Files/acs-2015-5-e-poverty/mn.csv\n",
      "Cancer Analysis Data Files/acs-2015-5-e-poverty/mo.csv\n",
      "Cancer Analysis Data Files/acs-2015-5-e-poverty/ms.csv\n",
      "Cancer Analysis Data Files/acs-2015-5-e-poverty/mt.csv\n",
      "Cancer Analysis Data Files/acs-2015-5-e-poverty/nc.csv\n",
      "Cancer Analysis Data Files/acs-2015-5-e-poverty/nd.csv\n",
      "Cancer Analysis Data Files/acs-2015-5-e-poverty/ne.csv\n",
      "Cancer Analysis Data Files/acs-2015-5-e-poverty/nh.csv\n",
      "Cancer Analysis Data Files/acs-2015-5-e-poverty/nj.csv\n",
      "Cancer Analysis Data Files/acs-2015-5-e-poverty/nm.csv\n",
      "Cancer Analysis Data Files/acs-2015-5-e-poverty/nv.csv\n",
      "Cancer Analysis Data Files/acs-2015-5-e-poverty/ny.csv\n",
      "Cancer Analysis Data Files/acs-2015-5-e-poverty/oh.csv\n",
      "Cancer Analysis Data Files/acs-2015-5-e-poverty/ok.csv\n",
      "Cancer Analysis Data Files/acs-2015-5-e-poverty/or.csv\n",
      "Cancer Analysis Data Files/acs-2015-5-e-poverty/pa.csv\n",
      "Cancer Analysis Data Files/acs-2015-5-e-poverty/ri.csv\n",
      "Cancer Analysis Data Files/acs-2015-5-e-poverty/sc.csv\n",
      "Cancer Analysis Data Files/acs-2015-5-e-poverty/sd.csv\n",
      "Cancer Analysis Data Files/acs-2015-5-e-poverty/tn.csv\n",
      "Cancer Analysis Data Files/acs-2015-5-e-poverty/tx.csv\n",
      "Cancer Analysis Data Files/acs-2015-5-e-poverty/ut.csv\n",
      "Cancer Analysis Data Files/acs-2015-5-e-poverty/va.csv\n",
      "Cancer Analysis Data Files/acs-2015-5-e-poverty/vt.csv\n",
      "Cancer Analysis Data Files/acs-2015-5-e-poverty/wa.csv\n",
      "Cancer Analysis Data Files/acs-2015-5-e-poverty/wi.csv\n",
      "Cancer Analysis Data Files/acs-2015-5-e-poverty/wv.csv\n",
      "Cancer Analysis Data Files/acs-2015-5-e-poverty/wy.csv\n",
      "Time to process 14.432955980300903\n"
     ]
    },
    {
     "data": {
      "text/html": [
       "<div>\n",
       "<style scoped>\n",
       "    .dataframe tbody tr th:only-of-type {\n",
       "        vertical-align: middle;\n",
       "    }\n",
       "\n",
       "    .dataframe tbody tr th {\n",
       "        vertical-align: top;\n",
       "    }\n",
       "\n",
       "    .dataframe thead th {\n",
       "        text-align: right;\n",
       "    }\n",
       "</style>\n",
       "<table border=\"1\" class=\"dataframe\">\n",
       "  <thead>\n",
       "    <tr style=\"text-align: right;\">\n",
       "      <th></th>\n",
       "      <th>state</th>\n",
       "      <th>statefips</th>\n",
       "      <th>countyfips</th>\n",
       "      <th>b17001_002</th>\n",
       "      <th>b17001_003</th>\n",
       "      <th>b17001_017</th>\n",
       "      <th>areaname</th>\n",
       "    </tr>\n",
       "  </thead>\n",
       "  <tbody>\n",
       "    <tr>\n",
       "      <th>3137</th>\n",
       "      <td>WY</td>\n",
       "      <td>56</td>\n",
       "      <td>37.0</td>\n",
       "      <td>5058</td>\n",
       "      <td>2177</td>\n",
       "      <td>2881</td>\n",
       "      <td>Sweetwater County, Wyoming</td>\n",
       "    </tr>\n",
       "    <tr>\n",
       "      <th>3138</th>\n",
       "      <td>WY</td>\n",
       "      <td>56</td>\n",
       "      <td>39.0</td>\n",
       "      <td>1638</td>\n",
       "      <td>1026</td>\n",
       "      <td>612</td>\n",
       "      <td>Teton County, Wyoming</td>\n",
       "    </tr>\n",
       "    <tr>\n",
       "      <th>3139</th>\n",
       "      <td>WY</td>\n",
       "      <td>56</td>\n",
       "      <td>41.0</td>\n",
       "      <td>2845</td>\n",
       "      <td>1453</td>\n",
       "      <td>1392</td>\n",
       "      <td>Uinta County, Wyoming</td>\n",
       "    </tr>\n",
       "    <tr>\n",
       "      <th>3140</th>\n",
       "      <td>WY</td>\n",
       "      <td>56</td>\n",
       "      <td>43.0</td>\n",
       "      <td>1137</td>\n",
       "      <td>489</td>\n",
       "      <td>648</td>\n",
       "      <td>Washakie County, Wyoming</td>\n",
       "    </tr>\n",
       "    <tr>\n",
       "      <th>3141</th>\n",
       "      <td>WY</td>\n",
       "      <td>56</td>\n",
       "      <td>45.0</td>\n",
       "      <td>958</td>\n",
       "      <td>354</td>\n",
       "      <td>604</td>\n",
       "      <td>Weston County, Wyoming</td>\n",
       "    </tr>\n",
       "  </tbody>\n",
       "</table>\n",
       "</div>"
      ],
      "text/plain": [
       "     state  statefips  countyfips  b17001_002  b17001_003  b17001_017  \\\n",
       "3137    WY         56        37.0        5058        2177        2881   \n",
       "3138    WY         56        39.0        1638        1026         612   \n",
       "3139    WY         56        41.0        2845        1453        1392   \n",
       "3140    WY         56        43.0        1137         489         648   \n",
       "3141    WY         56        45.0         958         354         604   \n",
       "\n",
       "                        areaname  \n",
       "3137  Sweetwater County, Wyoming  \n",
       "3138       Teton County, Wyoming  \n",
       "3139       Uinta County, Wyoming  \n",
       "3140    Washakie County, Wyoming  \n",
       "3141      Weston County, Wyoming  "
      ]
     },
     "execution_count": 16,
     "metadata": {},
     "output_type": "execute_result"
    }
   ],
   "source": [
    "# Retrieve the Census poverty data\n",
    "start = time.time()\n",
    "\n",
    "# a string - the poverty columns we want from the Census ACS \n",
    "cols = ['state','statefips', 'countyfips', 'areaname', 'b17001_002', 'b17001_003', 'b17001_017']\n",
    "\n",
    "# call the data for each state and concatenate\n",
    "for i in tables_file:\n",
    "    filename=directory+i\n",
    "    print(filename)\n",
    "    tdf = pd.read_csv(filename, delimiter=',')\n",
    "    if i == \"ak.csv\":\n",
    "        #tdf.head()\n",
    "        povdf1 = tdf.loc[tdf['summarylevel'] == 50]\n",
    "        povdf1.head()\n",
    "        povdf = povdf1.filter(cols)\n",
    "    else:\n",
    "        df1 = tdf.loc[tdf['summarylevel'] == 50]\n",
    "        df=df1.filter(cols)\n",
    "        povdf = pd.concat([povdf, df], ignore_index=True)\n",
    "\n",
    "end = time.time()\n",
    "\n",
    "print(\"Time to process\", end - start)\n",
    "\n",
    "povdf.tail()\n"
   ]
  },
  {
   "cell_type": "code",
   "execution_count": 17,
   "metadata": {
    "colab": {
     "base_uri": "https://localhost:8080/",
     "height": 206
    },
    "id": "CvcQXoXK0XVg",
    "outputId": "5b436a69-5480-40c6-c273-73b4e70775ac"
   },
   "outputs": [
    {
     "data": {
      "text/html": [
       "<div>\n",
       "<style scoped>\n",
       "    .dataframe tbody tr th:only-of-type {\n",
       "        vertical-align: middle;\n",
       "    }\n",
       "\n",
       "    .dataframe tbody tr th {\n",
       "        vertical-align: top;\n",
       "    }\n",
       "\n",
       "    .dataframe thead th {\n",
       "        text-align: right;\n",
       "    }\n",
       "</style>\n",
       "<table border=\"1\" class=\"dataframe\">\n",
       "  <thead>\n",
       "    <tr style=\"text-align: right;\">\n",
       "      <th></th>\n",
       "      <th>state</th>\n",
       "      <th>StateFIPS</th>\n",
       "      <th>CountyFIPS</th>\n",
       "      <th>All_Poverty</th>\n",
       "      <th>M_Poverty</th>\n",
       "      <th>F_Poverty</th>\n",
       "      <th>areaname</th>\n",
       "    </tr>\n",
       "  </thead>\n",
       "  <tbody>\n",
       "    <tr>\n",
       "      <th>0</th>\n",
       "      <td>AK</td>\n",
       "      <td>02</td>\n",
       "      <td>013</td>\n",
       "      <td>553</td>\n",
       "      <td>334</td>\n",
       "      <td>219</td>\n",
       "      <td>NaN</td>\n",
       "    </tr>\n",
       "    <tr>\n",
       "      <th>1</th>\n",
       "      <td>AK</td>\n",
       "      <td>02</td>\n",
       "      <td>016</td>\n",
       "      <td>499</td>\n",
       "      <td>273</td>\n",
       "      <td>226</td>\n",
       "      <td>NaN</td>\n",
       "    </tr>\n",
       "    <tr>\n",
       "      <th>2</th>\n",
       "      <td>AK</td>\n",
       "      <td>02</td>\n",
       "      <td>020</td>\n",
       "      <td>23914</td>\n",
       "      <td>10698</td>\n",
       "      <td>13216</td>\n",
       "      <td>NaN</td>\n",
       "    </tr>\n",
       "    <tr>\n",
       "      <th>3</th>\n",
       "      <td>AK</td>\n",
       "      <td>02</td>\n",
       "      <td>050</td>\n",
       "      <td>4364</td>\n",
       "      <td>2199</td>\n",
       "      <td>2165</td>\n",
       "      <td>NaN</td>\n",
       "    </tr>\n",
       "    <tr>\n",
       "      <th>4</th>\n",
       "      <td>AK</td>\n",
       "      <td>02</td>\n",
       "      <td>060</td>\n",
       "      <td>69</td>\n",
       "      <td>33</td>\n",
       "      <td>36</td>\n",
       "      <td>NaN</td>\n",
       "    </tr>\n",
       "  </tbody>\n",
       "</table>\n",
       "</div>"
      ],
      "text/plain": [
       "  state StateFIPS CountyFIPS  All_Poverty  M_Poverty  F_Poverty areaname\n",
       "0    AK        02        013          553        334        219      NaN\n",
       "1    AK        02        016          499        273        226      NaN\n",
       "2    AK        02        020        23914      10698      13216      NaN\n",
       "3    AK        02        050         4364       2199       2165      NaN\n",
       "4    AK        02        060           69         33         36      NaN"
      ]
     },
     "execution_count": 17,
     "metadata": {},
     "output_type": "execute_result"
    }
   ],
   "source": [
    "# Add leading zeros to the state and county FIPS codes\n",
    "povdf['statefips'] = povdf.statefips.astype(np.object_)\\\n",
    "                                    .apply(lambda x: str(x))\\\n",
    "                                    .str.pad(2, 'left', '0')\n",
    "\n",
    "povdf['countyfips'] = povdf['countyfips'].astype(int)\n",
    "povdf['countyfips'] = povdf.countyfips.astype(np.object_)\\\n",
    "                                      .apply(lambda x: str(x))\\\n",
    "                                      .str.pad(3, 'left', '0')\n",
    "\n",
    "povdf.rename(columns={'statefips':'StateFIPS', 'countyfips':'CountyFIPS', 'b17001_002':'All_Poverty', 'b17001_003':'M_Poverty', 'b17001_017':'F_Poverty'},\n",
    "             inplace=True)\n",
    "\n",
    "povdf.head()"
   ]
  },
  {
   "cell_type": "code",
   "execution_count": 18,
   "metadata": {
    "colab": {
     "base_uri": "https://localhost:8080/"
    },
    "id": "mVqGugRD0XVg",
    "outputId": "25d6903c-880e-4118-8f0a-3c03976e7d9b"
   },
   "outputs": [
    {
     "data": {
      "text/plain": [
       "0       013\n",
       "1       016\n",
       "2       020\n",
       "3       050\n",
       "4       060\n",
       "       ... \n",
       "3137    037\n",
       "3138    039\n",
       "3139    041\n",
       "3140    043\n",
       "3141    045\n",
       "Name: CountyFIPS, Length: 3142, dtype: object"
      ]
     },
     "execution_count": 18,
     "metadata": {},
     "output_type": "execute_result"
    }
   ],
   "source": [
    "povdf['CountyFIPS']"
   ]
  },
  {
   "cell_type": "markdown",
   "metadata": {
    "id": "Eah0AuEw0XVg"
   },
   "source": [
    "#### B. Income Data"
   ]
  },
  {
   "cell_type": "markdown",
   "metadata": {
    "id": "uOtNPnyQ0XVh"
   },
   "source": [
    "We will select these columns from each of the income files.\n",
    "\n",
    "B19013_001\n",
    "MEDIAN HOUSEHOLD INCOME IN THE PAST 12 MONTHS (IN 2015 INFLATION-ADJUSTED DOLLARS) for Households%Median household income in the past 12 months (in 2015 Inflation-adjusted dollars)   \n",
    "\n",
    "\n",
    "B19013A_001\n",
    "MEDIAN HOUSEHOLD INCOME IN THE PAST 12 MONTHS (IN 2015 INFLATION-ADJUSTED DOLLARS) (WHITE ALONE HOUSEHOLDER) for Households With A Householder Who Is White Alone%Median household income in the past 12 months (in 2015 Inflation-adjusted dollars)       \n",
    "       \n",
    "B19013B_001\n",
    "MEDIAN HOUSEHOLD INCOME IN THE PAST 12 MONTHS (IN 2015 INFLATION-ADJUSTED DOLLARS) (BLACK OR AFRICAN AMERICAN ALONE HOUSEHOLDER) for Households With A Householder Who Is Black Or African American Alone%Median household income in the past 12 months (in 2015 Inflation-adjusted dollars)       \n",
    "       \n",
    "B19013C_001\n",
    "MEDIAN HOUSEHOLD INCOME IN THE PAST 12 MONTHS (IN 2015 INFLATION-ADJUSTED DOLLARS) (AMERICAN INDIAN AND ALASKA NATIVE ALONE HOUSEHOLDER) for Households With A Householder Who Is American Indian And Alaska Native Alone%Median household income in the past 12 months (in 2015 Inflation-adjusted dollars)       \n",
    "            \n",
    "B19013D_001\n",
    "MEDIAN HOUSEHOLD INCOME IN THE PAST 12 MONTHS (IN 2015 INFLATION-ADJUSTED DOLLARS) (ASIAN ALONE HOUSEHOLDER) for Households With A Householder Who Is Asian Alone%Median household income in the past 12 months (in 2015 Inflation-adjusted dollars)  \n",
    "       \n",
    "B19013I_001\n",
    "MEDIAN HOUSEHOLD INCOME IN THE PAST 12 MONTHS (IN 2015 INFLATION-ADJUSTED DOLLARS) (HISPANIC OR LATINO HOUSEHOLDER) for Households With A Householder Who Is Hispanic Or Latino%Median household income in the past 12 months (in 2015 Inflation-adjusted dollars)"
   ]
  },
  {
   "cell_type": "code",
   "execution_count": 19,
   "metadata": {
    "colab": {
     "base_uri": "https://localhost:8080/"
    },
    "id": "jvdzj6LW0XVh",
    "outputId": "d6a40a9f-e0bf-4822-ee46-2b27e88a9461"
   },
   "outputs": [
    {
     "data": {
      "text/plain": [
       "array(['AL.csv', 'AR.csv', 'AZ.csv', 'CA.csv', 'CO.csv', 'CT.csv',\n",
       "       'DC.csv', 'DE.csv', 'FL.csv', 'GA.csv', 'HI.csv', 'IA.csv',\n",
       "       'ID.csv', 'IL.csv', 'IN.csv', 'KS.csv', 'KY.csv', 'LA.csv',\n",
       "       'MA.csv', 'MD.csv', 'ME.csv', 'MI.csv', 'MN.csv', 'MO.csv',\n",
       "       'MS.csv', 'MT.csv', 'NC.csv', 'ND.csv', 'NE.csv', 'NH.csv',\n",
       "       'NJ.csv', 'NM.csv', 'NV.csv', 'NY.csv', 'OH.csv', 'OK.csv',\n",
       "       'OR.csv', 'PA.csv', 'RI.csv', 'SC.csv', 'SD.csv', 'TN.csv',\n",
       "       'TX.csv', 'UT.csv', 'VA.csv', 'VT.csv', 'WA.csv', 'WI.csv',\n",
       "       'WV.csv', 'WY.csv'], dtype='<U6')"
      ]
     },
     "execution_count": 19,
     "metadata": {},
     "output_type": "execute_result"
    }
   ],
   "source": [
    "directory1 = 'Cancer Analysis Data Files/acs-2015-5-e-income/'\n",
    "list_ = os.listdir(directory1)\n",
    "list_\n",
    "list1_ = np.sort(list_)\n",
    "list1_[1:]\n",
    "tables_income = []\n",
    "for i in list1_[1:]:\n",
    "    tables_income.append(i)\n",
    "tables_income\n",
    "np.array(tables_income)"
   ]
  },
  {
   "cell_type": "code",
   "execution_count": 20,
   "metadata": {
    "colab": {
     "base_uri": "https://localhost:8080/",
     "height": 456
    },
    "id": "Tu22u2Pj0XVh",
    "outputId": "7fac3d31-cb10-45aa-c6e6-6de49610adf4"
   },
   "outputs": [
    {
     "data": {
      "text/html": [
       "<div>\n",
       "<style scoped>\n",
       "    .dataframe tbody tr th:only-of-type {\n",
       "        vertical-align: middle;\n",
       "    }\n",
       "\n",
       "    .dataframe tbody tr th {\n",
       "        vertical-align: top;\n",
       "    }\n",
       "\n",
       "    .dataframe thead th {\n",
       "        text-align: right;\n",
       "    }\n",
       "</style>\n",
       "<table border=\"1\" class=\"dataframe\">\n",
       "  <thead>\n",
       "    <tr style=\"text-align: right;\">\n",
       "      <th></th>\n",
       "      <th>SummaryLevel</th>\n",
       "      <th>State</th>\n",
       "      <th>StateFIPS</th>\n",
       "      <th>CountyFIPS</th>\n",
       "      <th>PlaceFIPS</th>\n",
       "      <th>CBSACode</th>\n",
       "      <th>CongressDistrict</th>\n",
       "      <th>GEOID</th>\n",
       "      <th>AreaName</th>\n",
       "      <th>B19001_001</th>\n",
       "      <th>...</th>\n",
       "      <th>B19325_093</th>\n",
       "      <th>B19325_094</th>\n",
       "      <th>B19325_095</th>\n",
       "      <th>B19326_001</th>\n",
       "      <th>B19326_002</th>\n",
       "      <th>B19326_003</th>\n",
       "      <th>B19326_004</th>\n",
       "      <th>B19326_005</th>\n",
       "      <th>B19326_006</th>\n",
       "      <th>B19326_007</th>\n",
       "    </tr>\n",
       "  </thead>\n",
       "  <tbody>\n",
       "    <tr>\n",
       "      <th>0</th>\n",
       "      <td>40</td>\n",
       "      <td>AK</td>\n",
       "      <td>2</td>\n",
       "      <td>NaN</td>\n",
       "      <td>NaN</td>\n",
       "      <td>NaN</td>\n",
       "      <td>NaN</td>\n",
       "      <td>04000US02</td>\n",
       "      <td>Alaska</td>\n",
       "      <td>250969</td>\n",
       "      <td>...</td>\n",
       "      <td>2901</td>\n",
       "      <td>3526</td>\n",
       "      <td>2304</td>\n",
       "      <td>31455</td>\n",
       "      <td>39624</td>\n",
       "      <td>60570</td>\n",
       "      <td>18427</td>\n",
       "      <td>25071</td>\n",
       "      <td>46124</td>\n",
       "      <td>12576</td>\n",
       "    </tr>\n",
       "    <tr>\n",
       "      <th>1</th>\n",
       "      <td>40</td>\n",
       "      <td>AK</td>\n",
       "      <td>2</td>\n",
       "      <td>NaN</td>\n",
       "      <td>NaN</td>\n",
       "      <td>NaN</td>\n",
       "      <td>NaN</td>\n",
       "      <td>04001US02</td>\n",
       "      <td>Alaska -- Urban</td>\n",
       "      <td>169002</td>\n",
       "      <td>...</td>\n",
       "      <td>1855</td>\n",
       "      <td>2417</td>\n",
       "      <td>1544</td>\n",
       "      <td>33394</td>\n",
       "      <td>40734</td>\n",
       "      <td>58229</td>\n",
       "      <td>18477</td>\n",
       "      <td>27203</td>\n",
       "      <td>46465</td>\n",
       "      <td>13350</td>\n",
       "    </tr>\n",
       "    <tr>\n",
       "      <th>2</th>\n",
       "      <td>40</td>\n",
       "      <td>AK</td>\n",
       "      <td>2</td>\n",
       "      <td>NaN</td>\n",
       "      <td>NaN</td>\n",
       "      <td>NaN</td>\n",
       "      <td>NaN</td>\n",
       "      <td>04043US02</td>\n",
       "      <td>Alaska -- Rural</td>\n",
       "      <td>81967</td>\n",
       "      <td>...</td>\n",
       "      <td>1046</td>\n",
       "      <td>1109</td>\n",
       "      <td>760</td>\n",
       "      <td>27278</td>\n",
       "      <td>36222</td>\n",
       "      <td>64263</td>\n",
       "      <td>18360</td>\n",
       "      <td>20153</td>\n",
       "      <td>45259</td>\n",
       "      <td>11484</td>\n",
       "    </tr>\n",
       "    <tr>\n",
       "      <th>3</th>\n",
       "      <td>40</td>\n",
       "      <td>AK</td>\n",
       "      <td>2</td>\n",
       "      <td>NaN</td>\n",
       "      <td>NaN</td>\n",
       "      <td>NaN</td>\n",
       "      <td>NaN</td>\n",
       "      <td>040A0US02</td>\n",
       "      <td>Alaska -- In metropolitan or micropolitan stat...</td>\n",
       "      <td>189236</td>\n",
       "      <td>...</td>\n",
       "      <td>2214</td>\n",
       "      <td>2809</td>\n",
       "      <td>1894</td>\n",
       "      <td>33857</td>\n",
       "      <td>41804</td>\n",
       "      <td>60795</td>\n",
       "      <td>19244</td>\n",
       "      <td>26983</td>\n",
       "      <td>46998</td>\n",
       "      <td>12945</td>\n",
       "    </tr>\n",
       "    <tr>\n",
       "      <th>4</th>\n",
       "      <td>40</td>\n",
       "      <td>AK</td>\n",
       "      <td>2</td>\n",
       "      <td>NaN</td>\n",
       "      <td>NaN</td>\n",
       "      <td>NaN</td>\n",
       "      <td>NaN</td>\n",
       "      <td>040C0US02</td>\n",
       "      <td>Alaska -- In metropolitan statistical area</td>\n",
       "      <td>171855</td>\n",
       "      <td>...</td>\n",
       "      <td>1963</td>\n",
       "      <td>2570</td>\n",
       "      <td>1714</td>\n",
       "      <td>33441</td>\n",
       "      <td>41700</td>\n",
       "      <td>60451</td>\n",
       "      <td>19224</td>\n",
       "      <td>26508</td>\n",
       "      <td>46928</td>\n",
       "      <td>12762</td>\n",
       "    </tr>\n",
       "  </tbody>\n",
       "</table>\n",
       "<p>5 rows × 1505 columns</p>\n",
       "</div>"
      ],
      "text/plain": [
       "   SummaryLevel State  StateFIPS  CountyFIPS  PlaceFIPS  CBSACode  \\\n",
       "0            40    AK          2         NaN        NaN       NaN   \n",
       "1            40    AK          2         NaN        NaN       NaN   \n",
       "2            40    AK          2         NaN        NaN       NaN   \n",
       "3            40    AK          2         NaN        NaN       NaN   \n",
       "4            40    AK          2         NaN        NaN       NaN   \n",
       "\n",
       "   CongressDistrict      GEOID  \\\n",
       "0               NaN  04000US02   \n",
       "1               NaN  04001US02   \n",
       "2               NaN  04043US02   \n",
       "3               NaN  040A0US02   \n",
       "4               NaN  040C0US02   \n",
       "\n",
       "                                            AreaName  B19001_001  ...  \\\n",
       "0                                             Alaska      250969  ...   \n",
       "1                                    Alaska -- Urban      169002  ...   \n",
       "2                                    Alaska -- Rural       81967  ...   \n",
       "3  Alaska -- In metropolitan or micropolitan stat...      189236  ...   \n",
       "4         Alaska -- In metropolitan statistical area      171855  ...   \n",
       "\n",
       "   B19325_093  B19325_094  B19325_095  B19326_001  B19326_002  B19326_003  \\\n",
       "0        2901        3526        2304       31455       39624       60570   \n",
       "1        1855        2417        1544       33394       40734       58229   \n",
       "2        1046        1109         760       27278       36222       64263   \n",
       "3        2214        2809        1894       33857       41804       60795   \n",
       "4        1963        2570        1714       33441       41700       60451   \n",
       "\n",
       "   B19326_004  B19326_005  B19326_006  B19326_007  \n",
       "0       18427       25071       46124       12576  \n",
       "1       18477       27203       46465       13350  \n",
       "2       18360       20153       45259       11484  \n",
       "3       19244       26983       46998       12945  \n",
       "4       19224       26508       46928       12762  \n",
       "\n",
       "[5 rows x 1505 columns]"
      ]
     },
     "execution_count": 20,
     "metadata": {},
     "output_type": "execute_result"
    }
   ],
   "source": [
    "filename=directory1+'AK.csv'\n",
    "tdf = pd.read_csv(filename, delimiter=',')\n",
    "tdf.head()"
   ]
  },
  {
   "cell_type": "code",
   "execution_count": 21,
   "metadata": {
    "colab": {
     "base_uri": "https://localhost:8080/"
    },
    "id": "NVXesHMo0XVh",
    "outputId": "2a1e7d5d-3ef1-4240-cd82-7196be61138e"
   },
   "outputs": [
    {
     "name": "stdout",
     "output_type": "stream",
     "text": [
      "Cancer Analysis Data Files/acs-2015-5-e-income/AL.csv\n"
     ]
    },
    {
     "name": "stderr",
     "output_type": "stream",
     "text": [
      "C:\\Users\\vbohra167040\\Anaconda3\\lib\\site-packages\\IPython\\core\\interactiveshell.py:3063: DtypeWarning: Columns (197,902,951,952,953,954,955,956,957,958,959,960,961,962,1383,1393) have mixed types.Specify dtype option on import or set low_memory=False.\n",
      "  interactivity=interactivity, compiler=compiler, result=result)\n"
     ]
    },
    {
     "name": "stdout",
     "output_type": "stream",
     "text": [
      "Cancer Analysis Data Files/acs-2015-5-e-income/AR.csv\n"
     ]
    },
    {
     "name": "stderr",
     "output_type": "stream",
     "text": [
      "C:\\Users\\vbohra167040\\Anaconda3\\lib\\site-packages\\IPython\\core\\interactiveshell.py:3063: DtypeWarning: Columns (198,205,906,937,938,941,963,1170,1171,1172,1174,1175,1179,1181,1182,1183,1184,1185,1189,1190,1191,1192,1193,1194,1195,1196,1197,1198,1199,1200,1202,1203,1204,1205,1206,1207,1208,1209,1210,1211,1212,1213,1214,1215,1216,1217,1384,1391,1394,1401,1498) have mixed types.Specify dtype option on import or set low_memory=False.\n",
      "  interactivity=interactivity, compiler=compiler, result=result)\n"
     ]
    },
    {
     "name": "stdout",
     "output_type": "stream",
     "text": [
      "Cancer Analysis Data Files/acs-2015-5-e-income/AZ.csv\n",
      "Cancer Analysis Data Files/acs-2015-5-e-income/CA.csv\n",
      "Cancer Analysis Data Files/acs-2015-5-e-income/CO.csv\n",
      "Cancer Analysis Data Files/acs-2015-5-e-income/CT.csv\n",
      "Cancer Analysis Data Files/acs-2015-5-e-income/DC.csv\n",
      "Cancer Analysis Data Files/acs-2015-5-e-income/DE.csv\n",
      "Cancer Analysis Data Files/acs-2015-5-e-income/FL.csv\n"
     ]
    },
    {
     "name": "stderr",
     "output_type": "stream",
     "text": [
      "C:\\Users\\vbohra167040\\Anaconda3\\lib\\site-packages\\IPython\\core\\interactiveshell.py:3063: DtypeWarning: Columns (179,180,181,185,186,187,188,189,190,191,192,193,194,195,196,197,198,199,200,201,202,203,204,205,206,897,898,899,900,901,902,903,904,905,906,937,938,939,940,941,942,943,944,945,946,947,948,949,950,951,952,953,954,955,956,957,958,959,960,961,962,963,1134,1135,1136,1140,1141,1142,1143,1144,1145,1146,1147,1148,1149,1150,1151,1152,1153,1154,1155,1156,1157,1158,1159,1160,1161,1162,1163,1164,1165,1166,1167,1168,1169,1170,1171,1172,1173,1174,1175,1176,1177,1178,1179,1180,1181,1182,1183,1184,1185,1186,1187,1188,1189,1190,1191,1192,1193,1194,1195,1196,1197,1198,1199,1200,1201,1202,1203,1204,1205,1206,1207,1208,1209,1210,1211,1212,1213,1214,1215,1216,1217,1342,1343,1344,1349,1350,1351,1352,1353,1354,1355,1356,1357,1358,1359,1360,1361,1362,1363,1364,1365,1366,1367,1368,1369,1370,1371,1372,1373,1374,1375,1376,1377,1378,1379,1380,1381,1382,1383,1384,1385,1386,1387,1388,1389,1390,1391,1392,1393,1394,1395,1396,1397,1398,1399,1400,1401,1402,1498,1499,1500,1501,1502,1503,1504) have mixed types.Specify dtype option on import or set low_memory=False.\n",
      "  interactivity=interactivity, compiler=compiler, result=result)\n"
     ]
    },
    {
     "name": "stdout",
     "output_type": "stream",
     "text": [
      "Cancer Analysis Data Files/acs-2015-5-e-income/GA.csv\n",
      "Cancer Analysis Data Files/acs-2015-5-e-income/HI.csv\n",
      "Cancer Analysis Data Files/acs-2015-5-e-income/IA.csv\n"
     ]
    },
    {
     "name": "stderr",
     "output_type": "stream",
     "text": [
      "C:\\Users\\vbohra167040\\Anaconda3\\lib\\site-packages\\IPython\\core\\interactiveshell.py:3063: DtypeWarning: Columns (179,180,187,189,197,198,205,897,901,902,905,906,937,938,940,946,947,948,949,950,951,952,953,954,955,956,957,958,959,960,961,962,963,1170,1171,1172,1173,1174,1182,1183,1184,1185,1187,1189,1190,1191,1192,1193,1194,1195,1196,1197,1198,1199,1200,1201,1202,1203,1204,1205,1206,1207,1208,1209,1210,1211,1212,1213,1214,1215,1216,1217,1383,1384,1391,1393,1394,1401,1498,1499,1502) have mixed types.Specify dtype option on import or set low_memory=False.\n",
      "  interactivity=interactivity, compiler=compiler, result=result)\n"
     ]
    },
    {
     "name": "stdout",
     "output_type": "stream",
     "text": [
      "Cancer Analysis Data Files/acs-2015-5-e-income/ID.csv\n",
      "Cancer Analysis Data Files/acs-2015-5-e-income/IL.csv\n",
      "Cancer Analysis Data Files/acs-2015-5-e-income/IN.csv\n"
     ]
    },
    {
     "name": "stderr",
     "output_type": "stream",
     "text": [
      "C:\\Users\\vbohra167040\\Anaconda3\\lib\\site-packages\\IPython\\core\\interactiveshell.py:3063: DtypeWarning: Columns (906) have mixed types.Specify dtype option on import or set low_memory=False.\n",
      "  interactivity=interactivity, compiler=compiler, result=result)\n"
     ]
    },
    {
     "name": "stdout",
     "output_type": "stream",
     "text": [
      "Cancer Analysis Data Files/acs-2015-5-e-income/KS.csv\n"
     ]
    },
    {
     "name": "stderr",
     "output_type": "stream",
     "text": [
      "C:\\Users\\vbohra167040\\Anaconda3\\lib\\site-packages\\IPython\\core\\interactiveshell.py:3063: DtypeWarning: Columns (197,198,205,902,937,938,951,952,953,954,955,956,957,958,959,960,961,962,963,1170,1171,1172,1174,1182,1185,1189,1190,1191,1192,1193,1194,1195,1196,1197,1198,1199,1200,1201,1202,1203,1204,1205,1206,1207,1208,1209,1210,1211,1212,1213,1214,1215,1216,1217,1383,1384,1391,1393,1394,1401,1498) have mixed types.Specify dtype option on import or set low_memory=False.\n",
      "  interactivity=interactivity, compiler=compiler, result=result)\n"
     ]
    },
    {
     "name": "stdout",
     "output_type": "stream",
     "text": [
      "Cancer Analysis Data Files/acs-2015-5-e-income/KY.csv\n"
     ]
    },
    {
     "name": "stderr",
     "output_type": "stream",
     "text": [
      "C:\\Users\\vbohra167040\\Anaconda3\\lib\\site-packages\\IPython\\core\\interactiveshell.py:3063: DtypeWarning: Columns (198,205,905,906,937,938,941,1170,1171,1172,1173,1174,1182,1183,1184,1185,1189,1190,1191,1192,1193,1194,1195,1196,1197,1198,1199,1200,1201,1202,1203,1204,1205,1206,1207,1208,1209,1210,1211,1212,1213,1214,1215,1216,1217,1384,1391,1394,1401) have mixed types.Specify dtype option on import or set low_memory=False.\n",
      "  interactivity=interactivity, compiler=compiler, result=result)\n"
     ]
    },
    {
     "name": "stdout",
     "output_type": "stream",
     "text": [
      "Cancer Analysis Data Files/acs-2015-5-e-income/LA.csv\n"
     ]
    },
    {
     "name": "stderr",
     "output_type": "stream",
     "text": [
      "C:\\Users\\vbohra167040\\Anaconda3\\lib\\site-packages\\IPython\\core\\interactiveshell.py:3063: DtypeWarning: Columns (179,189,191,197,897,899,900,901,902,904,905,906,937,938,941,944,946,947,948,949,950,951,952,953,954,955,956,957,958,959,960,961,962,963,1134,1144,1145,1151,1153,1154,1156,1157,1158,1159,1160,1162,1170,1171,1172,1173,1174,1182,1184,1185,1189,1190,1191,1192,1193,1194,1195,1196,1197,1198,1199,1200,1201,1202,1203,1204,1205,1206,1207,1208,1209,1210,1211,1212,1213,1214,1215,1216,1217,1352,1368,1369,1370,1371,1372,1373,1374,1376,1377,1378,1379,1380,1381,1383,1393,1498,1499,1500,1501,1502,1503,1504) have mixed types.Specify dtype option on import or set low_memory=False.\n",
      "  interactivity=interactivity, compiler=compiler, result=result)\n"
     ]
    },
    {
     "name": "stdout",
     "output_type": "stream",
     "text": [
      "Cancer Analysis Data Files/acs-2015-5-e-income/MA.csv\n",
      "Cancer Analysis Data Files/acs-2015-5-e-income/MD.csv\n"
     ]
    },
    {
     "name": "stderr",
     "output_type": "stream",
     "text": [
      "C:\\Users\\vbohra167040\\Anaconda3\\lib\\site-packages\\IPython\\core\\interactiveshell.py:3063: DtypeWarning: Columns (197,198,205,902,906,951,952,953,954,955,956,957,958,959,960,961,962,1383,1384,1391,1393,1394,1401) have mixed types.Specify dtype option on import or set low_memory=False.\n",
      "  interactivity=interactivity, compiler=compiler, result=result)\n"
     ]
    },
    {
     "name": "stdout",
     "output_type": "stream",
     "text": [
      "Cancer Analysis Data Files/acs-2015-5-e-income/ME.csv\n",
      "Cancer Analysis Data Files/acs-2015-5-e-income/MI.csv\n"
     ]
    },
    {
     "name": "stderr",
     "output_type": "stream",
     "text": [
      "C:\\Users\\vbohra167040\\Anaconda3\\lib\\site-packages\\IPython\\core\\interactiveshell.py:3063: DtypeWarning: Columns (179,189,897,904,937,938,940,941,946,947,948,949,950,963,1134,1144,1151,1156,1158,1159,1173,1174,1183,1201,1208,1498,1499,1501,1502,1504) have mixed types.Specify dtype option on import or set low_memory=False.\n",
      "  interactivity=interactivity, compiler=compiler, result=result)\n"
     ]
    },
    {
     "name": "stdout",
     "output_type": "stream",
     "text": [
      "Cancer Analysis Data Files/acs-2015-5-e-income/MN.csv\n"
     ]
    },
    {
     "name": "stderr",
     "output_type": "stream",
     "text": [
      "C:\\Users\\vbohra167040\\Anaconda3\\lib\\site-packages\\IPython\\core\\interactiveshell.py:3063: DtypeWarning: Columns (179,180,181,182,183,185,186,187,188,189,190,191,192,193,194,195,196,198,199,200,201,203,204,205,206,897,898,899,900,901,903,904,906,937,938,939,940,941,942,943,944,945,946,947,948,949,950,963,1134,1135,1136,1137,1138,1140,1141,1142,1143,1144,1145,1146,1147,1148,1149,1150,1151,1152,1153,1154,1155,1156,1157,1158,1159,1160,1161,1162,1163,1164,1165,1166,1167,1168,1169,1170,1171,1172,1173,1174,1175,1176,1177,1178,1179,1180,1181,1182,1183,1184,1185,1186,1187,1188,1189,1190,1191,1192,1193,1194,1195,1196,1197,1198,1199,1200,1201,1202,1203,1204,1205,1206,1207,1208,1209,1210,1211,1212,1213,1214,1215,1216,1217,1342,1343,1349,1350,1351,1352,1353,1354,1355,1356,1357,1358,1359,1361,1362,1363,1364,1365,1366,1367,1368,1369,1370,1371,1372,1373,1374,1375,1376,1377,1378,1379,1380,1381,1382,1384,1385,1386,1387,1388,1389,1390,1391,1392,1394,1395,1396,1397,1398,1399,1400,1401,1402,1498,1499,1500,1501,1502,1503,1504) have mixed types.Specify dtype option on import or set low_memory=False.\n",
      "  interactivity=interactivity, compiler=compiler, result=result)\n"
     ]
    },
    {
     "name": "stdout",
     "output_type": "stream",
     "text": [
      "Cancer Analysis Data Files/acs-2015-5-e-income/MO.csv\n",
      "Cancer Analysis Data Files/acs-2015-5-e-income/MS.csv\n",
      "Cancer Analysis Data Files/acs-2015-5-e-income/MT.csv\n",
      "Cancer Analysis Data Files/acs-2015-5-e-income/NC.csv\n"
     ]
    },
    {
     "name": "stderr",
     "output_type": "stream",
     "text": [
      "C:\\Users\\vbohra167040\\Anaconda3\\lib\\site-packages\\IPython\\core\\interactiveshell.py:3063: DtypeWarning: Columns (197,902,905,906,937,938,951,952,953,954,955,956,957,958,959,960,961,962,963,1170,1171,1172,1174,1182,1183,1184,1185,1189,1190,1194,1195,1196,1197,1198,1383,1384,1391,1393,1498) have mixed types.Specify dtype option on import or set low_memory=False.\n",
      "  interactivity=interactivity, compiler=compiler, result=result)\n"
     ]
    },
    {
     "name": "stdout",
     "output_type": "stream",
     "text": [
      "Cancer Analysis Data Files/acs-2015-5-e-income/ND.csv\n",
      "Cancer Analysis Data Files/acs-2015-5-e-income/NE.csv\n",
      "Cancer Analysis Data Files/acs-2015-5-e-income/NH.csv\n",
      "Cancer Analysis Data Files/acs-2015-5-e-income/NJ.csv\n",
      "Cancer Analysis Data Files/acs-2015-5-e-income/NM.csv\n",
      "Cancer Analysis Data Files/acs-2015-5-e-income/NV.csv\n",
      "Cancer Analysis Data Files/acs-2015-5-e-income/NY.csv\n"
     ]
    },
    {
     "name": "stderr",
     "output_type": "stream",
     "text": [
      "C:\\Users\\vbohra167040\\Anaconda3\\lib\\site-packages\\IPython\\core\\interactiveshell.py:3063: DtypeWarning: Columns (1383,1384,1391,1393,1394,1401,1498,1502) have mixed types.Specify dtype option on import or set low_memory=False.\n",
      "  interactivity=interactivity, compiler=compiler, result=result)\n"
     ]
    },
    {
     "name": "stdout",
     "output_type": "stream",
     "text": [
      "Cancer Analysis Data Files/acs-2015-5-e-income/OH.csv\n"
     ]
    },
    {
     "name": "stderr",
     "output_type": "stream",
     "text": [
      "C:\\Users\\vbohra167040\\Anaconda3\\lib\\site-packages\\IPython\\core\\interactiveshell.py:3063: DtypeWarning: Columns (197,198,205,902,937,951,952,953,954,955,956,957,958,959,960,961,962,1383,1384,1391,1393,1394,1401) have mixed types.Specify dtype option on import or set low_memory=False.\n",
      "  interactivity=interactivity, compiler=compiler, result=result)\n"
     ]
    },
    {
     "name": "stdout",
     "output_type": "stream",
     "text": [
      "Cancer Analysis Data Files/acs-2015-5-e-income/OK.csv\n"
     ]
    },
    {
     "name": "stderr",
     "output_type": "stream",
     "text": [
      "C:\\Users\\vbohra167040\\Anaconda3\\lib\\site-packages\\IPython\\core\\interactiveshell.py:3063: DtypeWarning: Columns (1383) have mixed types.Specify dtype option on import or set low_memory=False.\n",
      "  interactivity=interactivity, compiler=compiler, result=result)\n"
     ]
    },
    {
     "name": "stdout",
     "output_type": "stream",
     "text": [
      "Cancer Analysis Data Files/acs-2015-5-e-income/OR.csv\n",
      "Cancer Analysis Data Files/acs-2015-5-e-income/PA.csv\n"
     ]
    },
    {
     "name": "stderr",
     "output_type": "stream",
     "text": [
      "C:\\Users\\vbohra167040\\Anaconda3\\lib\\site-packages\\IPython\\core\\interactiveshell.py:3063: DtypeWarning: Columns (1383,1384,1391,1393,1394,1401) have mixed types.Specify dtype option on import or set low_memory=False.\n",
      "  interactivity=interactivity, compiler=compiler, result=result)\n"
     ]
    },
    {
     "name": "stdout",
     "output_type": "stream",
     "text": [
      "Cancer Analysis Data Files/acs-2015-5-e-income/RI.csv\n",
      "Cancer Analysis Data Files/acs-2015-5-e-income/SC.csv\n",
      "Cancer Analysis Data Files/acs-2015-5-e-income/SD.csv\n",
      "Cancer Analysis Data Files/acs-2015-5-e-income/TN.csv\n"
     ]
    },
    {
     "name": "stderr",
     "output_type": "stream",
     "text": [
      "C:\\Users\\vbohra167040\\Anaconda3\\lib\\site-packages\\IPython\\core\\interactiveshell.py:3063: DtypeWarning: Columns (193,900,904,939,940,1134,1135,1142,1144,1151,1156,1159,1160,1175,1176,1177,1178,1179,1180,1181,1187,1191,1192,1193,1195,1196,1198,1199,1200,1201,1202,1203,1204,1205,1208,1209,1210,1211,1212,1213,1214,1215,1216,1217,1352,1368,1369,1370,1371,1372,1376,1377,1378,1379,1500,1502) have mixed types.Specify dtype option on import or set low_memory=False.\n",
      "  interactivity=interactivity, compiler=compiler, result=result)\n"
     ]
    },
    {
     "name": "stdout",
     "output_type": "stream",
     "text": [
      "Cancer Analysis Data Files/acs-2015-5-e-income/TX.csv\n"
     ]
    },
    {
     "name": "stderr",
     "output_type": "stream",
     "text": [
      "C:\\Users\\vbohra167040\\Anaconda3\\lib\\site-packages\\IPython\\core\\interactiveshell.py:3063: DtypeWarning: Columns (179,180,185,187,188,189,190,191,192,193,194,195,196,197,198,199,203,205,206,897,898,899,900,901,902,903,904,905,906,937,938,939,940,941,942,943,944,945,946,947,948,949,950,951,952,953,954,955,956,957,958,959,960,961,962,963,1134,1135,1140,1142,1143,1144,1145,1146,1147,1148,1149,1151,1152,1153,1154,1155,1156,1157,1158,1159,1160,1161,1162,1163,1164,1165,1166,1167,1168,1169,1170,1171,1172,1173,1174,1175,1176,1177,1178,1179,1180,1181,1182,1183,1184,1185,1186,1187,1188,1189,1190,1191,1192,1193,1194,1195,1196,1197,1198,1199,1200,1201,1202,1203,1204,1205,1206,1207,1209,1210,1211,1212,1213,1214,1215,1216,1217,1342,1343,1350,1351,1352,1353,1354,1355,1356,1357,1358,1359,1361,1362,1363,1364,1365,1366,1368,1369,1370,1371,1372,1373,1374,1376,1377,1378,1379,1380,1381,1383,1384,1385,1389,1391,1392,1393,1394,1395,1399,1401,1402,1498,1499,1500,1501,1502,1503,1504) have mixed types.Specify dtype option on import or set low_memory=False.\n",
      "  interactivity=interactivity, compiler=compiler, result=result)\n"
     ]
    },
    {
     "name": "stdout",
     "output_type": "stream",
     "text": [
      "Cancer Analysis Data Files/acs-2015-5-e-income/UT.csv\n",
      "Cancer Analysis Data Files/acs-2015-5-e-income/VA.csv\n"
     ]
    },
    {
     "name": "stderr",
     "output_type": "stream",
     "text": [
      "C:\\Users\\vbohra167040\\Anaconda3\\lib\\site-packages\\IPython\\core\\interactiveshell.py:3063: DtypeWarning: Columns (906,1170,1171,1172,1174,1182,1184,1189,1190,1191,1192,1193,1194,1195,1196,1197,1198,1199,1200,1201,1202,1203,1204,1205,1206,1207,1208,1209,1210,1211,1212,1213,1214,1215,1216,1217,1498) have mixed types.Specify dtype option on import or set low_memory=False.\n",
      "  interactivity=interactivity, compiler=compiler, result=result)\n"
     ]
    },
    {
     "name": "stdout",
     "output_type": "stream",
     "text": [
      "Cancer Analysis Data Files/acs-2015-5-e-income/VT.csv\n",
      "Cancer Analysis Data Files/acs-2015-5-e-income/WA.csv\n"
     ]
    },
    {
     "name": "stderr",
     "output_type": "stream",
     "text": [
      "C:\\Users\\vbohra167040\\Anaconda3\\lib\\site-packages\\IPython\\core\\interactiveshell.py:3063: DtypeWarning: Columns (197,902,937,938,951,952,953,954,955,956,957,958,959,960,961,962,1170,1171,1172,1174,1182,1183,1184,1189,1190,1191,1192,1193,1194,1195,1196,1197,1198,1199,1200,1201,1202,1203,1204,1205,1206,1207,1208,1209,1210,1211,1212,1213,1214,1215,1216,1217,1383,1384,1391,1393,1394,1401) have mixed types.Specify dtype option on import or set low_memory=False.\n",
      "  interactivity=interactivity, compiler=compiler, result=result)\n"
     ]
    },
    {
     "name": "stdout",
     "output_type": "stream",
     "text": [
      "Cancer Analysis Data Files/acs-2015-5-e-income/WI.csv\n"
     ]
    },
    {
     "name": "stderr",
     "output_type": "stream",
     "text": [
      "C:\\Users\\vbohra167040\\Anaconda3\\lib\\site-packages\\IPython\\core\\interactiveshell.py:3063: DtypeWarning: Columns (179,189,897,906,946,947,948,949,950,1134,1144,1151,1156,1159,1173,1183,1201,1498,1499,1502,1504) have mixed types.Specify dtype option on import or set low_memory=False.\n",
      "  interactivity=interactivity, compiler=compiler, result=result)\n"
     ]
    },
    {
     "name": "stdout",
     "output_type": "stream",
     "text": [
      "Cancer Analysis Data Files/acs-2015-5-e-income/WV.csv\n",
      "Cancer Analysis Data Files/acs-2015-5-e-income/WY.csv\n",
      "-196.58871626853943\n"
     ]
    }
   ],
   "source": [
    "cols = ['StateFIPS', 'CountyFIPS','B19013_001', 'B19013A_001', 'B19013B_001','B19013C_001', 'B19013D_001','B19013I_001']\n",
    "start = time.time()\n",
    "incomedf = pd.DataFrame()\n",
    "for i in tables_income:\n",
    "    filename=directory1+i\n",
    "    print(filename)\n",
    "    tdf = pd.read_csv(filename, delimiter=',')\n",
    "    if i == \"AK.csv\":\n",
    "        #tdf.head()\n",
    "        incomedf = tdf.loc[tdf['SummaryLevel'] == 50]\n",
    "        incomedf.head()\n",
    "        incomedf = incomedf.filter(cols)\n",
    "    else:\n",
    "        df1 = tdf.loc[tdf['SummaryLevel'] == 50]\n",
    "        df=df1.filter(cols)\n",
    "        incomedf = pd.concat([incomedf, df], ignore_index=True)\n",
    "\n",
    "print(end - start)\n",
    "\n",
    "incomedf.head()\n",
    "\n",
    "incomedf['StateFIPS'] = incomedf.StateFIPS.astype(np.object_)\\\n",
    "                                .apply(lambda x: str(x))\\\n",
    "                                .str.pad(2, 'left', '0')\n",
    "incomedf['CountyFIPS'] = incomedf['CountyFIPS'].astype(int)\n",
    "incomedf['CountyFIPS'] = incomedf.CountyFIPS.astype(np.object_)\\\n",
    "                                 .apply(lambda x: str(x))\\\n",
    "                                 .str.pad(3, 'left', '0')\n",
    "\n",
    "incomedf.rename(columns={'B19013_001':'Med_Income', 'B19013A_001':'Med_Income_White', \n",
    "                         'B19013B_001':'Med_Income_Black', 'B19013C_001':'Med_Income_Nat_Am',\n",
    "                         'B19013D_001':'Med_Income_Asian', 'B19013I_001':'Hispanic'}, inplace=True)"
   ]
  },
  {
   "cell_type": "code",
   "execution_count": 22,
   "metadata": {
    "colab": {
     "base_uri": "https://localhost:8080/",
     "height": 206
    },
    "id": "zXUzIamB0XVi",
    "outputId": "e69c1819-b6f3-45a1-ede0-2a23a225db05"
   },
   "outputs": [
    {
     "data": {
      "text/html": [
       "<div>\n",
       "<style scoped>\n",
       "    .dataframe tbody tr th:only-of-type {\n",
       "        vertical-align: middle;\n",
       "    }\n",
       "\n",
       "    .dataframe tbody tr th {\n",
       "        vertical-align: top;\n",
       "    }\n",
       "\n",
       "    .dataframe thead th {\n",
       "        text-align: right;\n",
       "    }\n",
       "</style>\n",
       "<table border=\"1\" class=\"dataframe\">\n",
       "  <thead>\n",
       "    <tr style=\"text-align: right;\">\n",
       "      <th></th>\n",
       "      <th>StateFIPS</th>\n",
       "      <th>CountyFIPS</th>\n",
       "      <th>Med_Income</th>\n",
       "      <th>Med_Income_White</th>\n",
       "      <th>Med_Income_Black</th>\n",
       "      <th>Med_Income_Nat_Am</th>\n",
       "      <th>Med_Income_Asian</th>\n",
       "      <th>Hispanic</th>\n",
       "    </tr>\n",
       "  </thead>\n",
       "  <tbody>\n",
       "    <tr>\n",
       "      <th>0</th>\n",
       "      <td>01</td>\n",
       "      <td>001</td>\n",
       "      <td>51281</td>\n",
       "      <td>56854</td>\n",
       "      <td>32073</td>\n",
       "      <td>NaN</td>\n",
       "      <td>2499</td>\n",
       "      <td>61296</td>\n",
       "    </tr>\n",
       "    <tr>\n",
       "      <th>1</th>\n",
       "      <td>01</td>\n",
       "      <td>003</td>\n",
       "      <td>50254</td>\n",
       "      <td>52594</td>\n",
       "      <td>26967</td>\n",
       "      <td>92670</td>\n",
       "      <td>36250</td>\n",
       "      <td>42468</td>\n",
       "    </tr>\n",
       "    <tr>\n",
       "      <th>2</th>\n",
       "      <td>01</td>\n",
       "      <td>005</td>\n",
       "      <td>32964</td>\n",
       "      <td>45039</td>\n",
       "      <td>21171</td>\n",
       "      <td>.</td>\n",
       "      <td>NaN</td>\n",
       "      <td>27132</td>\n",
       "    </tr>\n",
       "    <tr>\n",
       "      <th>3</th>\n",
       "      <td>01</td>\n",
       "      <td>007</td>\n",
       "      <td>38678</td>\n",
       "      <td>42263</td>\n",
       "      <td>27793</td>\n",
       "      <td>.</td>\n",
       "      <td>.</td>\n",
       "      <td>43750</td>\n",
       "    </tr>\n",
       "    <tr>\n",
       "      <th>4</th>\n",
       "      <td>01</td>\n",
       "      <td>009</td>\n",
       "      <td>45813</td>\n",
       "      <td>46601</td>\n",
       "      <td>31507</td>\n",
       "      <td>61310</td>\n",
       "      <td>NaN</td>\n",
       "      <td>35271</td>\n",
       "    </tr>\n",
       "  </tbody>\n",
       "</table>\n",
       "</div>"
      ],
      "text/plain": [
       "  StateFIPS CountyFIPS Med_Income Med_Income_White Med_Income_Black  \\\n",
       "0        01        001      51281            56854            32073   \n",
       "1        01        003      50254            52594            26967   \n",
       "2        01        005      32964            45039            21171   \n",
       "3        01        007      38678            42263            27793   \n",
       "4        01        009      45813            46601            31507   \n",
       "\n",
       "  Med_Income_Nat_Am Med_Income_Asian Hispanic  \n",
       "0               NaN             2499    61296  \n",
       "1             92670            36250    42468  \n",
       "2                 .              NaN    27132  \n",
       "3                 .                .    43750  \n",
       "4             61310              NaN    35271  "
      ]
     },
     "execution_count": 22,
     "metadata": {},
     "output_type": "execute_result"
    }
   ],
   "source": [
    "incomedf.head()"
   ]
  },
  {
   "cell_type": "code",
   "execution_count": 23,
   "metadata": {
    "colab": {
     "base_uri": "https://localhost:8080/"
    },
    "id": "FFo-JHcM0XVi",
    "outputId": "afbed9ab-8853-4f77-ac31-83577e37cd95"
   },
   "outputs": [
    {
     "data": {
      "text/plain": [
       "array(['AL.csv', 'AR.csv', 'AZ.csv', 'CA.csv', 'CO.csv', 'CT.csv',\n",
       "       'DC.csv', 'DE.csv', 'FL.csv', 'GA.csv', 'HI.csv', 'IA.csv',\n",
       "       'ID.csv', 'IL.csv', 'IN.csv', 'KS.csv', 'KY.csv', 'LA.csv',\n",
       "       'MA.csv', 'MD.csv', 'ME.csv', 'MI.csv', 'MN.csv', 'MO.csv',\n",
       "       'MS.csv', 'MT.csv', 'NC.csv', 'ND.csv', 'NE.csv', 'NH.csv',\n",
       "       'NJ.csv', 'NM.csv', 'NV.csv', 'NY.csv', 'OH.csv', 'OK.csv',\n",
       "       'OR.csv', 'PA.csv', 'RI.csv', 'SC.csv', 'SD.csv', 'TN.csv',\n",
       "       'TX.csv', 'UT.csv', 'VA.csv', 'VT.csv', 'WA.csv', 'WI.csv',\n",
       "       'WV.csv', 'WY.csv'], dtype='<U6')"
      ]
     },
     "execution_count": 23,
     "metadata": {},
     "output_type": "execute_result"
    }
   ],
   "source": [
    "directory2 = 'Cancer Analysis Data Files/acs-2015-5-e-healthinsurance/'\n",
    "list_ = os.listdir(directory2)\n",
    "list_\n",
    "list1_ = np.sort(list_)\n",
    "list1_[1:]\n",
    "tables_hins = []\n",
    "for i in list1_[1:]:\n",
    "    tables_hins.append(i)\n",
    "tables_hins\n",
    "np.array(tables_hins)"
   ]
  },
  {
   "cell_type": "markdown",
   "metadata": {
    "id": "1hO2Axv-0XVi"
   },
   "source": [
    "#### C. Health Insurance Data"
   ]
  },
  {
   "cell_type": "markdown",
   "metadata": {
    "id": "DpX-5JIn0XVi"
   },
   "source": [
    "In each of the insurance files, we will select these columns.\n",
    "\n",
    "B27001_004\n",
    "HEALTH INSURANCE COVERAGE STATUS BY SEX BY AGE for Civilian Noninstitutionalized Population% Male:% Under 6 years            \n",
    "B27001_005\n",
    "HEALTH INSURANCE COVERAGE STATUS BY SEX BY AGE for Civilian Noninstitutionalized Population% Male:% Under 6 years:% With health insurance coverage       \n",
    "B27001_007\n",
    "HEALTH INSURANCE COVERAGE STATUS BY SEX BY AGE for Civilian Noninstitutionalized Population% Male:% 6 to 17 years:% With health insurance coverage            \n",
    "B27001_008\n",
    "HEALTH INSURANCE COVERAGE STATUS BY SEX BY AGE for Civilian Noninstitutionalized Population% Male:% 6 to 17 years:% No health insurance coverage               \n",
    "B27001_010\n",
    "HEALTH INSURANCE COVERAGE STATUS BY SEX BY AGE for Civilian Noninstitutionalized Population% Male:% 18 to 24 years:% With health insurance coverage          \n",
    "B27001_011\n",
    "HEALTH INSURANCE COVERAGE STATUS BY SEX BY AGE for Civilian Noninstitutionalized Population% Male:% 18 to 24 years:% No health insurance coverage            \n",
    "B27001_013\n",
    "HEALTH INSURANCE COVERAGE STATUS BY SEX BY AGE for Civilian Noninstitutionalized Population% Male:% 25 to 34 years:% With health insurance coverage             \n",
    "B27001_014\n",
    "HEALTH INSURANCE COVERAGE STATUS BY SEX BY AGE for Civilian Noninstitutionalized Population% Male:% 25 to 34 years:% No health insurance coverage             \n",
    "B27001_016\n",
    "HEALTH INSURANCE COVERAGE STATUS BY SEX BY AGE for Civilian Noninstitutionalized Population% Male:% 35 to 44 years:% With health insurance coverage          \n",
    "B27001_017\n",
    "HEALTH INSURANCE COVERAGE STATUS BY SEX BY AGE for Civilian Noninstitutionalized Population% Male:% 35 to 44 years:% No health insurance coverage              \n",
    "B27001_019\n",
    "HEALTH INSURANCE COVERAGE STATUS BY SEX BY AGE for Civilian Noninstitutionalized Population% Male:% 45 to 54 years:% With health insurance coverage        \n",
    "B27001_020\n",
    "HEALTH INSURANCE COVERAGE STATUS BY SEX BY AGE for Civilian Noninstitutionalized Population% Male:% 45 to 54 years:% No health insurance coverage          \n",
    "B27001_022\n",
    "HEALTH INSURANCE COVERAGE STATUS BY SEX BY AGE for Civilian Noninstitutionalized Population% Male:% 55 to 64 years:% With health insurance coverage            \n",
    "B27001_023\n",
    "HEALTH INSURANCE COVERAGE STATUS BY SEX BY AGE for Civilian Noninstitutionalized Population% Male:% 55 to 64 years:% No health insurance coverage           \n",
    "B27001_025\n",
    "HEALTH INSURANCE COVERAGE STATUS BY SEX BY AGE for Civilian Noninstitutionalized Population% Male:% 65 to 74 years:% With health insurance coverage              \n",
    "B27001_026\n",
    "HEALTH INSURANCE COVERAGE STATUS BY SEX BY AGE for Civilian Noninstitutionalized Population% Male:% 65 to 74 years:% No health insurance coverage             \n",
    "B27001_028\n",
    "HEALTH INSURANCE COVERAGE STATUS BY SEX BY AGE for Civilian Noninstitutionalized Population% Male:% 75 years and over:% With health insurance coverage            \n",
    "B27001_029\n",
    "HEALTH INSURANCE COVERAGE STATUS BY SEX BY AGE for Civilian Noninstitutionalized Population% Male:% 75 years and over:% No health insurance coverage               \n",
    "B27001_032\n",
    "HEALTH INSURANCE COVERAGE STATUS BY SEX BY AGE for Civilian Noninstitutionalized Population% Female:% Under 6 years:                 \n",
    "B27001_033\n",
    "HEALTH INSURANCE COVERAGE STATUS BY SEX BY AGE for Civilian Noninstitutionalized Population% Female:% Under 6 years:% With health insurance coverage       \n",
    "B27001_035\n",
    "HEALTH INSURANCE COVERAGE STATUS BY SEX BY AGE for Civilian Noninstitutionalized Population% Female:% 6 to 17 years:% With health insurance coverage         \n",
    "B27001_036\n",
    "HEALTH INSURANCE COVERAGE STATUS BY SEX BY AGE for Civilian Noninstitutionalized Population% Female:% 6 to 17 years:% No health insurance coverage            \n",
    "B27001_038\n",
    "HEALTH INSURANCE COVERAGE STATUS BY SEX BY AGE for Civilian Noninstitutionalized Population% Female:% 18 to 24 years:% With health insurance coverage               \n",
    "B27001_039\n",
    "HEALTH INSURANCE COVERAGE STATUS BY SEX BY AGE for Civilian Noninstitutionalized Population% Female:% 18 to 24 years:% No health insurance coverage              \n",
    "B27001_041\n",
    "HEALTH INSURANCE COVERAGE STATUS BY SEX BY AGE for Civilian Noninstitutionalized Population% Female:% 25 to 34 years:% With health insurance coverage            \n",
    "B27001_042\n",
    "HEALTH INSURANCE COVERAGE STATUS BY SEX BY AGE for Civilian Noninstitutionalized Population% Female:% 25 to 34 years:% No health insurance coverage          \n",
    "B27001_044\n",
    "HEALTH INSURANCE COVERAGE STATUS BY SEX BY AGE for Civilian Noninstitutionalized Population% Female:% 35 to 44 years:% With health insurance coverage          \n",
    "B27001_045\n",
    "HEALTH INSURANCE COVERAGE STATUS BY SEX BY AGE for Civilian Noninstitutionalized Population% Female:% 35 to 44 years:% No health insurance coverage          \n",
    "B27001_047\n",
    "HEALTH INSURANCE COVERAGE STATUS BY SEX BY AGE for Civilian Noninstitutionalized Population% Female:% 45 to 54 years:% With health insurance coverage             \n",
    "B27001_048\n",
    "HEALTH INSURANCE COVERAGE STATUS BY SEX BY AGE for Civilian Noninstitutionalized Population% Female:% 45 to 54 years:% No health insurance coverage           \n",
    "B27001_050\n",
    "HEALTH INSURANCE COVERAGE STATUS BY SEX BY AGE for Civilian Noninstitutionalized Population% Female:% 55 to 64 years:% With health insurance coverage          \n",
    "B27001_051\n",
    "HEALTH INSURANCE COVERAGE STATUS BY SEX BY AGE for Civilian Noninstitutionalized Population% Female:% 55 to 64 years:% No health insurance coverage           \n",
    "B27001_053\n",
    "HEALTH INSURANCE COVERAGE STATUS BY SEX BY AGE for Civilian Noninstitutionalized Population% Female:% 65 to 74 years:% With health insurance coverage            \n",
    "B27001_054\n",
    "HEALTH INSURANCE COVERAGE STATUS BY SEX BY AGE for Civilian Noninstitutionalized Population% Female:% 65 to 74 years:% No health insurance coverage              \n",
    "B27001_056\n",
    "HEALTH INSURANCE COVERAGE STATUS BY SEX BY AGE for Civilian Noninstitutionalized Population% Female:% 75 years and over:% With health insurance coverage          \n",
    "B27001_057\n",
    "HEALTH INSURANCE COVERAGE STATUS BY SEX BY AGE for Civilian Noninstitutionalized Population% Female:% 75 years and over:% No health insurance coverage           "
   ]
  },
  {
   "cell_type": "code",
   "execution_count": 24,
   "metadata": {
    "colab": {
     "base_uri": "https://localhost:8080/"
    },
    "id": "83XeTQ6z0XVk",
    "outputId": "a6749b91-8844-4241-f9ee-3755dc53b751"
   },
   "outputs": [
    {
     "name": "stdout",
     "output_type": "stream",
     "text": [
      "Cancer Analysis Data Files/acs-2015-5-e-healthinsurance/AL.csv\n",
      "Cancer Analysis Data Files/acs-2015-5-e-healthinsurance/AR.csv\n",
      "Cancer Analysis Data Files/acs-2015-5-e-healthinsurance/AZ.csv\n",
      "Cancer Analysis Data Files/acs-2015-5-e-healthinsurance/CA.csv\n",
      "Cancer Analysis Data Files/acs-2015-5-e-healthinsurance/CO.csv\n",
      "Cancer Analysis Data Files/acs-2015-5-e-healthinsurance/CT.csv\n",
      "Cancer Analysis Data Files/acs-2015-5-e-healthinsurance/DC.csv\n",
      "Cancer Analysis Data Files/acs-2015-5-e-healthinsurance/DE.csv\n",
      "Cancer Analysis Data Files/acs-2015-5-e-healthinsurance/FL.csv\n",
      "Cancer Analysis Data Files/acs-2015-5-e-healthinsurance/GA.csv\n",
      "Cancer Analysis Data Files/acs-2015-5-e-healthinsurance/HI.csv\n",
      "Cancer Analysis Data Files/acs-2015-5-e-healthinsurance/IA.csv\n",
      "Cancer Analysis Data Files/acs-2015-5-e-healthinsurance/ID.csv\n",
      "Cancer Analysis Data Files/acs-2015-5-e-healthinsurance/IL.csv\n",
      "Cancer Analysis Data Files/acs-2015-5-e-healthinsurance/IN.csv\n",
      "Cancer Analysis Data Files/acs-2015-5-e-healthinsurance/KS.csv\n",
      "Cancer Analysis Data Files/acs-2015-5-e-healthinsurance/KY.csv\n",
      "Cancer Analysis Data Files/acs-2015-5-e-healthinsurance/LA.csv\n",
      "Cancer Analysis Data Files/acs-2015-5-e-healthinsurance/MA.csv\n",
      "Cancer Analysis Data Files/acs-2015-5-e-healthinsurance/MD.csv\n",
      "Cancer Analysis Data Files/acs-2015-5-e-healthinsurance/ME.csv\n",
      "Cancer Analysis Data Files/acs-2015-5-e-healthinsurance/MI.csv\n",
      "Cancer Analysis Data Files/acs-2015-5-e-healthinsurance/MN.csv\n",
      "Cancer Analysis Data Files/acs-2015-5-e-healthinsurance/MO.csv\n",
      "Cancer Analysis Data Files/acs-2015-5-e-healthinsurance/MS.csv\n",
      "Cancer Analysis Data Files/acs-2015-5-e-healthinsurance/MT.csv\n",
      "Cancer Analysis Data Files/acs-2015-5-e-healthinsurance/NC.csv\n",
      "Cancer Analysis Data Files/acs-2015-5-e-healthinsurance/ND.csv\n",
      "Cancer Analysis Data Files/acs-2015-5-e-healthinsurance/NE.csv\n",
      "Cancer Analysis Data Files/acs-2015-5-e-healthinsurance/NH.csv\n",
      "Cancer Analysis Data Files/acs-2015-5-e-healthinsurance/NJ.csv\n",
      "Cancer Analysis Data Files/acs-2015-5-e-healthinsurance/NM.csv\n",
      "Cancer Analysis Data Files/acs-2015-5-e-healthinsurance/NV.csv\n",
      "Cancer Analysis Data Files/acs-2015-5-e-healthinsurance/NY.csv\n",
      "Cancer Analysis Data Files/acs-2015-5-e-healthinsurance/OH.csv\n",
      "Cancer Analysis Data Files/acs-2015-5-e-healthinsurance/OK.csv\n",
      "Cancer Analysis Data Files/acs-2015-5-e-healthinsurance/OR.csv\n",
      "Cancer Analysis Data Files/acs-2015-5-e-healthinsurance/PA.csv\n",
      "Cancer Analysis Data Files/acs-2015-5-e-healthinsurance/RI.csv\n",
      "Cancer Analysis Data Files/acs-2015-5-e-healthinsurance/SC.csv\n",
      "Cancer Analysis Data Files/acs-2015-5-e-healthinsurance/SD.csv\n",
      "Cancer Analysis Data Files/acs-2015-5-e-healthinsurance/TN.csv\n",
      "Cancer Analysis Data Files/acs-2015-5-e-healthinsurance/TX.csv\n",
      "Cancer Analysis Data Files/acs-2015-5-e-healthinsurance/UT.csv\n",
      "Cancer Analysis Data Files/acs-2015-5-e-healthinsurance/VA.csv\n",
      "Cancer Analysis Data Files/acs-2015-5-e-healthinsurance/VT.csv\n",
      "Cancer Analysis Data Files/acs-2015-5-e-healthinsurance/WA.csv\n",
      "Cancer Analysis Data Files/acs-2015-5-e-healthinsurance/WI.csv\n",
      "Cancer Analysis Data Files/acs-2015-5-e-healthinsurance/WV.csv\n",
      "Cancer Analysis Data Files/acs-2015-5-e-healthinsurance/WY.csv\n",
      "6.865854263305664\n"
     ]
    }
   ],
   "source": [
    "cols = ['StateFIPS', 'CountyFIPS',\\\n",
    "           'B27001_004', 'B27001_005', 'B27001_007', 'B27001_008', \\\n",
    "           'B27001_010', 'B27001_011', 'B27001_013', 'B27001_014', \\\n",
    "           'B27001_016', 'B27001_017', 'B27001_019', 'B27001_020', \\\n",
    "           'B27001_022', 'B27001_023', 'B27001_025', 'B27001_026', \\\n",
    "           'B27001_028', 'B27001_029', 'B27001_032', 'B27001_033', \\\n",
    "           'B27001_035', 'B27001_036', 'B27001_038', 'B27001_039', \\\n",
    "           'B27001_041', 'B27001_042', 'B27001_044', 'B27001_045', \\\n",
    "           'B27001_047', 'B27001_048', 'B27001_050', 'B27001_051', \\\n",
    "           'B27001_053', 'B27001_054', 'B27001_056', 'B27001_057']\n",
    "# male <= 029   \n",
    "\n",
    "start = time.time()\n",
    "hinsdf = pd.DataFrame()\n",
    "\n",
    "for i in tables_hins:\n",
    "    filename=directory2+i\n",
    "    print(filename)\n",
    "    tdf = pd.read_csv(filename, delimiter=',')\n",
    "    if i == \"AK.csv\":\n",
    "        #tdf.head()\n",
    "        hinsdf = tdf.loc[tdf['SummaryLevel'] == 50]\n",
    "        hinsdf1.head()\n",
    "        hinsdf = hinsdf.filter(cols)\n",
    "    else:\n",
    "        df1 = tdf.loc[tdf['SummaryLevel'] == 50]\n",
    "        df=df1.filter(cols)\n",
    "        hinsdf = pd.concat([hinsdf, df], ignore_index=True)\n",
    "\n",
    "hinsdf.head()\n",
    "\n",
    "end = time.time()\n",
    "print(end - start)\n",
    "\n",
    "hinsdf['StateFIPS'] = hinsdf.StateFIPS.astype(np.object_)\\\n",
    "                                      .apply(lambda x: str(x))\\\n",
    "                                      .str.pad(2, 'left', '0')\n",
    "hinsdf['CountyFIPS'] = hinsdf['CountyFIPS'].astype(int)\n",
    "hinsdf['CountyFIPS'] = hinsdf.CountyFIPS.astype(np.object_)\\\n",
    "                                        .apply(lambda x: str(x))\\\n",
    "                                        .str.pad(3, 'left', '0')"
   ]
  },
  {
   "cell_type": "code",
   "execution_count": 25,
   "metadata": {
    "colab": {
     "base_uri": "https://localhost:8080/",
     "height": 300
    },
    "id": "zIHpVuvS0XVl",
    "outputId": "bfc84a6c-6e25-448f-a5b8-0e3d99a9fa66"
   },
   "outputs": [
    {
     "data": {
      "text/html": [
       "<div>\n",
       "<style scoped>\n",
       "    .dataframe tbody tr th:only-of-type {\n",
       "        vertical-align: middle;\n",
       "    }\n",
       "\n",
       "    .dataframe tbody tr th {\n",
       "        vertical-align: top;\n",
       "    }\n",
       "\n",
       "    .dataframe thead th {\n",
       "        text-align: right;\n",
       "    }\n",
       "</style>\n",
       "<table border=\"1\" class=\"dataframe\">\n",
       "  <thead>\n",
       "    <tr style=\"text-align: right;\">\n",
       "      <th></th>\n",
       "      <th>StateFIPS</th>\n",
       "      <th>CountyFIPS</th>\n",
       "      <th>B27001_004</th>\n",
       "      <th>B27001_005</th>\n",
       "      <th>B27001_007</th>\n",
       "      <th>B27001_008</th>\n",
       "      <th>B27001_010</th>\n",
       "      <th>B27001_011</th>\n",
       "      <th>B27001_013</th>\n",
       "      <th>B27001_014</th>\n",
       "      <th>...</th>\n",
       "      <th>B27001_044</th>\n",
       "      <th>B27001_045</th>\n",
       "      <th>B27001_047</th>\n",
       "      <th>B27001_048</th>\n",
       "      <th>B27001_050</th>\n",
       "      <th>B27001_051</th>\n",
       "      <th>B27001_053</th>\n",
       "      <th>B27001_054</th>\n",
       "      <th>B27001_056</th>\n",
       "      <th>B27001_057</th>\n",
       "    </tr>\n",
       "  </thead>\n",
       "  <tbody>\n",
       "    <tr>\n",
       "      <th>0</th>\n",
       "      <td>01</td>\n",
       "      <td>001</td>\n",
       "      <td>2004</td>\n",
       "      <td>6</td>\n",
       "      <td>4848</td>\n",
       "      <td>177</td>\n",
       "      <td>1928</td>\n",
       "      <td>563</td>\n",
       "      <td>2468</td>\n",
       "      <td>653</td>\n",
       "      <td>...</td>\n",
       "      <td>3191</td>\n",
       "      <td>687</td>\n",
       "      <td>3571</td>\n",
       "      <td>506</td>\n",
       "      <td>2998</td>\n",
       "      <td>239</td>\n",
       "      <td>2552</td>\n",
       "      <td>7</td>\n",
       "      <td>1605</td>\n",
       "      <td>0</td>\n",
       "    </tr>\n",
       "    <tr>\n",
       "      <th>1</th>\n",
       "      <td>01</td>\n",
       "      <td>003</td>\n",
       "      <td>6425</td>\n",
       "      <td>219</td>\n",
       "      <td>14899</td>\n",
       "      <td>590</td>\n",
       "      <td>5061</td>\n",
       "      <td>2188</td>\n",
       "      <td>7135</td>\n",
       "      <td>3689</td>\n",
       "      <td>...</td>\n",
       "      <td>10491</td>\n",
       "      <td>2052</td>\n",
       "      <td>11708</td>\n",
       "      <td>2311</td>\n",
       "      <td>12598</td>\n",
       "      <td>1662</td>\n",
       "      <td>10970</td>\n",
       "      <td>7</td>\n",
       "      <td>7662</td>\n",
       "      <td>0</td>\n",
       "    </tr>\n",
       "    <tr>\n",
       "      <th>2</th>\n",
       "      <td>01</td>\n",
       "      <td>005</td>\n",
       "      <td>990</td>\n",
       "      <td>22</td>\n",
       "      <td>1777</td>\n",
       "      <td>207</td>\n",
       "      <td>681</td>\n",
       "      <td>332</td>\n",
       "      <td>945</td>\n",
       "      <td>677</td>\n",
       "      <td>...</td>\n",
       "      <td>1069</td>\n",
       "      <td>245</td>\n",
       "      <td>1433</td>\n",
       "      <td>262</td>\n",
       "      <td>1546</td>\n",
       "      <td>200</td>\n",
       "      <td>1337</td>\n",
       "      <td>35</td>\n",
       "      <td>999</td>\n",
       "      <td>0</td>\n",
       "    </tr>\n",
       "    <tr>\n",
       "      <th>3</th>\n",
       "      <td>01</td>\n",
       "      <td>007</td>\n",
       "      <td>642</td>\n",
       "      <td>0</td>\n",
       "      <td>1809</td>\n",
       "      <td>48</td>\n",
       "      <td>683</td>\n",
       "      <td>301</td>\n",
       "      <td>1179</td>\n",
       "      <td>193</td>\n",
       "      <td>...</td>\n",
       "      <td>1238</td>\n",
       "      <td>393</td>\n",
       "      <td>1081</td>\n",
       "      <td>146</td>\n",
       "      <td>1268</td>\n",
       "      <td>88</td>\n",
       "      <td>979</td>\n",
       "      <td>0</td>\n",
       "      <td>728</td>\n",
       "      <td>0</td>\n",
       "    </tr>\n",
       "    <tr>\n",
       "      <th>4</th>\n",
       "      <td>01</td>\n",
       "      <td>009</td>\n",
       "      <td>1931</td>\n",
       "      <td>114</td>\n",
       "      <td>4610</td>\n",
       "      <td>266</td>\n",
       "      <td>1982</td>\n",
       "      <td>383</td>\n",
       "      <td>2384</td>\n",
       "      <td>1032</td>\n",
       "      <td>...</td>\n",
       "      <td>2990</td>\n",
       "      <td>743</td>\n",
       "      <td>3476</td>\n",
       "      <td>569</td>\n",
       "      <td>3428</td>\n",
       "      <td>415</td>\n",
       "      <td>3061</td>\n",
       "      <td>15</td>\n",
       "      <td>1967</td>\n",
       "      <td>2</td>\n",
       "    </tr>\n",
       "  </tbody>\n",
       "</table>\n",
       "<p>5 rows × 38 columns</p>\n",
       "</div>"
      ],
      "text/plain": [
       "  StateFIPS CountyFIPS  B27001_004  B27001_005  B27001_007  B27001_008  \\\n",
       "0        01        001        2004           6        4848         177   \n",
       "1        01        003        6425         219       14899         590   \n",
       "2        01        005         990          22        1777         207   \n",
       "3        01        007         642           0        1809          48   \n",
       "4        01        009        1931         114        4610         266   \n",
       "\n",
       "   B27001_010  B27001_011  B27001_013  B27001_014  ...  B27001_044  \\\n",
       "0        1928         563        2468         653  ...        3191   \n",
       "1        5061        2188        7135        3689  ...       10491   \n",
       "2         681         332         945         677  ...        1069   \n",
       "3         683         301        1179         193  ...        1238   \n",
       "4        1982         383        2384        1032  ...        2990   \n",
       "\n",
       "   B27001_045  B27001_047  B27001_048  B27001_050  B27001_051  B27001_053  \\\n",
       "0         687        3571         506        2998         239        2552   \n",
       "1        2052       11708        2311       12598        1662       10970   \n",
       "2         245        1433         262        1546         200        1337   \n",
       "3         393        1081         146        1268          88         979   \n",
       "4         743        3476         569        3428         415        3061   \n",
       "\n",
       "   B27001_054  B27001_056  B27001_057  \n",
       "0           7        1605           0  \n",
       "1           7        7662           0  \n",
       "2          35         999           0  \n",
       "3           0         728           0  \n",
       "4          15        1967           2  \n",
       "\n",
       "[5 rows x 38 columns]"
      ]
     },
     "execution_count": 25,
     "metadata": {},
     "output_type": "execute_result"
    }
   ],
   "source": [
    "hinsdf.head()"
   ]
  },
  {
   "cell_type": "code",
   "execution_count": 26,
   "metadata": {
    "id": "YAjXBIr-0XVl"
   },
   "outputs": [],
   "source": [
    "# columns representing males' health insurance statistics\n",
    "males = ['`B27001_004`', '`B27001_005`', '`B27001_007`', '`B27001_008`',\n",
    "           '`B27001_010`', '`B27001_011`', '`B27001_013`', '`B27001_014`',\n",
    "           '`B27001_016`', '`B27001_017`', '`B27001_019`', '`B27001_020`',\n",
    "           '`B27001_022`', '`B27001_023`', '`B27001_025`', '`B27001_026`',\n",
    "           '`B27001_028`', '`B27001_029`']\n",
    "\n",
    "# females' health insurance statistics\n",
    "females = ['`B27001_032`', '`B27001_033`', '`B27001_035`', '`B27001_036`', \n",
    "           '`B27001_038`', '`B27001_039`', '`B27001_041`', '`B27001_042`', \n",
    "           '`B27001_044`', '`B27001_045`', '`B27001_047`', '`B27001_048`', \n",
    "           '`B27001_050`', '`B27001_051`', '`B27001_053`', '`B27001_054`', \n",
    "           '`B27001_056`', '`B27001_057`']\n",
    "\n",
    "# separate the \"with\" and \"without\" health insurance columns\n",
    "males_with = []\n",
    "males_without = []\n",
    "females_with = []\n",
    "females_without = []\n",
    "\n",
    "# strip the backticks\n",
    "for i, j in enumerate(males):\n",
    "    if i % 2 == 0:\n",
    "        males_with.append(j.replace('`', ''))\n",
    "    else:\n",
    "        males_without.append(j.replace('`', ''))\n",
    "        \n",
    "for i, j in enumerate(females):\n",
    "    if i % 2 == 0:\n",
    "        females_with.append(j.replace('`', ''))\n",
    "    else:\n",
    "        females_without.append(j.replace('`', ''))\n",
    "\n",
    "# Create features that sum all the individual age group\n",
    "clist = [males_with, males_without, females_with, females_without]\n",
    "newcols = ['M_With', 'M_Without', 'F_With', 'F_Without'] \n",
    "\n",
    "for col in newcols:\n",
    "    hinsdf[col] = 0\n",
    "\n",
    "for i in males_with:\n",
    "    hinsdf['M_With'] += hinsdf[i]  \n",
    "for i in males_without:\n",
    "    hinsdf['M_Without'] += hinsdf[i]\n",
    "for i in females_with:\n",
    "    hinsdf['F_With'] += hinsdf[i]\n",
    "for i in females_without:\n",
    "    hinsdf['F_Without'] += hinsdf[i]\n",
    "\n",
    "hinsdf['All_With'] = hinsdf.M_With + hinsdf.F_With\n",
    "hinsdf['All_Without'] = hinsdf.M_Without + hinsdf.F_Without\n",
    "\n",
    "# Remove all the individual age group variables\n",
    "# but, save them as a df called hinsdf_extra (just in case)\n",
    "hinsdf_extra = df.loc[:, df.columns[df.columns.str.contains('B27001')].values]\n",
    "hinsdf.drop(df.columns[df.columns.str.contains('B27001')].values, axis=1, inplace=True)"
   ]
  },
  {
   "cell_type": "code",
   "execution_count": 27,
   "metadata": {
    "colab": {
     "base_uri": "https://localhost:8080/",
     "height": 206
    },
    "id": "RcaxN5cU0XVm",
    "outputId": "fc79f53a-4345-4eea-dd86-e3bf4fc98243"
   },
   "outputs": [
    {
     "data": {
      "text/html": [
       "<div>\n",
       "<style scoped>\n",
       "    .dataframe tbody tr th:only-of-type {\n",
       "        vertical-align: middle;\n",
       "    }\n",
       "\n",
       "    .dataframe tbody tr th {\n",
       "        vertical-align: top;\n",
       "    }\n",
       "\n",
       "    .dataframe thead th {\n",
       "        text-align: right;\n",
       "    }\n",
       "</style>\n",
       "<table border=\"1\" class=\"dataframe\">\n",
       "  <thead>\n",
       "    <tr style=\"text-align: right;\">\n",
       "      <th></th>\n",
       "      <th>StateFIPS</th>\n",
       "      <th>CountyFIPS</th>\n",
       "      <th>M_With</th>\n",
       "      <th>M_Without</th>\n",
       "      <th>F_With</th>\n",
       "      <th>F_Without</th>\n",
       "      <th>All_With</th>\n",
       "      <th>All_Without</th>\n",
       "    </tr>\n",
       "  </thead>\n",
       "  <tbody>\n",
       "    <tr>\n",
       "      <th>0</th>\n",
       "      <td>01</td>\n",
       "      <td>001</td>\n",
       "      <td>23500</td>\n",
       "      <td>2781</td>\n",
       "      <td>25417</td>\n",
       "      <td>2727</td>\n",
       "      <td>48917</td>\n",
       "      <td>5508</td>\n",
       "    </tr>\n",
       "    <tr>\n",
       "      <th>1</th>\n",
       "      <td>01</td>\n",
       "      <td>003</td>\n",
       "      <td>79768</td>\n",
       "      <td>13644</td>\n",
       "      <td>88015</td>\n",
       "      <td>11343</td>\n",
       "      <td>167783</td>\n",
       "      <td>24987</td>\n",
       "    </tr>\n",
       "    <tr>\n",
       "      <th>2</th>\n",
       "      <td>01</td>\n",
       "      <td>005</td>\n",
       "      <td>9578</td>\n",
       "      <td>2163</td>\n",
       "      <td>10750</td>\n",
       "      <td>1569</td>\n",
       "      <td>20328</td>\n",
       "      <td>3732</td>\n",
       "    </tr>\n",
       "    <tr>\n",
       "      <th>3</th>\n",
       "      <td>01</td>\n",
       "      <td>007</td>\n",
       "      <td>9342</td>\n",
       "      <td>1012</td>\n",
       "      <td>9421</td>\n",
       "      <td>995</td>\n",
       "      <td>18763</td>\n",
       "      <td>2007</td>\n",
       "    </tr>\n",
       "    <tr>\n",
       "      <th>4</th>\n",
       "      <td>01</td>\n",
       "      <td>009</td>\n",
       "      <td>24629</td>\n",
       "      <td>3642</td>\n",
       "      <td>25922</td>\n",
       "      <td>3017</td>\n",
       "      <td>50551</td>\n",
       "      <td>6659</td>\n",
       "    </tr>\n",
       "  </tbody>\n",
       "</table>\n",
       "</div>"
      ],
      "text/plain": [
       "  StateFIPS CountyFIPS  M_With  M_Without  F_With  F_Without  All_With  \\\n",
       "0        01        001   23500       2781   25417       2727     48917   \n",
       "1        01        003   79768      13644   88015      11343    167783   \n",
       "2        01        005    9578       2163   10750       1569     20328   \n",
       "3        01        007    9342       1012    9421        995     18763   \n",
       "4        01        009   24629       3642   25922       3017     50551   \n",
       "\n",
       "   All_Without  \n",
       "0         5508  \n",
       "1        24987  \n",
       "2         3732  \n",
       "3         2007  \n",
       "4         6659  "
      ]
     },
     "execution_count": 27,
     "metadata": {},
     "output_type": "execute_result"
    }
   ],
   "source": [
    "hinsdf.head()"
   ]
  },
  {
   "cell_type": "markdown",
   "metadata": {
    "id": "nVk6EvLh0XVm"
   },
   "source": [
    "### Merge DataFrames    \n",
    "We're going to merge on the FIPS column. It's a 5-digit code. The first 2 digits are the 2-digit FIPS state code. The third, fourth, and fifth are the 3-digit FIPS county code.\n",
    "\n",
    "1. First, let's create a \"FIPS\" in each dataframe by concatenating the state and county codes.   \n",
    "2. Then, let's check to make sure that they properly match up."
   ]
  },
  {
   "cell_type": "code",
   "execution_count": 28,
   "metadata": {
    "colab": {
     "base_uri": "https://localhost:8080/"
    },
    "id": "vMmOj-s40XVm",
    "outputId": "3e2c50ea-91b3-48cc-9da8-74e6c11b26ec"
   },
   "outputs": [
    {
     "data": {
      "text/plain": [
       "[     state StateFIPS CountyFIPS  All_Poverty  M_Poverty  F_Poverty  \\\n",
       " 0       AK        02        013          553        334        219   \n",
       " 1       AK        02        016          499        273        226   \n",
       " 2       AK        02        020        23914      10698      13216   \n",
       " 3       AK        02        050         4364       2199       2165   \n",
       " 4       AK        02        060           69         33         36   \n",
       " ...    ...       ...        ...          ...        ...        ...   \n",
       " 3137    WY        56        037         5058       2177       2881   \n",
       " 3138    WY        56        039         1638       1026        612   \n",
       " 3139    WY        56        041         2845       1453       1392   \n",
       " 3140    WY        56        043         1137        489        648   \n",
       " 3141    WY        56        045          958        354        604   \n",
       " \n",
       "                         areaname  \n",
       " 0                            NaN  \n",
       " 1                            NaN  \n",
       " 2                            NaN  \n",
       " 3                            NaN  \n",
       " 4                            NaN  \n",
       " ...                          ...  \n",
       " 3137  Sweetwater County, Wyoming  \n",
       " 3138       Teton County, Wyoming  \n",
       " 3139       Uinta County, Wyoming  \n",
       " 3140    Washakie County, Wyoming  \n",
       " 3141      Weston County, Wyoming  \n",
       " \n",
       " [3142 rows x 7 columns],\n",
       "      StateFIPS CountyFIPS Med_Income Med_Income_White Med_Income_Black  \\\n",
       " 0           01        001      51281            56854            32073   \n",
       " 1           01        003      50254            52594            26967   \n",
       " 2           01        005      32964            45039            21171   \n",
       " 3           01        007      38678            42263            27793   \n",
       " 4           01        009      45813            46601            31507   \n",
       " ...        ...        ...        ...              ...              ...   \n",
       " 3108        56        037      69022            69333            23535   \n",
       " 3109        56        039      75325            77651                .   \n",
       " 3110        56        041      56569            56532                .   \n",
       " 3111        56        043      47652            48110                .   \n",
       " 3112        56        045      57738            57842                .   \n",
       " \n",
       "      Med_Income_Nat_Am Med_Income_Asian Hispanic  \n",
       " 0                  NaN             2499    61296  \n",
       " 1                92670            36250    42468  \n",
       " 2                    .              NaN    27132  \n",
       " 3                    .                .    43750  \n",
       " 4                61310              NaN    35271  \n",
       " ...                ...              ...      ...  \n",
       " 3108               NaN              NaN    53175  \n",
       " 3109                 .                .    41619  \n",
       " 3110                 .                .    40194  \n",
       " 3111                 .                .    29740  \n",
       " 3112                 .              NaN    31875  \n",
       " \n",
       " [3113 rows x 8 columns],\n",
       "      StateFIPS CountyFIPS  M_With  M_Without  F_With  F_Without  All_With  \\\n",
       " 0           01        001   23500       2781   25417       2727     48917   \n",
       " 1           01        003   79768      13644   88015      11343    167783   \n",
       " 2           01        005    9578       2163   10750       1569     20328   \n",
       " 3           01        007    9342       1012    9421        995     18763   \n",
       " 4           01        009   24629       3642   25922       3017     50551   \n",
       " ...        ...        ...     ...        ...     ...        ...       ...   \n",
       " 3108        56        037   19891       3318   18600       2683     38491   \n",
       " 3109        56        039    8948       2558    9555       1192     18503   \n",
       " 3110        56        041    9132       1413    8711       1503     17843   \n",
       " 3111        56        043    3349        691    3490        703      6839   \n",
       " 3112        56        045    2927        454    3087        314      6014   \n",
       " \n",
       "       All_Without  \n",
       " 0            5508  \n",
       " 1           24987  \n",
       " 2            3732  \n",
       " 3            2007  \n",
       " 4            6659  \n",
       " ...           ...  \n",
       " 3108         6001  \n",
       " 3109         3750  \n",
       " 3110         2916  \n",
       " 3111         1394  \n",
       " 3112          768  \n",
       " \n",
       " [3113 rows x 8 columns],\n",
       "        FIPS Incidence_Rate Avg_Ann_Incidence\n",
       " 0     00000           62.4            214614\n",
       " 1     01001           74.9                43\n",
       " 2     01003           66.9               170\n",
       " 3     01005           74.6                25\n",
       " 4     01007           86.4                23\n",
       " ...     ...            ...               ...\n",
       " 3136  56037           39.9                14\n",
       " 3137  56039           23.7                 5\n",
       " 3138  56041           31.7                 6\n",
       " 3139  56043             50                 6\n",
       " 3140  56045           44.9                 4\n",
       " \n",
       " [3141 rows x 3 columns],\n",
       "        FIPS Mortality_Rate Avg_Ann_Deaths\n",
       " 0     00000             46        157,376\n",
       " 1     21193          125.6             43\n",
       " 2     21197          125.3             18\n",
       " 3     02185          124.9              5\n",
       " 4     21189          118.5              8\n",
       " ...     ...            ...            ...\n",
       " 3136  02282              *              *\n",
       " 3137  02290              *              *\n",
       " 3138  48505              *              *\n",
       " 3139  48507              *              *\n",
       " 3140  46137              *              *\n",
       " \n",
       " [3141 rows x 3 columns]]"
      ]
     },
     "execution_count": 28,
     "metadata": {},
     "output_type": "execute_result"
    }
   ],
   "source": [
    "dfs = [povdf, incomedf, hinsdf, incddf, mortdf]\n",
    "dfs"
   ]
  },
  {
   "cell_type": "code",
   "execution_count": 29,
   "metadata": {},
   "outputs": [
    {
     "data": {
      "text/plain": [
       "[     state StateFIPS CountyFIPS  All_Poverty  M_Poverty  F_Poverty  \\\n",
       " 0       AK        02        013          553        334        219   \n",
       " 1       AK        02        016          499        273        226   \n",
       " 2       AK        02        020        23914      10698      13216   \n",
       " 3       AK        02        050         4364       2199       2165   \n",
       " 4       AK        02        060           69         33         36   \n",
       " ...    ...       ...        ...          ...        ...        ...   \n",
       " 3137    WY        56        037         5058       2177       2881   \n",
       " 3138    WY        56        039         1638       1026        612   \n",
       " 3139    WY        56        041         2845       1453       1392   \n",
       " 3140    WY        56        043         1137        489        648   \n",
       " 3141    WY        56        045          958        354        604   \n",
       " \n",
       "                         areaname  \n",
       " 0                            NaN  \n",
       " 1                            NaN  \n",
       " 2                            NaN  \n",
       " 3                            NaN  \n",
       " 4                            NaN  \n",
       " ...                          ...  \n",
       " 3137  Sweetwater County, Wyoming  \n",
       " 3138       Teton County, Wyoming  \n",
       " 3139       Uinta County, Wyoming  \n",
       " 3140    Washakie County, Wyoming  \n",
       " 3141      Weston County, Wyoming  \n",
       " \n",
       " [3142 rows x 7 columns],\n",
       "      StateFIPS CountyFIPS Med_Income Med_Income_White Med_Income_Black  \\\n",
       " 0           01        001      51281            56854            32073   \n",
       " 1           01        003      50254            52594            26967   \n",
       " 2           01        005      32964            45039            21171   \n",
       " 3           01        007      38678            42263            27793   \n",
       " 4           01        009      45813            46601            31507   \n",
       " ...        ...        ...        ...              ...              ...   \n",
       " 3108        56        037      69022            69333            23535   \n",
       " 3109        56        039      75325            77651                .   \n",
       " 3110        56        041      56569            56532                .   \n",
       " 3111        56        043      47652            48110                .   \n",
       " 3112        56        045      57738            57842                .   \n",
       " \n",
       "      Med_Income_Nat_Am Med_Income_Asian Hispanic  \n",
       " 0                  NaN             2499    61296  \n",
       " 1                92670            36250    42468  \n",
       " 2                    .              NaN    27132  \n",
       " 3                    .                .    43750  \n",
       " 4                61310              NaN    35271  \n",
       " ...                ...              ...      ...  \n",
       " 3108               NaN              NaN    53175  \n",
       " 3109                 .                .    41619  \n",
       " 3110                 .                .    40194  \n",
       " 3111                 .                .    29740  \n",
       " 3112                 .              NaN    31875  \n",
       " \n",
       " [3113 rows x 8 columns],\n",
       "      StateFIPS CountyFIPS  M_With  M_Without  F_With  F_Without  All_With  \\\n",
       " 0           01        001   23500       2781   25417       2727     48917   \n",
       " 1           01        003   79768      13644   88015      11343    167783   \n",
       " 2           01        005    9578       2163   10750       1569     20328   \n",
       " 3           01        007    9342       1012    9421        995     18763   \n",
       " 4           01        009   24629       3642   25922       3017     50551   \n",
       " ...        ...        ...     ...        ...     ...        ...       ...   \n",
       " 3108        56        037   19891       3318   18600       2683     38491   \n",
       " 3109        56        039    8948       2558    9555       1192     18503   \n",
       " 3110        56        041    9132       1413    8711       1503     17843   \n",
       " 3111        56        043    3349        691    3490        703      6839   \n",
       " 3112        56        045    2927        454    3087        314      6014   \n",
       " \n",
       "       All_Without  \n",
       " 0            5508  \n",
       " 1           24987  \n",
       " 2            3732  \n",
       " 3            2007  \n",
       " 4            6659  \n",
       " ...           ...  \n",
       " 3108         6001  \n",
       " 3109         3750  \n",
       " 3110         2916  \n",
       " 3111         1394  \n",
       " 3112          768  \n",
       " \n",
       " [3113 rows x 8 columns],\n",
       "        FIPS Incidence_Rate Avg_Ann_Incidence\n",
       " 0     00000           62.4            214614\n",
       " 1     01001           74.9                43\n",
       " 2     01003           66.9               170\n",
       " 3     01005           74.6                25\n",
       " 4     01007           86.4                23\n",
       " ...     ...            ...               ...\n",
       " 3136  56037           39.9                14\n",
       " 3137  56039           23.7                 5\n",
       " 3138  56041           31.7                 6\n",
       " 3139  56043             50                 6\n",
       " 3140  56045           44.9                 4\n",
       " \n",
       " [3141 rows x 3 columns],\n",
       "        FIPS Mortality_Rate Avg_Ann_Deaths\n",
       " 0     00000             46        157,376\n",
       " 1     21193          125.6             43\n",
       " 2     21197          125.3             18\n",
       " 3     02185          124.9              5\n",
       " 4     21189          118.5              8\n",
       " ...     ...            ...            ...\n",
       " 3136  02282              *              *\n",
       " 3137  02290              *              *\n",
       " 3138  48505              *              *\n",
       " 3139  48507              *              *\n",
       " 3140  46137              *              *\n",
       " \n",
       " [3141 rows x 3 columns]]"
      ]
     },
     "execution_count": 29,
     "metadata": {},
     "output_type": "execute_result"
    }
   ],
   "source": [
    "dfs"
   ]
  },
  {
   "cell_type": "code",
   "execution_count": 30,
   "metadata": {
    "id": "vdDz6Rqp0XVm"
   },
   "outputs": [],
   "source": [
    "# create FIPS features\n",
    "for df in [povdf, incomedf, hinsdf]:\n",
    "    df['FIPS'] = df.StateFIPS + df.CountyFIPS\n",
    "    df.drop(['StateFIPS', 'CountyFIPS'], axis=1, inplace=True)"
   ]
  },
  {
   "cell_type": "code",
   "execution_count": 31,
   "metadata": {
    "colab": {
     "base_uri": "https://localhost:8080/"
    },
    "id": "SiixCJK30XVm",
    "outputId": "8f29537c-a17e-4124-96e4-7ef11e43a1ac"
   },
   "outputs": [
    {
     "data": {
      "text/plain": [
       "[[0, 0, 3142],\n",
       " [0, 1, 3113],\n",
       " [0, 2, 3113],\n",
       " [0, 3, 3134],\n",
       " [0, 4, 3134],\n",
       " [1, 0, 3113],\n",
       " [1, 1, 3113],\n",
       " [1, 2, 3113],\n",
       " [1, 3, 3111],\n",
       " [1, 4, 3111],\n",
       " [2, 0, 3113],\n",
       " [2, 1, 3113],\n",
       " [2, 2, 3113],\n",
       " [2, 3, 3111],\n",
       " [2, 4, 3111],\n",
       " [3, 0, 3134],\n",
       " [3, 1, 3111],\n",
       " [3, 2, 3111],\n",
       " [3, 3, 3141],\n",
       " [3, 4, 3141],\n",
       " [4, 0, 3134],\n",
       " [4, 1, 3111],\n",
       " [4, 2, 3111],\n",
       " [4, 3, 3141],\n",
       " [4, 4, 3141]]"
      ]
     },
     "execution_count": 31,
     "metadata": {},
     "output_type": "execute_result"
    }
   ],
   "source": [
    "# use the pandas isin() method to see the intersections of FIPS features\n",
    "# across dataframes\n",
    "[[i, ii, sum(pd.Series(j.FIPS.unique()).isin(dfs[ii].FIPS))] \n",
    "    for i, j in enumerate(dfs) for ii in range(len(dfs))]"
   ]
  },
  {
   "cell_type": "code",
   "execution_count": 32,
   "metadata": {
    "colab": {
     "base_uri": "https://localhost:8080/"
    },
    "id": "pNNl3e0j0XVm",
    "outputId": "931ceaa0-6207-4928-c9ee-0b632ce28381"
   },
   "outputs": [
    {
     "name": "stdout",
     "output_type": "stream",
     "text": [
      "3142\n",
      "3113\n",
      "3113\n",
      "3141\n",
      "3141\n"
     ]
    }
   ],
   "source": [
    "# look at the number of unique FIPS values per dataframe\n",
    "for i in dfs:\n",
    "    print(len(i.FIPS.unique()))"
   ]
  },
  {
   "cell_type": "code",
   "execution_count": 34,
   "metadata": {
    "colab": {
     "base_uri": "https://localhost:8080/"
    },
    "id": "fULB02ZS0XVn",
    "outputId": "e55321e2-479d-434d-c880-4d6553f108d4"
   },
   "outputs": [
    {
     "name": "stdout",
     "output_type": "stream",
     "text": [
      "5    3142\n",
      "dtype: int64 \n",
      " ----------\n",
      "5    3113\n",
      "dtype: int64 \n",
      " ----------\n",
      "5    3113\n",
      "dtype: int64 \n",
      " ----------\n",
      "5    3141\n",
      "dtype: int64 \n",
      " ----------\n",
      "5    3141\n",
      "dtype: int64 \n",
      " ----------\n"
     ]
    }
   ],
   "source": [
    "# check to see if all the FIPS values are 5 digits in length\n",
    "dfs = [povdf, incomedf, hinsdf, incddf, mortdf] # our 5 dataframes to merge\n",
    "for i, j in enumerate(dfs):\n",
    "    lens = []\n",
    "    for fips in j.FIPS.values:\n",
    "        lens.append(len(fips))\n",
    "    print(pd.Series(lens).value_counts(), '\\n', '-'*10)    "
   ]
  },
  {
   "cell_type": "markdown",
   "metadata": {
    "id": "3gPDYUmV0XVn"
   },
   "source": [
    "It appears that the FIPS column in each dataframe is formatted well and they match up. Next, we will join them together into one large dataframe."
   ]
  },
  {
   "cell_type": "code",
   "execution_count": 35,
   "metadata": {
    "colab": {
     "base_uri": "https://localhost:8080/",
     "height": 835
    },
    "id": "V78LtcgP0XVn",
    "outputId": "12f0b591-eca9-431d-f250-c4174340cdd1"
   },
   "outputs": [
    {
     "data": {
      "text/html": [
       "<div>\n",
       "<style scoped>\n",
       "    .dataframe tbody tr th:only-of-type {\n",
       "        vertical-align: middle;\n",
       "    }\n",
       "\n",
       "    .dataframe tbody tr th {\n",
       "        vertical-align: top;\n",
       "    }\n",
       "\n",
       "    .dataframe thead th {\n",
       "        text-align: right;\n",
       "    }\n",
       "</style>\n",
       "<table border=\"1\" class=\"dataframe\">\n",
       "  <thead>\n",
       "    <tr style=\"text-align: right;\">\n",
       "      <th></th>\n",
       "      <th>state</th>\n",
       "      <th>All_Poverty</th>\n",
       "      <th>M_Poverty</th>\n",
       "      <th>F_Poverty</th>\n",
       "      <th>areaname</th>\n",
       "      <th>FIPS</th>\n",
       "      <th>Med_Income</th>\n",
       "      <th>Med_Income_White</th>\n",
       "      <th>Med_Income_Black</th>\n",
       "      <th>Med_Income_Nat_Am</th>\n",
       "      <th>...</th>\n",
       "      <th>M_With</th>\n",
       "      <th>M_Without</th>\n",
       "      <th>F_With</th>\n",
       "      <th>F_Without</th>\n",
       "      <th>All_With</th>\n",
       "      <th>All_Without</th>\n",
       "      <th>Incidence_Rate</th>\n",
       "      <th>Avg_Ann_Incidence</th>\n",
       "      <th>Mortality_Rate</th>\n",
       "      <th>Avg_Ann_Deaths</th>\n",
       "    </tr>\n",
       "  </thead>\n",
       "  <tbody>\n",
       "    <tr>\n",
       "      <th>0</th>\n",
       "      <td>AL</td>\n",
       "      <td>7057</td>\n",
       "      <td>2983</td>\n",
       "      <td>4074</td>\n",
       "      <td>Autauga County, Alabama</td>\n",
       "      <td>01001</td>\n",
       "      <td>51281</td>\n",
       "      <td>56854</td>\n",
       "      <td>32073</td>\n",
       "      <td>NaN</td>\n",
       "      <td>...</td>\n",
       "      <td>23500</td>\n",
       "      <td>2781</td>\n",
       "      <td>25417</td>\n",
       "      <td>2727</td>\n",
       "      <td>48917</td>\n",
       "      <td>5508</td>\n",
       "      <td>74.9</td>\n",
       "      <td>43</td>\n",
       "      <td>59.3</td>\n",
       "      <td>34</td>\n",
       "    </tr>\n",
       "    <tr>\n",
       "      <th>1</th>\n",
       "      <td>AL</td>\n",
       "      <td>25798</td>\n",
       "      <td>12018</td>\n",
       "      <td>13780</td>\n",
       "      <td>Baldwin County, Alabama</td>\n",
       "      <td>01003</td>\n",
       "      <td>50254</td>\n",
       "      <td>52594</td>\n",
       "      <td>26967</td>\n",
       "      <td>92670</td>\n",
       "      <td>...</td>\n",
       "      <td>79768</td>\n",
       "      <td>13644</td>\n",
       "      <td>88015</td>\n",
       "      <td>11343</td>\n",
       "      <td>167783</td>\n",
       "      <td>24987</td>\n",
       "      <td>66.9</td>\n",
       "      <td>170</td>\n",
       "      <td>48</td>\n",
       "      <td>121</td>\n",
       "    </tr>\n",
       "    <tr>\n",
       "      <th>2</th>\n",
       "      <td>AL</td>\n",
       "      <td>6421</td>\n",
       "      <td>2856</td>\n",
       "      <td>3565</td>\n",
       "      <td>Barbour County, Alabama</td>\n",
       "      <td>01005</td>\n",
       "      <td>32964</td>\n",
       "      <td>45039</td>\n",
       "      <td>21171</td>\n",
       "      <td>.</td>\n",
       "      <td>...</td>\n",
       "      <td>9578</td>\n",
       "      <td>2163</td>\n",
       "      <td>10750</td>\n",
       "      <td>1569</td>\n",
       "      <td>20328</td>\n",
       "      <td>3732</td>\n",
       "      <td>74.6</td>\n",
       "      <td>25</td>\n",
       "      <td>61.3</td>\n",
       "      <td>20</td>\n",
       "    </tr>\n",
       "    <tr>\n",
       "      <th>3</th>\n",
       "      <td>AL</td>\n",
       "      <td>3488</td>\n",
       "      <td>1495</td>\n",
       "      <td>1993</td>\n",
       "      <td>Bibb County, Alabama</td>\n",
       "      <td>01007</td>\n",
       "      <td>38678</td>\n",
       "      <td>42263</td>\n",
       "      <td>27793</td>\n",
       "      <td>.</td>\n",
       "      <td>...</td>\n",
       "      <td>9342</td>\n",
       "      <td>1012</td>\n",
       "      <td>9421</td>\n",
       "      <td>995</td>\n",
       "      <td>18763</td>\n",
       "      <td>2007</td>\n",
       "      <td>86.4</td>\n",
       "      <td>23</td>\n",
       "      <td>67.8</td>\n",
       "      <td>17</td>\n",
       "    </tr>\n",
       "    <tr>\n",
       "      <th>4</th>\n",
       "      <td>AL</td>\n",
       "      <td>9552</td>\n",
       "      <td>4593</td>\n",
       "      <td>4959</td>\n",
       "      <td>Blount County, Alabama</td>\n",
       "      <td>01009</td>\n",
       "      <td>45813</td>\n",
       "      <td>46601</td>\n",
       "      <td>31507</td>\n",
       "      <td>61310</td>\n",
       "      <td>...</td>\n",
       "      <td>24629</td>\n",
       "      <td>3642</td>\n",
       "      <td>25922</td>\n",
       "      <td>3017</td>\n",
       "      <td>50551</td>\n",
       "      <td>6659</td>\n",
       "      <td>69.7</td>\n",
       "      <td>51</td>\n",
       "      <td>59.9</td>\n",
       "      <td>43</td>\n",
       "    </tr>\n",
       "    <tr>\n",
       "      <th>...</th>\n",
       "      <td>...</td>\n",
       "      <td>...</td>\n",
       "      <td>...</td>\n",
       "      <td>...</td>\n",
       "      <td>...</td>\n",
       "      <td>...</td>\n",
       "      <td>...</td>\n",
       "      <td>...</td>\n",
       "      <td>...</td>\n",
       "      <td>...</td>\n",
       "      <td>...</td>\n",
       "      <td>...</td>\n",
       "      <td>...</td>\n",
       "      <td>...</td>\n",
       "      <td>...</td>\n",
       "      <td>...</td>\n",
       "      <td>...</td>\n",
       "      <td>...</td>\n",
       "      <td>...</td>\n",
       "      <td>...</td>\n",
       "      <td>...</td>\n",
       "    </tr>\n",
       "    <tr>\n",
       "      <th>3106</th>\n",
       "      <td>WY</td>\n",
       "      <td>5058</td>\n",
       "      <td>2177</td>\n",
       "      <td>2881</td>\n",
       "      <td>Sweetwater County, Wyoming</td>\n",
       "      <td>56037</td>\n",
       "      <td>69022</td>\n",
       "      <td>69333</td>\n",
       "      <td>23535</td>\n",
       "      <td>NaN</td>\n",
       "      <td>...</td>\n",
       "      <td>19891</td>\n",
       "      <td>3318</td>\n",
       "      <td>18600</td>\n",
       "      <td>2683</td>\n",
       "      <td>38491</td>\n",
       "      <td>6001</td>\n",
       "      <td>39.9</td>\n",
       "      <td>14</td>\n",
       "      <td>28.4</td>\n",
       "      <td>9</td>\n",
       "    </tr>\n",
       "    <tr>\n",
       "      <th>3107</th>\n",
       "      <td>WY</td>\n",
       "      <td>1638</td>\n",
       "      <td>1026</td>\n",
       "      <td>612</td>\n",
       "      <td>Teton County, Wyoming</td>\n",
       "      <td>56039</td>\n",
       "      <td>75325</td>\n",
       "      <td>77651</td>\n",
       "      <td>.</td>\n",
       "      <td>.</td>\n",
       "      <td>...</td>\n",
       "      <td>8948</td>\n",
       "      <td>2558</td>\n",
       "      <td>9555</td>\n",
       "      <td>1192</td>\n",
       "      <td>18503</td>\n",
       "      <td>3750</td>\n",
       "      <td>23.7</td>\n",
       "      <td>5</td>\n",
       "      <td>29.1</td>\n",
       "      <td>5</td>\n",
       "    </tr>\n",
       "    <tr>\n",
       "      <th>3108</th>\n",
       "      <td>WY</td>\n",
       "      <td>2845</td>\n",
       "      <td>1453</td>\n",
       "      <td>1392</td>\n",
       "      <td>Uinta County, Wyoming</td>\n",
       "      <td>56041</td>\n",
       "      <td>56569</td>\n",
       "      <td>56532</td>\n",
       "      <td>.</td>\n",
       "      <td>.</td>\n",
       "      <td>...</td>\n",
       "      <td>9132</td>\n",
       "      <td>1413</td>\n",
       "      <td>8711</td>\n",
       "      <td>1503</td>\n",
       "      <td>17843</td>\n",
       "      <td>2916</td>\n",
       "      <td>31.7</td>\n",
       "      <td>6</td>\n",
       "      <td>22.1</td>\n",
       "      <td>4</td>\n",
       "    </tr>\n",
       "    <tr>\n",
       "      <th>3109</th>\n",
       "      <td>WY</td>\n",
       "      <td>1137</td>\n",
       "      <td>489</td>\n",
       "      <td>648</td>\n",
       "      <td>Washakie County, Wyoming</td>\n",
       "      <td>56043</td>\n",
       "      <td>47652</td>\n",
       "      <td>48110</td>\n",
       "      <td>.</td>\n",
       "      <td>.</td>\n",
       "      <td>...</td>\n",
       "      <td>3349</td>\n",
       "      <td>691</td>\n",
       "      <td>3490</td>\n",
       "      <td>703</td>\n",
       "      <td>6839</td>\n",
       "      <td>1394</td>\n",
       "      <td>50</td>\n",
       "      <td>6</td>\n",
       "      <td>38.2</td>\n",
       "      <td>5</td>\n",
       "    </tr>\n",
       "    <tr>\n",
       "      <th>3110</th>\n",
       "      <td>WY</td>\n",
       "      <td>958</td>\n",
       "      <td>354</td>\n",
       "      <td>604</td>\n",
       "      <td>Weston County, Wyoming</td>\n",
       "      <td>56045</td>\n",
       "      <td>57738</td>\n",
       "      <td>57842</td>\n",
       "      <td>.</td>\n",
       "      <td>.</td>\n",
       "      <td>...</td>\n",
       "      <td>2927</td>\n",
       "      <td>454</td>\n",
       "      <td>3087</td>\n",
       "      <td>314</td>\n",
       "      <td>6014</td>\n",
       "      <td>768</td>\n",
       "      <td>44.9</td>\n",
       "      <td>4</td>\n",
       "      <td>43.5</td>\n",
       "      <td>4</td>\n",
       "    </tr>\n",
       "  </tbody>\n",
       "</table>\n",
       "<p>3111 rows × 22 columns</p>\n",
       "</div>"
      ],
      "text/plain": [
       "     state  All_Poverty  M_Poverty  F_Poverty                    areaname  \\\n",
       "0       AL         7057       2983       4074     Autauga County, Alabama   \n",
       "1       AL        25798      12018      13780     Baldwin County, Alabama   \n",
       "2       AL         6421       2856       3565     Barbour County, Alabama   \n",
       "3       AL         3488       1495       1993        Bibb County, Alabama   \n",
       "4       AL         9552       4593       4959      Blount County, Alabama   \n",
       "...    ...          ...        ...        ...                         ...   \n",
       "3106    WY         5058       2177       2881  Sweetwater County, Wyoming   \n",
       "3107    WY         1638       1026        612       Teton County, Wyoming   \n",
       "3108    WY         2845       1453       1392       Uinta County, Wyoming   \n",
       "3109    WY         1137        489        648    Washakie County, Wyoming   \n",
       "3110    WY          958        354        604      Weston County, Wyoming   \n",
       "\n",
       "       FIPS Med_Income Med_Income_White Med_Income_Black Med_Income_Nat_Am  \\\n",
       "0     01001      51281            56854            32073               NaN   \n",
       "1     01003      50254            52594            26967             92670   \n",
       "2     01005      32964            45039            21171                 .   \n",
       "3     01007      38678            42263            27793                 .   \n",
       "4     01009      45813            46601            31507             61310   \n",
       "...     ...        ...              ...              ...               ...   \n",
       "3106  56037      69022            69333            23535               NaN   \n",
       "3107  56039      75325            77651                .                 .   \n",
       "3108  56041      56569            56532                .                 .   \n",
       "3109  56043      47652            48110                .                 .   \n",
       "3110  56045      57738            57842                .                 .   \n",
       "\n",
       "      ... M_With M_Without  F_With  F_Without  All_With  All_Without  \\\n",
       "0     ...  23500      2781   25417       2727     48917         5508   \n",
       "1     ...  79768     13644   88015      11343    167783        24987   \n",
       "2     ...   9578      2163   10750       1569     20328         3732   \n",
       "3     ...   9342      1012    9421        995     18763         2007   \n",
       "4     ...  24629      3642   25922       3017     50551         6659   \n",
       "...   ...    ...       ...     ...        ...       ...          ...   \n",
       "3106  ...  19891      3318   18600       2683     38491         6001   \n",
       "3107  ...   8948      2558    9555       1192     18503         3750   \n",
       "3108  ...   9132      1413    8711       1503     17843         2916   \n",
       "3109  ...   3349       691    3490        703      6839         1394   \n",
       "3110  ...   2927       454    3087        314      6014          768   \n",
       "\n",
       "      Incidence_Rate  Avg_Ann_Incidence Mortality_Rate Avg_Ann_Deaths  \n",
       "0               74.9                 43           59.3             34  \n",
       "1               66.9                170             48            121  \n",
       "2               74.6                 25           61.3             20  \n",
       "3               86.4                 23           67.8             17  \n",
       "4               69.7                 51           59.9             43  \n",
       "...              ...                ...            ...            ...  \n",
       "3106            39.9                 14           28.4              9  \n",
       "3107            23.7                  5           29.1              5  \n",
       "3108            31.7                  6           22.1              4  \n",
       "3109              50                  6           38.2              5  \n",
       "3110            44.9                  4           43.5              4  \n",
       "\n",
       "[3111 rows x 22 columns]"
      ]
     },
     "execution_count": 35,
     "metadata": {},
     "output_type": "execute_result"
    }
   ],
   "source": [
    "for i, j in enumerate(dfs):\n",
    "    if i == 0:\n",
    "        fulldf = j.copy()\n",
    "    else:\n",
    "        fulldf = fulldf.merge(j, how='inner', on='FIPS')\n",
    "fulldf"
   ]
  },
  {
   "cell_type": "markdown",
   "metadata": {
    "id": "iX9TSQPl0XVn"
   },
   "source": [
    "# 2. Perform Exploratory Analysis"
   ]
  },
  {
   "cell_type": "code",
   "execution_count": 36,
   "metadata": {
    "colab": {
     "base_uri": "https://localhost:8080/"
    },
    "id": "jZ6ymXIp0XVn",
    "outputId": "0d79093d-6c9c-4c4d-85f9-4c46e3c29d8d"
   },
   "outputs": [
    {
     "data": {
      "text/plain": [
       "(3111, 22)"
      ]
     },
     "execution_count": 36,
     "metadata": {},
     "output_type": "execute_result"
    }
   ],
   "source": [
    "fulldf.shape"
   ]
  },
  {
   "cell_type": "code",
   "execution_count": 37,
   "metadata": {
    "colab": {
     "base_uri": "https://localhost:8080/",
     "height": 473
    },
    "id": "BLyzN_Yf0XVn",
    "outputId": "e2250a7f-979e-4d14-e332-39ab28dc2cde"
   },
   "outputs": [
    {
     "data": {
      "text/html": [
       "<div>\n",
       "<style scoped>\n",
       "    .dataframe tbody tr th:only-of-type {\n",
       "        vertical-align: middle;\n",
       "    }\n",
       "\n",
       "    .dataframe tbody tr th {\n",
       "        vertical-align: top;\n",
       "    }\n",
       "\n",
       "    .dataframe thead th {\n",
       "        text-align: right;\n",
       "    }\n",
       "</style>\n",
       "<table border=\"1\" class=\"dataframe\">\n",
       "  <thead>\n",
       "    <tr style=\"text-align: right;\">\n",
       "      <th></th>\n",
       "      <th>state</th>\n",
       "      <th>All_Poverty</th>\n",
       "      <th>M_Poverty</th>\n",
       "      <th>F_Poverty</th>\n",
       "      <th>areaname</th>\n",
       "      <th>FIPS</th>\n",
       "      <th>Med_Income</th>\n",
       "      <th>Med_Income_White</th>\n",
       "      <th>Med_Income_Black</th>\n",
       "      <th>Med_Income_Nat_Am</th>\n",
       "      <th>...</th>\n",
       "      <th>M_With</th>\n",
       "      <th>M_Without</th>\n",
       "      <th>F_With</th>\n",
       "      <th>F_Without</th>\n",
       "      <th>All_With</th>\n",
       "      <th>All_Without</th>\n",
       "      <th>Incidence_Rate</th>\n",
       "      <th>Avg_Ann_Incidence</th>\n",
       "      <th>Mortality_Rate</th>\n",
       "      <th>Avg_Ann_Deaths</th>\n",
       "    </tr>\n",
       "  </thead>\n",
       "  <tbody>\n",
       "    <tr>\n",
       "      <th>0</th>\n",
       "      <td>AL</td>\n",
       "      <td>7057</td>\n",
       "      <td>2983</td>\n",
       "      <td>4074</td>\n",
       "      <td>Autauga County, Alabama</td>\n",
       "      <td>01001</td>\n",
       "      <td>51281</td>\n",
       "      <td>56854</td>\n",
       "      <td>32073</td>\n",
       "      <td>NaN</td>\n",
       "      <td>...</td>\n",
       "      <td>23500</td>\n",
       "      <td>2781</td>\n",
       "      <td>25417</td>\n",
       "      <td>2727</td>\n",
       "      <td>48917</td>\n",
       "      <td>5508</td>\n",
       "      <td>74.9</td>\n",
       "      <td>43</td>\n",
       "      <td>59.3</td>\n",
       "      <td>34</td>\n",
       "    </tr>\n",
       "    <tr>\n",
       "      <th>1</th>\n",
       "      <td>AL</td>\n",
       "      <td>25798</td>\n",
       "      <td>12018</td>\n",
       "      <td>13780</td>\n",
       "      <td>Baldwin County, Alabama</td>\n",
       "      <td>01003</td>\n",
       "      <td>50254</td>\n",
       "      <td>52594</td>\n",
       "      <td>26967</td>\n",
       "      <td>92670</td>\n",
       "      <td>...</td>\n",
       "      <td>79768</td>\n",
       "      <td>13644</td>\n",
       "      <td>88015</td>\n",
       "      <td>11343</td>\n",
       "      <td>167783</td>\n",
       "      <td>24987</td>\n",
       "      <td>66.9</td>\n",
       "      <td>170</td>\n",
       "      <td>48</td>\n",
       "      <td>121</td>\n",
       "    </tr>\n",
       "    <tr>\n",
       "      <th>2</th>\n",
       "      <td>AL</td>\n",
       "      <td>6421</td>\n",
       "      <td>2856</td>\n",
       "      <td>3565</td>\n",
       "      <td>Barbour County, Alabama</td>\n",
       "      <td>01005</td>\n",
       "      <td>32964</td>\n",
       "      <td>45039</td>\n",
       "      <td>21171</td>\n",
       "      <td>.</td>\n",
       "      <td>...</td>\n",
       "      <td>9578</td>\n",
       "      <td>2163</td>\n",
       "      <td>10750</td>\n",
       "      <td>1569</td>\n",
       "      <td>20328</td>\n",
       "      <td>3732</td>\n",
       "      <td>74.6</td>\n",
       "      <td>25</td>\n",
       "      <td>61.3</td>\n",
       "      <td>20</td>\n",
       "    </tr>\n",
       "    <tr>\n",
       "      <th>3</th>\n",
       "      <td>AL</td>\n",
       "      <td>3488</td>\n",
       "      <td>1495</td>\n",
       "      <td>1993</td>\n",
       "      <td>Bibb County, Alabama</td>\n",
       "      <td>01007</td>\n",
       "      <td>38678</td>\n",
       "      <td>42263</td>\n",
       "      <td>27793</td>\n",
       "      <td>.</td>\n",
       "      <td>...</td>\n",
       "      <td>9342</td>\n",
       "      <td>1012</td>\n",
       "      <td>9421</td>\n",
       "      <td>995</td>\n",
       "      <td>18763</td>\n",
       "      <td>2007</td>\n",
       "      <td>86.4</td>\n",
       "      <td>23</td>\n",
       "      <td>67.8</td>\n",
       "      <td>17</td>\n",
       "    </tr>\n",
       "    <tr>\n",
       "      <th>4</th>\n",
       "      <td>AL</td>\n",
       "      <td>9552</td>\n",
       "      <td>4593</td>\n",
       "      <td>4959</td>\n",
       "      <td>Blount County, Alabama</td>\n",
       "      <td>01009</td>\n",
       "      <td>45813</td>\n",
       "      <td>46601</td>\n",
       "      <td>31507</td>\n",
       "      <td>61310</td>\n",
       "      <td>...</td>\n",
       "      <td>24629</td>\n",
       "      <td>3642</td>\n",
       "      <td>25922</td>\n",
       "      <td>3017</td>\n",
       "      <td>50551</td>\n",
       "      <td>6659</td>\n",
       "      <td>69.7</td>\n",
       "      <td>51</td>\n",
       "      <td>59.9</td>\n",
       "      <td>43</td>\n",
       "    </tr>\n",
       "  </tbody>\n",
       "</table>\n",
       "<p>5 rows × 22 columns</p>\n",
       "</div>"
      ],
      "text/plain": [
       "  state  All_Poverty  M_Poverty  F_Poverty                 areaname   FIPS  \\\n",
       "0    AL         7057       2983       4074  Autauga County, Alabama  01001   \n",
       "1    AL        25798      12018      13780  Baldwin County, Alabama  01003   \n",
       "2    AL         6421       2856       3565  Barbour County, Alabama  01005   \n",
       "3    AL         3488       1495       1993     Bibb County, Alabama  01007   \n",
       "4    AL         9552       4593       4959   Blount County, Alabama  01009   \n",
       "\n",
       "  Med_Income Med_Income_White Med_Income_Black Med_Income_Nat_Am  ... M_With  \\\n",
       "0      51281            56854            32073               NaN  ...  23500   \n",
       "1      50254            52594            26967             92670  ...  79768   \n",
       "2      32964            45039            21171                 .  ...   9578   \n",
       "3      38678            42263            27793                 .  ...   9342   \n",
       "4      45813            46601            31507             61310  ...  24629   \n",
       "\n",
       "  M_Without  F_With  F_Without  All_With  All_Without  Incidence_Rate  \\\n",
       "0      2781   25417       2727     48917         5508            74.9   \n",
       "1     13644   88015      11343    167783        24987            66.9   \n",
       "2      2163   10750       1569     20328         3732            74.6   \n",
       "3      1012    9421        995     18763         2007            86.4   \n",
       "4      3642   25922       3017     50551         6659            69.7   \n",
       "\n",
       "   Avg_Ann_Incidence Mortality_Rate Avg_Ann_Deaths  \n",
       "0                 43           59.3             34  \n",
       "1                170             48            121  \n",
       "2                 25           61.3             20  \n",
       "3                 23           67.8             17  \n",
       "4                 51           59.9             43  \n",
       "\n",
       "[5 rows x 22 columns]"
      ]
     },
     "execution_count": 37,
     "metadata": {},
     "output_type": "execute_result"
    }
   ],
   "source": [
    "fulldf.head()"
   ]
  },
  {
   "cell_type": "code",
   "execution_count": 38,
   "metadata": {},
   "outputs": [
    {
     "name": "stdout",
     "output_type": "stream",
     "text": [
      "<class 'pandas.core.frame.DataFrame'>\n",
      "Int64Index: 3111 entries, 0 to 3110\n",
      "Data columns (total 22 columns):\n",
      " #   Column             Non-Null Count  Dtype \n",
      "---  ------             --------------  ----- \n",
      " 0   state              3111 non-null   object\n",
      " 1   All_Poverty        3111 non-null   int64 \n",
      " 2   M_Poverty          3111 non-null   int64 \n",
      " 3   F_Poverty          3111 non-null   int64 \n",
      " 4   areaname           3111 non-null   object\n",
      " 5   FIPS               3111 non-null   object\n",
      " 6   Med_Income         3110 non-null   object\n",
      " 7   Med_Income_White   3109 non-null   object\n",
      " 8   Med_Income_Black   2812 non-null   object\n",
      " 9   Med_Income_Nat_Am  2603 non-null   object\n",
      " 10  Med_Income_Asian   2673 non-null   object\n",
      " 11  Hispanic           2700 non-null   object\n",
      " 12  M_With             3111 non-null   int64 \n",
      " 13  M_Without          3111 non-null   int64 \n",
      " 14  F_With             3111 non-null   int64 \n",
      " 15  F_Without          3111 non-null   int64 \n",
      " 16  All_With           3111 non-null   int64 \n",
      " 17  All_Without        3111 non-null   int64 \n",
      " 18  Incidence_Rate     3111 non-null   object\n",
      " 19  Avg_Ann_Incidence  3111 non-null   object\n",
      " 20  Mortality_Rate     3111 non-null   object\n",
      " 21  Avg_Ann_Deaths     3111 non-null   object\n",
      "dtypes: int64(9), object(13)\n",
      "memory usage: 559.0+ KB\n"
     ]
    }
   ],
   "source": [
    "fulldf.info()"
   ]
  },
  {
   "cell_type": "code",
   "execution_count": 39,
   "metadata": {
    "colab": {
     "base_uri": "https://localhost:8080/"
    },
    "id": "6NKMAzjn0XVn",
    "outputId": "c8e984dd-2746-4931-8311-547db85ff755"
   },
   "outputs": [
    {
     "name": "stdout",
     "output_type": "stream",
     "text": [
      "('state', 0)\n",
      "('All_Poverty', 0)\n",
      "('M_Poverty', 0)\n",
      "('F_Poverty', 0)\n",
      "('areaname', 0)\n",
      "('FIPS', 0)\n",
      "('Med_Income', 1)\n",
      "('Med_Income_White', 2)\n",
      "('Med_Income_Black', 299)\n",
      "('Med_Income_Nat_Am', 508)\n",
      "('Med_Income_Asian', 438)\n",
      "('Hispanic', 411)\n",
      "('M_With', 0)\n",
      "('M_Without', 0)\n",
      "('F_With', 0)\n",
      "('F_Without', 0)\n",
      "('All_With', 0)\n",
      "('All_Without', 0)\n",
      "('Incidence_Rate', 0)\n",
      "('Avg_Ann_Incidence', 0)\n",
      "('Mortality_Rate', 0)\n",
      "('Avg_Ann_Deaths', 0)\n"
     ]
    }
   ],
   "source": [
    "# check for null values\n",
    "for col in fulldf.columns:\n",
    "    print((col, sum(fulldf[col].isnull())))"
   ]
  },
  {
   "cell_type": "markdown",
   "metadata": {
    "id": "Z0FRH7XG0XVo"
   },
   "source": [
    "The median income by ethnicity data is incomplete. We won't use them in our analysis."
   ]
  },
  {
   "cell_type": "code",
   "execution_count": 40,
   "metadata": {
    "id": "Fnhym8FP0XVo"
   },
   "outputs": [],
   "source": [
    "fulldf.drop(['Med_Income_White', 'Med_Income_Black', 'Med_Income_Nat_Am',\n",
    "             'Med_Income_Asian', 'Hispanic'], axis=1, inplace=True)"
   ]
  },
  {
   "cell_type": "markdown",
   "metadata": {
    "id": "oAnN5S3_0XVo"
   },
   "source": [
    "Let's create a data dictionary"
   ]
  },
  {
   "cell_type": "code",
   "execution_count": 41,
   "metadata": {
    "colab": {
     "base_uri": "https://localhost:8080/",
     "height": 380
    },
    "id": "KyGSVx780XVo",
    "outputId": "4575bac1-cd93-4f69-ea01-f455377d7e4d"
   },
   "outputs": [
    {
     "ename": "ValueError",
     "evalue": "Length of values does not match length of index",
     "output_type": "error",
     "traceback": [
      "\u001b[1;31m---------------------------------------------------------------------------\u001b[0m",
      "\u001b[1;31mValueError\u001b[0m                                Traceback (most recent call last)",
      "\u001b[1;32m<ipython-input-41-7d34c75bf529>\u001b[0m in \u001b[0;36m<module>\u001b[1;34m\u001b[0m\n\u001b[0;32m      8\u001b[0m                            \u001b[1;34m'Males an Females without health ins (Raw)'\u001b[0m\u001b[1;33m,\u001b[0m \u001b[1;34m'Lung cancer incidence rate (per 100,000)'\u001b[0m\u001b[1;33m,\u001b[0m\u001b[1;33m\u001b[0m\u001b[1;33m\u001b[0m\u001b[0m\n\u001b[0;32m      9\u001b[0m                            \u001b[1;34m'Average lung cancer incidence rate (Raw)'\u001b[0m\u001b[1;33m,\u001b[0m \u001b[1;34m'Recent trend (incidence)'\u001b[0m\u001b[1;33m,\u001b[0m\u001b[1;33m\u001b[0m\u001b[1;33m\u001b[0m\u001b[0m\n\u001b[1;32m---> 10\u001b[1;33m                            'Lung cancer mortality rate (per 100,000)', 'Average lung cancer mortalities (Raw)']\n\u001b[0m\u001b[0;32m     11\u001b[0m \u001b[1;33m\u001b[0m\u001b[0m\n\u001b[0;32m     12\u001b[0m \u001b[0mdata_dict\u001b[0m\u001b[1;33m[\u001b[0m\u001b[1;34m'Notes'\u001b[0m\u001b[1;33m]\u001b[0m \u001b[1;33m=\u001b[0m \u001b[1;34m''\u001b[0m\u001b[1;33m\u001b[0m\u001b[1;33m\u001b[0m\u001b[0m\n",
      "\u001b[1;32m~\\Anaconda3\\lib\\site-packages\\pandas\\core\\frame.py\u001b[0m in \u001b[0;36m__setitem__\u001b[1;34m(self, key, value)\u001b[0m\n\u001b[0;32m   2936\u001b[0m         \u001b[1;32melse\u001b[0m\u001b[1;33m:\u001b[0m\u001b[1;33m\u001b[0m\u001b[1;33m\u001b[0m\u001b[0m\n\u001b[0;32m   2937\u001b[0m             \u001b[1;31m# set column\u001b[0m\u001b[1;33m\u001b[0m\u001b[1;33m\u001b[0m\u001b[1;33m\u001b[0m\u001b[0m\n\u001b[1;32m-> 2938\u001b[1;33m             \u001b[0mself\u001b[0m\u001b[1;33m.\u001b[0m\u001b[0m_set_item\u001b[0m\u001b[1;33m(\u001b[0m\u001b[0mkey\u001b[0m\u001b[1;33m,\u001b[0m \u001b[0mvalue\u001b[0m\u001b[1;33m)\u001b[0m\u001b[1;33m\u001b[0m\u001b[1;33m\u001b[0m\u001b[0m\n\u001b[0m\u001b[0;32m   2939\u001b[0m \u001b[1;33m\u001b[0m\u001b[0m\n\u001b[0;32m   2940\u001b[0m     \u001b[1;32mdef\u001b[0m \u001b[0m_setitem_slice\u001b[0m\u001b[1;33m(\u001b[0m\u001b[0mself\u001b[0m\u001b[1;33m,\u001b[0m \u001b[0mkey\u001b[0m\u001b[1;33m,\u001b[0m \u001b[0mvalue\u001b[0m\u001b[1;33m)\u001b[0m\u001b[1;33m:\u001b[0m\u001b[1;33m\u001b[0m\u001b[1;33m\u001b[0m\u001b[0m\n",
      "\u001b[1;32m~\\Anaconda3\\lib\\site-packages\\pandas\\core\\frame.py\u001b[0m in \u001b[0;36m_set_item\u001b[1;34m(self, key, value)\u001b[0m\n\u001b[0;32m   2998\u001b[0m \u001b[1;33m\u001b[0m\u001b[0m\n\u001b[0;32m   2999\u001b[0m         \u001b[0mself\u001b[0m\u001b[1;33m.\u001b[0m\u001b[0m_ensure_valid_index\u001b[0m\u001b[1;33m(\u001b[0m\u001b[0mvalue\u001b[0m\u001b[1;33m)\u001b[0m\u001b[1;33m\u001b[0m\u001b[1;33m\u001b[0m\u001b[0m\n\u001b[1;32m-> 3000\u001b[1;33m         \u001b[0mvalue\u001b[0m \u001b[1;33m=\u001b[0m \u001b[0mself\u001b[0m\u001b[1;33m.\u001b[0m\u001b[0m_sanitize_column\u001b[0m\u001b[1;33m(\u001b[0m\u001b[0mkey\u001b[0m\u001b[1;33m,\u001b[0m \u001b[0mvalue\u001b[0m\u001b[1;33m)\u001b[0m\u001b[1;33m\u001b[0m\u001b[1;33m\u001b[0m\u001b[0m\n\u001b[0m\u001b[0;32m   3001\u001b[0m         \u001b[0mNDFrame\u001b[0m\u001b[1;33m.\u001b[0m\u001b[0m_set_item\u001b[0m\u001b[1;33m(\u001b[0m\u001b[0mself\u001b[0m\u001b[1;33m,\u001b[0m \u001b[0mkey\u001b[0m\u001b[1;33m,\u001b[0m \u001b[0mvalue\u001b[0m\u001b[1;33m)\u001b[0m\u001b[1;33m\u001b[0m\u001b[1;33m\u001b[0m\u001b[0m\n\u001b[0;32m   3002\u001b[0m \u001b[1;33m\u001b[0m\u001b[0m\n",
      "\u001b[1;32m~\\Anaconda3\\lib\\site-packages\\pandas\\core\\frame.py\u001b[0m in \u001b[0;36m_sanitize_column\u001b[1;34m(self, key, value, broadcast)\u001b[0m\n\u001b[0;32m   3634\u001b[0m \u001b[1;33m\u001b[0m\u001b[0m\n\u001b[0;32m   3635\u001b[0m             \u001b[1;31m# turn me into an ndarray\u001b[0m\u001b[1;33m\u001b[0m\u001b[1;33m\u001b[0m\u001b[1;33m\u001b[0m\u001b[0m\n\u001b[1;32m-> 3636\u001b[1;33m             \u001b[0mvalue\u001b[0m \u001b[1;33m=\u001b[0m \u001b[0msanitize_index\u001b[0m\u001b[1;33m(\u001b[0m\u001b[0mvalue\u001b[0m\u001b[1;33m,\u001b[0m \u001b[0mself\u001b[0m\u001b[1;33m.\u001b[0m\u001b[0mindex\u001b[0m\u001b[1;33m,\u001b[0m \u001b[0mcopy\u001b[0m\u001b[1;33m=\u001b[0m\u001b[1;32mFalse\u001b[0m\u001b[1;33m)\u001b[0m\u001b[1;33m\u001b[0m\u001b[1;33m\u001b[0m\u001b[0m\n\u001b[0m\u001b[0;32m   3637\u001b[0m             \u001b[1;32mif\u001b[0m \u001b[1;32mnot\u001b[0m \u001b[0misinstance\u001b[0m\u001b[1;33m(\u001b[0m\u001b[0mvalue\u001b[0m\u001b[1;33m,\u001b[0m \u001b[1;33m(\u001b[0m\u001b[0mnp\u001b[0m\u001b[1;33m.\u001b[0m\u001b[0mndarray\u001b[0m\u001b[1;33m,\u001b[0m \u001b[0mIndex\u001b[0m\u001b[1;33m)\u001b[0m\u001b[1;33m)\u001b[0m\u001b[1;33m:\u001b[0m\u001b[1;33m\u001b[0m\u001b[1;33m\u001b[0m\u001b[0m\n\u001b[0;32m   3638\u001b[0m                 \u001b[1;32mif\u001b[0m \u001b[0misinstance\u001b[0m\u001b[1;33m(\u001b[0m\u001b[0mvalue\u001b[0m\u001b[1;33m,\u001b[0m \u001b[0mlist\u001b[0m\u001b[1;33m)\u001b[0m \u001b[1;32mand\u001b[0m \u001b[0mlen\u001b[0m\u001b[1;33m(\u001b[0m\u001b[0mvalue\u001b[0m\u001b[1;33m)\u001b[0m \u001b[1;33m>\u001b[0m \u001b[1;36m0\u001b[0m\u001b[1;33m:\u001b[0m\u001b[1;33m\u001b[0m\u001b[1;33m\u001b[0m\u001b[0m\n",
      "\u001b[1;32m~\\Anaconda3\\lib\\site-packages\\pandas\\core\\internals\\construction.py\u001b[0m in \u001b[0;36msanitize_index\u001b[1;34m(data, index, copy)\u001b[0m\n\u001b[0;32m    609\u001b[0m \u001b[1;33m\u001b[0m\u001b[0m\n\u001b[0;32m    610\u001b[0m     \u001b[1;32mif\u001b[0m \u001b[0mlen\u001b[0m\u001b[1;33m(\u001b[0m\u001b[0mdata\u001b[0m\u001b[1;33m)\u001b[0m \u001b[1;33m!=\u001b[0m \u001b[0mlen\u001b[0m\u001b[1;33m(\u001b[0m\u001b[0mindex\u001b[0m\u001b[1;33m)\u001b[0m\u001b[1;33m:\u001b[0m\u001b[1;33m\u001b[0m\u001b[1;33m\u001b[0m\u001b[0m\n\u001b[1;32m--> 611\u001b[1;33m         \u001b[1;32mraise\u001b[0m \u001b[0mValueError\u001b[0m\u001b[1;33m(\u001b[0m\u001b[1;34m\"Length of values does not match length of index\"\u001b[0m\u001b[1;33m)\u001b[0m\u001b[1;33m\u001b[0m\u001b[1;33m\u001b[0m\u001b[0m\n\u001b[0m\u001b[0;32m    612\u001b[0m \u001b[1;33m\u001b[0m\u001b[0m\n\u001b[0;32m    613\u001b[0m     \u001b[1;32mif\u001b[0m \u001b[0misinstance\u001b[0m\u001b[1;33m(\u001b[0m\u001b[0mdata\u001b[0m\u001b[1;33m,\u001b[0m \u001b[0mABCIndexClass\u001b[0m\u001b[1;33m)\u001b[0m \u001b[1;32mand\u001b[0m \u001b[1;32mnot\u001b[0m \u001b[0mcopy\u001b[0m\u001b[1;33m:\u001b[0m\u001b[1;33m\u001b[0m\u001b[1;33m\u001b[0m\u001b[0m\n",
      "\u001b[1;31mValueError\u001b[0m: Length of values does not match length of index"
     ]
    }
   ],
   "source": [
    "data_dict = pd.DataFrame(fulldf.columns.values, index=range(len(fulldf.columns)), columns=['Feature'])\n",
    "\n",
    "data_dict['Definition'] = ['','','Both male and female reported below poverty line (Raw)', \n",
    "                           'Males below poverty (Raw)', 'Females below poverty (Raw)', 'State + County FIPS (Raw)',\n",
    "                           'Med_Income all enthnicities (Raw)', 'Males with health insurance (Raw)',\n",
    "                           'Males without health insurance (Raw)', 'Females with health insurance (Raw)',\n",
    "                           'Females without health insurance (Raw)', 'Males and Femaes with health ins. (Raw)',\n",
    "                           'Males an Females without health ins (Raw)', 'Lung cancer incidence rate (per 100,000)',\n",
    "                           'Average lung cancer incidence rate (Raw)', 'Recent trend (incidence)', \n",
    "                           'Lung cancer mortality rate (per 100,000)', 'Average lung cancer mortalities (Raw)']\n",
    "\n",
    "data_dict['Notes'] = ''\n",
    "data_dict.loc[[13,16], 'Notes'] = \"'*' = fewer that 16 reported cases\"\n",
    "\n",
    "data_dict"
   ]
  },
  {
   "cell_type": "markdown",
   "metadata": {
    "id": "Ei_xZRak0XVo"
   },
   "source": [
    "Next, we need to format all of our numeric features as numeric objects (rather than strings or other types).    \n",
    "Let's take a closer look."
   ]
  },
  {
   "cell_type": "code",
   "execution_count": 50,
   "metadata": {
    "id": "WlJXNKX60XVo"
   },
   "outputs": [
    {
     "name": "stdout",
     "output_type": "stream",
     "text": [
      "state\n",
      " <class 'str'>    3111\n",
      "dtype: int64 \n",
      " ------------------------------\n",
      "All_Poverty\n",
      " <class 'int'>    3111\n",
      "dtype: int64 \n",
      " ------------------------------\n",
      "M_Poverty\n",
      " <class 'int'>    3111\n",
      "dtype: int64 \n",
      " ------------------------------\n",
      "F_Poverty\n",
      " <class 'int'>    3111\n",
      "dtype: int64 \n",
      " ------------------------------\n",
      "areaname\n",
      " <class 'str'>    3111\n",
      "dtype: int64 \n",
      " ------------------------------\n",
      "FIPS\n",
      " <class 'str'>    3111\n",
      "dtype: int64 \n",
      " ------------------------------\n",
      "Med_Income\n",
      " <class 'str'>      2886\n",
      "<class 'float'>     224\n",
      "<class 'int'>         1\n",
      "dtype: int64 \n",
      " ------------------------------\n",
      "M_With\n",
      " <class 'int'>    3111\n",
      "dtype: int64 \n",
      " ------------------------------\n",
      "M_Without\n",
      " <class 'int'>    3111\n",
      "dtype: int64 \n",
      " ------------------------------\n",
      "F_With\n",
      " <class 'int'>    3111\n",
      "dtype: int64 \n",
      " ------------------------------\n",
      "F_Without\n",
      " <class 'int'>    3111\n",
      "dtype: int64 \n",
      " ------------------------------\n",
      "All_With\n",
      " <class 'int'>    3111\n",
      "dtype: int64 \n",
      " ------------------------------\n",
      "All_Without\n",
      " <class 'int'>    3111\n",
      "dtype: int64 \n",
      " ------------------------------\n",
      "Incidence_Rate\n",
      " <class 'str'>    3111\n",
      "dtype: int64 \n",
      " ------------------------------\n",
      "Avg_Ann_Incidence\n",
      " <class 'str'>    3111\n",
      "dtype: int64 \n",
      " ------------------------------\n",
      "Mortality_Rate\n",
      " <class 'str'>    3111\n",
      "dtype: int64 \n",
      " ------------------------------\n",
      "Avg_Ann_Deaths\n",
      " <class 'str'>    3111\n",
      "dtype: int64 \n",
      " ------------------------------\n"
     ]
    }
   ],
   "source": [
    "def get_types(col_name):\n",
    "    ts = (pd.Series([type(i) for i in fulldf[col_name]]).value_counts())\n",
    "    print(\"%s\\n\" % feature, ts, \"\\n\", \"-\"*30)\n",
    "\n",
    "for feature in fulldf.columns:\n",
    "    get_types(feature)"
   ]
  },
  {
   "cell_type": "markdown",
   "metadata": {
    "id": "HJ8OzPGd0XVo"
   },
   "source": [
    "### These columns need to be fixed: Med_Income, Incidence_Rate, Avg_Ann_Incidence, Mortality_Rate, Avg_Ann_Deaths"
   ]
  },
  {
   "cell_type": "code",
   "execution_count": 51,
   "metadata": {
    "id": "jJHkuiFx0XVp"
   },
   "outputs": [
    {
     "name": "stdout",
     "output_type": "stream",
     "text": [
      "*    314\n",
      "dtype: int64\n"
     ]
    }
   ],
   "source": [
    "# Mortality_Rate\n",
    "# This script isolates values that fail to convert to numeric\n",
    "def f(column):\n",
    "    types = []\n",
    "    for _, j in enumerate(column):\n",
    "        try:\n",
    "            pd.to_numeric(j)\n",
    "            \n",
    "        except:\n",
    "            types.append(j)\n",
    "    print(pd.Series(types).value_counts())\n",
    "\n",
    "f(fulldf.Mortality_Rate)\n"
   ]
  },
  {
   "cell_type": "markdown",
   "metadata": {
    "id": "zycY971h0XVp"
   },
   "source": [
    "*325* of the Mortality_Rate samples contain an asterisk, which represents a suppression of the data in instances when fewer then 16 annual cases were reported.     \n",
    "     \n",
    "### We have to decide what to do with the 325 counties which reported fewer than 16 deaths and have missing mortality rate values (*).    \n",
    "* Is the fact that fewer than 16 cases were reported due to poor reporting? In that case we may want to delete those observations. Or, we may want to try to impute the values.    \n",
    "* Do we think these data points are accurate? In that case we may want to change \"*\" to zero, or a number smaller than 16.    \n",
    "* If the observations are actually valid and we remove them, then we add bias to the model.    \n",
    "* If the observations are noise, then we should either delete them or impute them.    \n",
    "\n",
    "The key here is to make in informed decision and to prepare an explanation and defense of why we made that decision.    \n",
    "Let us explore the data to inform our decision."
   ]
  },
  {
   "cell_type": "code",
   "execution_count": 52,
   "metadata": {
    "id": "g6_TeihE0XVp"
   },
   "outputs": [
    {
     "data": {
      "text/plain": [
       "Series([], Name: state, dtype: int64)"
      ]
     },
     "execution_count": 52,
     "metadata": {},
     "output_type": "execute_result"
    }
   ],
   "source": [
    "# which states are associated with the \"*\"s?\n",
    "fulldf.loc[fulldf.Incidence_Rate=='*', 'state'].value_counts()"
   ]
  },
  {
   "cell_type": "code",
   "execution_count": 53,
   "metadata": {
    "id": "7N67HGsr0XVp"
   },
   "outputs": [
    {
     "name": "stdout",
     "output_type": "stream",
     "text": [
      "min 9.2 max 125.6\n"
     ]
    },
    {
     "data": {
      "text/plain": [
       "<matplotlib.axes._subplots.AxesSubplot at 0x1e225014548>"
      ]
     },
     "execution_count": 53,
     "metadata": {},
     "output_type": "execute_result"
    },
    {
     "data": {
      "image/png": "[encoded data removed]",
      "text/plain": [
       "<Figure size 432x288 with 1 Axes>"
      ]
     },
     "metadata": {
      "needs_background": "light"
     },
     "output_type": "display_data"
    }
   ],
   "source": [
    "# Plot the histogram to see how exceptional a low rate of mortality is\n",
    "mhist = pd.to_numeric(fulldf.Mortality_Rate[fulldf.Mortality_Rate != '*'])\n",
    "print(\"min\", mhist.min(), \"max\", mhist.max())\n",
    "#mhist.hist(figsize={14,7}, bins=20)\n",
    "mhist.hist(bins=20)\n"
   ]
  },
  {
   "cell_type": "markdown",
   "metadata": {
    "id": "RWSr2tFk0XVp"
   },
   "source": [
    "If we can show that the counties with asterisks are all low population, then we should treat them as valid and replace them with a low value (eg, 8). If they're not all low-population, then that may suggest that it's noise and we should remove these observations.      \n",
    "\n",
    "Let us go ahead and bring in some population by county data.  We will grab 3 columns from the dataset: 'POPESTIMATE2015', 'STATE', & 'COUNTY'"
   ]
  },
  {
   "cell_type": "code",
   "execution_count": 55,
   "metadata": {
    "id": "CqANbXlv0XVp"
   },
   "outputs": [],
   "source": [
    "\n",
    "cols = ['POPESTIMATE2015', 'STATE', 'COUNTY']\n",
    "\n",
    "populationdf = pd.read_csv(\"Cancer Analysis Data Files/CO-EST2015-alldata.csv\",encoding = \"ISO-8859-1\")\n"
   ]
  },
  {
   "cell_type": "code",
   "execution_count": 56,
   "metadata": {
    "id": "iYE3qTGL0XVq"
   },
   "outputs": [
    {
     "data": {
      "text/plain": [
       "(3193, 100)"
      ]
     },
     "execution_count": 56,
     "metadata": {},
     "output_type": "execute_result"
    }
   ],
   "source": [
    "populationdf.shape"
   ]
  },
  {
   "cell_type": "code",
   "execution_count": 57,
   "metadata": {
    "id": "ET-n50r70XVq"
   },
   "outputs": [
    {
     "data": {
      "text/html": [
       "<div>\n",
       "<style scoped>\n",
       "    .dataframe tbody tr th:only-of-type {\n",
       "        vertical-align: middle;\n",
       "    }\n",
       "\n",
       "    .dataframe tbody tr th {\n",
       "        vertical-align: top;\n",
       "    }\n",
       "\n",
       "    .dataframe thead th {\n",
       "        text-align: right;\n",
       "    }\n",
       "</style>\n",
       "<table border=\"1\" class=\"dataframe\">\n",
       "  <thead>\n",
       "    <tr style=\"text-align: right;\">\n",
       "      <th></th>\n",
       "      <th>SUMLEV</th>\n",
       "      <th>REGION</th>\n",
       "      <th>DIVISION</th>\n",
       "      <th>STATE</th>\n",
       "      <th>COUNTY</th>\n",
       "      <th>STNAME</th>\n",
       "      <th>CTYNAME</th>\n",
       "      <th>CENSUS2010POP</th>\n",
       "      <th>ESTIMATESBASE2010</th>\n",
       "      <th>POPESTIMATE2010</th>\n",
       "      <th>...</th>\n",
       "      <th>RDOMESTICMIG2011</th>\n",
       "      <th>RDOMESTICMIG2012</th>\n",
       "      <th>RDOMESTICMIG2013</th>\n",
       "      <th>RDOMESTICMIG2014</th>\n",
       "      <th>RDOMESTICMIG2015</th>\n",
       "      <th>RNETMIG2011</th>\n",
       "      <th>RNETMIG2012</th>\n",
       "      <th>RNETMIG2013</th>\n",
       "      <th>RNETMIG2014</th>\n",
       "      <th>RNETMIG2015</th>\n",
       "    </tr>\n",
       "  </thead>\n",
       "  <tbody>\n",
       "    <tr>\n",
       "      <th>0</th>\n",
       "      <td>40</td>\n",
       "      <td>3</td>\n",
       "      <td>6</td>\n",
       "      <td>1</td>\n",
       "      <td>0</td>\n",
       "      <td>Alabama</td>\n",
       "      <td>Alabama</td>\n",
       "      <td>4779736</td>\n",
       "      <td>4780127</td>\n",
       "      <td>4785161</td>\n",
       "      <td>...</td>\n",
       "      <td>0.002295</td>\n",
       "      <td>-0.193196</td>\n",
       "      <td>0.381066</td>\n",
       "      <td>0.582002</td>\n",
       "      <td>-0.467369</td>\n",
       "      <td>1.030015</td>\n",
       "      <td>0.826644</td>\n",
       "      <td>1.383282</td>\n",
       "      <td>1.724718</td>\n",
       "      <td>0.712594</td>\n",
       "    </tr>\n",
       "    <tr>\n",
       "      <th>1</th>\n",
       "      <td>50</td>\n",
       "      <td>3</td>\n",
       "      <td>6</td>\n",
       "      <td>1</td>\n",
       "      <td>1</td>\n",
       "      <td>Alabama</td>\n",
       "      <td>Autauga County</td>\n",
       "      <td>54571</td>\n",
       "      <td>54571</td>\n",
       "      <td>54660</td>\n",
       "      <td>...</td>\n",
       "      <td>7.242091</td>\n",
       "      <td>-2.915927</td>\n",
       "      <td>-3.012349</td>\n",
       "      <td>2.265971</td>\n",
       "      <td>-2.530799</td>\n",
       "      <td>7.606016</td>\n",
       "      <td>-2.626146</td>\n",
       "      <td>-2.722002</td>\n",
       "      <td>2.592270</td>\n",
       "      <td>-2.187333</td>\n",
       "    </tr>\n",
       "    <tr>\n",
       "      <th>2</th>\n",
       "      <td>50</td>\n",
       "      <td>3</td>\n",
       "      <td>6</td>\n",
       "      <td>1</td>\n",
       "      <td>3</td>\n",
       "      <td>Alabama</td>\n",
       "      <td>Baldwin County</td>\n",
       "      <td>182265</td>\n",
       "      <td>182265</td>\n",
       "      <td>183193</td>\n",
       "      <td>...</td>\n",
       "      <td>14.832960</td>\n",
       "      <td>17.647293</td>\n",
       "      <td>21.845705</td>\n",
       "      <td>19.243287</td>\n",
       "      <td>17.197872</td>\n",
       "      <td>15.844176</td>\n",
       "      <td>18.559627</td>\n",
       "      <td>22.727626</td>\n",
       "      <td>20.317142</td>\n",
       "      <td>18.293499</td>\n",
       "    </tr>\n",
       "    <tr>\n",
       "      <th>3</th>\n",
       "      <td>50</td>\n",
       "      <td>3</td>\n",
       "      <td>6</td>\n",
       "      <td>1</td>\n",
       "      <td>5</td>\n",
       "      <td>Alabama</td>\n",
       "      <td>Barbour County</td>\n",
       "      <td>27457</td>\n",
       "      <td>27457</td>\n",
       "      <td>27341</td>\n",
       "      <td>...</td>\n",
       "      <td>-4.728132</td>\n",
       "      <td>-2.500690</td>\n",
       "      <td>-7.056824</td>\n",
       "      <td>-3.904217</td>\n",
       "      <td>-10.543299</td>\n",
       "      <td>-4.874741</td>\n",
       "      <td>-2.758113</td>\n",
       "      <td>-7.167664</td>\n",
       "      <td>-3.978583</td>\n",
       "      <td>-10.543299</td>\n",
       "    </tr>\n",
       "    <tr>\n",
       "      <th>4</th>\n",
       "      <td>50</td>\n",
       "      <td>3</td>\n",
       "      <td>6</td>\n",
       "      <td>1</td>\n",
       "      <td>7</td>\n",
       "      <td>Alabama</td>\n",
       "      <td>Bibb County</td>\n",
       "      <td>22915</td>\n",
       "      <td>22919</td>\n",
       "      <td>22861</td>\n",
       "      <td>...</td>\n",
       "      <td>-5.527043</td>\n",
       "      <td>-5.068871</td>\n",
       "      <td>-6.201001</td>\n",
       "      <td>-0.177537</td>\n",
       "      <td>0.177258</td>\n",
       "      <td>-5.088389</td>\n",
       "      <td>-4.363636</td>\n",
       "      <td>-5.403729</td>\n",
       "      <td>0.754533</td>\n",
       "      <td>1.107861</td>\n",
       "    </tr>\n",
       "  </tbody>\n",
       "</table>\n",
       "<p>5 rows × 100 columns</p>\n",
       "</div>"
      ],
      "text/plain": [
       "   SUMLEV  REGION  DIVISION  STATE  COUNTY   STNAME         CTYNAME  \\\n",
       "0      40       3         6      1       0  Alabama         Alabama   \n",
       "1      50       3         6      1       1  Alabama  Autauga County   \n",
       "2      50       3         6      1       3  Alabama  Baldwin County   \n",
       "3      50       3         6      1       5  Alabama  Barbour County   \n",
       "4      50       3         6      1       7  Alabama     Bibb County   \n",
       "\n",
       "   CENSUS2010POP  ESTIMATESBASE2010  POPESTIMATE2010  ...  RDOMESTICMIG2011  \\\n",
       "0        4779736            4780127          4785161  ...          0.002295   \n",
       "1          54571              54571            54660  ...          7.242091   \n",
       "2         182265             182265           183193  ...         14.832960   \n",
       "3          27457              27457            27341  ...         -4.728132   \n",
       "4          22915              22919            22861  ...         -5.527043   \n",
       "\n",
       "   RDOMESTICMIG2012  RDOMESTICMIG2013  RDOMESTICMIG2014  RDOMESTICMIG2015  \\\n",
       "0         -0.193196          0.381066          0.582002         -0.467369   \n",
       "1         -2.915927         -3.012349          2.265971         -2.530799   \n",
       "2         17.647293         21.845705         19.243287         17.197872   \n",
       "3         -2.500690         -7.056824         -3.904217        -10.543299   \n",
       "4         -5.068871         -6.201001         -0.177537          0.177258   \n",
       "\n",
       "   RNETMIG2011  RNETMIG2012  RNETMIG2013  RNETMIG2014  RNETMIG2015  \n",
       "0     1.030015     0.826644     1.383282     1.724718     0.712594  \n",
       "1     7.606016    -2.626146    -2.722002     2.592270    -2.187333  \n",
       "2    15.844176    18.559627    22.727626    20.317142    18.293499  \n",
       "3    -4.874741    -2.758113    -7.167664    -3.978583   -10.543299  \n",
       "4    -5.088389    -4.363636    -5.403729     0.754533     1.107861  \n",
       "\n",
       "[5 rows x 100 columns]"
      ]
     },
     "execution_count": 57,
     "metadata": {},
     "output_type": "execute_result"
    }
   ],
   "source": [
    "populationdf.head()"
   ]
  },
  {
   "cell_type": "markdown",
   "metadata": {
    "id": "fUuw9fdA0XVq"
   },
   "source": [
    "We have to generate a \"FIPS\" column by adding leading zeros and concatenating STATE and COUNTY"
   ]
  },
  {
   "cell_type": "code",
   "execution_count": 58,
   "metadata": {
    "id": "Wg9V8DmO0XVq"
   },
   "outputs": [
    {
     "data": {
      "text/html": [
       "<div>\n",
       "<style scoped>\n",
       "    .dataframe tbody tr th:only-of-type {\n",
       "        vertical-align: middle;\n",
       "    }\n",
       "\n",
       "    .dataframe tbody tr th {\n",
       "        vertical-align: top;\n",
       "    }\n",
       "\n",
       "    .dataframe thead th {\n",
       "        text-align: right;\n",
       "    }\n",
       "</style>\n",
       "<table border=\"1\" class=\"dataframe\">\n",
       "  <thead>\n",
       "    <tr style=\"text-align: right;\">\n",
       "      <th></th>\n",
       "      <th>SUMLEV</th>\n",
       "      <th>REGION</th>\n",
       "      <th>DIVISION</th>\n",
       "      <th>STATE</th>\n",
       "      <th>COUNTY</th>\n",
       "      <th>STNAME</th>\n",
       "      <th>CTYNAME</th>\n",
       "      <th>CENSUS2010POP</th>\n",
       "      <th>ESTIMATESBASE2010</th>\n",
       "      <th>POPESTIMATE2010</th>\n",
       "      <th>...</th>\n",
       "      <th>RDOMESTICMIG2012</th>\n",
       "      <th>RDOMESTICMIG2013</th>\n",
       "      <th>RDOMESTICMIG2014</th>\n",
       "      <th>RDOMESTICMIG2015</th>\n",
       "      <th>RNETMIG2011</th>\n",
       "      <th>RNETMIG2012</th>\n",
       "      <th>RNETMIG2013</th>\n",
       "      <th>RNETMIG2014</th>\n",
       "      <th>RNETMIG2015</th>\n",
       "      <th>FIPS</th>\n",
       "    </tr>\n",
       "  </thead>\n",
       "  <tbody>\n",
       "    <tr>\n",
       "      <th>0</th>\n",
       "      <td>40</td>\n",
       "      <td>3</td>\n",
       "      <td>6</td>\n",
       "      <td>1</td>\n",
       "      <td>0</td>\n",
       "      <td>Alabama</td>\n",
       "      <td>Alabama</td>\n",
       "      <td>4779736</td>\n",
       "      <td>4780127</td>\n",
       "      <td>4785161</td>\n",
       "      <td>...</td>\n",
       "      <td>-0.193196</td>\n",
       "      <td>0.381066</td>\n",
       "      <td>0.582002</td>\n",
       "      <td>-0.467369</td>\n",
       "      <td>1.030015</td>\n",
       "      <td>0.826644</td>\n",
       "      <td>1.383282</td>\n",
       "      <td>1.724718</td>\n",
       "      <td>0.712594</td>\n",
       "      <td>01000</td>\n",
       "    </tr>\n",
       "    <tr>\n",
       "      <th>1</th>\n",
       "      <td>50</td>\n",
       "      <td>3</td>\n",
       "      <td>6</td>\n",
       "      <td>1</td>\n",
       "      <td>1</td>\n",
       "      <td>Alabama</td>\n",
       "      <td>Autauga County</td>\n",
       "      <td>54571</td>\n",
       "      <td>54571</td>\n",
       "      <td>54660</td>\n",
       "      <td>...</td>\n",
       "      <td>-2.915927</td>\n",
       "      <td>-3.012349</td>\n",
       "      <td>2.265971</td>\n",
       "      <td>-2.530799</td>\n",
       "      <td>7.606016</td>\n",
       "      <td>-2.626146</td>\n",
       "      <td>-2.722002</td>\n",
       "      <td>2.592270</td>\n",
       "      <td>-2.187333</td>\n",
       "      <td>01001</td>\n",
       "    </tr>\n",
       "    <tr>\n",
       "      <th>2</th>\n",
       "      <td>50</td>\n",
       "      <td>3</td>\n",
       "      <td>6</td>\n",
       "      <td>1</td>\n",
       "      <td>3</td>\n",
       "      <td>Alabama</td>\n",
       "      <td>Baldwin County</td>\n",
       "      <td>182265</td>\n",
       "      <td>182265</td>\n",
       "      <td>183193</td>\n",
       "      <td>...</td>\n",
       "      <td>17.647293</td>\n",
       "      <td>21.845705</td>\n",
       "      <td>19.243287</td>\n",
       "      <td>17.197872</td>\n",
       "      <td>15.844176</td>\n",
       "      <td>18.559627</td>\n",
       "      <td>22.727626</td>\n",
       "      <td>20.317142</td>\n",
       "      <td>18.293499</td>\n",
       "      <td>01003</td>\n",
       "    </tr>\n",
       "    <tr>\n",
       "      <th>3</th>\n",
       "      <td>50</td>\n",
       "      <td>3</td>\n",
       "      <td>6</td>\n",
       "      <td>1</td>\n",
       "      <td>5</td>\n",
       "      <td>Alabama</td>\n",
       "      <td>Barbour County</td>\n",
       "      <td>27457</td>\n",
       "      <td>27457</td>\n",
       "      <td>27341</td>\n",
       "      <td>...</td>\n",
       "      <td>-2.500690</td>\n",
       "      <td>-7.056824</td>\n",
       "      <td>-3.904217</td>\n",
       "      <td>-10.543299</td>\n",
       "      <td>-4.874741</td>\n",
       "      <td>-2.758113</td>\n",
       "      <td>-7.167664</td>\n",
       "      <td>-3.978583</td>\n",
       "      <td>-10.543299</td>\n",
       "      <td>01005</td>\n",
       "    </tr>\n",
       "    <tr>\n",
       "      <th>4</th>\n",
       "      <td>50</td>\n",
       "      <td>3</td>\n",
       "      <td>6</td>\n",
       "      <td>1</td>\n",
       "      <td>7</td>\n",
       "      <td>Alabama</td>\n",
       "      <td>Bibb County</td>\n",
       "      <td>22915</td>\n",
       "      <td>22919</td>\n",
       "      <td>22861</td>\n",
       "      <td>...</td>\n",
       "      <td>-5.068871</td>\n",
       "      <td>-6.201001</td>\n",
       "      <td>-0.177537</td>\n",
       "      <td>0.177258</td>\n",
       "      <td>-5.088389</td>\n",
       "      <td>-4.363636</td>\n",
       "      <td>-5.403729</td>\n",
       "      <td>0.754533</td>\n",
       "      <td>1.107861</td>\n",
       "      <td>01007</td>\n",
       "    </tr>\n",
       "  </tbody>\n",
       "</table>\n",
       "<p>5 rows × 101 columns</p>\n",
       "</div>"
      ],
      "text/plain": [
       "   SUMLEV  REGION  DIVISION  STATE  COUNTY   STNAME         CTYNAME  \\\n",
       "0      40       3         6      1       0  Alabama         Alabama   \n",
       "1      50       3         6      1       1  Alabama  Autauga County   \n",
       "2      50       3         6      1       3  Alabama  Baldwin County   \n",
       "3      50       3         6      1       5  Alabama  Barbour County   \n",
       "4      50       3         6      1       7  Alabama     Bibb County   \n",
       "\n",
       "   CENSUS2010POP  ESTIMATESBASE2010  POPESTIMATE2010  ...  RDOMESTICMIG2012  \\\n",
       "0        4779736            4780127          4785161  ...         -0.193196   \n",
       "1          54571              54571            54660  ...         -2.915927   \n",
       "2         182265             182265           183193  ...         17.647293   \n",
       "3          27457              27457            27341  ...         -2.500690   \n",
       "4          22915              22919            22861  ...         -5.068871   \n",
       "\n",
       "   RDOMESTICMIG2013  RDOMESTICMIG2014  RDOMESTICMIG2015  RNETMIG2011  \\\n",
       "0          0.381066          0.582002         -0.467369     1.030015   \n",
       "1         -3.012349          2.265971         -2.530799     7.606016   \n",
       "2         21.845705         19.243287         17.197872    15.844176   \n",
       "3         -7.056824         -3.904217        -10.543299    -4.874741   \n",
       "4         -6.201001         -0.177537          0.177258    -5.088389   \n",
       "\n",
       "   RNETMIG2012  RNETMIG2013  RNETMIG2014  RNETMIG2015   FIPS  \n",
       "0     0.826644     1.383282     1.724718     0.712594  01000  \n",
       "1    -2.626146    -2.722002     2.592270    -2.187333  01001  \n",
       "2    18.559627    22.727626    20.317142    18.293499  01003  \n",
       "3    -2.758113    -7.167664    -3.978583   -10.543299  01005  \n",
       "4    -4.363636    -5.403729     0.754533     1.107861  01007  \n",
       "\n",
       "[5 rows x 101 columns]"
      ]
     },
     "execution_count": 58,
     "metadata": {},
     "output_type": "execute_result"
    }
   ],
   "source": [
    "state = populationdf.STATE.apply(lambda x: str(x))\\\n",
    "                          .str.pad(2, 'left', '0')\n",
    "county = populationdf.COUNTY.apply(lambda x: str(x))\\\n",
    "                            .str.pad(3, 'left', '0')\n",
    "\n",
    "populationdf['FIPS'] = state + county\n",
    "\n",
    "populationdf.head()"
   ]
  },
  {
   "cell_type": "markdown",
   "metadata": {
    "id": "gQMuhfVi0XVq"
   },
   "source": [
    "Let's merge our population data"
   ]
  },
  {
   "cell_type": "code",
   "execution_count": 59,
   "metadata": {
    "id": "0PMULLTv0XVq"
   },
   "outputs": [
    {
     "name": "stdout",
     "output_type": "stream",
     "text": [
      "3111 matches out of\n",
      "3193 unique values\n"
     ]
    }
   ],
   "source": [
    "# first, let's check to see that the FIPS columns match up properly\n",
    "print(sum(pd.Series(populationdf.FIPS.unique()).isin(fulldf.FIPS)), 'matches out of')\n",
    "print(\"%d unique values\" % len(populationdf.FIPS.unique()))"
   ]
  },
  {
   "cell_type": "markdown",
   "metadata": {
    "id": "Fu0kTjFU0XVq"
   },
   "source": [
    "There are more rows in the population dataframe, with 59 FIPS codes in the population dataframe not found in the other dataframe. Let us check in the other direction."
   ]
  },
  {
   "cell_type": "code",
   "execution_count": 60,
   "metadata": {
    "id": "bc7tqaja0XVr"
   },
   "outputs": [
    {
     "name": "stdout",
     "output_type": "stream",
     "text": [
      "3111 matches out of\n",
      "3111 unique values\n"
     ]
    }
   ],
   "source": [
    "print(sum(pd.Series(fulldf.FIPS.unique()).isin(populationdf.FIPS)), 'matches out of')\n",
    "print(\"%d unique values\" % len(fulldf.FIPS.unique()))"
   ]
  },
  {
   "cell_type": "markdown",
   "metadata": {
    "id": "tDrS6Uq00XVr"
   },
   "source": [
    "This shows that all 3134 FIPS values in our full dataframe match with the population dataframe. We can merge the population data and check if the counties whose mortality rates are reported with asterisks are low population."
   ]
  },
  {
   "cell_type": "code",
   "execution_count": 61,
   "metadata": {
    "id": "vwz1aI2x0XVr"
   },
   "outputs": [],
   "source": [
    "fulldf = fulldf.merge(populationdf[['FIPS', 'POPESTIMATE2015']], on='FIPS', how='inner')"
   ]
  },
  {
   "cell_type": "code",
   "execution_count": 62,
   "metadata": {
    "id": "pF02lD4e0XVr"
   },
   "outputs": [
    {
     "name": "stdout",
     "output_type": "stream",
     "text": [
      "median, mean population:         25859.0, 103049.9\n",
      "median, mean population '*':      2981.0,   3922.3\n",
      "median, mean population not '*': 31212.0, 114178.3\n"
     ]
    }
   ],
   "source": [
    "\n",
    "# Find median as reference point\n",
    "fulldf.POPESTIMATE2015.median()\n",
    "print(\"median, mean population:         %.1f, %.1f\" % (fulldf.POPESTIMATE2015.median(),\n",
    "                                         fulldf.POPESTIMATE2015.mean()))\n",
    "print(\"median, mean population '*':      %.1f,   %.1f\" % (fulldf.POPESTIMATE2015[fulldf.Mortality_Rate == '*'].median(),\n",
    "                                            fulldf.POPESTIMATE2015[fulldf.Mortality_Rate == '*'].mean()))\n",
    "print(\"median, mean population not '*': %.1f, %.1f\" % (fulldf.POPESTIMATE2015[fulldf.Mortality_Rate != '*'].median(),\n",
    "                                                fulldf.POPESTIMATE2015[fulldf.Mortality_Rate != '*'].mean()))"
   ]
  },
  {
   "cell_type": "code",
   "execution_count": 63,
   "metadata": {
    "id": "m_8gPS3i0XVr"
   },
   "outputs": [
    {
     "data": {
      "image/png": "[encoded data removed]",
      "text/plain": [
       "<Figure size 576x216 with 1 Axes>"
      ]
     },
     "metadata": {
      "needs_background": "light"
     },
     "output_type": "display_data"
    }
   ],
   "source": [
    "fulldf.POPESTIMATE2015[fulldf.Mortality_Rate == '*'].hist(figsize=(8,3), bins=30);"
   ]
  },
  {
   "cell_type": "markdown",
   "metadata": {
    "id": "KJt57iv50XVr"
   },
   "source": [
    "Yes, the counties with asterisks are definitely lower in population than those without. But,we need to check if they actually had no lung cancer mortalities. It is possible that the low population counties may be less likely to keep and report good data. We need to examine further."
   ]
  },
  {
   "cell_type": "code",
   "execution_count": 64,
   "metadata": {
    "id": "SqqD9NUb0XVr"
   },
   "outputs": [
    {
     "name": "stdout",
     "output_type": "stream",
     "text": [
      "population: 0-1000 median mort. rate: nan\n",
      "population: 1000-5000 median mort. rate: 57.4\n",
      "population: 5000-10000 median mort. rate: 51.7\n",
      "population: 10000-15000 median mort. rate: 54.849999999999994\n",
      "population: 15000-20000 median mort. rate: 56.3\n",
      "population: 20000-50000 median mort. rate: 54.3\n",
      "population: 50000-100000 median mort. rate: 53.5\n",
      "population: 100000-500000 median mort. rate: 49.3\n",
      "population: 500000-1000000 median mort. rate: 42.9\n"
     ]
    }
   ],
   "source": [
    "population_levels = [0, 1000, 5000, 10000, 15000, 20000, 50000, 100000, 500000, 10**6]\n",
    "for i in range(1,len(population_levels)):\n",
    "    print(\"population:\", \"%d-%d\" % (population_levels[i-1], population_levels[i]),\"median mort. rate:\",\n",
    "                                    fulldf.Mortality_Rate[(fulldf.Mortality_Rate != '*') &\n",
    "                                                          (population_levels[i-1] < fulldf.POPESTIMATE2015) &\n",
    "                                                          (fulldf.POPESTIMATE2015 < population_levels[i])].median())"
   ]
  },
  {
   "cell_type": "markdown",
   "metadata": {
    "id": "kE4DxEvJ0XVs"
   },
   "source": [
    "Lung cancer mortality rate appears to be higher in lower population counties. That realization raises questions the validity of these \"*\" missing values. The documentation from the data source states that the records marked by an asterisk indicate fewer than 16 reported cases of mortality from lung cancer. The records with asterisks tend to be very low population. Yet, we've learned that we'd expect in general, they have higher, not lower, mortality rates as compared to higher population counties (in general). "
   ]
  },
  {
   "cell_type": "markdown",
   "metadata": {
    "id": "eWLyVBHg0XVs"
   },
   "source": [
    "Let us check how many low-population counties actually did report."
   ]
  },
  {
   "cell_type": "code",
   "execution_count": 65,
   "metadata": {
    "id": "6eqqhvrB0XVs"
   },
   "outputs": [
    {
     "name": "stdout",
     "output_type": "stream",
     "text": [
      "Not '*'\n",
      "# records between 0-1000 population 0\n",
      "# records between 1000-5000 population 59\n",
      "# records between 5000-10000 population 333\n",
      "# records between 10000-15000 population 320\n",
      "# records between 15000-20000 population 258\n",
      "# records between 20000-50000 population 851\n",
      "# records between 50000-100000 population 386\n",
      "# records between 100000-500000 population 453\n",
      "# records between 500000-1000000 population 92\n"
     ]
    }
   ],
   "source": [
    "print(\"Not '*'\")\n",
    "for i in range(1, len(population_levels)):\n",
    "    print(\"# records between\",\"%d-%d population\" % (population_levels[i-1], population_levels[i]), \n",
    "                                      fulldf[(fulldf.Mortality_Rate != '*') &\n",
    "                                             (fulldf.POPESTIMATE2015 <= population_levels[i]) &\n",
    "                                             (fulldf.POPESTIMATE2015 > population_levels[i-1])].shape[0]) \n"
   ]
  },
  {
   "cell_type": "code",
   "execution_count": 66,
   "metadata": {
    "id": "0DEkceZf0XVs"
   },
   "outputs": [
    {
     "name": "stdout",
     "output_type": "stream",
     "text": [
      "not '*'\n",
      "# records between 2500-3000 population 2\n",
      "# records between 3000-3500 population 5\n",
      "# records between 3500-4000 population 14\n",
      "# records between 4000-4500 population 19\n",
      "# records between 4500-5000 population 17\n",
      "'*'\n",
      "# records between 2500-3000 population 32\n",
      "# records between 3000-3500 population 27\n",
      "# records between 3500-4000 population 23\n",
      "# records between 4000-4500 population 20\n",
      "# records between 4500-5000 population 9\n"
     ]
    }
   ],
   "source": [
    "# a closer look at number of records for very low-population counties (< 5000)\n",
    "print(\"not '*'\")\n",
    "population_levels = [2500, 3000, 3500, 4000, 4500, 5000]\n",
    "\n",
    "for i in range(1, len(population_levels)):\n",
    "    print(\"# records between\",\"%d-%d population\" % (population_levels[i-1], population_levels[i]), \n",
    "                                      fulldf[(fulldf.Mortality_Rate != '*') &\n",
    "                                             (fulldf.POPESTIMATE2015 <= population_levels[i]) &\n",
    "                                             (fulldf.POPESTIMATE2015 > population_levels[i-1])].shape[0]) \n",
    "\n",
    "print(\"'*'\") \n",
    "for i in range(1, len(population_levels)):\n",
    "    print(\"# records between\",\"%d-%d population\" % (population_levels[i-1], population_levels[i]), \n",
    "                                      fulldf[(fulldf.Mortality_Rate == '*') &\n",
    "                                             (fulldf.POPESTIMATE2015 <= population_levels[i]) &\n",
    "                                             (fulldf.POPESTIMATE2015 > population_levels[i-1])].shape[0]) "
   ]
  },
  {
   "cell_type": "markdown",
   "metadata": {
    "id": "uJz1UPxR0XVs"
   },
   "source": [
    "We have now gathered quite a bit of information that we can use to decide what to do with the observations where mortality rate is missing.   \n",
    "\n",
    "Since mortality rate is our target variable, we probably could have skipped all this investigation and opted to simply remove the missing records. However, it was a worthwhile exercise to walk through. We can now remove the rows with missing mortality rate values entirely. Here are some reasons:\n",
    "* Low-population counties are already well-represented in the data (there are plenty of non-null observations).\n",
    "* It seems redundant (and a source of unnecessary noise) to impute missing values in the outcome variable in this case.\n",
    "* It's safe to treat the null values as if they were randomly drawn (they may not be entirely random, but it seems unlikely that we are losing much information at this time by removing them).\n",
    "* Given that lower populations tend (when they do report) to have higher mortality rates, it is misleading to state that the asterisks represent counties which reported \"fewer than 16\" cases of mortality. Instead, the asterisks more likely represent counties which failed to collect and/or report mortality data. Note that we are dealing with normalized mortality rates -- per capita (100,000). \n",
    "\n",
    "This may seem arbitrary. Keep in mind data science involves many subjective decisions! Just be sure that you have done your due diligence and can explain and defend your decision-making process.    \n",
    "      \n",
    "Now, we are going to filter out the records with missing mortality rate values."
   ]
  },
  {
   "cell_type": "code",
   "execution_count": 67,
   "metadata": {
    "id": "7mkEzAD80XVs"
   },
   "outputs": [],
   "source": [
    "fulldf = fulldf[fulldf.Mortality_Rate != '*']"
   ]
  },
  {
   "cell_type": "markdown",
   "metadata": {
    "id": "6cNHfpCq0XVt"
   },
   "source": [
    "### We still need to clean up Med_Income, Incidence_Rate, Avg_Ann_Incidence, and Avg_Ann_Deaths"
   ]
  },
  {
   "cell_type": "code",
   "execution_count": 68,
   "metadata": {
    "id": "QkNLaBZT0XVt"
   },
   "outputs": [],
   "source": [
    "# Med_Income\n",
    "fulldf['Med_Income'] = pd.to_numeric(fulldf.Med_Income)  # That was easy!"
   ]
  },
  {
   "cell_type": "code",
   "execution_count": 69,
   "metadata": {
    "id": "s1X3OWjg0XVt"
   },
   "outputs": [
    {
     "data": {
      "text/plain": [
       "_            151\n",
       "__            12\n",
       "*              5\n",
       "68.2 #         2\n",
       "71.1 #         2\n",
       "73.6 #         2\n",
       "75.6 #         1\n",
       "39.3 #         1\n",
       "104.9 #        1\n",
       "69.7 #         1\n",
       "dtype: int64"
      ]
     },
     "execution_count": 69,
     "metadata": {},
     "output_type": "execute_result"
    }
   ],
   "source": [
    "# Incidence_Rate\n",
    "# Let's use this script to see which values fail to convert to numeric:\n",
    "values = []\n",
    "for _, j in enumerate(fulldf.Incidence_Rate):\n",
    "    try:\n",
    "        pd.to_numeric(j)\n",
    "    except:\n",
    "        values.append(j)\n",
    "        \n",
    "pd.Series(values).value_counts()[:10]"
   ]
  },
  {
   "cell_type": "markdown",
   "metadata": {
    "id": "6pZcbjhK0XVt"
   },
   "source": [
    "It appears that there are four different types of values that cannot be converted into numeric values.    \n",
    " \n",
    "We already decided that we are going to omit any records where Mortality_Rate is missing (asterisk).   \n",
    "We see that | and || also indicate missing values due to legislative reasons, and no data from Nevada, respectively.    \n",
    "The hash sign means \"Data do not include cases diagnosed in other states for those states in which the data exchange agreement specifically prohibits the release of data to third parties.\"   \n",
    "\n",
    "How should we proceed? Well, mortality rate is our target variable. Also, it's arguably a more interesting variable and it's already clean and homogenous. So, if we remove any additional rows, we're losing good mortality rate data. So, it is better if we not omit any rows in order to fix Incidence_Rate. For now, let us leave incidence rate alone. If we want to include it in our explanatory variables, we can consider imputing the missing values. Otherwise, if we want to create a model with it as the outcome, we can deal with that separately. "
   ]
  },
  {
   "cell_type": "markdown",
   "metadata": {
    "id": "9PypjPpl0XVt"
   },
   "source": [
    "### Avg_Ann_Incidence and Avg_Ann_Deaths     \n",
    "These values are closely related to the Incidence_Rate and Mortality_Rate variables, respectively. It is safe to assume that we are more interested in these values normalized by population (rates rather than raw values). So, they are redundant since we already have information about mortality and incidence rates, as well as county population."
   ]
  },
  {
   "cell_type": "markdown",
   "metadata": {
    "id": "SsucEc_K0XVt"
   },
   "source": [
    "### Now, we can now get the data ready for a model"
   ]
  },
  {
   "cell_type": "code",
   "execution_count": 72,
   "metadata": {},
   "outputs": [
    {
     "data": {
      "text/html": [
       "<div>\n",
       "<style scoped>\n",
       "    .dataframe tbody tr th:only-of-type {\n",
       "        vertical-align: middle;\n",
       "    }\n",
       "\n",
       "    .dataframe tbody tr th {\n",
       "        vertical-align: top;\n",
       "    }\n",
       "\n",
       "    .dataframe thead th {\n",
       "        text-align: right;\n",
       "    }\n",
       "</style>\n",
       "<table border=\"1\" class=\"dataframe\">\n",
       "  <thead>\n",
       "    <tr style=\"text-align: right;\">\n",
       "      <th></th>\n",
       "      <th>state</th>\n",
       "      <th>All_Poverty</th>\n",
       "      <th>M_Poverty</th>\n",
       "      <th>F_Poverty</th>\n",
       "      <th>areaname</th>\n",
       "      <th>FIPS</th>\n",
       "      <th>Med_Income</th>\n",
       "      <th>M_With</th>\n",
       "      <th>M_Without</th>\n",
       "      <th>F_With</th>\n",
       "      <th>F_Without</th>\n",
       "      <th>All_With</th>\n",
       "      <th>All_Without</th>\n",
       "      <th>Incidence_Rate</th>\n",
       "      <th>Avg_Ann_Incidence</th>\n",
       "      <th>Mortality_Rate</th>\n",
       "      <th>Avg_Ann_Deaths</th>\n",
       "      <th>POPESTIMATE2015</th>\n",
       "    </tr>\n",
       "  </thead>\n",
       "  <tbody>\n",
       "    <tr>\n",
       "      <th>0</th>\n",
       "      <td>AL</td>\n",
       "      <td>7057</td>\n",
       "      <td>2983</td>\n",
       "      <td>4074</td>\n",
       "      <td>Autauga County, Alabama</td>\n",
       "      <td>01001</td>\n",
       "      <td>51281.0</td>\n",
       "      <td>23500</td>\n",
       "      <td>2781</td>\n",
       "      <td>25417</td>\n",
       "      <td>2727</td>\n",
       "      <td>48917</td>\n",
       "      <td>5508</td>\n",
       "      <td>74.9</td>\n",
       "      <td>43</td>\n",
       "      <td>59.3</td>\n",
       "      <td>34</td>\n",
       "      <td>55347</td>\n",
       "    </tr>\n",
       "    <tr>\n",
       "      <th>1</th>\n",
       "      <td>AL</td>\n",
       "      <td>25798</td>\n",
       "      <td>12018</td>\n",
       "      <td>13780</td>\n",
       "      <td>Baldwin County, Alabama</td>\n",
       "      <td>01003</td>\n",
       "      <td>50254.0</td>\n",
       "      <td>79768</td>\n",
       "      <td>13644</td>\n",
       "      <td>88015</td>\n",
       "      <td>11343</td>\n",
       "      <td>167783</td>\n",
       "      <td>24987</td>\n",
       "      <td>66.9</td>\n",
       "      <td>170</td>\n",
       "      <td>48</td>\n",
       "      <td>121</td>\n",
       "      <td>203709</td>\n",
       "    </tr>\n",
       "    <tr>\n",
       "      <th>2</th>\n",
       "      <td>AL</td>\n",
       "      <td>6421</td>\n",
       "      <td>2856</td>\n",
       "      <td>3565</td>\n",
       "      <td>Barbour County, Alabama</td>\n",
       "      <td>01005</td>\n",
       "      <td>32964.0</td>\n",
       "      <td>9578</td>\n",
       "      <td>2163</td>\n",
       "      <td>10750</td>\n",
       "      <td>1569</td>\n",
       "      <td>20328</td>\n",
       "      <td>3732</td>\n",
       "      <td>74.6</td>\n",
       "      <td>25</td>\n",
       "      <td>61.3</td>\n",
       "      <td>20</td>\n",
       "      <td>26489</td>\n",
       "    </tr>\n",
       "    <tr>\n",
       "      <th>3</th>\n",
       "      <td>AL</td>\n",
       "      <td>3488</td>\n",
       "      <td>1495</td>\n",
       "      <td>1993</td>\n",
       "      <td>Bibb County, Alabama</td>\n",
       "      <td>01007</td>\n",
       "      <td>38678.0</td>\n",
       "      <td>9342</td>\n",
       "      <td>1012</td>\n",
       "      <td>9421</td>\n",
       "      <td>995</td>\n",
       "      <td>18763</td>\n",
       "      <td>2007</td>\n",
       "      <td>86.4</td>\n",
       "      <td>23</td>\n",
       "      <td>67.8</td>\n",
       "      <td>17</td>\n",
       "      <td>22583</td>\n",
       "    </tr>\n",
       "    <tr>\n",
       "      <th>4</th>\n",
       "      <td>AL</td>\n",
       "      <td>9552</td>\n",
       "      <td>4593</td>\n",
       "      <td>4959</td>\n",
       "      <td>Blount County, Alabama</td>\n",
       "      <td>01009</td>\n",
       "      <td>45813.0</td>\n",
       "      <td>24629</td>\n",
       "      <td>3642</td>\n",
       "      <td>25922</td>\n",
       "      <td>3017</td>\n",
       "      <td>50551</td>\n",
       "      <td>6659</td>\n",
       "      <td>69.7</td>\n",
       "      <td>51</td>\n",
       "      <td>59.9</td>\n",
       "      <td>43</td>\n",
       "      <td>57673</td>\n",
       "    </tr>\n",
       "  </tbody>\n",
       "</table>\n",
       "</div>"
      ],
      "text/plain": [
       "  state  All_Poverty  M_Poverty  F_Poverty                 areaname   FIPS  \\\n",
       "0    AL         7057       2983       4074  Autauga County, Alabama  01001   \n",
       "1    AL        25798      12018      13780  Baldwin County, Alabama  01003   \n",
       "2    AL         6421       2856       3565  Barbour County, Alabama  01005   \n",
       "3    AL         3488       1495       1993     Bibb County, Alabama  01007   \n",
       "4    AL         9552       4593       4959   Blount County, Alabama  01009   \n",
       "\n",
       "   Med_Income  M_With  M_Without  F_With  F_Without  All_With  All_Without  \\\n",
       "0     51281.0   23500       2781   25417       2727     48917         5508   \n",
       "1     50254.0   79768      13644   88015      11343    167783        24987   \n",
       "2     32964.0    9578       2163   10750       1569     20328         3732   \n",
       "3     38678.0    9342       1012    9421        995     18763         2007   \n",
       "4     45813.0   24629       3642   25922       3017     50551         6659   \n",
       "\n",
       "  Incidence_Rate Avg_Ann_Incidence Mortality_Rate Avg_Ann_Deaths  \\\n",
       "0           74.9                43           59.3             34   \n",
       "1           66.9               170             48            121   \n",
       "2           74.6                25           61.3             20   \n",
       "3           86.4                23           67.8             17   \n",
       "4           69.7                51           59.9             43   \n",
       "\n",
       "   POPESTIMATE2015  \n",
       "0            55347  \n",
       "1           203709  \n",
       "2            26489  \n",
       "3            22583  \n",
       "4            57673  "
      ]
     },
     "execution_count": 72,
     "metadata": {},
     "output_type": "execute_result"
    }
   ],
   "source": [
    "fulldf.head()"
   ]
  },
  {
   "cell_type": "code",
   "execution_count": 70,
   "metadata": {
    "id": "Cal9GvTD0XVt"
   },
   "outputs": [
    {
     "ename": "AttributeError",
     "evalue": "'DataFrame' object has no attribute 'RecentTrend'",
     "output_type": "error",
     "traceback": [
      "\u001b[1;31m---------------------------------------------------------------------------\u001b[0m",
      "\u001b[1;31mAttributeError\u001b[0m                            Traceback (most recent call last)",
      "\u001b[1;32m<ipython-input-70-d90d90c739ec>\u001b[0m in \u001b[0;36m<module>\u001b[1;34m\u001b[0m\n\u001b[0;32m     15\u001b[0m \u001b[1;33m\u001b[0m\u001b[0m\n\u001b[0;32m     16\u001b[0m \u001b[1;31m# create new features using the apply method with the 'f' function we defined above\u001b[0m\u001b[1;33m\u001b[0m\u001b[1;33m\u001b[0m\u001b[1;33m\u001b[0m\u001b[0m\n\u001b[1;32m---> 17\u001b[1;33m \u001b[0mfulldf\u001b[0m\u001b[1;33m[\u001b[0m\u001b[1;34m'Rising'\u001b[0m\u001b[1;33m]\u001b[0m \u001b[1;33m=\u001b[0m \u001b[0mfulldf\u001b[0m\u001b[1;33m.\u001b[0m\u001b[0mRecentTrend\u001b[0m\u001b[1;33m.\u001b[0m\u001b[0mapply\u001b[0m\u001b[1;33m(\u001b[0m\u001b[1;32mlambda\u001b[0m \u001b[0mx\u001b[0m\u001b[1;33m:\u001b[0m \u001b[0mf\u001b[0m\u001b[1;33m(\u001b[0m\u001b[0mx\u001b[0m\u001b[1;33m,\u001b[0m \u001b[0mterm\u001b[0m\u001b[1;33m=\u001b[0m\u001b[1;34m'rising'\u001b[0m\u001b[1;33m)\u001b[0m\u001b[1;33m)\u001b[0m\u001b[1;33m\u001b[0m\u001b[1;33m\u001b[0m\u001b[0m\n\u001b[0m\u001b[0;32m     18\u001b[0m \u001b[0mfulldf\u001b[0m\u001b[1;33m[\u001b[0m\u001b[1;34m'Falling'\u001b[0m\u001b[1;33m]\u001b[0m \u001b[1;33m=\u001b[0m \u001b[0mfulldf\u001b[0m\u001b[1;33m.\u001b[0m\u001b[0mRecentTrend\u001b[0m\u001b[1;33m.\u001b[0m\u001b[0mapply\u001b[0m\u001b[1;33m(\u001b[0m\u001b[1;32mlambda\u001b[0m \u001b[0mx\u001b[0m\u001b[1;33m:\u001b[0m \u001b[0mf\u001b[0m\u001b[1;33m(\u001b[0m\u001b[0mx\u001b[0m\u001b[1;33m,\u001b[0m \u001b[0mterm\u001b[0m\u001b[1;33m=\u001b[0m\u001b[1;34m'falling'\u001b[0m\u001b[1;33m)\u001b[0m\u001b[1;33m)\u001b[0m\u001b[1;33m\u001b[0m\u001b[1;33m\u001b[0m\u001b[0m\n\u001b[0;32m     19\u001b[0m \u001b[1;33m\u001b[0m\u001b[0m\n",
      "\u001b[1;32m~\\Anaconda3\\lib\\site-packages\\pandas\\core\\generic.py\u001b[0m in \u001b[0;36m__getattr__\u001b[1;34m(self, name)\u001b[0m\n\u001b[0;32m   5272\u001b[0m             \u001b[1;32mif\u001b[0m \u001b[0mself\u001b[0m\u001b[1;33m.\u001b[0m\u001b[0m_info_axis\u001b[0m\u001b[1;33m.\u001b[0m\u001b[0m_can_hold_identifiers_and_holds_name\u001b[0m\u001b[1;33m(\u001b[0m\u001b[0mname\u001b[0m\u001b[1;33m)\u001b[0m\u001b[1;33m:\u001b[0m\u001b[1;33m\u001b[0m\u001b[1;33m\u001b[0m\u001b[0m\n\u001b[0;32m   5273\u001b[0m                 \u001b[1;32mreturn\u001b[0m \u001b[0mself\u001b[0m\u001b[1;33m[\u001b[0m\u001b[0mname\u001b[0m\u001b[1;33m]\u001b[0m\u001b[1;33m\u001b[0m\u001b[1;33m\u001b[0m\u001b[0m\n\u001b[1;32m-> 5274\u001b[1;33m             \u001b[1;32mreturn\u001b[0m \u001b[0mobject\u001b[0m\u001b[1;33m.\u001b[0m\u001b[0m__getattribute__\u001b[0m\u001b[1;33m(\u001b[0m\u001b[0mself\u001b[0m\u001b[1;33m,\u001b[0m \u001b[0mname\u001b[0m\u001b[1;33m)\u001b[0m\u001b[1;33m\u001b[0m\u001b[1;33m\u001b[0m\u001b[0m\n\u001b[0m\u001b[0;32m   5275\u001b[0m \u001b[1;33m\u001b[0m\u001b[0m\n\u001b[0;32m   5276\u001b[0m     \u001b[1;32mdef\u001b[0m \u001b[0m__setattr__\u001b[0m\u001b[1;33m(\u001b[0m\u001b[0mself\u001b[0m\u001b[1;33m,\u001b[0m \u001b[0mname\u001b[0m\u001b[1;33m:\u001b[0m \u001b[0mstr\u001b[0m\u001b[1;33m,\u001b[0m \u001b[0mvalue\u001b[0m\u001b[1;33m)\u001b[0m \u001b[1;33m->\u001b[0m \u001b[1;32mNone\u001b[0m\u001b[1;33m:\u001b[0m\u001b[1;33m\u001b[0m\u001b[1;33m\u001b[0m\u001b[0m\n",
      "\u001b[1;31mAttributeError\u001b[0m: 'DataFrame' object has no attribute 'RecentTrend'"
     ]
    }
   ],
   "source": [
    "# create dummy variables for \"Recent Trend\"\n",
    "\n",
    "# rename 'Recent Trend' to remove the space\n",
    "fulldf.rename(columns={'Recent Trend':'RecentTrend'}, inplace=True)\n",
    "\n",
    "# change all the missing values to the mode ('stable')\n",
    "fulldf.replace({'RecentTrend' : {'*':'stable'}}, inplace=True)\n",
    "\n",
    "# function to do boolean check and return 1 or 0\n",
    "def f(x, term):\n",
    "    if x == term:\n",
    "        return 1\n",
    "    else:\n",
    "        return 0\n",
    "\n",
    "# create new features using the apply method with the 'f' function we defined above\n",
    "fulldf['Rising'] = fulldf.RecentTrend.apply(lambda x: f(x, term='rising'))\n",
    "fulldf['Falling'] = fulldf.RecentTrend.apply(lambda x: f(x, term='falling'))\n",
    "\n",
    "# Note that of the 3 levels of RecentTrend, we only created dummies for rising and falling\n",
    "# We will be incuding constant in our model (dummy variable trap)"
   ]
  },
  {
   "cell_type": "code",
   "execution_count": 71,
   "metadata": {
    "id": "8x5iF0An0XVu"
   },
   "outputs": [
    {
     "ename": "KeyError",
     "evalue": "'RecentTrend'",
     "output_type": "error",
     "traceback": [
      "\u001b[1;31m---------------------------------------------------------------------------\u001b[0m",
      "\u001b[1;31mKeyError\u001b[0m                                  Traceback (most recent call last)",
      "\u001b[1;32m~\\Anaconda3\\lib\\site-packages\\pandas\\core\\indexes\\base.py\u001b[0m in \u001b[0;36mget_loc\u001b[1;34m(self, key, method, tolerance)\u001b[0m\n\u001b[0;32m   2645\u001b[0m             \u001b[1;32mtry\u001b[0m\u001b[1;33m:\u001b[0m\u001b[1;33m\u001b[0m\u001b[1;33m\u001b[0m\u001b[0m\n\u001b[1;32m-> 2646\u001b[1;33m                 \u001b[1;32mreturn\u001b[0m \u001b[0mself\u001b[0m\u001b[1;33m.\u001b[0m\u001b[0m_engine\u001b[0m\u001b[1;33m.\u001b[0m\u001b[0mget_loc\u001b[0m\u001b[1;33m(\u001b[0m\u001b[0mkey\u001b[0m\u001b[1;33m)\u001b[0m\u001b[1;33m\u001b[0m\u001b[1;33m\u001b[0m\u001b[0m\n\u001b[0m\u001b[0;32m   2647\u001b[0m             \u001b[1;32mexcept\u001b[0m \u001b[0mKeyError\u001b[0m\u001b[1;33m:\u001b[0m\u001b[1;33m\u001b[0m\u001b[1;33m\u001b[0m\u001b[0m\n",
      "\u001b[1;32mpandas\\_libs\\index.pyx\u001b[0m in \u001b[0;36mpandas._libs.index.IndexEngine.get_loc\u001b[1;34m()\u001b[0m\n",
      "\u001b[1;32mpandas\\_libs\\index.pyx\u001b[0m in \u001b[0;36mpandas._libs.index.IndexEngine.get_loc\u001b[1;34m()\u001b[0m\n",
      "\u001b[1;32mpandas\\_libs\\hashtable_class_helper.pxi\u001b[0m in \u001b[0;36mpandas._libs.hashtable.PyObjectHashTable.get_item\u001b[1;34m()\u001b[0m\n",
      "\u001b[1;32mpandas\\_libs\\hashtable_class_helper.pxi\u001b[0m in \u001b[0;36mpandas._libs.hashtable.PyObjectHashTable.get_item\u001b[1;34m()\u001b[0m\n",
      "\u001b[1;31mKeyError\u001b[0m: 'RecentTrend'",
      "\nDuring handling of the above exception, another exception occurred:\n",
      "\u001b[1;31mKeyError\u001b[0m                                  Traceback (most recent call last)",
      "\u001b[1;32m<ipython-input-71-51a8ace9f773>\u001b[0m in \u001b[0;36m<module>\u001b[1;34m\u001b[0m\n\u001b[1;32m----> 1\u001b[1;33m \u001b[0mfulldf\u001b[0m\u001b[1;33m[\u001b[0m\u001b[1;34m'RecentTrend'\u001b[0m\u001b[1;33m]\u001b[0m\u001b[1;33m.\u001b[0m\u001b[0mvalue_counts\u001b[0m\u001b[1;33m(\u001b[0m\u001b[1;33m)\u001b[0m\u001b[1;33m\u001b[0m\u001b[1;33m\u001b[0m\u001b[0m\n\u001b[0m",
      "\u001b[1;32m~\\Anaconda3\\lib\\site-packages\\pandas\\core\\frame.py\u001b[0m in \u001b[0;36m__getitem__\u001b[1;34m(self, key)\u001b[0m\n\u001b[0;32m   2798\u001b[0m             \u001b[1;32mif\u001b[0m \u001b[0mself\u001b[0m\u001b[1;33m.\u001b[0m\u001b[0mcolumns\u001b[0m\u001b[1;33m.\u001b[0m\u001b[0mnlevels\u001b[0m \u001b[1;33m>\u001b[0m \u001b[1;36m1\u001b[0m\u001b[1;33m:\u001b[0m\u001b[1;33m\u001b[0m\u001b[1;33m\u001b[0m\u001b[0m\n\u001b[0;32m   2799\u001b[0m                 \u001b[1;32mreturn\u001b[0m \u001b[0mself\u001b[0m\u001b[1;33m.\u001b[0m\u001b[0m_getitem_multilevel\u001b[0m\u001b[1;33m(\u001b[0m\u001b[0mkey\u001b[0m\u001b[1;33m)\u001b[0m\u001b[1;33m\u001b[0m\u001b[1;33m\u001b[0m\u001b[0m\n\u001b[1;32m-> 2800\u001b[1;33m             \u001b[0mindexer\u001b[0m \u001b[1;33m=\u001b[0m \u001b[0mself\u001b[0m\u001b[1;33m.\u001b[0m\u001b[0mcolumns\u001b[0m\u001b[1;33m.\u001b[0m\u001b[0mget_loc\u001b[0m\u001b[1;33m(\u001b[0m\u001b[0mkey\u001b[0m\u001b[1;33m)\u001b[0m\u001b[1;33m\u001b[0m\u001b[1;33m\u001b[0m\u001b[0m\n\u001b[0m\u001b[0;32m   2801\u001b[0m             \u001b[1;32mif\u001b[0m \u001b[0mis_integer\u001b[0m\u001b[1;33m(\u001b[0m\u001b[0mindexer\u001b[0m\u001b[1;33m)\u001b[0m\u001b[1;33m:\u001b[0m\u001b[1;33m\u001b[0m\u001b[1;33m\u001b[0m\u001b[0m\n\u001b[0;32m   2802\u001b[0m                 \u001b[0mindexer\u001b[0m \u001b[1;33m=\u001b[0m \u001b[1;33m[\u001b[0m\u001b[0mindexer\u001b[0m\u001b[1;33m]\u001b[0m\u001b[1;33m\u001b[0m\u001b[1;33m\u001b[0m\u001b[0m\n",
      "\u001b[1;32m~\\Anaconda3\\lib\\site-packages\\pandas\\core\\indexes\\base.py\u001b[0m in \u001b[0;36mget_loc\u001b[1;34m(self, key, method, tolerance)\u001b[0m\n\u001b[0;32m   2646\u001b[0m                 \u001b[1;32mreturn\u001b[0m \u001b[0mself\u001b[0m\u001b[1;33m.\u001b[0m\u001b[0m_engine\u001b[0m\u001b[1;33m.\u001b[0m\u001b[0mget_loc\u001b[0m\u001b[1;33m(\u001b[0m\u001b[0mkey\u001b[0m\u001b[1;33m)\u001b[0m\u001b[1;33m\u001b[0m\u001b[1;33m\u001b[0m\u001b[0m\n\u001b[0;32m   2647\u001b[0m             \u001b[1;32mexcept\u001b[0m \u001b[0mKeyError\u001b[0m\u001b[1;33m:\u001b[0m\u001b[1;33m\u001b[0m\u001b[1;33m\u001b[0m\u001b[0m\n\u001b[1;32m-> 2648\u001b[1;33m                 \u001b[1;32mreturn\u001b[0m \u001b[0mself\u001b[0m\u001b[1;33m.\u001b[0m\u001b[0m_engine\u001b[0m\u001b[1;33m.\u001b[0m\u001b[0mget_loc\u001b[0m\u001b[1;33m(\u001b[0m\u001b[0mself\u001b[0m\u001b[1;33m.\u001b[0m\u001b[0m_maybe_cast_indexer\u001b[0m\u001b[1;33m(\u001b[0m\u001b[0mkey\u001b[0m\u001b[1;33m)\u001b[0m\u001b[1;33m)\u001b[0m\u001b[1;33m\u001b[0m\u001b[1;33m\u001b[0m\u001b[0m\n\u001b[0m\u001b[0;32m   2649\u001b[0m         \u001b[0mindexer\u001b[0m \u001b[1;33m=\u001b[0m \u001b[0mself\u001b[0m\u001b[1;33m.\u001b[0m\u001b[0mget_indexer\u001b[0m\u001b[1;33m(\u001b[0m\u001b[1;33m[\u001b[0m\u001b[0mkey\u001b[0m\u001b[1;33m]\u001b[0m\u001b[1;33m,\u001b[0m \u001b[0mmethod\u001b[0m\u001b[1;33m=\u001b[0m\u001b[0mmethod\u001b[0m\u001b[1;33m,\u001b[0m \u001b[0mtolerance\u001b[0m\u001b[1;33m=\u001b[0m\u001b[0mtolerance\u001b[0m\u001b[1;33m)\u001b[0m\u001b[1;33m\u001b[0m\u001b[1;33m\u001b[0m\u001b[0m\n\u001b[0;32m   2650\u001b[0m         \u001b[1;32mif\u001b[0m \u001b[0mindexer\u001b[0m\u001b[1;33m.\u001b[0m\u001b[0mndim\u001b[0m \u001b[1;33m>\u001b[0m \u001b[1;36m1\u001b[0m \u001b[1;32mor\u001b[0m \u001b[0mindexer\u001b[0m\u001b[1;33m.\u001b[0m\u001b[0msize\u001b[0m \u001b[1;33m>\u001b[0m \u001b[1;36m1\u001b[0m\u001b[1;33m:\u001b[0m\u001b[1;33m\u001b[0m\u001b[1;33m\u001b[0m\u001b[0m\n",
      "\u001b[1;32mpandas\\_libs\\index.pyx\u001b[0m in \u001b[0;36mpandas._libs.index.IndexEngine.get_loc\u001b[1;34m()\u001b[0m\n",
      "\u001b[1;32mpandas\\_libs\\index.pyx\u001b[0m in \u001b[0;36mpandas._libs.index.IndexEngine.get_loc\u001b[1;34m()\u001b[0m\n",
      "\u001b[1;32mpandas\\_libs\\hashtable_class_helper.pxi\u001b[0m in \u001b[0;36mpandas._libs.hashtable.PyObjectHashTable.get_item\u001b[1;34m()\u001b[0m\n",
      "\u001b[1;32mpandas\\_libs\\hashtable_class_helper.pxi\u001b[0m in \u001b[0;36mpandas._libs.hashtable.PyObjectHashTable.get_item\u001b[1;34m()\u001b[0m\n",
      "\u001b[1;31mKeyError\u001b[0m: 'RecentTrend'"
     ]
    }
   ],
   "source": [
    "fulldf['RecentTrend'].value_counts()"
   ]
  },
  {
   "cell_type": "code",
   "execution_count": null,
   "metadata": {
    "id": "cWoGCmxM0XVu"
   },
   "outputs": [],
   "source": [
    "y = pd.to_numeric(fulldf.Mortality_Rate).values\n",
    "X = fulldf.loc[:,['All_Poverty', 'M_Poverty', 'F_Poverty', 'Med_Income',\n",
    "            'M_With', 'M_Without', 'F_With', 'F_Without', 'All_With',\n",
    "            'All_Without', 'Incidence_Rate', 'Falling', 'Rising',\n",
    "            'POPESTIMATE2015']]"
   ]
  },
  {
   "cell_type": "code",
   "execution_count": null,
   "metadata": {
    "id": "RYlyHAAZ0XVu"
   },
   "outputs": [],
   "source": [
    "X.head()"
   ]
  },
  {
   "cell_type": "markdown",
   "metadata": {
    "id": "HDXm_OsW0XVu"
   },
   "source": [
    "It is important to convert our numeric data to per capita. Our target variable, mortality rate, is measured per 100,000 population. By normalizing each variable to 100,000 population, we can objectively assess how they correlate with each other. In case we want to account for the influence of population in our model, we can also retain the population feature.     \n",
    "     \n",
    "The Incidence_Rate feature contains some values (eg, '\\*', '||', & '|') that we need to deal with before we can convert them into numeric format. Let's do that now. Fortunately, pandas makes this quite easy."
   ]
  },
  {
   "cell_type": "markdown",
   "metadata": {
    "id": "_LPMFNf60XVu"
   },
   "source": [
    "The \"errors='coerce'\" argument to the pd.to_numeric method, tells pandas to replace any value that cannot be converted to a float with 'nan'."
   ]
  },
  {
   "cell_type": "code",
   "execution_count": null,
   "metadata": {
    "id": "I0G6S4vH0XVu"
   },
   "outputs": [],
   "source": [
    "X['Incidence_Rate'] = pd.to_numeric(X.Incidence_Rate, errors='coerce')"
   ]
  },
  {
   "cell_type": "markdown",
   "metadata": {
    "id": "uJIlr4ni0XVu"
   },
   "source": [
    "Now we can use the pandas fillna() method to easily impute the missing values. While it's tempting to use a more complex technique to impute the missing values (like random forest regression, for example), imputing using the mean or median is much simpler and is likely to yield pretty comparable results."
   ]
  },
  {
   "cell_type": "code",
   "execution_count": null,
   "metadata": {
    "id": "BmM1KFRe0XVu"
   },
   "outputs": [],
   "source": [
    "X['Incidence_Rate'] = X.Incidence_Rate.fillna(X.Incidence_Rate.median())\n",
    "print(sum(X.Incidence_Rate.isnull()))"
   ]
  },
  {
   "cell_type": "markdown",
   "metadata": {
    "id": "BMAqX-M80XVv"
   },
   "source": [
    "We will now convert the applicable variables to per capita. We will retain the original features and name the per capita versions with the \"_PC\" suffix."
   ]
  },
  {
   "cell_type": "code",
   "execution_count": null,
   "metadata": {
    "id": "GRgzh3rX0XVv"
   },
   "outputs": [],
   "source": [
    "for col in ['All_Poverty', 'M_Poverty', 'F_Poverty', 'M_With',\n",
    "            'M_Without', 'F_With', 'F_Without', 'All_With', 'All_Without']:\n",
    "       \n",
    "    X[col + \"_PC\"] = X[col] / X.POPESTIMATE2015 * 10**5"
   ]
  },
  {
   "cell_type": "code",
   "execution_count": null,
   "metadata": {
    "id": "06JyfVFl0XVv"
   },
   "outputs": [],
   "source": [
    "X.head()"
   ]
  },
  {
   "cell_type": "markdown",
   "metadata": {
    "id": "DRXEvN8s0XVv"
   },
   "source": [
    "## Perform Visual Exploratory Analysis"
   ]
  },
  {
   "cell_type": "code",
   "execution_count": null,
   "metadata": {
    "id": "yZQTcDSD0XVv"
   },
   "outputs": [],
   "source": [
    "# scatterplots (hat tip Sebastian Raschka from his book \"Python Machine Learning\")\n",
    "sns.set(style='whitegrid', context='notebook')\n",
    "sns.pairplot(X[['All_Poverty_PC', 'M_Poverty_PC', 'F_Poverty_PC', 'Med_Income']], height=2)\n",
    "plt.show()"
   ]
  },
  {
   "cell_type": "code",
   "execution_count": null,
   "metadata": {
    "id": "RCUE4sNK0XVv"
   },
   "outputs": [],
   "source": [
    "cols = ['All_Poverty_PC', 'M_Poverty_PC', 'F_Poverty_PC', 'Med_Income']\n",
    "cm = np.corrcoef(X[['All_Poverty_PC', 'M_Poverty_PC', 'F_Poverty_PC', 'Med_Income']].values.T)\n",
    "sns.set(font_scale=1.5)\n",
    "hm = sns.heatmap(cm, cbar=True, annot=True, square=True, fmt='.2f', annot_kws={'size':15},\n",
    "                 yticklabels=cols, xticklabels=cols)\n",
    "plt.show()"
   ]
  },
  {
   "cell_type": "markdown",
   "metadata": {
    "id": "TiANhG9B0XVw"
   },
   "source": [
    "Note that All_Poverty_PC, F_Poverty_PC and M_Poverty_PC look perfectly correlated. We don't want redundant features. So we will drop M_Poverty_PC and F_Poverty_PC and keep only All_Poverty_PC to represent poverty information in our model."
   ]
  },
  {
   "cell_type": "code",
   "execution_count": null,
   "metadata": {
    "id": "jzERYheX0XVw"
   },
   "outputs": [],
   "source": [
    "X.drop(['M_Poverty_PC', 'F_Poverty_PC'], axis=1, inplace=True)"
   ]
  },
  {
   "cell_type": "markdown",
   "metadata": {
    "id": "k_NJwric0XVw"
   },
   "source": [
    "After repeating this process with our health insurance variables, it became clear that the gender-specific features are redundant. After removing them, we're left with these data:"
   ]
  },
  {
   "cell_type": "code",
   "execution_count": null,
   "metadata": {
    "id": "BTA3ovER0XVw"
   },
   "outputs": [],
   "source": [
    "X.drop(['M_With_PC', 'F_With_PC'], axis=1, inplace=True)\n",
    "X.drop(['M_Without_PC', 'F_Without_PC'], axis=1, inplace=True)\n",
    "X.head()"
   ]
  },
  {
   "cell_type": "markdown",
   "metadata": {
    "id": "pnNB2pCk0XVw"
   },
   "source": [
    "Now that we've removed all the redundant data, let's look at the correlations with the remaining features."
   ]
  },
  {
   "cell_type": "code",
   "execution_count": null,
   "metadata": {
    "id": "Ls0seNxI0XVw"
   },
   "outputs": [],
   "source": [
    "cols = ['All_Poverty_PC', 'Med_Income', 'All_With_PC', 'All_Without_PC',\n",
    "                'Incidence_Rate', 'POPESTIMATE2015']\n",
    "sns.set(style='whitegrid', context='notebook')\n",
    "sns.pairplot(X[cols], height=2)\n",
    "plt.show()"
   ]
  },
  {
   "cell_type": "code",
   "execution_count": null,
   "metadata": {
    "id": "YhVu0V_b0XVw"
   },
   "outputs": [],
   "source": [
    "cm = np.corrcoef(X[cols].values.T)\n",
    "sns.set(font_scale=1.5)\n",
    "hm = sns.heatmap(cm, cbar=True, annot=True, square=True, fmt='.2f', annot_kws={'size':15},\n",
    "                 yticklabels=cols, xticklabels=cols)\n",
    "plt.show()"
   ]
  },
  {
   "cell_type": "markdown",
   "metadata": {
    "id": "TIrnZ4g-0XVx"
   },
   "source": [
    "There are a couple pairs of fairly strongly correlated features: (All_Poverty_PC & Med_Income) and (All_With_PC & All_Without_PC). We'll keep them in mind as we observe how they work in the linear regression."
   ]
  },
  {
   "cell_type": "markdown",
   "metadata": {
    "id": "t--hDVRO0XVx"
   },
   "source": [
    "# 3. Linear Regression Model"
   ]
  },
  {
   "cell_type": "code",
   "execution_count": null,
   "metadata": {
    "id": "P6iFEV960XVx"
   },
   "outputs": [],
   "source": [
    "cols = ['All_Poverty_PC', 'Med_Income', 'All_With_PC',  'All_Without_PC',\n",
    "        'Incidence_Rate', 'POPESTIMATE2015', 'Falling', 'Rising', 'All_Poverty',\n",
    "        'All_With', 'All_Without']"
   ]
  },
  {
   "cell_type": "code",
   "execution_count": null,
   "metadata": {
    "id": "z0MmB8hr0XVx"
   },
   "outputs": [],
   "source": [
    "# add constant (coloumn vector of all 1s)\n",
    "X = X[cols]\n",
    "X['Constant'] = 1\n",
    "X.reset_index(drop=True, inplace=True)"
   ]
  },
  {
   "cell_type": "code",
   "execution_count": null,
   "metadata": {
    "id": "F0dw9ob_0XVx"
   },
   "outputs": [],
   "source": [
    "# Fit linear regression model\n",
    "lr = sm.OLS(y, X, hasconst=True)\n",
    "result = lr.fit()"
   ]
  },
  {
   "cell_type": "code",
   "execution_count": null,
   "metadata": {
    "id": "f_nDWjl30XVx"
   },
   "outputs": [],
   "source": [
    "result.summary()"
   ]
  },
  {
   "cell_type": "markdown",
   "metadata": {
    "id": "85iuXega0XVy"
   },
   "source": [
    "After fitting an ordinary least squares model with the ['All_Poverty_PC', 'Med_Income', 'All_With_PC', All_Without_PC', 'Incidence_Rate', 'POPESTIMATE2015', 'Falling', 'Rising', 'All_Poverty', 'All_With', 'All_Without'] regressed on the Mortality_Rate target variable, we have a pretty well-performing model, as evidenced by the Adjusted R^2 (738).   \n",
    "    \n",
    "Let's treat this as our baseline, and apply model diagnostics and feature selection to try to improve it.   \n",
    "\n",
    "We will attempt to account for multicollinearity, heteroscedsticity of residuals, and normality of distributions of residuals.     \n",
    "       \n",
    "#### Multicollinearity     \n",
    "Let's apply variance inflation factors to assess for multicollinearity. VIFs, by performing an independent variable on the design matrix comprising all the other independent variables, allows us to assess the degree to which that independent variable is orthogonal the others. Larger VIFs indicate multicollinearity.     \n",
    "\n",
    "VIF values exceeding 10 are commonly interpreted as \"high\" in multicollinearity. However, this threshold is arbitrary, and it may make sense to select a different threshold in many cases."
   ]
  },
  {
   "cell_type": "code",
   "execution_count": null,
   "metadata": {
    "id": "fcbpG0vP0XVy"
   },
   "outputs": [],
   "source": [
    "pd.DataFrame([[var, variance_inflation_factor(X.values, X.columns.get_loc(var))] for var in X.columns],\n",
    "                   index=range(X.shape[1]), columns=['Variable', 'VIF'])\n"
   ]
  },
  {
   "cell_type": "markdown",
   "metadata": {
    "id": "KgbweBAu0XVy"
   },
   "source": [
    "After iteratively removing the feature associated with the largest VIF and then recalculating VIFs, we result in these independent variables:"
   ]
  },
  {
   "cell_type": "code",
   "execution_count": null,
   "metadata": {
    "id": "2rglvM7E0XVy"
   },
   "outputs": [],
   "source": [
    "X.columns"
   ]
  },
  {
   "cell_type": "code",
   "execution_count": null,
   "metadata": {
    "id": "aDLk079s0XVy"
   },
   "outputs": [],
   "source": [
    "vcols = ['All_Poverty_PC', 'Med_Income', 'All_With_PC', 'All_Without_PC',\n",
    "       'Incidence_Rate', 'Falling', 'Rising', 'Constant']"
   ]
  },
  {
   "cell_type": "code",
   "execution_count": null,
   "metadata": {
    "id": "KLVYSTdj0XVy"
   },
   "outputs": [],
   "source": [
    "Xvcols = X[vcols].reset_index(drop=True)\n",
    "pd.DataFrame([[var, variance_inflation_factor(Xvcols.values, Xvcols.columns.get_loc(var))] for var in vcols],\n",
    "                   index=range(len(vcols)), columns=['Variable', 'VIF'])"
   ]
  },
  {
   "cell_type": "markdown",
   "metadata": {
    "id": "Bfg9b_JU0XVz"
   },
   "source": [
    "Interestingly, All_Without (men and women without health insurance), versus the same per capita (All_Without_PC) don't indicate high multicollinearity. It is unclear what to make of that. In any case, let us remove All_Without from the model because it is more or less a proxy for population.\n",
    "     \n",
    "Let's recompute a linear regression on the reduced set of independent variables."
   ]
  },
  {
   "cell_type": "code",
   "execution_count": null,
   "metadata": {
    "id": "PzZi2_Ec0XVz"
   },
   "outputs": [],
   "source": [
    "vcols = ['All_Poverty_PC', 'Med_Income', 'All_Without_PC',\n",
    "       'Incidence_Rate', 'Falling', 'POPESTIMATE2015', 'Constant']\n",
    "Xvcols = X[vcols].reset_index(drop=True)\n",
    "lr = sm.OLS(y, Xvcols, hasconst=True)\n",
    "result = lr.fit()"
   ]
  },
  {
   "cell_type": "code",
   "execution_count": null,
   "metadata": {
    "id": "8s9kO3R10XVz"
   },
   "outputs": [],
   "source": [
    "result.summary()"
   ]
  },
  {
   "cell_type": "markdown",
   "metadata": {
    "id": "ow3K5vb60XVz"
   },
   "source": [
    "I'm satisfied with how this model looks. Specifically: \n",
    "\n",
    "1. VIFs indicate that it's not afflicted by multicollinearity, \n",
    "\n",
    "2. all the parameters are statistically significant (P>|t|),  \n",
    "\n",
    "3. all the parameters logically make sense (eg, oriented in directions that logically make sense).   \n",
    "    \n",
    "Let's move on and take a look at residuals to assess for normality and heteroscedasticity.   \n",
    "\n",
    "**Are residuals normally distributed?**"
   ]
  },
  {
   "cell_type": "code",
   "execution_count": null,
   "metadata": {
    "id": "9rynoEuz0XVz"
   },
   "outputs": [],
   "source": [
    "# histogram superimposed by normal curve\n",
    "plt.figure(figsize=(10,6))\n",
    "import scipy.stats as stats\n",
    "mu = np.mean(result.resid)\n",
    "sigma = np.std(result.resid)\n",
    "pdf = stats.norm.pdf(sorted(result.resid), mu, sigma)\n",
    "plt.hist(result.resid, bins=100)\n",
    "plt.plot(sorted(result.resid), pdf, color='r', linewidth=2)\n",
    "plt.show()"
   ]
  },
  {
   "cell_type": "markdown",
   "metadata": {
    "id": "-8SrRmkM0XVz"
   },
   "source": [
    "The distribution of the residuals does not adhere perfectly to a normal distribution (skew=0, excess kurtosis=0). There is a small number of outliers to the left, the tails appear slightly fatter than, and the distribution has somewhat larger kurtosis than the normal distribution. "
   ]
  },
  {
   "cell_type": "code",
   "execution_count": null,
   "metadata": {
    "id": "aXg8dcUo0XVz"
   },
   "outputs": [],
   "source": [
    "# QQplot\n",
    "fig, [ax1, ax2] = plt.subplots(1,2, figsize=(10,3))\n",
    "sm.qqplot(result.resid, stats.t, fit=True, line='45', ax = ax1)\n",
    "ax1.set_title(\"t distribution\")\n",
    "sm.qqplot(result.resid, stats.norm, fit=True, line='45', ax=ax2)\n",
    "ax2.set_title(\"normal distribution\")\n",
    "plt.show()"
   ]
  },
  {
   "cell_type": "markdown",
   "metadata": {
    "id": "c7e9kMY_0XV0"
   },
   "source": [
    "The qqplots confirm that the residuals adhere more closely to the t- than normal distribution (fatter tails). A few prominent outliers are visible at the lower extreme.   \n",
    "      \n",
    "All-in-all, despite these imperfections, the distribution of residuals is rather adequate. However, we should investigate the nature of the more extreme outliers. We also may want to try to add additional information to the model (new variable(s)), in light of the the model's tendency to overestimate low values and underestimate high values."
   ]
  },
  {
   "cell_type": "markdown",
   "metadata": {
    "id": "IMhAdz5X0XV0"
   },
   "source": [
    "**Heteroscedasticity**   "
   ]
  },
  {
   "cell_type": "code",
   "execution_count": null,
   "metadata": {
    "id": "zLN9ZntJ0XV0"
   },
   "outputs": [],
   "source": [
    "# plot predicted vs actual\n",
    "plt.figure(figsize=(14,7))\n",
    "sns.regplot(y, result.fittedvalues, line_kws={'color':'r', 'alpha':0.3, \n",
    "                                              'linestyle':'--', 'linewidth':2}, \n",
    "            scatter_kws={'alpha':0.5})\n",
    "plt.ylim(0,160)\n",
    "plt.xlabel('Actual Values')\n",
    "plt.ylabel('Fitted Values')\n",
    "plt.show()\n",
    "print(\"Pearson R: \", stats.pearsonr(result.fittedvalues, y))"
   ]
  },
  {
   "cell_type": "markdown",
   "metadata": {
    "id": "H6aPcbtN0XV0"
   },
   "source": [
    "Consistent with our reported R^2 value, we now visualize the strong correlation between actual and predicted values."
   ]
  },
  {
   "cell_type": "code",
   "execution_count": null,
   "metadata": {
    "id": "fOJjOemU0XV0"
   },
   "outputs": [],
   "source": [
    "# plot actual values versus residuals\n",
    "from statsmodels.nonparametric.smoothers_lowess import lowess\n",
    "ys = lowess(result.resid.values, y, frac=0.2)\n",
    "ys = pd.DataFrame(ys, index=range(len(ys)), columns=['a', 'b'])\n",
    "ys = ys.sort_values(by='a')\n",
    "\n",
    "fig, ax = plt.subplots(figsize=(14,9))\n",
    "plt.scatter(y, result.resid, alpha=0.5, s=25)\n",
    "plt.axhline(y=0, color='r', linestyle=\"--\", alpha=0.5)\n",
    "plt.xlabel(\"Actual Values\")\n",
    "plt.ylabel(\"Residuals\")\n",
    "\n",
    "plt.plot(ys.a, ys.b, c='green', linewidth=2, label=\"Lowess\")\n",
    "plt.legend()\n",
    "plt.show()\n",
    "print(\"Pearson R:\", stats.pearsonr(y, result.resid))"
   ]
  },
  {
   "cell_type": "markdown",
   "metadata": {
    "id": "U2gsEzq80XV1"
   },
   "source": [
    "This chart suggests that the model tends to somewhat overshoot lower values, and undershoot higher ones. "
   ]
  },
  {
   "cell_type": "code",
   "execution_count": null,
   "metadata": {
    "id": "W2GDuzhv0XV1"
   },
   "outputs": [],
   "source": [
    "# plot actual values versus residuals\n",
    "plt.figure(figsize=(14,7))\n",
    "plt.scatter(y=result.resid, x=result.fittedvalues, alpha=0.5, s=22)\n",
    "plt.axhline(y=0, color='r', linestyle=\"--\", alpha=0.5)\n",
    "plt.xlabel(\"Fitted Values\")\n",
    "plt.ylabel(\"Residuals\")\n",
    "plt.ylim(-65, 50)\n",
    "plt.show()"
   ]
  },
  {
   "cell_type": "markdown",
   "metadata": {
    "id": "s7Ie0MFy0XV1"
   },
   "source": [
    "The plot of residuals versus fitted values shows that the residuals are fairly symmetric relative to the fitted values."
   ]
  },
  {
   "cell_type": "markdown",
   "metadata": {
    "id": "klcnPUEM0XV1"
   },
   "source": [
    "### Model Diagnostics Summary      \n",
    "* Multicollinearity does not appear to be present.\n",
    "* Parameters are statistically significant.\n",
    "* The residuals adhere more closely to a t- than a normal distribution -- larger excess kurtosis and fatter tails.\n",
    "* The fitted values tend to err in the negative direction (overestimate) actual values toward the lower extreme of the range, and the inverse for values toward the high end of the range.\n",
    "* The adjusted R^2 is 0.74, meaning that the model accounts for 74% of the total observed variance in the target.\n",
    "* improvements to the model should focus on accounting for outliers and, if possible, adding additional information to the model."
   ]
  },
  {
   "cell_type": "code",
   "execution_count": null,
   "metadata": {
    "collapsed": true,
    "id": "PHFr1xPh0XV1",
    "jupyter": {
     "outputs_hidden": true
    }
   },
   "outputs": [],
   "source": []
  },
  {
   "cell_type": "code",
   "execution_count": null,
   "metadata": {
    "collapsed": true,
    "id": "4viqe2590XV1",
    "jupyter": {
     "outputs_hidden": true
    }
   },
   "outputs": [],
   "source": []
  },
  {
   "cell_type": "code",
   "execution_count": null,
   "metadata": {
    "collapsed": true,
    "id": "rarswmRA0XV2",
    "jupyter": {
     "outputs_hidden": true
    }
   },
   "outputs": [],
   "source": []
  }
 ],
 "metadata": {
  "colab": {
   "collapsed_sections": [
    "1hO2Axv-0XVi",
    "nVk6EvLh0XVm",
    "HJ8OzPGd0XVo",
    "zycY971h0XVp",
    "6cNHfpCq0XVt",
    "9PypjPpl0XVt",
    "SsucEc_K0XVt",
    "85iuXega0XVy",
    "klcnPUEM0XV1"
   ],
   "name": "04_CancerAnalysis_Latest.ipynb",
   "provenance": []
  },
  "kernelspec": {
   "display_name": "Python 3",
   "language": "python",
   "name": "python3"
  },
  "language_info": {
   "codemirror_mode": {
    "name": "ipython",
    "version": 3
   },
   "file_extension": ".py",
   "mimetype": "text/x-python",
   "name": "python",
   "nbconvert_exporter": "python",
   "pygments_lexer": "ipython3",
   "version": "3.7.6"
  },
  "toc": {
   "colors": {
    "hover_highlight": "#DAA520",
    "navigate_num": "#000000",
    "navigate_text": "#333333",
    "running_highlight": "#FF0000",
    "selected_highlight": "#FFD700",
    "sidebar_border": "#EEEEEE",
    "wrapper_background": "#FFFFFF"
   },
   "moveMenuLeft": true,
   "nav_menu": {
    "height": "435px",
    "width": "252px"
   },
   "navigate_menu": true,
   "number_sections": false,
   "sideBar": true,
   "threshold": 4,
   "toc_cell": true,
   "toc_section_display": "block",
   "toc_window_display": false,
   "widenNotebook": false
  },
  "varInspector": {
   "cols": {
    "lenName": 16,
    "lenType": 16,
    "lenVar": 40
   },
   "kernels_config": {
    "python": {
     "delete_cmd_postfix": "",
     "delete_cmd_prefix": "del ",
     "library": "var_list.py",
     "varRefreshCmd": "print(var_dic_list())"
    },
    "r": {
     "delete_cmd_postfix": ") ",
     "delete_cmd_prefix": "rm(",
     "library": "var_list.r",
     "varRefreshCmd": "cat(var_dic_list()) "
    }
   },
   "position": {
    "height": "688px",
    "left": "654.815px",
    "right": "20px",
    "top": "113.991px",
    "width": "543px"
   },
   "types_to_exclude": [
    "module",
    "function",
    "builtin_function_or_method",
    "instance",
    "_Feature"
   ],
   "window_display": false
  }
 },
 "nbformat": 4,
 "nbformat_minor": 1
}
