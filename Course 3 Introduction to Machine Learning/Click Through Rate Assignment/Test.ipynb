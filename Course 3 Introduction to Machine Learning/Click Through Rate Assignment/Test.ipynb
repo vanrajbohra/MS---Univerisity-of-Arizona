{
 "cells": [
  {
   "cell_type": "code",
   "execution_count": 2,
   "id": "a4b194f1",
   "metadata": {},
   "outputs": [],
   "source": [
    "import pickle\n",
    "import pandas\n"
   ]
  },
  {
   "cell_type": "code",
   "execution_count": 7,
   "id": "ab391668",
   "metadata": {},
   "outputs": [],
   "source": [
    "file = open('logistic_regression_model.sav')\n"
   ]
  },
  {
   "cell_type": "code",
   "execution_count": 8,
   "id": "0fe66490",
   "metadata": {},
   "outputs": [
    {
     "ename": "UnicodeDecodeError",
     "evalue": "'charmap' codec can't decode byte 0x81 in position 61: character maps to <undefined>",
     "output_type": "error",
     "traceback": [
      "\u001b[1;31m---------------------------------------------------------------------------\u001b[0m",
      "\u001b[1;31mUnicodeDecodeError\u001b[0m                        Traceback (most recent call last)",
      "Input \u001b[1;32mIn [8]\u001b[0m, in \u001b[0;36m<cell line: 1>\u001b[1;34m()\u001b[0m\n\u001b[1;32m----> 1\u001b[0m \u001b[43mpickle\u001b[49m\u001b[38;5;241;43m.\u001b[39;49m\u001b[43mload\u001b[49m\u001b[43m(\u001b[49m\u001b[43mfile\u001b[49m\u001b[43m)\u001b[49m\n",
      "File \u001b[1;32m~\\Anaconda3\\lib\\encodings\\cp1252.py:23\u001b[0m, in \u001b[0;36mIncrementalDecoder.decode\u001b[1;34m(self, input, final)\u001b[0m\n\u001b[0;32m     22\u001b[0m \u001b[38;5;28;01mdef\u001b[39;00m \u001b[38;5;21mdecode\u001b[39m(\u001b[38;5;28mself\u001b[39m, \u001b[38;5;28minput\u001b[39m, final\u001b[38;5;241m=\u001b[39m\u001b[38;5;28;01mFalse\u001b[39;00m):\n\u001b[1;32m---> 23\u001b[0m     \u001b[38;5;28;01mreturn\u001b[39;00m \u001b[43mcodecs\u001b[49m\u001b[38;5;241;43m.\u001b[39;49m\u001b[43mcharmap_decode\u001b[49m\u001b[43m(\u001b[49m\u001b[38;5;28;43minput\u001b[39;49m\u001b[43m,\u001b[49m\u001b[38;5;28;43mself\u001b[39;49m\u001b[38;5;241;43m.\u001b[39;49m\u001b[43merrors\u001b[49m\u001b[43m,\u001b[49m\u001b[43mdecoding_table\u001b[49m\u001b[43m)\u001b[49m[\u001b[38;5;241m0\u001b[39m]\n",
      "\u001b[1;31mUnicodeDecodeError\u001b[0m: 'charmap' codec can't decode byte 0x81 in position 61: character maps to <undefined>"
     ]
    }
   ],
   "source": [
    "pickle.load(file)"
   ]
  },
  {
   "cell_type": "code",
   "execution_count": 9,
   "id": "7e07e99c",
   "metadata": {},
   "outputs": [
    {
     "name": "stdout",
     "output_type": "stream",
     "text": [
      "Collecting savReaderWriter\n",
      "  Downloading savReaderWriter-3.4.2.tar.gz (50.9 MB)\n",
      "Building wheels for collected packages: savReaderWriter\n",
      "  Building wheel for savReaderWriter (setup.py): started\n",
      "  Building wheel for savReaderWriter (setup.py): finished with status 'done'\n",
      "  Created wheel for savReaderWriter: filename=savReaderWriter-3.4.2-py3-none-any.whl size=51142028 sha256=3101e38ed8ebf7e4fe376c0a43bbec950b20286f5dffa0db3886e24281080344\n",
      "  Stored in directory: c:\\users\\vbohra167040\\appdata\\local\\pip\\cache\\wheels\\cb\\a1\\bf\\2b0abba03732dda64bac1510f20b5d34cae4fe071dc0699336\n",
      "Successfully built savReaderWriter\n",
      "Installing collected packages: savReaderWriter\n",
      "Successfully installed savReaderWriter-3.4.2\n",
      "Note: you may need to restart the kernel to use updated packages.\n"
     ]
    }
   ],
   "source": [
    "pip install savReaderWriter --upgrade\n"
   ]
  },
  {
   "cell_type": "code",
   "execution_count": null,
   "id": "50cd6f9d",
   "metadata": {},
   "outputs": [],
   "source": [
    "import pandas\n",
    "import savReaderWriter\n",
    "\n",
    "with savReaderWriter.SavReader('logistic_regression_model.sav.sav', ioUtf8 = True) as reader:\n",
    "    df = pandas.DataFrame(reader.all(), columns = [s.decode('CP1252') for s in reader.header])\n",
    "df.head()"
   ]
  }
 ],
 "metadata": {
  "kernelspec": {
   "display_name": "Python 3 (ipykernel)",
   "language": "python",
   "name": "python3"
  },
  "language_info": {
   "codemirror_mode": {
    "name": "ipython",
    "version": 3
   },
   "file_extension": ".py",
   "mimetype": "text/x-python",
   "name": "python",
   "nbconvert_exporter": "python",
   "pygments_lexer": "ipython3",
   "version": "3.9.12"
  }
 },
 "nbformat": 4,
 "nbformat_minor": 5
}
