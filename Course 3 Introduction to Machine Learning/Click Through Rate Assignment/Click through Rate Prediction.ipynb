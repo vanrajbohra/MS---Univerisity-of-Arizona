{
 "cells": [
  {
   "cell_type": "markdown",
   "metadata": {},
   "source": [
    "<H1 style = \"color : blue\"> Click-through Rate Prediction </H1>\n",
    "\n",
    "<H3 style = \"color : brown\"><b>Introduction:</b><br></H3>\n",
    "Most of the websites we visit include ads. The online advertising industry is huge, and players such as Google, Amazon, and Facebook generate billions of dollars by targeting the correct audiences with relevant ads. Most of the decisions about ads are data-driven solutions such as the following: \n",
    "\n",
    "- How do you know which ad to use and who to target?\n",
    "- Many companies advertise products in the same category, so how do you decide whose ad to display?\n",
    "- Which ad should be placed on which part of the web page?\n",
    "- Should a particular ad be pushed on a mobile device or remain on a desktop or laptop?\n",
    "\n",
    "These decisions depend on numerous factors, including when the ad is placed, the site it is placed on, the characteristics of the people who will see the ad, the overall demographics, and more.\n",
    "<br>\n",
    "\n",
    "<H3 style = \"color : brown\"><b>Business Understanding: </b><br></H3>\n",
    "You may have some experience of traveling to and from the airport. Have you ever used Uber or any other cab service for this travel? Did you at any time face the problem of cancellation by the driver or non-availability of cars?<br>\n",
    "Well, if these are the problems faced by customers, these very issues also impact the business of Uber. If drivers cancel the request of riders or if cars are unavailable, Uber loses out on its revenue.\n",
    "\n",
    "<H3 style = \"color : brown\"><b>Problem Statement:</b><br></H3>\n",
    "The objective is to predict whether the audience will click on an ad or not and thus help the marketing team answer ad placement-related questions.\n"
   ]
  },
  {
   "cell_type": "code",
   "execution_count": 1,
   "metadata": {},
   "outputs": [],
   "source": [
    "# load a library we will use in this analysis\n",
    "import numpy as np\n",
    "import pandas as pd\n",
    "import matplotlib.pyplot as plt\n",
    "import seaborn as sns\n",
    "import time\n",
    "import datetime as dt\n",
    "\n",
    "# Supress Warnings\n",
    "import warnings\n",
    "warnings.filterwarnings('ignore')"
   ]
  },
  {
   "cell_type": "code",
   "execution_count": 2,
   "metadata": {},
   "outputs": [
    {
     "name": "stdout",
     "output_type": "stream",
     "text": [
      "   click    C1  banner_pos   site_id site_domain site_category    app_id  \\\n",
      "0  False  1005           1  856e6d3f    58a89a43      f028772b  ecad2386   \n",
      "1   True  1005           1  e151e245    7e091613      f028772b  ecad2386   \n",
      "2  False  1005           0  e3c09f3a    d262cf1e      28905ebd  ecad2386   \n",
      "3  False  1002           0  0da94452    248e439f      50e219e0  ecad2386   \n",
      "4   True  1005           0  1fbe01fe    f3845767      28905ebd  ecad2386   \n",
      "\n",
      "  app_domain app_category device_id  ...   C17 C18  C19     C20  C21  month  \\\n",
      "0   7801e8d9     07d7df22  a99f214a  ...  2528   0   39  100075  221     10   \n",
      "1   7801e8d9     07d7df22  a99f214a  ...  1934   2   39      -1   16     10   \n",
      "2   7801e8d9     07d7df22  a99f214a  ...  2552   3  167  100202   23     10   \n",
      "3   7801e8d9     07d7df22  0fa578fd  ...  2478   3  167  100074   23     10   \n",
      "4   7801e8d9     07d7df22  a99f214a  ...  1722   0   35      -1   79     10   \n",
      "\n",
      "   dayofweek  day  hour  y  \n",
      "0          1   28    14  0  \n",
      "1          2   22    19  1  \n",
      "2          3   23    18  0  \n",
      "3          2   22    19  0  \n",
      "4          1   21     8  1  \n",
      "\n",
      "[5 rows x 27 columns]\n"
     ]
    }
   ],
   "source": [
    "# Loading a data\n",
    "df = pd.read_csv(\"data.csv\")\n",
    "print(df.head(5))"
   ]
  },
  {
   "cell_type": "markdown",
   "metadata": {},
   "source": [
    "<H3 style = \"color : brown\"><b>Data Attributes</b><br></H3>\n",
    "\n",
    "There are 27 attributes associated with each a customer:\n",
    "\n",
    "1. <b>click: </b>it is a Target Variable. 0/1 for non-click/click\n",
    "2. <b>C1: </b>anonymized categorical variable\n",
    "3. <b>banner_pos: </b>position of the ad/banner on the page\n",
    "4. <b>site_id: </b>unique id of the site on which the ad is shown\n",
    "5. <b>site_domain: </b>unique domain of the site on which the ad is shown\n",
    "6. <b>site_category: </b>category of the site on which the ad is shown\n",
    "7. <b>app_id: </b>app id of the site on which the ad is shown\n",
    "8. <b>app_domain: </b>app category of the site on which the ad is shown\n",
    "9. <b>app_category: </b>category id of the site on which the ad is shown\n",
    "10. <b>device_id: </b>device id on which the add was shown\n",
    "11. <b>device_ip: </b>ip address of the device on which the ad was shown\n",
    "12. <b>device_model: </b>model type of the device on which the ad was shown\n",
    "13. <b>device_type: </b>the device type on which the ad was shown\n",
    "14. <b>device_conn_type: </b>the connection type of the device on which the ad was shown\n",
    "15. <b>C14 - C21: </b>anonymized categorical variable\n",
    "16. <b>hour: format is YYMMDDHH, so 14091123 means 23:00 on Sept. 11, 2014 UTC.</b>\n",
    "\n",
    "<b><u>Please note : </u></b>\n",
    "\n",
    "- <b><i>C1 and C14 to C21 is Anonymized Confidential Information, which is non sharable sensitive information, can't be shared in public domain.</i></b>\n",
    "- <b><i>other than Click(Target variable all other can be used as feature.</i></b>\n",
    "- <b><i>this all information will be taken as input to build Classification Model</i></b>\n"
   ]
  },
  {
   "cell_type": "code",
   "execution_count": 3,
   "metadata": {},
   "outputs": [
    {
     "data": {
      "text/plain": [
       "(99999, 27)"
      ]
     },
     "execution_count": 3,
     "metadata": {},
     "output_type": "execute_result"
    }
   ],
   "source": [
    "# total Records of Dataset\n",
    "df.shape"
   ]
  },
  {
   "cell_type": "code",
   "execution_count": 4,
   "metadata": {},
   "outputs": [
    {
     "data": {
      "text/plain": [
       "array(['click', 'C1', 'banner_pos', 'site_id', 'site_domain',\n",
       "       'site_category', 'app_id', 'app_domain', 'app_category',\n",
       "       'device_id', 'device_ip', 'device_model', 'device_type',\n",
       "       'device_conn_type', 'C14', 'C15', 'C16', 'C17', 'C18', 'C19',\n",
       "       'C20', 'C21', 'month', 'dayofweek', 'day', 'hour', 'y'],\n",
       "      dtype=object)"
      ]
     },
     "execution_count": 4,
     "metadata": {},
     "output_type": "execute_result"
    }
   ],
   "source": [
    "df.columns.values"
   ]
  },
  {
   "cell_type": "code",
   "execution_count": 5,
   "metadata": {},
   "outputs": [
    {
     "name": "stdout",
     "output_type": "stream",
     "text": [
      "<class 'pandas.core.frame.DataFrame'>\n",
      "RangeIndex: 99999 entries, 0 to 99998\n",
      "Data columns (total 27 columns):\n",
      " #   Column            Non-Null Count  Dtype \n",
      "---  ------            --------------  ----- \n",
      " 0   click             99999 non-null  bool  \n",
      " 1   C1                99999 non-null  int64 \n",
      " 2   banner_pos        99999 non-null  int64 \n",
      " 3   site_id           99999 non-null  object\n",
      " 4   site_domain       99999 non-null  object\n",
      " 5   site_category     99999 non-null  object\n",
      " 6   app_id            99999 non-null  object\n",
      " 7   app_domain        99999 non-null  object\n",
      " 8   app_category      99999 non-null  object\n",
      " 9   device_id         99999 non-null  object\n",
      " 10  device_ip         99999 non-null  object\n",
      " 11  device_model      99999 non-null  object\n",
      " 12  device_type       99999 non-null  int64 \n",
      " 13  device_conn_type  99999 non-null  int64 \n",
      " 14  C14               99999 non-null  int64 \n",
      " 15  C15               99999 non-null  int64 \n",
      " 16  C16               99999 non-null  int64 \n",
      " 17  C17               99999 non-null  int64 \n",
      " 18  C18               99999 non-null  int64 \n",
      " 19  C19               99999 non-null  int64 \n",
      " 20  C20               99999 non-null  int64 \n",
      " 21  C21               99999 non-null  int64 \n",
      " 22  month             99999 non-null  int64 \n",
      " 23  dayofweek         99999 non-null  int64 \n",
      " 24  day               99999 non-null  int64 \n",
      " 25  hour              99999 non-null  int64 \n",
      " 26  y                 99999 non-null  int64 \n",
      "dtypes: bool(1), int64(17), object(9)\n",
      "memory usage: 19.9+ MB\n"
     ]
    }
   ],
   "source": [
    "# find detail about all column\n",
    "df.info()"
   ]
  },
  {
   "cell_type": "code",
   "execution_count": 6,
   "metadata": {},
   "outputs": [
    {
     "data": {
      "text/plain": [
       "click               0\n",
       "C1                  0\n",
       "banner_pos          0\n",
       "site_id             0\n",
       "site_domain         0\n",
       "site_category       0\n",
       "app_id              0\n",
       "app_domain          0\n",
       "app_category        0\n",
       "device_id           0\n",
       "device_ip           0\n",
       "device_model        0\n",
       "device_type         0\n",
       "device_conn_type    0\n",
       "C14                 0\n",
       "C15                 0\n",
       "C16                 0\n",
       "C17                 0\n",
       "C18                 0\n",
       "C19                 0\n",
       "C20                 0\n",
       "C21                 0\n",
       "month               0\n",
       "dayofweek           0\n",
       "day                 0\n",
       "hour                0\n",
       "y                   0\n",
       "dtype: int64"
      ]
     },
     "execution_count": 6,
     "metadata": {},
     "output_type": "execute_result"
    }
   ],
   "source": [
    "#to see all Null Values in dataset\n",
    "df.isnull().sum()"
   ]
  },
  {
   "cell_type": "code",
   "execution_count": 7,
   "metadata": {},
   "outputs": [
    {
     "data": {
      "text/plain": [
       "0        0\n",
       "1        1\n",
       "2        0\n",
       "3        0\n",
       "4        1\n",
       "        ..\n",
       "99994    0\n",
       "99995    0\n",
       "99996    1\n",
       "99997    1\n",
       "99998    0\n",
       "Name: y, Length: 99999, dtype: int64"
      ]
     },
     "execution_count": 7,
     "metadata": {},
     "output_type": "execute_result"
    }
   ],
   "source": [
    "df.y"
   ]
  },
  {
   "cell_type": "code",
   "execution_count": 8,
   "metadata": {},
   "outputs": [
    {
     "data": {
      "text/plain": [
       "False    0.830198\n",
       "True     0.169802\n",
       "Name: click, dtype: float64"
      ]
     },
     "execution_count": 8,
     "metadata": {},
     "output_type": "execute_result"
    }
   ],
   "source": [
    "df.click.value_counts(normalize=True)"
   ]
  },
  {
   "cell_type": "code",
   "execution_count": 9,
   "metadata": {},
   "outputs": [
    {
     "data": {
      "text/plain": [
       "<AxesSubplot:xlabel='banner_pos', ylabel='count'>"
      ]
     },
     "execution_count": 9,
     "metadata": {},
     "output_type": "execute_result"
    },
    {
     "data": {
      "image/png": "[encoded data removed]",
      "text/plain": [
       "<Figure size 432x288 with 1 Axes>"
      ]
     },
     "metadata": {
      "needs_background": "light"
     },
     "output_type": "display_data"
    }
   ],
   "source": [
    "sns.countplot(x=df.banner_pos,hue = df.click )"
   ]
  },
  {
   "cell_type": "code",
   "execution_count": 10,
   "metadata": {},
   "outputs": [
    {
     "data": {
      "text/plain": [
       "99999"
      ]
     },
     "execution_count": 10,
     "metadata": {},
     "output_type": "execute_result"
    }
   ],
   "source": [
    "df.shape[0]"
   ]
  },
  {
   "cell_type": "code",
   "execution_count": 11,
   "metadata": {},
   "outputs": [],
   "source": [
    "def EDA(parameter):\n",
    "    #Impression\n",
    "    Temp1 = 100 * (df.groupby(parameter).y.sum()/ df.groupby(parameter).y.count())\n",
    "    \n",
    "    #TotalLines\n",
    "    Temp2 = 100 * (df.groupby(parameter).y.count() / df.shape[0])\n",
    "\n",
    "    #EDA_banner_pos = \n",
    "    EDA_Table = pd.concat([Temp1,Temp2],axis = 1)\n",
    "\n",
    "\n",
    "    EDA_Table.reset_index(inplace = True)\n",
    "    column_names = ([parameter,'Impression','TotalLines'])\n",
    "    EDA_Table.columns = column_names\n",
    "    EDA_Table.set_index(parameter, inplace=True)\n",
    "    EDA_Table\n",
    "    \n",
    "    plt.figure(figsize=(10, 10))\n",
    "    \n",
    "    sns.lineplot(data= EDA_Table, dashes=False,sort=False, lw=1)\n",
    "    #sns.countplot(data= EDA_Table,x = parameter)\n",
    "    #sns.barplot(data= EDA_Table)\n",
    "    plt.xticks(rotation=90)\n",
    "    plt.show\n",
    "    EDA_Table\n"
   ]
  },
  {
   "cell_type": "code",
   "execution_count": 12,
   "metadata": {},
   "outputs": [
    {
     "data": {
      "image/png": "[encoded data removed]",
      "text/plain": [
       "<Figure size 720x720 with 1 Axes>"
      ]
     },
     "metadata": {
      "needs_background": "light"
     },
     "output_type": "display_data"
    }
   ],
   "source": [
    "EDA('C1')"
   ]
  },
  {
   "cell_type": "code",
   "execution_count": 13,
   "metadata": {},
   "outputs": [
    {
     "data": {
      "image/png": "[encoded data removed]",
      "text/plain": [
       "<Figure size 720x720 with 1 Axes>"
      ]
     },
     "metadata": {
      "needs_background": "light"
     },
     "output_type": "display_data"
    }
   ],
   "source": [
    "EDA('banner_pos')"
   ]
  },
  {
   "cell_type": "code",
   "execution_count": 14,
   "metadata": {},
   "outputs": [
    {
     "data": {
      "image/png": "[encoded data removed]",
      "text/plain": [
       "<Figure size 720x720 with 1 Axes>"
      ]
     },
     "metadata": {
      "needs_background": "light"
     },
     "output_type": "display_data"
    }
   ],
   "source": [
    "EDA('site_category')"
   ]
  },
  {
   "cell_type": "code",
   "execution_count": 15,
   "metadata": {},
   "outputs": [
    {
     "data": {
      "text/plain": [
       "click                   2\n",
       "C1                      7\n",
       "banner_pos              7\n",
       "site_id              1485\n",
       "site_domain          1331\n",
       "site_category          19\n",
       "app_id               1354\n",
       "app_domain             96\n",
       "app_category           21\n",
       "device_id           16801\n",
       "device_ip           78013\n",
       "device_model         3145\n",
       "device_type             4\n",
       "device_conn_type        4\n",
       "C14                  1722\n",
       "C15                     8\n",
       "C16                     9\n",
       "C17                   399\n",
       "C18                     4\n",
       "C19                    64\n",
       "C20                   154\n",
       "C21                    60\n",
       "month                   1\n",
       "dayofweek               7\n",
       "day                    10\n",
       "hour                   24\n",
       "y                       2\n",
       "dtype: int64"
      ]
     },
     "execution_count": 15,
     "metadata": {},
     "output_type": "execute_result"
    }
   ],
   "source": [
    "df.nunique()"
   ]
  },
  {
   "cell_type": "code",
   "execution_count": 16,
   "metadata": {},
   "outputs": [
    {
     "data": {
      "text/plain": [
       "0    0.830198\n",
       "1    0.169802\n",
       "Name: y, dtype: float64"
      ]
     },
     "execution_count": 16,
     "metadata": {},
     "output_type": "execute_result"
    }
   ],
   "source": [
    "df.y.value_counts(normalize=True)"
   ]
  },
  {
   "cell_type": "code",
   "execution_count": 17,
   "metadata": {},
   "outputs": [
    {
     "data": {
      "image/png": "[encoded data removed]",
      "text/plain": [
       "<Figure size 432x288 with 1 Axes>"
      ]
     },
     "metadata": {
      "needs_background": "light"
     },
     "output_type": "display_data"
    }
   ],
   "source": [
    "#Plotting Click \n",
    "plt.figure()\n",
    "ax = sns.countplot(x='click',data = df)\n",
    "\n",
    "for i in ax.containers:\n",
    "    ax.bar_label(i)\n",
    "\n",
    "plt.show()"
   ]
  },
  {
   "cell_type": "code",
   "execution_count": 18,
   "metadata": {},
   "outputs": [
    {
     "data": {
      "image/png": "[encoded data removed]",
      "text/plain": [
       "<Figure size 432x288 with 1 Axes>"
      ]
     },
     "metadata": {
      "needs_background": "light"
     },
     "output_type": "display_data"
    }
   ],
   "source": [
    "#Plotting banner_pos           \n",
    "plt.figure()\n",
    "\n",
    "ax = sns.countplot(x='banner_pos',data = df)\n",
    "\n",
    "for i in ax.containers:\n",
    "    ax.bar_label(i)\n",
    "\n",
    "plt.show()"
   ]
  },
  {
   "cell_type": "code",
   "execution_count": 19,
   "metadata": {},
   "outputs": [
    {
     "data": {
      "text/plain": [
       "85f751fd    36022\n",
       "1fbe01fe    15862\n",
       "e151e245     6597\n",
       "d9750ee7     2376\n",
       "5b08c53b     2305\n",
       "            ...  \n",
       "9e1b18be        1\n",
       "27e10723        1\n",
       "1661bb7f        1\n",
       "1edf0277        1\n",
       "bf991633        1\n",
       "Name: site_id, Length: 1485, dtype: int64"
      ]
     },
     "execution_count": 19,
     "metadata": {},
     "output_type": "execute_result"
    }
   ],
   "source": [
    "df.site_id.value_counts()"
   ]
  },
  {
   "cell_type": "code",
   "execution_count": 20,
   "metadata": {},
   "outputs": [
    {
     "data": {
      "text/plain": [
       "c4e18dd6    37362\n",
       "f3845767    15862\n",
       "7e091613     8280\n",
       "7687a86e     3220\n",
       "98572c79     2456\n",
       "            ...  \n",
       "babf5d87        1\n",
       "a63817ea        1\n",
       "8d450543        1\n",
       "66cf2855        1\n",
       "bde22369        1\n",
       "Name: site_domain, Length: 1331, dtype: int64"
      ]
     },
     "execution_count": 20,
     "metadata": {},
     "output_type": "execute_result"
    }
   ],
   "source": [
    "df.site_domain.value_counts()"
   ]
  },
  {
   "cell_type": "code",
   "execution_count": 21,
   "metadata": {},
   "outputs": [
    {
     "data": {
      "text/plain": [
       "ecad2386    63977\n",
       "92f5800b     3865\n",
       "e2fcccd2     2849\n",
       "febd1138     1888\n",
       "9c13b419     1867\n",
       "            ...  \n",
       "680d6760        1\n",
       "a40fbb61        1\n",
       "82a4d1ff        1\n",
       "0890d0ba        1\n",
       "a821a6b6        1\n",
       "Name: app_id, Length: 1354, dtype: int64"
      ]
     },
     "execution_count": 21,
     "metadata": {},
     "output_type": "execute_result"
    }
   ],
   "source": [
    "df.app_id.value_counts()"
   ]
  },
  {
   "cell_type": "code",
   "execution_count": 22,
   "metadata": {},
   "outputs": [
    {
     "data": {
      "text/plain": [
       "85f751fd    36022\n",
       "1fbe01fe    15862\n",
       "e151e245     6597\n",
       "d9750ee7     2376\n",
       "5b08c53b     2305\n",
       "            ...  \n",
       "9e1b18be        1\n",
       "27e10723        1\n",
       "1661bb7f        1\n",
       "1edf0277        1\n",
       "bf991633        1\n",
       "Name: site_id, Length: 1485, dtype: int64"
      ]
     },
     "execution_count": 22,
     "metadata": {},
     "output_type": "execute_result"
    }
   ],
   "source": [
    "df.site_id.value_counts()"
   ]
  },
  {
   "cell_type": "code",
   "execution_count": 23,
   "metadata": {},
   "outputs": [
    {
     "data": {
      "text/plain": [
       "a99f214a    82579\n",
       "c357dbff       62\n",
       "0f7c61dc       51\n",
       "afeffc18       34\n",
       "936e92fb       27\n",
       "            ...  \n",
       "125e25bb        1\n",
       "244973fb        1\n",
       "9ba711d4        1\n",
       "60e04656        1\n",
       "927c68c6        1\n",
       "Name: device_id, Length: 16801, dtype: int64"
      ]
     },
     "execution_count": 23,
     "metadata": {},
     "output_type": "execute_result"
    }
   ],
   "source": [
    "df.device_id.value_counts()"
   ]
  },
  {
   "cell_type": "code",
   "execution_count": 24,
   "metadata": {},
   "outputs": [
    {
     "data": {
      "text/plain": [
       "50e219e0    40839\n",
       "f028772b    31408\n",
       "28905ebd    18107\n",
       "3e814130     7668\n",
       "f66779e6      634\n",
       "75fa27f6      392\n",
       "335d28a8      358\n",
       "76b2941d      247\n",
       "c0dd3be3      104\n",
       "72722551       64\n",
       "dedf689d       58\n",
       "70fb0e29       45\n",
       "0569f928       34\n",
       "8fd0aea4       19\n",
       "a818d37a       12\n",
       "42a36e14        4\n",
       "e787de0e        4\n",
       "9ccfa2ea        1\n",
       "5378d028        1\n",
       "Name: site_category, dtype: int64"
      ]
     },
     "execution_count": 24,
     "metadata": {},
     "output_type": "execute_result"
    }
   ],
   "source": [
    "df.site_category.value_counts()"
   ]
  },
  {
   "cell_type": "code",
   "execution_count": 25,
   "metadata": {},
   "outputs": [
    {
     "data": {
      "text/plain": [
       "ecad2386    63977\n",
       "92f5800b     3865\n",
       "e2fcccd2     2849\n",
       "febd1138     1888\n",
       "9c13b419     1867\n",
       "            ...  \n",
       "680d6760        1\n",
       "a40fbb61        1\n",
       "82a4d1ff        1\n",
       "0890d0ba        1\n",
       "a821a6b6        1\n",
       "Name: app_id, Length: 1354, dtype: int64"
      ]
     },
     "execution_count": 25,
     "metadata": {},
     "output_type": "execute_result"
    }
   ],
   "source": [
    "df.app_id.value_counts()"
   ]
  },
  {
   "cell_type": "code",
   "execution_count": 26,
   "metadata": {},
   "outputs": [
    {
     "data": {
      "text/plain": [
       "7801e8d9    67464\n",
       "2347f47a    12893\n",
       "ae637522     4701\n",
       "5c5a694b     2850\n",
       "82e27996     1889\n",
       "            ...  \n",
       "ead20d3d        1\n",
       "2619a4f7        1\n",
       "cb36afb8        1\n",
       "ae36b8ab        1\n",
       "63f57be0        1\n",
       "Name: app_domain, Length: 96, dtype: int64"
      ]
     },
     "execution_count": 26,
     "metadata": {},
     "output_type": "execute_result"
    }
   ],
   "source": [
    "df.app_domain.value_counts()"
   ]
  },
  {
   "cell_type": "code",
   "execution_count": 27,
   "metadata": {},
   "outputs": [
    {
     "data": {
      "text/plain": [
       "07d7df22    64769\n",
       "0f2161f8    23644\n",
       "cef3e649     4300\n",
       "8ded1f7a     3519\n",
       "f95efa07     2868\n",
       "d1327cf5      315\n",
       "dc97ec06      140\n",
       "09481d60      129\n",
       "75d80bbe       81\n",
       "4ce2e9fc       67\n",
       "fc6fa53d       58\n",
       "a3c42688       32\n",
       "879c24eb       22\n",
       "4681bb9d       21\n",
       "0f9a328c       13\n",
       "a86a3e89        6\n",
       "2281a340        6\n",
       "8df2e842        5\n",
       "7113d72a        2\n",
       "a7fd01ec        1\n",
       "79f0b860        1\n",
       "Name: app_category, dtype: int64"
      ]
     },
     "execution_count": 27,
     "metadata": {},
     "output_type": "execute_result"
    }
   ],
   "source": [
    "df.app_category.value_counts()"
   ]
  },
  {
   "cell_type": "code",
   "execution_count": 28,
   "metadata": {},
   "outputs": [
    {
     "data": {
      "text/plain": [
       "8a4875bd    6041\n",
       "1f0bc64f    3401\n",
       "d787e91b    3373\n",
       "76dc4769    1862\n",
       "be6db1d7    1805\n",
       "            ... \n",
       "1dbc394f       1\n",
       "913bd042       1\n",
       "1d222263       1\n",
       "8932b0c5       1\n",
       "c84e186e       1\n",
       "Name: device_model, Length: 3145, dtype: int64"
      ]
     },
     "execution_count": 28,
     "metadata": {},
     "output_type": "execute_result"
    }
   ],
   "source": [
    "df.device_model.value_counts()"
   ]
  },
  {
   "cell_type": "code",
   "execution_count": 29,
   "metadata": {},
   "outputs": [
    {
     "data": {
      "text/plain": [
       "a99f214a    82579\n",
       "c357dbff       62\n",
       "0f7c61dc       51\n",
       "afeffc18       34\n",
       "936e92fb       27\n",
       "            ...  \n",
       "125e25bb        1\n",
       "244973fb        1\n",
       "9ba711d4        1\n",
       "60e04656        1\n",
       "927c68c6        1\n",
       "Name: device_id, Length: 16801, dtype: int64"
      ]
     },
     "execution_count": 29,
     "metadata": {},
     "output_type": "execute_result"
    }
   ],
   "source": [
    "df.device_id.value_counts()"
   ]
  },
  {
   "cell_type": "code",
   "execution_count": 30,
   "metadata": {},
   "outputs": [
    {
     "data": {
      "text/plain": [
       "1    92239\n",
       "0     5494\n",
       "4     1931\n",
       "5      335\n",
       "Name: device_type, dtype: int64"
      ]
     },
     "execution_count": 30,
     "metadata": {},
     "output_type": "execute_result"
    }
   ],
   "source": [
    "df.device_type.value_counts()"
   ]
  },
  {
   "cell_type": "code",
   "execution_count": 31,
   "metadata": {},
   "outputs": [
    {
     "data": {
      "text/plain": [
       "0    86413\n",
       "2     8043\n",
       "3     5428\n",
       "5      115\n",
       "Name: device_conn_type, dtype: int64"
      ]
     },
     "execution_count": 31,
     "metadata": {},
     "output_type": "execute_result"
    }
   ],
   "source": [
    "df.device_conn_type.value_counts()"
   ]
  },
  {
   "cell_type": "code",
   "execution_count": 32,
   "metadata": {},
   "outputs": [
    {
     "data": {
      "text/plain": [
       "4687     2306\n",
       "21611    2192\n",
       "21189    1908\n",
       "21191    1902\n",
       "19772    1827\n",
       "         ... \n",
       "23228       1\n",
       "23688       1\n",
       "18859       1\n",
       "19742       1\n",
       "16153       1\n",
       "Name: C14, Length: 1722, dtype: int64"
      ]
     },
     "execution_count": 32,
     "metadata": {},
     "output_type": "execute_result"
    }
   ],
   "source": [
    "df.C14.value_counts()"
   ]
  },
  {
   "cell_type": "code",
   "execution_count": 33,
   "metadata": {},
   "outputs": [
    {
     "data": {
      "text/plain": [
       "1005    91862\n",
       "1002     5494\n",
       "1010     2266\n",
       "1012      254\n",
       "1007       93\n",
       "1001       21\n",
       "1008        9\n",
       "Name: C1, dtype: int64"
      ]
     },
     "execution_count": 33,
     "metadata": {},
     "output_type": "execute_result"
    }
   ],
   "source": [
    "df.C1.value_counts()"
   ]
  },
  {
   "cell_type": "code",
   "execution_count": 34,
   "metadata": {},
   "outputs": [
    {
     "data": {
      "text/plain": [
       "320     93136\n",
       "300      5872\n",
       "216       776\n",
       "728       186\n",
       "120        10\n",
       "480         9\n",
       "1024        7\n",
       "768         3\n",
       "Name: C15, dtype: int64"
      ]
     },
     "execution_count": 34,
     "metadata": {},
     "output_type": "execute_result"
    }
   ],
   "source": [
    "df.C15.value_counts()"
   ]
  },
  {
   "cell_type": "code",
   "execution_count": 35,
   "metadata": {},
   "outputs": [
    {
     "data": {
      "text/plain": [
       "50      94209\n",
       "250      4532\n",
       "36        776\n",
       "480       267\n",
       "90        186\n",
       "20         10\n",
       "320         9\n",
       "768         7\n",
       "1024        3\n",
       "Name: C16, dtype: int64"
      ]
     },
     "execution_count": 35,
     "metadata": {},
     "output_type": "execute_result"
    }
   ],
   "source": [
    "df.C16.value_counts()"
   ]
  },
  {
   "cell_type": "code",
   "execution_count": 36,
   "metadata": {},
   "outputs": [
    {
     "data": {
      "text/plain": [
       "1722    10991\n",
       "2424     3810\n",
       "2227     3662\n",
       "1800     2953\n",
       "423      2306\n",
       "        ...  \n",
       "2525        1\n",
       "2483        1\n",
       "2582        1\n",
       "2592        1\n",
       "2541        1\n",
       "Name: C17, Length: 399, dtype: int64"
      ]
     },
     "execution_count": 36,
     "metadata": {},
     "output_type": "execute_result"
    }
   ],
   "source": [
    "df.C17.value_counts()"
   ]
  },
  {
   "cell_type": "code",
   "execution_count": 37,
   "metadata": {},
   "outputs": [
    {
     "data": {
      "text/plain": [
       "0    41659\n",
       "3    34043\n",
       "2    17563\n",
       "1     6734\n",
       "Name: C18, dtype: int64"
      ]
     },
     "execution_count": 37,
     "metadata": {},
     "output_type": "execute_result"
    }
   ],
   "source": [
    "df.C18.value_counts()"
   ]
  },
  {
   "cell_type": "code",
   "execution_count": 38,
   "metadata": {},
   "outputs": [
    {
     "data": {
      "text/plain": [
       "35      29935\n",
       "39      21905\n",
       "167      7832\n",
       "161      3956\n",
       "47       3582\n",
       "        ...  \n",
       "939        12\n",
       "1583        7\n",
       "683         3\n",
       "45          3\n",
       "1195        1\n",
       "Name: C19, Length: 64, dtype: int64"
      ]
     },
     "execution_count": 38,
     "metadata": {},
     "output_type": "execute_result"
    }
   ],
   "source": [
    "df.C19.value_counts()"
   ]
  },
  {
   "cell_type": "code",
   "execution_count": 39,
   "metadata": {},
   "outputs": [
    {
     "data": {
      "text/plain": [
       "-1         46767\n",
       " 100084     6071\n",
       " 100148     4405\n",
       " 100111     4143\n",
       " 100077     3915\n",
       "           ...  \n",
       " 100109        2\n",
       " 100043        2\n",
       " 100137        1\n",
       " 100175        1\n",
       " 100010        1\n",
       "Name: C20, Length: 154, dtype: int64"
      ]
     },
     "execution_count": 39,
     "metadata": {},
     "output_type": "execute_result"
    }
   ],
   "source": [
    "df.C20.value_counts()"
   ]
  },
  {
   "cell_type": "code",
   "execution_count": 40,
   "metadata": {},
   "outputs": [
    {
     "data": {
      "text/plain": [
       "23     22096\n",
       "221    12352\n",
       "79     11227\n",
       "48      5381\n",
       "71      5268\n",
       "61      5056\n",
       "157     4540\n",
       "32      4383\n",
       "33      3743\n",
       "52      2984\n",
       "42      2549\n",
       "51      2132\n",
       "15      1890\n",
       "212     1640\n",
       "43      1397\n",
       "229     1031\n",
       "117     1016\n",
       "13       948\n",
       "16       880\n",
       "68       850\n",
       "156      848\n",
       "159      731\n",
       "95       700\n",
       "46       579\n",
       "246      486\n",
       "69       463\n",
       "91       432\n",
       "17       407\n",
       "111      386\n",
       "76       357\n",
       "171      312\n",
       "90       307\n",
       "70       306\n",
       "110      271\n",
       "204      241\n",
       "101      214\n",
       "112      198\n",
       "253      183\n",
       "82       182\n",
       "100      158\n",
       "182      131\n",
       "178      124\n",
       "108      124\n",
       "35       105\n",
       "94        68\n",
       "251       56\n",
       "116       35\n",
       "194       31\n",
       "20        29\n",
       "102       27\n",
       "104       25\n",
       "93        24\n",
       "126       24\n",
       "163       17\n",
       "195       16\n",
       "1         12\n",
       "255       10\n",
       "177        8\n",
       "219        7\n",
       "85         2\n",
       "Name: C21, dtype: int64"
      ]
     },
     "execution_count": 40,
     "metadata": {},
     "output_type": "execute_result"
    }
   ],
   "source": [
    "df.C21.value_counts()"
   ]
  },
  {
   "cell_type": "code",
   "execution_count": 41,
   "metadata": {},
   "outputs": [
    {
     "data": {
      "text/plain": [
       "10    99999\n",
       "Name: month, dtype: int64"
      ]
     },
     "execution_count": 41,
     "metadata": {},
     "output_type": "execute_result"
    }
   ],
   "source": [
    "df.month.value_counts()"
   ]
  },
  {
   "cell_type": "code",
   "execution_count": 42,
   "metadata": {},
   "outputs": [
    {
     "data": {
      "text/plain": [
       "1    23269\n",
       "2    22834\n",
       "3    20014\n",
       "6     9326\n",
       "4     8264\n",
       "5     8258\n",
       "0     8034\n",
       "Name: dayofweek, dtype: int64"
      ]
     },
     "execution_count": 42,
     "metadata": {},
     "output_type": "execute_result"
    }
   ],
   "source": [
    "df.dayofweek.value_counts()"
   ]
  },
  {
   "cell_type": "code",
   "execution_count": 43,
   "metadata": {},
   "outputs": [
    {
     "data": {
      "text/plain": [
       "22    13092\n",
       "28    13056\n",
       "30    10495\n",
       "21    10213\n",
       "29     9742\n",
       "23     9519\n",
       "26     9326\n",
       "24     8264\n",
       "25     8258\n",
       "27     8034\n",
       "Name: day, dtype: int64"
      ]
     },
     "execution_count": 43,
     "metadata": {},
     "output_type": "execute_result"
    }
   ],
   "source": [
    "df.day.value_counts()"
   ]
  },
  {
   "cell_type": "code",
   "execution_count": 44,
   "metadata": {},
   "outputs": [
    {
     "data": {
      "text/plain": [
       "13    5905\n",
       "9     5659\n",
       "12    5638\n",
       "14    5393\n",
       "10    5345\n",
       "8     5251\n",
       "11    5136\n",
       "17    5101\n",
       "16    5077\n",
       "15    5019\n",
       "5     4941\n",
       "4     4664\n",
       "7     4488\n",
       "18    4389\n",
       "6     4365\n",
       "3     3531\n",
       "19    3301\n",
       "2     2950\n",
       "20    2702\n",
       "21    2435\n",
       "1     2375\n",
       "22    2284\n",
       "23    2045\n",
       "0     2005\n",
       "Name: hour, dtype: int64"
      ]
     },
     "execution_count": 44,
     "metadata": {},
     "output_type": "execute_result"
    }
   ],
   "source": [
    "df.hour.value_counts()"
   ]
  },
  {
   "cell_type": "code",
   "execution_count": 45,
   "metadata": {},
   "outputs": [
    {
     "data": {
      "text/html": [
       "<div>\n",
       "<style scoped>\n",
       "    .dataframe tbody tr th:only-of-type {\n",
       "        vertical-align: middle;\n",
       "    }\n",
       "\n",
       "    .dataframe tbody tr th {\n",
       "        vertical-align: top;\n",
       "    }\n",
       "\n",
       "    .dataframe thead th {\n",
       "        text-align: right;\n",
       "    }\n",
       "</style>\n",
       "<table border=\"1\" class=\"dataframe\">\n",
       "  <thead>\n",
       "    <tr style=\"text-align: right;\">\n",
       "      <th></th>\n",
       "      <th>click</th>\n",
       "      <th>C1</th>\n",
       "      <th>banner_pos</th>\n",
       "      <th>site_id</th>\n",
       "      <th>site_domain</th>\n",
       "      <th>site_category</th>\n",
       "      <th>app_id</th>\n",
       "      <th>app_domain</th>\n",
       "      <th>app_category</th>\n",
       "      <th>device_id</th>\n",
       "      <th>...</th>\n",
       "      <th>C17</th>\n",
       "      <th>C18</th>\n",
       "      <th>C19</th>\n",
       "      <th>C20</th>\n",
       "      <th>C21</th>\n",
       "      <th>month</th>\n",
       "      <th>dayofweek</th>\n",
       "      <th>day</th>\n",
       "      <th>hour</th>\n",
       "      <th>y</th>\n",
       "    </tr>\n",
       "  </thead>\n",
       "  <tbody>\n",
       "    <tr>\n",
       "      <th>0</th>\n",
       "      <td>False</td>\n",
       "      <td>1005</td>\n",
       "      <td>1</td>\n",
       "      <td>856e6d3f</td>\n",
       "      <td>58a89a43</td>\n",
       "      <td>f028772b</td>\n",
       "      <td>ecad2386</td>\n",
       "      <td>7801e8d9</td>\n",
       "      <td>07d7df22</td>\n",
       "      <td>a99f214a</td>\n",
       "      <td>...</td>\n",
       "      <td>2528</td>\n",
       "      <td>0</td>\n",
       "      <td>39</td>\n",
       "      <td>100075</td>\n",
       "      <td>221</td>\n",
       "      <td>10</td>\n",
       "      <td>1</td>\n",
       "      <td>28</td>\n",
       "      <td>14</td>\n",
       "      <td>0</td>\n",
       "    </tr>\n",
       "    <tr>\n",
       "      <th>1</th>\n",
       "      <td>True</td>\n",
       "      <td>1005</td>\n",
       "      <td>1</td>\n",
       "      <td>e151e245</td>\n",
       "      <td>7e091613</td>\n",
       "      <td>f028772b</td>\n",
       "      <td>ecad2386</td>\n",
       "      <td>7801e8d9</td>\n",
       "      <td>07d7df22</td>\n",
       "      <td>a99f214a</td>\n",
       "      <td>...</td>\n",
       "      <td>1934</td>\n",
       "      <td>2</td>\n",
       "      <td>39</td>\n",
       "      <td>-1</td>\n",
       "      <td>16</td>\n",
       "      <td>10</td>\n",
       "      <td>2</td>\n",
       "      <td>22</td>\n",
       "      <td>19</td>\n",
       "      <td>1</td>\n",
       "    </tr>\n",
       "    <tr>\n",
       "      <th>2</th>\n",
       "      <td>False</td>\n",
       "      <td>1005</td>\n",
       "      <td>0</td>\n",
       "      <td>e3c09f3a</td>\n",
       "      <td>d262cf1e</td>\n",
       "      <td>28905ebd</td>\n",
       "      <td>ecad2386</td>\n",
       "      <td>7801e8d9</td>\n",
       "      <td>07d7df22</td>\n",
       "      <td>a99f214a</td>\n",
       "      <td>...</td>\n",
       "      <td>2552</td>\n",
       "      <td>3</td>\n",
       "      <td>167</td>\n",
       "      <td>100202</td>\n",
       "      <td>23</td>\n",
       "      <td>10</td>\n",
       "      <td>3</td>\n",
       "      <td>23</td>\n",
       "      <td>18</td>\n",
       "      <td>0</td>\n",
       "    </tr>\n",
       "    <tr>\n",
       "      <th>3</th>\n",
       "      <td>False</td>\n",
       "      <td>1002</td>\n",
       "      <td>0</td>\n",
       "      <td>0da94452</td>\n",
       "      <td>248e439f</td>\n",
       "      <td>50e219e0</td>\n",
       "      <td>ecad2386</td>\n",
       "      <td>7801e8d9</td>\n",
       "      <td>07d7df22</td>\n",
       "      <td>0fa578fd</td>\n",
       "      <td>...</td>\n",
       "      <td>2478</td>\n",
       "      <td>3</td>\n",
       "      <td>167</td>\n",
       "      <td>100074</td>\n",
       "      <td>23</td>\n",
       "      <td>10</td>\n",
       "      <td>2</td>\n",
       "      <td>22</td>\n",
       "      <td>19</td>\n",
       "      <td>0</td>\n",
       "    </tr>\n",
       "    <tr>\n",
       "      <th>4</th>\n",
       "      <td>True</td>\n",
       "      <td>1005</td>\n",
       "      <td>0</td>\n",
       "      <td>1fbe01fe</td>\n",
       "      <td>f3845767</td>\n",
       "      <td>28905ebd</td>\n",
       "      <td>ecad2386</td>\n",
       "      <td>7801e8d9</td>\n",
       "      <td>07d7df22</td>\n",
       "      <td>a99f214a</td>\n",
       "      <td>...</td>\n",
       "      <td>1722</td>\n",
       "      <td>0</td>\n",
       "      <td>35</td>\n",
       "      <td>-1</td>\n",
       "      <td>79</td>\n",
       "      <td>10</td>\n",
       "      <td>1</td>\n",
       "      <td>21</td>\n",
       "      <td>8</td>\n",
       "      <td>1</td>\n",
       "    </tr>\n",
       "  </tbody>\n",
       "</table>\n",
       "<p>5 rows × 27 columns</p>\n",
       "</div>"
      ],
      "text/plain": [
       "   click    C1  banner_pos   site_id site_domain site_category    app_id  \\\n",
       "0  False  1005           1  856e6d3f    58a89a43      f028772b  ecad2386   \n",
       "1   True  1005           1  e151e245    7e091613      f028772b  ecad2386   \n",
       "2  False  1005           0  e3c09f3a    d262cf1e      28905ebd  ecad2386   \n",
       "3  False  1002           0  0da94452    248e439f      50e219e0  ecad2386   \n",
       "4   True  1005           0  1fbe01fe    f3845767      28905ebd  ecad2386   \n",
       "\n",
       "  app_domain app_category device_id  ...   C17 C18  C19     C20  C21  month  \\\n",
       "0   7801e8d9     07d7df22  a99f214a  ...  2528   0   39  100075  221     10   \n",
       "1   7801e8d9     07d7df22  a99f214a  ...  1934   2   39      -1   16     10   \n",
       "2   7801e8d9     07d7df22  a99f214a  ...  2552   3  167  100202   23     10   \n",
       "3   7801e8d9     07d7df22  0fa578fd  ...  2478   3  167  100074   23     10   \n",
       "4   7801e8d9     07d7df22  a99f214a  ...  1722   0   35      -1   79     10   \n",
       "\n",
       "   dayofweek  day  hour  y  \n",
       "0          1   28    14  0  \n",
       "1          2   22    19  1  \n",
       "2          3   23    18  0  \n",
       "3          2   22    19  0  \n",
       "4          1   21     8  1  \n",
       "\n",
       "[5 rows x 27 columns]"
      ]
     },
     "execution_count": 45,
     "metadata": {},
     "output_type": "execute_result"
    }
   ],
   "source": [
    "df.head()"
   ]
  },
  {
   "cell_type": "code",
   "execution_count": 46,
   "metadata": {},
   "outputs": [
    {
     "data": {
      "text/plain": [
       "85f751fd    36022\n",
       "1fbe01fe    15862\n",
       "e151e245     6597\n",
       "d9750ee7     2376\n",
       "5b08c53b     2305\n",
       "            ...  \n",
       "9e1b18be        1\n",
       "27e10723        1\n",
       "1661bb7f        1\n",
       "1edf0277        1\n",
       "bf991633        1\n",
       "Name: site_id, Length: 1485, dtype: int64"
      ]
     },
     "execution_count": 46,
     "metadata": {},
     "output_type": "execute_result"
    }
   ],
   "source": [
    "df.site_id.value_counts()"
   ]
  },
  {
   "cell_type": "code",
   "execution_count": 47,
   "metadata": {},
   "outputs": [
    {
     "data": {
      "text/plain": [
       "ecad2386    63977\n",
       "92f5800b     3865\n",
       "e2fcccd2     2849\n",
       "febd1138     1888\n",
       "9c13b419     1867\n",
       "            ...  \n",
       "680d6760        1\n",
       "a40fbb61        1\n",
       "82a4d1ff        1\n",
       "0890d0ba        1\n",
       "a821a6b6        1\n",
       "Name: app_id, Length: 1354, dtype: int64"
      ]
     },
     "execution_count": 47,
     "metadata": {},
     "output_type": "execute_result"
    }
   ],
   "source": [
    "df.app_id.value_counts()"
   ]
  },
  {
   "cell_type": "code",
   "execution_count": 48,
   "metadata": {},
   "outputs": [
    {
     "data": {
      "text/plain": [
       "a99f214a    82579\n",
       "c357dbff       62\n",
       "0f7c61dc       51\n",
       "afeffc18       34\n",
       "936e92fb       27\n",
       "            ...  \n",
       "125e25bb        1\n",
       "244973fb        1\n",
       "9ba711d4        1\n",
       "60e04656        1\n",
       "927c68c6        1\n",
       "Name: device_id, Length: 16801, dtype: int64"
      ]
     },
     "execution_count": 48,
     "metadata": {},
     "output_type": "execute_result"
    }
   ],
   "source": [
    "df.device_id.value_counts()"
   ]
  },
  {
   "cell_type": "code",
   "execution_count": 49,
   "metadata": {},
   "outputs": [
    {
     "name": "stdout",
     "output_type": "stream",
     "text": [
      "<class 'pandas.core.frame.DataFrame'>\n",
      "RangeIndex: 99999 entries, 0 to 99998\n",
      "Data columns (total 27 columns):\n",
      " #   Column            Non-Null Count  Dtype \n",
      "---  ------            --------------  ----- \n",
      " 0   click             99999 non-null  bool  \n",
      " 1   C1                99999 non-null  int64 \n",
      " 2   banner_pos        99999 non-null  int64 \n",
      " 3   site_id           99999 non-null  object\n",
      " 4   site_domain       99999 non-null  object\n",
      " 5   site_category     99999 non-null  object\n",
      " 6   app_id            99999 non-null  object\n",
      " 7   app_domain        99999 non-null  object\n",
      " 8   app_category      99999 non-null  object\n",
      " 9   device_id         99999 non-null  object\n",
      " 10  device_ip         99999 non-null  object\n",
      " 11  device_model      99999 non-null  object\n",
      " 12  device_type       99999 non-null  int64 \n",
      " 13  device_conn_type  99999 non-null  int64 \n",
      " 14  C14               99999 non-null  int64 \n",
      " 15  C15               99999 non-null  int64 \n",
      " 16  C16               99999 non-null  int64 \n",
      " 17  C17               99999 non-null  int64 \n",
      " 18  C18               99999 non-null  int64 \n",
      " 19  C19               99999 non-null  int64 \n",
      " 20  C20               99999 non-null  int64 \n",
      " 21  C21               99999 non-null  int64 \n",
      " 22  month             99999 non-null  int64 \n",
      " 23  dayofweek         99999 non-null  int64 \n",
      " 24  day               99999 non-null  int64 \n",
      " 25  hour              99999 non-null  int64 \n",
      " 26  y                 99999 non-null  int64 \n",
      "dtypes: bool(1), int64(17), object(9)\n",
      "memory usage: 19.9+ MB\n"
     ]
    }
   ],
   "source": [
    "df.info()"
   ]
  },
  {
   "cell_type": "code",
   "execution_count": 50,
   "metadata": {},
   "outputs": [
    {
     "data": {
      "text/plain": [
       "99999"
      ]
     },
     "execution_count": 50,
     "metadata": {},
     "output_type": "execute_result"
    }
   ],
   "source": [
    "df.shape[0]"
   ]
  },
  {
   "cell_type": "code",
   "execution_count": 51,
   "metadata": {},
   "outputs": [],
   "source": [
    "df2 = pd.get_dummies(df.loc[:, ~df.columns.isin(['click','y','device_id','device_ip','site_id','month'])])"
   ]
  },
  {
   "cell_type": "code",
   "execution_count": 52,
   "metadata": {},
   "outputs": [
    {
     "data": {
      "text/html": [
       "<div>\n",
       "<style scoped>\n",
       "    .dataframe tbody tr th:only-of-type {\n",
       "        vertical-align: middle;\n",
       "    }\n",
       "\n",
       "    .dataframe tbody tr th {\n",
       "        vertical-align: top;\n",
       "    }\n",
       "\n",
       "    .dataframe thead th {\n",
       "        text-align: right;\n",
       "    }\n",
       "</style>\n",
       "<table border=\"1\" class=\"dataframe\">\n",
       "  <thead>\n",
       "    <tr style=\"text-align: right;\">\n",
       "      <th></th>\n",
       "      <th>C1</th>\n",
       "      <th>banner_pos</th>\n",
       "      <th>device_type</th>\n",
       "      <th>device_conn_type</th>\n",
       "      <th>C14</th>\n",
       "      <th>C15</th>\n",
       "      <th>C16</th>\n",
       "      <th>C17</th>\n",
       "      <th>C18</th>\n",
       "      <th>C19</th>\n",
       "      <th>...</th>\n",
       "      <th>device_model_ff607a1a</th>\n",
       "      <th>device_model_ff717dd1</th>\n",
       "      <th>device_model_ff91ea03</th>\n",
       "      <th>device_model_ff963f16</th>\n",
       "      <th>device_model_ffb16766</th>\n",
       "      <th>device_model_ffc70ef9</th>\n",
       "      <th>device_model_ffcd1497</th>\n",
       "      <th>device_model_ffceddb3</th>\n",
       "      <th>device_model_ffe3ae81</th>\n",
       "      <th>device_model_ffe69079</th>\n",
       "    </tr>\n",
       "  </thead>\n",
       "  <tbody>\n",
       "    <tr>\n",
       "      <th>0</th>\n",
       "      <td>1005</td>\n",
       "      <td>1</td>\n",
       "      <td>1</td>\n",
       "      <td>0</td>\n",
       "      <td>22683</td>\n",
       "      <td>320</td>\n",
       "      <td>50</td>\n",
       "      <td>2528</td>\n",
       "      <td>0</td>\n",
       "      <td>39</td>\n",
       "      <td>...</td>\n",
       "      <td>0</td>\n",
       "      <td>0</td>\n",
       "      <td>0</td>\n",
       "      <td>0</td>\n",
       "      <td>0</td>\n",
       "      <td>0</td>\n",
       "      <td>0</td>\n",
       "      <td>0</td>\n",
       "      <td>0</td>\n",
       "      <td>0</td>\n",
       "    </tr>\n",
       "    <tr>\n",
       "      <th>1</th>\n",
       "      <td>1005</td>\n",
       "      <td>1</td>\n",
       "      <td>1</td>\n",
       "      <td>0</td>\n",
       "      <td>17037</td>\n",
       "      <td>320</td>\n",
       "      <td>50</td>\n",
       "      <td>1934</td>\n",
       "      <td>2</td>\n",
       "      <td>39</td>\n",
       "      <td>...</td>\n",
       "      <td>0</td>\n",
       "      <td>0</td>\n",
       "      <td>0</td>\n",
       "      <td>0</td>\n",
       "      <td>0</td>\n",
       "      <td>0</td>\n",
       "      <td>0</td>\n",
       "      <td>0</td>\n",
       "      <td>0</td>\n",
       "      <td>0</td>\n",
       "    </tr>\n",
       "    <tr>\n",
       "      <th>2</th>\n",
       "      <td>1005</td>\n",
       "      <td>0</td>\n",
       "      <td>1</td>\n",
       "      <td>0</td>\n",
       "      <td>22155</td>\n",
       "      <td>320</td>\n",
       "      <td>50</td>\n",
       "      <td>2552</td>\n",
       "      <td>3</td>\n",
       "      <td>167</td>\n",
       "      <td>...</td>\n",
       "      <td>0</td>\n",
       "      <td>0</td>\n",
       "      <td>0</td>\n",
       "      <td>0</td>\n",
       "      <td>0</td>\n",
       "      <td>0</td>\n",
       "      <td>0</td>\n",
       "      <td>0</td>\n",
       "      <td>0</td>\n",
       "      <td>0</td>\n",
       "    </tr>\n",
       "    <tr>\n",
       "      <th>3</th>\n",
       "      <td>1002</td>\n",
       "      <td>0</td>\n",
       "      <td>0</td>\n",
       "      <td>0</td>\n",
       "      <td>21591</td>\n",
       "      <td>320</td>\n",
       "      <td>50</td>\n",
       "      <td>2478</td>\n",
       "      <td>3</td>\n",
       "      <td>167</td>\n",
       "      <td>...</td>\n",
       "      <td>0</td>\n",
       "      <td>0</td>\n",
       "      <td>0</td>\n",
       "      <td>0</td>\n",
       "      <td>0</td>\n",
       "      <td>0</td>\n",
       "      <td>0</td>\n",
       "      <td>0</td>\n",
       "      <td>0</td>\n",
       "      <td>0</td>\n",
       "    </tr>\n",
       "    <tr>\n",
       "      <th>4</th>\n",
       "      <td>1005</td>\n",
       "      <td>0</td>\n",
       "      <td>1</td>\n",
       "      <td>0</td>\n",
       "      <td>15708</td>\n",
       "      <td>320</td>\n",
       "      <td>50</td>\n",
       "      <td>1722</td>\n",
       "      <td>0</td>\n",
       "      <td>35</td>\n",
       "      <td>...</td>\n",
       "      <td>0</td>\n",
       "      <td>0</td>\n",
       "      <td>0</td>\n",
       "      <td>0</td>\n",
       "      <td>0</td>\n",
       "      <td>0</td>\n",
       "      <td>0</td>\n",
       "      <td>0</td>\n",
       "      <td>0</td>\n",
       "      <td>0</td>\n",
       "    </tr>\n",
       "  </tbody>\n",
       "</table>\n",
       "<p>5 rows × 5981 columns</p>\n",
       "</div>"
      ],
      "text/plain": [
       "     C1  banner_pos  device_type  device_conn_type    C14  C15  C16   C17  \\\n",
       "0  1005           1            1                 0  22683  320   50  2528   \n",
       "1  1005           1            1                 0  17037  320   50  1934   \n",
       "2  1005           0            1                 0  22155  320   50  2552   \n",
       "3  1002           0            0                 0  21591  320   50  2478   \n",
       "4  1005           0            1                 0  15708  320   50  1722   \n",
       "\n",
       "   C18  C19  ...  device_model_ff607a1a  device_model_ff717dd1  \\\n",
       "0    0   39  ...                      0                      0   \n",
       "1    2   39  ...                      0                      0   \n",
       "2    3  167  ...                      0                      0   \n",
       "3    3  167  ...                      0                      0   \n",
       "4    0   35  ...                      0                      0   \n",
       "\n",
       "   device_model_ff91ea03  device_model_ff963f16  device_model_ffb16766  \\\n",
       "0                      0                      0                      0   \n",
       "1                      0                      0                      0   \n",
       "2                      0                      0                      0   \n",
       "3                      0                      0                      0   \n",
       "4                      0                      0                      0   \n",
       "\n",
       "   device_model_ffc70ef9  device_model_ffcd1497  device_model_ffceddb3  \\\n",
       "0                      0                      0                      0   \n",
       "1                      0                      0                      0   \n",
       "2                      0                      0                      0   \n",
       "3                      0                      0                      0   \n",
       "4                      0                      0                      0   \n",
       "\n",
       "   device_model_ffe3ae81  device_model_ffe69079  \n",
       "0                      0                      0  \n",
       "1                      0                      0  \n",
       "2                      0                      0  \n",
       "3                      0                      0  \n",
       "4                      0                      0  \n",
       "\n",
       "[5 rows x 5981 columns]"
      ]
     },
     "execution_count": 52,
     "metadata": {},
     "output_type": "execute_result"
    }
   ],
   "source": [
    "df2.head()"
   ]
  },
  {
   "cell_type": "code",
   "execution_count": 53,
   "metadata": {},
   "outputs": [],
   "source": [
    "drop_list = df.loc[:, ~df.columns.isin(['click','y','device_id','site_id','device_ip','month'])].columns\n"
   ]
  },
  {
   "cell_type": "code",
   "execution_count": 54,
   "metadata": {},
   "outputs": [],
   "source": [
    "df2 = df2.iloc[:,len(drop_list):]"
   ]
  },
  {
   "cell_type": "code",
   "execution_count": 55,
   "metadata": {},
   "outputs": [
    {
     "data": {
      "text/html": [
       "<div>\n",
       "<style scoped>\n",
       "    .dataframe tbody tr th:only-of-type {\n",
       "        vertical-align: middle;\n",
       "    }\n",
       "\n",
       "    .dataframe tbody tr th {\n",
       "        vertical-align: top;\n",
       "    }\n",
       "\n",
       "    .dataframe thead th {\n",
       "        text-align: right;\n",
       "    }\n",
       "</style>\n",
       "<table border=\"1\" class=\"dataframe\">\n",
       "  <thead>\n",
       "    <tr style=\"text-align: right;\">\n",
       "      <th></th>\n",
       "      <th>site_domain_01f9b380</th>\n",
       "      <th>site_domain_021dbcbe</th>\n",
       "      <th>site_domain_022ab9c6</th>\n",
       "      <th>site_domain_026faf38</th>\n",
       "      <th>site_domain_0316bf4f</th>\n",
       "      <th>site_domain_0322ae72</th>\n",
       "      <th>site_domain_03cc62db</th>\n",
       "      <th>site_domain_04001ead</th>\n",
       "      <th>site_domain_04205356</th>\n",
       "      <th>site_domain_0445c666</th>\n",
       "      <th>...</th>\n",
       "      <th>device_model_ff607a1a</th>\n",
       "      <th>device_model_ff717dd1</th>\n",
       "      <th>device_model_ff91ea03</th>\n",
       "      <th>device_model_ff963f16</th>\n",
       "      <th>device_model_ffb16766</th>\n",
       "      <th>device_model_ffc70ef9</th>\n",
       "      <th>device_model_ffcd1497</th>\n",
       "      <th>device_model_ffceddb3</th>\n",
       "      <th>device_model_ffe3ae81</th>\n",
       "      <th>device_model_ffe69079</th>\n",
       "    </tr>\n",
       "  </thead>\n",
       "  <tbody>\n",
       "    <tr>\n",
       "      <th>0</th>\n",
       "      <td>0</td>\n",
       "      <td>0</td>\n",
       "      <td>0</td>\n",
       "      <td>0</td>\n",
       "      <td>0</td>\n",
       "      <td>0</td>\n",
       "      <td>0</td>\n",
       "      <td>0</td>\n",
       "      <td>0</td>\n",
       "      <td>0</td>\n",
       "      <td>...</td>\n",
       "      <td>0</td>\n",
       "      <td>0</td>\n",
       "      <td>0</td>\n",
       "      <td>0</td>\n",
       "      <td>0</td>\n",
       "      <td>0</td>\n",
       "      <td>0</td>\n",
       "      <td>0</td>\n",
       "      <td>0</td>\n",
       "      <td>0</td>\n",
       "    </tr>\n",
       "    <tr>\n",
       "      <th>1</th>\n",
       "      <td>0</td>\n",
       "      <td>0</td>\n",
       "      <td>0</td>\n",
       "      <td>0</td>\n",
       "      <td>0</td>\n",
       "      <td>0</td>\n",
       "      <td>0</td>\n",
       "      <td>0</td>\n",
       "      <td>0</td>\n",
       "      <td>0</td>\n",
       "      <td>...</td>\n",
       "      <td>0</td>\n",
       "      <td>0</td>\n",
       "      <td>0</td>\n",
       "      <td>0</td>\n",
       "      <td>0</td>\n",
       "      <td>0</td>\n",
       "      <td>0</td>\n",
       "      <td>0</td>\n",
       "      <td>0</td>\n",
       "      <td>0</td>\n",
       "    </tr>\n",
       "    <tr>\n",
       "      <th>2</th>\n",
       "      <td>0</td>\n",
       "      <td>0</td>\n",
       "      <td>0</td>\n",
       "      <td>0</td>\n",
       "      <td>0</td>\n",
       "      <td>0</td>\n",
       "      <td>0</td>\n",
       "      <td>0</td>\n",
       "      <td>0</td>\n",
       "      <td>0</td>\n",
       "      <td>...</td>\n",
       "      <td>0</td>\n",
       "      <td>0</td>\n",
       "      <td>0</td>\n",
       "      <td>0</td>\n",
       "      <td>0</td>\n",
       "      <td>0</td>\n",
       "      <td>0</td>\n",
       "      <td>0</td>\n",
       "      <td>0</td>\n",
       "      <td>0</td>\n",
       "    </tr>\n",
       "    <tr>\n",
       "      <th>3</th>\n",
       "      <td>0</td>\n",
       "      <td>0</td>\n",
       "      <td>0</td>\n",
       "      <td>0</td>\n",
       "      <td>0</td>\n",
       "      <td>0</td>\n",
       "      <td>0</td>\n",
       "      <td>0</td>\n",
       "      <td>0</td>\n",
       "      <td>0</td>\n",
       "      <td>...</td>\n",
       "      <td>0</td>\n",
       "      <td>0</td>\n",
       "      <td>0</td>\n",
       "      <td>0</td>\n",
       "      <td>0</td>\n",
       "      <td>0</td>\n",
       "      <td>0</td>\n",
       "      <td>0</td>\n",
       "      <td>0</td>\n",
       "      <td>0</td>\n",
       "    </tr>\n",
       "    <tr>\n",
       "      <th>4</th>\n",
       "      <td>0</td>\n",
       "      <td>0</td>\n",
       "      <td>0</td>\n",
       "      <td>0</td>\n",
       "      <td>0</td>\n",
       "      <td>0</td>\n",
       "      <td>0</td>\n",
       "      <td>0</td>\n",
       "      <td>0</td>\n",
       "      <td>0</td>\n",
       "      <td>...</td>\n",
       "      <td>0</td>\n",
       "      <td>0</td>\n",
       "      <td>0</td>\n",
       "      <td>0</td>\n",
       "      <td>0</td>\n",
       "      <td>0</td>\n",
       "      <td>0</td>\n",
       "      <td>0</td>\n",
       "      <td>0</td>\n",
       "      <td>0</td>\n",
       "    </tr>\n",
       "  </tbody>\n",
       "</table>\n",
       "<p>5 rows × 5960 columns</p>\n",
       "</div>"
      ],
      "text/plain": [
       "   site_domain_01f9b380  site_domain_021dbcbe  site_domain_022ab9c6  \\\n",
       "0                     0                     0                     0   \n",
       "1                     0                     0                     0   \n",
       "2                     0                     0                     0   \n",
       "3                     0                     0                     0   \n",
       "4                     0                     0                     0   \n",
       "\n",
       "   site_domain_026faf38  site_domain_0316bf4f  site_domain_0322ae72  \\\n",
       "0                     0                     0                     0   \n",
       "1                     0                     0                     0   \n",
       "2                     0                     0                     0   \n",
       "3                     0                     0                     0   \n",
       "4                     0                     0                     0   \n",
       "\n",
       "   site_domain_03cc62db  site_domain_04001ead  site_domain_04205356  \\\n",
       "0                     0                     0                     0   \n",
       "1                     0                     0                     0   \n",
       "2                     0                     0                     0   \n",
       "3                     0                     0                     0   \n",
       "4                     0                     0                     0   \n",
       "\n",
       "   site_domain_0445c666  ...  device_model_ff607a1a  device_model_ff717dd1  \\\n",
       "0                     0  ...                      0                      0   \n",
       "1                     0  ...                      0                      0   \n",
       "2                     0  ...                      0                      0   \n",
       "3                     0  ...                      0                      0   \n",
       "4                     0  ...                      0                      0   \n",
       "\n",
       "   device_model_ff91ea03  device_model_ff963f16  device_model_ffb16766  \\\n",
       "0                      0                      0                      0   \n",
       "1                      0                      0                      0   \n",
       "2                      0                      0                      0   \n",
       "3                      0                      0                      0   \n",
       "4                      0                      0                      0   \n",
       "\n",
       "   device_model_ffc70ef9  device_model_ffcd1497  device_model_ffceddb3  \\\n",
       "0                      0                      0                      0   \n",
       "1                      0                      0                      0   \n",
       "2                      0                      0                      0   \n",
       "3                      0                      0                      0   \n",
       "4                      0                      0                      0   \n",
       "\n",
       "   device_model_ffe3ae81  device_model_ffe69079  \n",
       "0                      0                      0  \n",
       "1                      0                      0  \n",
       "2                      0                      0  \n",
       "3                      0                      0  \n",
       "4                      0                      0  \n",
       "\n",
       "[5 rows x 5960 columns]"
      ]
     },
     "execution_count": 55,
     "metadata": {},
     "output_type": "execute_result"
    }
   ],
   "source": [
    "df2.head()"
   ]
  },
  {
   "cell_type": "code",
   "execution_count": 56,
   "metadata": {},
   "outputs": [
    {
     "name": "stdout",
     "output_type": "stream",
     "text": [
      "<class 'pandas.core.frame.DataFrame'>\n",
      "RangeIndex: 99999 entries, 0 to 99998\n",
      "Columns: 5960 entries, site_domain_01f9b380 to device_model_ffe69079\n",
      "dtypes: uint8(5960)\n",
      "memory usage: 568.4 MB\n"
     ]
    }
   ],
   "source": [
    "# Determine what features to include in the model. Remove the features you won’t include from the dataFrame.\n",
    "df2.info()"
   ]
  },
  {
   "cell_type": "code",
   "execution_count": 57,
   "metadata": {},
   "outputs": [
    {
     "data": {
      "text/plain": [
       "Index(['site_domain_01f9b380', 'site_domain_021dbcbe', 'site_domain_022ab9c6',\n",
       "       'site_domain_026faf38', 'site_domain_0316bf4f', 'site_domain_0322ae72',\n",
       "       'site_domain_03cc62db', 'site_domain_04001ead', 'site_domain_04205356',\n",
       "       'site_domain_0445c666',\n",
       "       ...\n",
       "       'device_model_ff607a1a', 'device_model_ff717dd1',\n",
       "       'device_model_ff91ea03', 'device_model_ff963f16',\n",
       "       'device_model_ffb16766', 'device_model_ffc70ef9',\n",
       "       'device_model_ffcd1497', 'device_model_ffceddb3',\n",
       "       'device_model_ffe3ae81', 'device_model_ffe69079'],\n",
       "      dtype='object', length=5960)"
      ]
     },
     "execution_count": 57,
     "metadata": {},
     "output_type": "execute_result"
    }
   ],
   "source": [
    "df2.columns"
   ]
  },
  {
   "cell_type": "code",
   "execution_count": 58,
   "metadata": {},
   "outputs": [],
   "source": [
    "X = df2.loc[:]\n",
    "Y = df.loc[:,['y']]"
   ]
  },
  {
   "cell_type": "code",
   "execution_count": 59,
   "metadata": {},
   "outputs": [
    {
     "name": "stdout",
     "output_type": "stream",
     "text": [
      "(69999, 5960)\n",
      "(69999, 1)\n",
      "(30000, 5960)\n",
      "(30000, 1)\n"
     ]
    }
   ],
   "source": [
    "# import Split Function\n",
    "from sklearn.model_selection import train_test_split\n",
    "\n",
    "X_Train,X_Test,Y_Train,Y_Test = train_test_split(X,Y,train_size=0.7,random_state=0)#,stratify=Y)\n",
    "print(X_Train.shape)\n",
    "print(Y_Train.shape)\n",
    "print(X_Test.shape)\n",
    "print(Y_Test.shape)\n"
   ]
  },
  {
   "cell_type": "code",
   "execution_count": 60,
   "metadata": {},
   "outputs": [
    {
     "data": {
      "text/plain": [
       "LogisticRegression()"
      ]
     },
     "execution_count": 60,
     "metadata": {},
     "output_type": "execute_result"
    }
   ],
   "source": [
    "# Fit your training data to a Logistic Regression Model\n",
    "from sklearn.linear_model import LogisticRegression\n",
    "# declare the logistic model\n",
    "start_time_LR = time.time()\n",
    "model = LogisticRegression()\n",
    "\n",
    "# train the model on the data\n",
    "model.fit(X_Train, Y_Train)"
   ]
  },
  {
   "cell_type": "code",
   "execution_count": 61,
   "metadata": {},
   "outputs": [
    {
     "data": {
      "text/plain": [
       "array([[ 0.        ,  0.50254344, -0.35392837, ...,  0.39892413,\n",
       "         0.24949409, -0.72315284]])"
      ]
     },
     "execution_count": 61,
     "metadata": {},
     "output_type": "execute_result"
    }
   ],
   "source": [
    "model.coef_"
   ]
  },
  {
   "cell_type": "code",
   "execution_count": 62,
   "metadata": {},
   "outputs": [],
   "source": [
    "Y_Train_Pred =  model.predict(X_Train)"
   ]
  },
  {
   "cell_type": "code",
   "execution_count": 63,
   "metadata": {},
   "outputs": [
    {
     "name": "stdout",
     "output_type": "stream",
     "text": [
      "0.8351833597622823\n"
     ]
    }
   ],
   "source": [
    "from sklearn import metrics\n",
    "print(metrics.accuracy_score(Y_Train,Y_Train_Pred))\n"
   ]
  },
  {
   "cell_type": "code",
   "execution_count": 64,
   "metadata": {},
   "outputs": [
    {
     "name": "stdout",
     "output_type": "stream",
     "text": [
      "0.8305690081286875\n"
     ]
    }
   ],
   "source": [
    "from sklearn.dummy import DummyClassifier\n",
    "dummy_clf  = DummyClassifier(strategy=\"most_frequent\")\n",
    "dummy_clf.fit(X_Train,Y_Train)\n",
    "dummy_pred =  dummy_clf.predict(X_Train)\n",
    "print(metrics.accuracy_score(Y_Train,dummy_pred))"
   ]
  },
  {
   "cell_type": "code",
   "execution_count": 65,
   "metadata": {},
   "outputs": [
    {
     "data": {
      "text/plain": [
       "(1, 5960)"
      ]
     },
     "execution_count": 65,
     "metadata": {},
     "output_type": "execute_result"
    }
   ],
   "source": [
    "model.coef_.shape\n"
   ]
  },
  {
   "cell_type": "code",
   "execution_count": 66,
   "metadata": {},
   "outputs": [
    {
     "name": "stdout",
     "output_type": "stream",
     "text": [
      "0.8311666666666667\n"
     ]
    }
   ],
   "source": [
    "# Use the testing data to make predictions and determine the accuracy of your predictions.\n",
    "Y_Pred = model.predict(X_Test)\n",
    "\n",
    "from sklearn import metrics\n",
    "print(metrics.accuracy_score(Y_Test, Y_Pred))\n",
    "\n"
   ]
  },
  {
   "cell_type": "code",
   "execution_count": 67,
   "metadata": {},
   "outputs": [
    {
     "name": "stdout",
     "output_type": "stream",
     "text": [
      "[[24638   242]\n",
      " [ 4823   297]]\n"
     ]
    }
   ],
   "source": [
    "# Plot and print confusion matrix\n",
    "cnf_matrix = metrics.confusion_matrix(Y_Test, Y_Pred)\n",
    "print(cnf_matrix)\n"
   ]
  },
  {
   "cell_type": "code",
   "execution_count": 68,
   "metadata": {},
   "outputs": [
    {
     "data": {
      "image/png": "[encoded data removed]",
      "text/plain": [
       "<Figure size 432x288 with 2 Axes>"
      ]
     },
     "metadata": {
      "needs_background": "light"
     },
     "output_type": "display_data"
    }
   ],
   "source": [
    "metrics.plot_confusion_matrix(model, X_Test, Y_Test)\n",
    "plt.show()"
   ]
  },
  {
   "cell_type": "code",
   "execution_count": 69,
   "metadata": {},
   "outputs": [
    {
     "data": {
      "text/plain": [
       "DummyClassifier(strategy='most_frequent')"
      ]
     },
     "execution_count": 69,
     "metadata": {},
     "output_type": "execute_result"
    }
   ],
   "source": [
    "# Calculating a base line for comparing the model. \n",
    "from sklearn.dummy import DummyClassifier\n",
    "dummy_clf = DummyClassifier(strategy=\"most_frequent\")\n",
    "dummy_clf.fit(X_Train, Y_Train)"
   ]
  },
  {
   "cell_type": "code",
   "execution_count": 70,
   "metadata": {},
   "outputs": [
    {
     "name": "stdout",
     "output_type": "stream",
     "text": [
      "[[24880     0]\n",
      " [ 5120     0]]\n"
     ]
    },
    {
     "data": {
      "image/png": "[encoded data removed]",
      "text/plain": [
       "<Figure size 432x288 with 2 Axes>"
      ]
     },
     "metadata": {
      "needs_background": "light"
     },
     "output_type": "display_data"
    }
   ],
   "source": [
    "Y_Pred = dummy_clf.predict(X_Test)\n",
    "\n",
    "# Plot and print confusion matrix\n",
    "cnf_matrix = metrics.confusion_matrix(Y_Test, Y_Pred)\n",
    "print(cnf_matrix)\n",
    "metrics.plot_confusion_matrix(dummy_clf, X_Test, Y_Test)\n",
    "plt.show()"
   ]
  },
  {
   "cell_type": "code",
   "execution_count": 71,
   "metadata": {},
   "outputs": [
    {
     "data": {
      "text/plain": [
       "0.7168488942235229"
      ]
     },
     "execution_count": 71,
     "metadata": {},
     "output_type": "execute_result"
    }
   ],
   "source": [
    "from sklearn.metrics import roc_auc_score\n",
    "roc_auc_score(Y_Test, model.predict_proba(X_Test)[:, 1])\n",
    "#ROC - "
   ]
  },
  {
   "cell_type": "code",
   "execution_count": 72,
   "metadata": {},
   "outputs": [
    {
     "data": {
      "image/png": "[encoded data removed]",
      "text/plain": [
       "<Figure size 432x288 with 1 Axes>"
      ]
     },
     "metadata": {
      "needs_background": "light"
     },
     "output_type": "display_data"
    }
   ],
   "source": [
    "import matplotlib.pyplot as plt\n",
    "metrics.plot_roc_curve(model, X_Test, Y_Test) \n",
    "plt.show()"
   ]
  },
  {
   "cell_type": "code",
   "execution_count": 73,
   "metadata": {},
   "outputs": [
    {
     "name": "stdout",
     "output_type": "stream",
     "text": [
      "--- 74.9349455833435 seconds ---\n"
     ]
    }
   ],
   "source": [
    "print(\"--- %s seconds ---\" % (time.time() - start_time_LR))"
   ]
  },
  {
   "cell_type": "markdown",
   "metadata": {},
   "source": [
    "<H2 style = \"color : blue\"><b>Decision Tree</b><br></H2>"
   ]
  },
  {
   "cell_type": "code",
   "execution_count": 74,
   "metadata": {},
   "outputs": [],
   "source": [
    "from sklearn.tree import DecisionTreeClassifier\n",
    "from sklearn.metrics import classification_report,confusion_matrix\n",
    "from sklearn import metrics"
   ]
  },
  {
   "cell_type": "code",
   "execution_count": 75,
   "metadata": {},
   "outputs": [
    {
     "data": {
      "text/plain": [
       "(69999, 5960)"
      ]
     },
     "execution_count": 75,
     "metadata": {},
     "output_type": "execute_result"
    }
   ],
   "source": [
    "X_Train.shape"
   ]
  },
  {
   "cell_type": "code",
   "execution_count": 76,
   "metadata": {},
   "outputs": [
    {
     "data": {
      "text/plain": [
       "(30000, 5960)"
      ]
     },
     "execution_count": 76,
     "metadata": {},
     "output_type": "execute_result"
    }
   ],
   "source": [
    "X_Test.shape"
   ]
  },
  {
   "cell_type": "code",
   "execution_count": 77,
   "metadata": {},
   "outputs": [
    {
     "data": {
      "text/plain": [
       "(99999, 5960)"
      ]
     },
     "execution_count": 77,
     "metadata": {},
     "output_type": "execute_result"
    }
   ],
   "source": [
    "X.shape"
   ]
  },
  {
   "cell_type": "code",
   "execution_count": 78,
   "metadata": {},
   "outputs": [],
   "source": [
    "dt_basic = DecisionTreeClassifier()"
   ]
  },
  {
   "cell_type": "code",
   "execution_count": 79,
   "metadata": {},
   "outputs": [
    {
     "data": {
      "text/plain": [
       "DecisionTreeClassifier()"
      ]
     },
     "execution_count": 79,
     "metadata": {},
     "output_type": "execute_result"
    }
   ],
   "source": [
    "dt_basic"
   ]
  },
  {
   "cell_type": "code",
   "execution_count": 80,
   "metadata": {},
   "outputs": [
    {
     "data": {
      "text/plain": [
       "DecisionTreeClassifier()"
      ]
     },
     "execution_count": 80,
     "metadata": {},
     "output_type": "execute_result"
    }
   ],
   "source": [
    "dt_basic.fit(X_Train,Y_Train)"
   ]
  },
  {
   "cell_type": "code",
   "execution_count": 81,
   "metadata": {},
   "outputs": [],
   "source": [
    "Y_Pred_dt = dt_basic.predict(X_Test)"
   ]
  },
  {
   "cell_type": "code",
   "execution_count": 82,
   "metadata": {},
   "outputs": [
    {
     "data": {
      "text/plain": [
       "array([0, 0, 0, ..., 0, 0, 0], dtype=int64)"
      ]
     },
     "execution_count": 82,
     "metadata": {},
     "output_type": "execute_result"
    }
   ],
   "source": [
    "Y_Pred_dt"
   ]
  },
  {
   "cell_type": "code",
   "execution_count": 97,
   "metadata": {},
   "outputs": [
    {
     "data": {
      "text/plain": [
       "0.8167"
      ]
     },
     "execution_count": 97,
     "metadata": {},
     "output_type": "execute_result"
    }
   ],
   "source": [
    "accuracy = metrics.accuracy_score(Y_Test, Y_Pred_dt)\n",
    "accuracy"
   ]
  },
  {
   "cell_type": "code",
   "execution_count": 84,
   "metadata": {},
   "outputs": [
    {
     "name": "stdout",
     "output_type": "stream",
     "text": [
      "[[24880     0]\n",
      " [ 5120     0]]\n"
     ]
    }
   ],
   "source": [
    "cnf_matrix = metrics.confusion_matrix(Y_Test, Y_Pred)\n",
    "print(cnf_matrix)\n"
   ]
  },
  {
   "cell_type": "code",
   "execution_count": 85,
   "metadata": {},
   "outputs": [
    {
     "name": "stdout",
     "output_type": "stream",
     "text": [
      "              precision    recall  f1-score   support\n",
      "\n",
      "           0       0.84      0.97      0.90     24880\n",
      "           1       0.36      0.09      0.15      5120\n",
      "\n",
      "    accuracy                           0.82     30000\n",
      "   macro avg       0.60      0.53      0.52     30000\n",
      "weighted avg       0.76      0.82      0.77     30000\n",
      "\n"
     ]
    }
   ],
   "source": [
    "print(classification_report(Y_Test,Y_Pred_dt))"
   ]
  },
  {
   "cell_type": "markdown",
   "metadata": {},
   "source": [
    "<H3>Visualize the Tree</H3>\n",
    "\n"
   ]
  },
  {
   "cell_type": "code",
   "execution_count": 87,
   "metadata": {},
   "outputs": [
    {
     "ename": "ModuleNotFoundError",
     "evalue": "No module named 'sklearn.externals.six'",
     "output_type": "error",
     "traceback": [
      "\u001b[1;31m---------------------------------------------------------------------------\u001b[0m",
      "\u001b[1;31mModuleNotFoundError\u001b[0m                       Traceback (most recent call last)",
      "Input \u001b[1;32mIn [87]\u001b[0m, in \u001b[0;36m<cell line: 2>\u001b[1;34m()\u001b[0m\n\u001b[0;32m      1\u001b[0m \u001b[38;5;66;03m#from IPython.display import image\u001b[39;00m\n\u001b[1;32m----> 2\u001b[0m \u001b[38;5;28;01mfrom\u001b[39;00m \u001b[38;5;21;01msklearn\u001b[39;00m\u001b[38;5;21;01m.\u001b[39;00m\u001b[38;5;21;01mexternals\u001b[39;00m\u001b[38;5;21;01m.\u001b[39;00m\u001b[38;5;21;01msix\u001b[39;00m \u001b[38;5;28;01mimport\u001b[39;00m StringIO\n",
      "\u001b[1;31mModuleNotFoundError\u001b[0m: No module named 'sklearn.externals.six'"
     ]
    }
   ],
   "source": []
  },
  {
   "cell_type": "markdown",
   "metadata": {},
   "source": [
    "<H3>Hyperparameter Tuning</H3>\n",
    "\n"
   ]
  },
  {
   "cell_type": "markdown",
   "metadata": {},
   "source": [
    "<H4>Max Dept\n",
    "</H4>\n",
    "\n"
   ]
  },
  {
   "cell_type": "code",
   "execution_count": 90,
   "metadata": {},
   "outputs": [],
   "source": [
    "parameters = {'max_depth': range(1,10)}"
   ]
  },
  {
   "cell_type": "code",
   "execution_count": 92,
   "metadata": {},
   "outputs": [
    {
     "data": {
      "text/plain": [
       "{'max_depth': range(1, 10)}"
      ]
     },
     "execution_count": 92,
     "metadata": {},
     "output_type": "execute_result"
    }
   ],
   "source": [
    "parameters"
   ]
  },
  {
   "cell_type": "code",
   "execution_count": 93,
   "metadata": {},
   "outputs": [],
   "source": [
    "n_folds = 5"
   ]
  },
  {
   "cell_type": "code",
   "execution_count": 94,
   "metadata": {},
   "outputs": [],
   "source": [
    "dtree2 = DecisionTreeClassifier(criterion='gini',random_state=0)"
   ]
  },
  {
   "cell_type": "code",
   "execution_count": 95,
   "metadata": {},
   "outputs": [
    {
     "data": {
      "text/plain": [
       "DecisionTreeClassifier(random_state=0)"
      ]
     },
     "execution_count": 95,
     "metadata": {},
     "output_type": "execute_result"
    }
   ],
   "source": [
    "dtree2\n"
   ]
  },
  {
   "cell_type": "code",
   "execution_count": 96,
   "metadata": {},
   "outputs": [],
   "source": [
    "from sklearn.model_selection import KFold\n",
    "from sklearn.model_selection import GridSearchCV"
   ]
  },
  {
   "cell_type": "code",
   "execution_count": 98,
   "metadata": {},
   "outputs": [
    {
     "data": {
      "text/plain": [
       "GridSearchCV(cv=5, estimator=DecisionTreeClassifier(random_state=0),\n",
       "             param_grid={'max_depth': range(1, 10)}, return_train_score=True,\n",
       "             scoring='accuracy')"
      ]
     },
     "execution_count": 98,
     "metadata": {},
     "output_type": "execute_result"
    }
   ],
   "source": [
    "tree = GridSearchCV(dtree2,parameters,cv=n_folds,scoring=\"accuracy\",return_train_score = True)\n",
    "tree"
   ]
  },
  {
   "cell_type": "code",
   "execution_count": 99,
   "metadata": {},
   "outputs": [
    {
     "data": {
      "text/plain": [
       "GridSearchCV(cv=5, estimator=DecisionTreeClassifier(random_state=0),\n",
       "             param_grid={'max_depth': range(1, 10)}, return_train_score=True,\n",
       "             scoring='accuracy')"
      ]
     },
     "execution_count": 99,
     "metadata": {},
     "output_type": "execute_result"
    }
   ],
   "source": [
    "tree.fit(X_Train,Y_Train)"
   ]
  },
  {
   "cell_type": "code",
   "execution_count": 101,
   "metadata": {},
   "outputs": [],
   "source": [
    "scores = tree.cv_results_"
   ]
  },
  {
   "cell_type": "code",
   "execution_count": 102,
   "metadata": {},
   "outputs": [
    {
     "data": {
      "text/plain": [
       "{'mean_fit_time': array([ 8.31887259, 10.88235183, 13.60503478, 15.92347183, 17.68101516,\n",
       "        19.8271307 , 21.70394244, 23.97515707, 25.83076806]),\n",
       " 'std_fit_time': array([0.08025821, 0.18365698, 0.28565667, 0.28856383, 0.59279034,\n",
       "        0.79355223, 0.93100779, 1.17371249, 1.22855615]),\n",
       " 'mean_score_time': array([0.47680578, 0.46480975, 0.47281022, 0.46760869, 0.47240729,\n",
       "        0.46640205, 0.44920239, 0.47120261, 0.48880424]),\n",
       " 'std_score_time': array([0.03184792, 0.01349644, 0.01600356, 0.02178612, 0.03893488,\n",
       "        0.02514363, 0.01330368, 0.01748753, 0.02110629]),\n",
       " 'param_max_depth': masked_array(data=[1, 2, 3, 4, 5, 6, 7, 8, 9],\n",
       "              mask=[False, False, False, False, False, False, False, False,\n",
       "                    False],\n",
       "        fill_value='?',\n",
       "             dtype=object),\n",
       " 'params': [{'max_depth': 1},\n",
       "  {'max_depth': 2},\n",
       "  {'max_depth': 3},\n",
       "  {'max_depth': 4},\n",
       "  {'max_depth': 5},\n",
       "  {'max_depth': 6},\n",
       "  {'max_depth': 7},\n",
       "  {'max_depth': 8},\n",
       "  {'max_depth': 9}],\n",
       " 'split0_test_score': array([0.83057143, 0.83057143, 0.83257143, 0.83264286, 0.8325    ,\n",
       "        0.83228571, 0.83235714, 0.83242857, 0.832     ]),\n",
       " 'split1_test_score': array([0.83057143, 0.83057143, 0.83128571, 0.83128571, 0.83135714,\n",
       "        0.83142857, 0.83135714, 0.83142857, 0.83128571]),\n",
       " 'split2_test_score': array([0.83057143, 0.83057143, 0.83085714, 0.83085714, 0.83078571,\n",
       "        0.831     , 0.83092857, 0.83042857, 0.83035714]),\n",
       " 'split3_test_score': array([0.83057143, 0.83057143, 0.83164286, 0.8315    , 0.83128571,\n",
       "        0.83107143, 0.83114286, 0.83071429, 0.83042857]),\n",
       " 'split4_test_score': array([0.83055933, 0.83063076, 0.831988  , 0.831988  , 0.83191657,\n",
       "        0.83184513, 0.8311308 , 0.83091649, 0.83077363]),\n",
       " 'mean_test_score': array([0.83056901, 0.83058329, 0.83166903, 0.83165474, 0.83156903,\n",
       "        0.83152617, 0.8313833 , 0.8311833 , 0.83096901]),\n",
       " 'std_test_score': array([4.84116212e-06, 2.37323074e-05, 5.86999350e-04, 6.13795209e-04,\n",
       "        5.87576975e-04, 4.84110373e-04, 5.05451025e-04, 7.03083785e-04,\n",
       "        6.11207309e-04]),\n",
       " 'rank_test_score': array([9, 8, 1, 2, 3, 4, 5, 6, 7]),\n",
       " 'split0_train_score': array([0.8305684 , 0.8305684 , 0.83153271, 0.83156842, 0.83169342,\n",
       "        0.83196129, 0.832122  , 0.83251487, 0.83276487]),\n",
       " 'split1_train_score': array([0.8305684 , 0.8305684 , 0.83176485, 0.83181843, 0.83188986,\n",
       "        0.83201486, 0.83213986, 0.83230058, 0.83288987]),\n",
       " 'split2_train_score': array([0.8305684 , 0.8305684 , 0.83192557, 0.832122  , 0.83231843,\n",
       "        0.83244344, 0.83308631, 0.83369346, 0.8341399 ]),\n",
       " 'split3_train_score': array([0.8305684 , 0.8305684 , 0.83176485, 0.83197914, 0.83219343,\n",
       "        0.83238986, 0.83256844, 0.83313988, 0.83337202]),\n",
       " 'split4_train_score': array([0.83057143, 0.83064286, 0.83175   , 0.83180357, 0.831875  ,\n",
       "        0.83210714, 0.83233929, 0.83258929, 0.83269643]),\n",
       " 'mean_train_score': array([0.83056901, 0.83058329, 0.8317476 , 0.83185831, 0.83199403,\n",
       "        0.83218332, 0.83245118, 0.83284761, 0.83317262]),\n",
       " 'std_train_score': array([1.21022569e-06, 2.97816543e-05, 1.25262844e-04, 1.85879995e-04,\n",
       "        2.28203565e-04, 1.96877215e-04, 3.56351583e-04, 5.05485037e-04,\n",
       "        5.38209495e-04])}"
      ]
     },
     "execution_count": 102,
     "metadata": {},
     "output_type": "execute_result"
    }
   ],
   "source": [
    "scores"
   ]
  },
  {
   "cell_type": "code",
   "execution_count": 103,
   "metadata": {},
   "outputs": [
    {
     "data": {
      "text/html": [
       "<div>\n",
       "<style scoped>\n",
       "    .dataframe tbody tr th:only-of-type {\n",
       "        vertical-align: middle;\n",
       "    }\n",
       "\n",
       "    .dataframe tbody tr th {\n",
       "        vertical-align: top;\n",
       "    }\n",
       "\n",
       "    .dataframe thead th {\n",
       "        text-align: right;\n",
       "    }\n",
       "</style>\n",
       "<table border=\"1\" class=\"dataframe\">\n",
       "  <thead>\n",
       "    <tr style=\"text-align: right;\">\n",
       "      <th></th>\n",
       "      <th>mean_fit_time</th>\n",
       "      <th>std_fit_time</th>\n",
       "      <th>mean_score_time</th>\n",
       "      <th>std_score_time</th>\n",
       "      <th>param_max_depth</th>\n",
       "      <th>params</th>\n",
       "      <th>split0_test_score</th>\n",
       "      <th>split1_test_score</th>\n",
       "      <th>split2_test_score</th>\n",
       "      <th>split3_test_score</th>\n",
       "      <th>...</th>\n",
       "      <th>mean_test_score</th>\n",
       "      <th>std_test_score</th>\n",
       "      <th>rank_test_score</th>\n",
       "      <th>split0_train_score</th>\n",
       "      <th>split1_train_score</th>\n",
       "      <th>split2_train_score</th>\n",
       "      <th>split3_train_score</th>\n",
       "      <th>split4_train_score</th>\n",
       "      <th>mean_train_score</th>\n",
       "      <th>std_train_score</th>\n",
       "    </tr>\n",
       "  </thead>\n",
       "  <tbody>\n",
       "    <tr>\n",
       "      <th>0</th>\n",
       "      <td>8.318873</td>\n",
       "      <td>0.080258</td>\n",
       "      <td>0.476806</td>\n",
       "      <td>0.031848</td>\n",
       "      <td>1</td>\n",
       "      <td>{'max_depth': 1}</td>\n",
       "      <td>0.830571</td>\n",
       "      <td>0.830571</td>\n",
       "      <td>0.830571</td>\n",
       "      <td>0.830571</td>\n",
       "      <td>...</td>\n",
       "      <td>0.830569</td>\n",
       "      <td>0.000005</td>\n",
       "      <td>9</td>\n",
       "      <td>0.830568</td>\n",
       "      <td>0.830568</td>\n",
       "      <td>0.830568</td>\n",
       "      <td>0.830568</td>\n",
       "      <td>0.830571</td>\n",
       "      <td>0.830569</td>\n",
       "      <td>0.000001</td>\n",
       "    </tr>\n",
       "    <tr>\n",
       "      <th>1</th>\n",
       "      <td>10.882352</td>\n",
       "      <td>0.183657</td>\n",
       "      <td>0.464810</td>\n",
       "      <td>0.013496</td>\n",
       "      <td>2</td>\n",
       "      <td>{'max_depth': 2}</td>\n",
       "      <td>0.830571</td>\n",
       "      <td>0.830571</td>\n",
       "      <td>0.830571</td>\n",
       "      <td>0.830571</td>\n",
       "      <td>...</td>\n",
       "      <td>0.830583</td>\n",
       "      <td>0.000024</td>\n",
       "      <td>8</td>\n",
       "      <td>0.830568</td>\n",
       "      <td>0.830568</td>\n",
       "      <td>0.830568</td>\n",
       "      <td>0.830568</td>\n",
       "      <td>0.830643</td>\n",
       "      <td>0.830583</td>\n",
       "      <td>0.000030</td>\n",
       "    </tr>\n",
       "    <tr>\n",
       "      <th>2</th>\n",
       "      <td>13.605035</td>\n",
       "      <td>0.285657</td>\n",
       "      <td>0.472810</td>\n",
       "      <td>0.016004</td>\n",
       "      <td>3</td>\n",
       "      <td>{'max_depth': 3}</td>\n",
       "      <td>0.832571</td>\n",
       "      <td>0.831286</td>\n",
       "      <td>0.830857</td>\n",
       "      <td>0.831643</td>\n",
       "      <td>...</td>\n",
       "      <td>0.831669</td>\n",
       "      <td>0.000587</td>\n",
       "      <td>1</td>\n",
       "      <td>0.831533</td>\n",
       "      <td>0.831765</td>\n",
       "      <td>0.831926</td>\n",
       "      <td>0.831765</td>\n",
       "      <td>0.831750</td>\n",
       "      <td>0.831748</td>\n",
       "      <td>0.000125</td>\n",
       "    </tr>\n",
       "    <tr>\n",
       "      <th>3</th>\n",
       "      <td>15.923472</td>\n",
       "      <td>0.288564</td>\n",
       "      <td>0.467609</td>\n",
       "      <td>0.021786</td>\n",
       "      <td>4</td>\n",
       "      <td>{'max_depth': 4}</td>\n",
       "      <td>0.832643</td>\n",
       "      <td>0.831286</td>\n",
       "      <td>0.830857</td>\n",
       "      <td>0.831500</td>\n",
       "      <td>...</td>\n",
       "      <td>0.831655</td>\n",
       "      <td>0.000614</td>\n",
       "      <td>2</td>\n",
       "      <td>0.831568</td>\n",
       "      <td>0.831818</td>\n",
       "      <td>0.832122</td>\n",
       "      <td>0.831979</td>\n",
       "      <td>0.831804</td>\n",
       "      <td>0.831858</td>\n",
       "      <td>0.000186</td>\n",
       "    </tr>\n",
       "    <tr>\n",
       "      <th>4</th>\n",
       "      <td>17.681015</td>\n",
       "      <td>0.592790</td>\n",
       "      <td>0.472407</td>\n",
       "      <td>0.038935</td>\n",
       "      <td>5</td>\n",
       "      <td>{'max_depth': 5}</td>\n",
       "      <td>0.832500</td>\n",
       "      <td>0.831357</td>\n",
       "      <td>0.830786</td>\n",
       "      <td>0.831286</td>\n",
       "      <td>...</td>\n",
       "      <td>0.831569</td>\n",
       "      <td>0.000588</td>\n",
       "      <td>3</td>\n",
       "      <td>0.831693</td>\n",
       "      <td>0.831890</td>\n",
       "      <td>0.832318</td>\n",
       "      <td>0.832193</td>\n",
       "      <td>0.831875</td>\n",
       "      <td>0.831994</td>\n",
       "      <td>0.000228</td>\n",
       "    </tr>\n",
       "  </tbody>\n",
       "</table>\n",
       "<p>5 rows × 21 columns</p>\n",
       "</div>"
      ],
      "text/plain": [
       "   mean_fit_time  std_fit_time  mean_score_time  std_score_time  \\\n",
       "0       8.318873      0.080258         0.476806        0.031848   \n",
       "1      10.882352      0.183657         0.464810        0.013496   \n",
       "2      13.605035      0.285657         0.472810        0.016004   \n",
       "3      15.923472      0.288564         0.467609        0.021786   \n",
       "4      17.681015      0.592790         0.472407        0.038935   \n",
       "\n",
       "  param_max_depth            params  split0_test_score  split1_test_score  \\\n",
       "0               1  {'max_depth': 1}           0.830571           0.830571   \n",
       "1               2  {'max_depth': 2}           0.830571           0.830571   \n",
       "2               3  {'max_depth': 3}           0.832571           0.831286   \n",
       "3               4  {'max_depth': 4}           0.832643           0.831286   \n",
       "4               5  {'max_depth': 5}           0.832500           0.831357   \n",
       "\n",
       "   split2_test_score  split3_test_score  ...  mean_test_score  std_test_score  \\\n",
       "0           0.830571           0.830571  ...         0.830569        0.000005   \n",
       "1           0.830571           0.830571  ...         0.830583        0.000024   \n",
       "2           0.830857           0.831643  ...         0.831669        0.000587   \n",
       "3           0.830857           0.831500  ...         0.831655        0.000614   \n",
       "4           0.830786           0.831286  ...         0.831569        0.000588   \n",
       "\n",
       "   rank_test_score  split0_train_score  split1_train_score  \\\n",
       "0                9            0.830568            0.830568   \n",
       "1                8            0.830568            0.830568   \n",
       "2                1            0.831533            0.831765   \n",
       "3                2            0.831568            0.831818   \n",
       "4                3            0.831693            0.831890   \n",
       "\n",
       "   split2_train_score  split3_train_score  split4_train_score  \\\n",
       "0            0.830568            0.830568            0.830571   \n",
       "1            0.830568            0.830568            0.830643   \n",
       "2            0.831926            0.831765            0.831750   \n",
       "3            0.832122            0.831979            0.831804   \n",
       "4            0.832318            0.832193            0.831875   \n",
       "\n",
       "   mean_train_score  std_train_score  \n",
       "0          0.830569         0.000001  \n",
       "1          0.830583         0.000030  \n",
       "2          0.831748         0.000125  \n",
       "3          0.831858         0.000186  \n",
       "4          0.831994         0.000228  \n",
       "\n",
       "[5 rows x 21 columns]"
      ]
     },
     "execution_count": 103,
     "metadata": {},
     "output_type": "execute_result"
    }
   ],
   "source": [
    "pd.DataFrame(scores).head()"
   ]
  },
  {
   "cell_type": "code",
   "execution_count": 104,
   "metadata": {},
   "outputs": [
    {
     "data": {
      "image/png": "[encoded data removed]",
      "text/plain": [
       "<Figure size 432x288 with 1 Axes>"
      ]
     },
     "metadata": {
      "needs_background": "light"
     },
     "output_type": "display_data"
    }
   ],
   "source": [
    "plt.figure\n",
    "plt.plot(scores[\"param_max_depth\"].data,scores[\"mean_train_score\"],label=\"training_accuracy\")\n",
    "plt.plot(scores[\"param_max_depth\"].data, scores[\"mean_test_score\"], label=\"test_accuracy\")\n",
    "plt.xlabel(\"max_depth\")\n",
    "plt.ylabel(\"accuracy\")\n",
    "plt.legend()\n",
    "plt.show()"
   ]
  },
  {
   "cell_type": "code",
   "execution_count": null,
   "metadata": {},
   "outputs": [],
   "source": []
  }
 ],
 "metadata": {
  "kernelspec": {
   "display_name": "Python 3 (ipykernel)",
   "language": "python",
   "name": "python3"
  },
  "language_info": {
   "codemirror_mode": {
    "name": "ipython",
    "version": 3
   },
   "file_extension": ".py",
   "mimetype": "text/x-python",
   "name": "python",
   "nbconvert_exporter": "python",
   "pygments_lexer": "ipython3",
   "version": "3.9.12"
  }
 },
 "nbformat": 4,
 "nbformat_minor": 4
}
