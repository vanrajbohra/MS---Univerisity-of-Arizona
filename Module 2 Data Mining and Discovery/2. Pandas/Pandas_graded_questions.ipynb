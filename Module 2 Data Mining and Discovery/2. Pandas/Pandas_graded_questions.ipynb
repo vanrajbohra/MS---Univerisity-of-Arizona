{
 "cells": [
  {
   "cell_type": "code",
   "execution_count": 2,
   "metadata": {},
   "outputs": [],
   "source": [
    "import numpy as np\n",
    "import pandas as pd"
   ]
  },
  {
   "cell_type": "code",
   "execution_count": 6,
   "metadata": {},
   "outputs": [
    {
     "data": {
      "text/html": [
       "<div>\n",
       "<style scoped>\n",
       "    .dataframe tbody tr th:only-of-type {\n",
       "        vertical-align: middle;\n",
       "    }\n",
       "\n",
       "    .dataframe tbody tr th {\n",
       "        vertical-align: top;\n",
       "    }\n",
       "\n",
       "    .dataframe thead th {\n",
       "        text-align: right;\n",
       "    }\n",
       "</style>\n",
       "<table border=\"1\" class=\"dataframe\">\n",
       "  <thead>\n",
       "    <tr style=\"text-align: right;\">\n",
       "      <th></th>\n",
       "      <th>Order ID</th>\n",
       "      <th>Product Name</th>\n",
       "      <th>Discount</th>\n",
       "      <th>Sales</th>\n",
       "      <th>Profit</th>\n",
       "      <th>Quantity</th>\n",
       "      <th>Category</th>\n",
       "      <th>Sub-Category</th>\n",
       "    </tr>\n",
       "  </thead>\n",
       "  <tbody>\n",
       "    <tr>\n",
       "      <th>0</th>\n",
       "      <td>AZ-2011-1029887</td>\n",
       "      <td>Novimex Color Coded Labels, 5000 Label Set</td>\n",
       "      <td>0.0</td>\n",
       "      <td>26</td>\n",
       "      <td>7</td>\n",
       "      <td>2</td>\n",
       "      <td>Office Supplies</td>\n",
       "      <td>Labels</td>\n",
       "    </tr>\n",
       "    <tr>\n",
       "      <th>1</th>\n",
       "      <td>AZ-2011-107716</td>\n",
       "      <td>Deflect-O Door Stop, Erganomic</td>\n",
       "      <td>0.0</td>\n",
       "      <td>85</td>\n",
       "      <td>15</td>\n",
       "      <td>2</td>\n",
       "      <td>Furniture</td>\n",
       "      <td>Furnishings</td>\n",
       "    </tr>\n",
       "    <tr>\n",
       "      <th>2</th>\n",
       "      <td>AZ-2011-1087704</td>\n",
       "      <td>Belkin Flash Drive, Bluetooth</td>\n",
       "      <td>0.0</td>\n",
       "      <td>294</td>\n",
       "      <td>109</td>\n",
       "      <td>7</td>\n",
       "      <td>Technology</td>\n",
       "      <td>Accessories</td>\n",
       "    </tr>\n",
       "    <tr>\n",
       "      <th>3</th>\n",
       "      <td>AZ-2011-1372644</td>\n",
       "      <td>Panasonic Printer, Durable</td>\n",
       "      <td>0.0</td>\n",
       "      <td>800</td>\n",
       "      <td>168</td>\n",
       "      <td>3</td>\n",
       "      <td>Technology</td>\n",
       "      <td>Machines</td>\n",
       "    </tr>\n",
       "    <tr>\n",
       "      <th>4</th>\n",
       "      <td>AZ-2011-1362199</td>\n",
       "      <td>Sanford Pens, Fluorescent</td>\n",
       "      <td>0.5</td>\n",
       "      <td>25</td>\n",
       "      <td>-11</td>\n",
       "      <td>4</td>\n",
       "      <td>Office Supplies</td>\n",
       "      <td>Art</td>\n",
       "    </tr>\n",
       "  </tbody>\n",
       "</table>\n",
       "</div>"
      ],
      "text/plain": [
       "          Order ID                                Product Name  Discount  \\\n",
       "0  AZ-2011-1029887  Novimex Color Coded Labels, 5000 Label Set       0.0   \n",
       "1   AZ-2011-107716              Deflect-O Door Stop, Erganomic       0.0   \n",
       "2  AZ-2011-1087704               Belkin Flash Drive, Bluetooth       0.0   \n",
       "3  AZ-2011-1372644                  Panasonic Printer, Durable       0.0   \n",
       "4  AZ-2011-1362199                   Sanford Pens, Fluorescent       0.5   \n",
       "\n",
       "   Sales  Profit  Quantity         Category Sub-Category  \n",
       "0     26       7         2  Office Supplies       Labels  \n",
       "1     85      15         2        Furniture  Furnishings  \n",
       "2    294     109         7       Technology  Accessories  \n",
       "3    800     168         3       Technology     Machines  \n",
       "4     25     -11         4  Office Supplies          Art  "
      ]
     },
     "execution_count": 6,
     "metadata": {},
     "output_type": "execute_result"
    }
   ],
   "source": [
    "mm_sales = pd.read_csv(\"Data/MegaMart_sales.csv\")\n",
    "mm_sales.head()"
   ]
  },
  {
   "cell_type": "code",
   "execution_count": 9,
   "metadata": {},
   "outputs": [
    {
     "data": {
      "text/plain": [
       "Category\n",
       "Furniture          2460\n",
       "Office Supplies    7970\n",
       "Technology         8588\n",
       "Name: Sales, dtype: int64"
      ]
     },
     "execution_count": 9,
     "metadata": {},
     "output_type": "execute_result"
    }
   ],
   "source": [
    "mm_new_sales =pd.read_csv(\"Data/MegaMart_newsales.csv\")\n",
    "mm_new_sales.head()\n",
    "\n",
    "frames = [mm_sales, mm_new_sales]\n",
    "\n",
    "main_frame = pd.concat(frames,axis=0,ignore_index=True)\n",
    "main_frame.groupby(by='Category').Sales.sum()"
   ]
  },
  {
   "cell_type": "code",
   "execution_count": 10,
   "metadata": {},
   "outputs": [
    {
     "name": "stdout",
     "output_type": "stream",
     "text": [
      "           Order ID                         Product Name  Discount  Sales  \\\n",
      "30  AZ-2011-1410648         Nokia Smart Phone, Full Size       0.0   1908   \n",
      "58   AZ-2011-176674                Hoover Microwave, Red       0.1   1667   \n",
      "8   AZ-2011-1174243     Nokia Audio Dock, with Caller ID       0.0   1334   \n",
      "20  AZ-2011-1322840     Motorola Headset, with Caller ID       0.0    957   \n",
      "28  AZ-2011-1372644           Panasonic Printer, Durable       0.0    800   \n",
      "3   AZ-2011-1372644           Panasonic Printer, Durable       0.0    800   \n",
      "18  AZ-2011-1406494         Fellowes Lockers, Industrial       0.1    748   \n",
      "29  AZ-2011-1406494         Fellowes Lockers, Industrial       0.1    748   \n",
      "39  AZ-2011-1536006      Logitech Keyboard, Programmable       0.0    666   \n",
      "33  AZ-2011-1445262          Apple Smart Phone, Cordless       0.0    636   \n",
      "31   AZ-2011-144325        Bush Stackable Bookrack, Pine       0.0    630   \n",
      "14  AZ-2011-1260928        Eldon File Cart, Single Width       0.1    576   \n",
      "12  AZ-2011-1253407       Safco Stackable Bookrack, Pine       0.1    541   \n",
      "48  AZ-2011-1672552      Binney & Smith Sketch Pad, Blue       0.0    510   \n",
      "52  AZ-2011-1722024               Cisco Audio Dock, VoIP       0.0    364   \n",
      "59  AZ-2011-1902971  Wilson Jones Binding Machine, Clear       0.0    339   \n",
      "17   AZ-2011-130330     Office Star Chairmat, Adjustable       0.1    307   \n",
      "13  AZ-2011-1087704        Belkin Flash Drive, Bluetooth       0.0    294   \n",
      "2   AZ-2011-1087704        Belkin Flash Drive, Bluetooth       0.0    294   \n",
      "\n",
      "    Profit  Quantity         Category Sub-Category  \n",
      "30     820         3       Technology       Phones  \n",
      "58     185         6  Office Supplies   Appliances  \n",
      "8      200         8       Technology       Phones  \n",
      "20     316        12       Technology       Phones  \n",
      "28     168         3       Technology     Machines  \n",
      "3      168         3       Technology     Machines  \n",
      "18     283         4  Office Supplies      Storage  \n",
      "29     283         4  Office Supplies      Storage  \n",
      "39      66         9       Technology  Accessories  \n",
      "33     140         1       Technology       Phones  \n",
      "31     132         5        Furniture    Bookcases  \n",
      "14      51         5  Office Supplies      Storage  \n",
      "12     156         4        Furniture    Bookcases  \n",
      "48     132        11  Office Supplies          Art  \n",
      "52     142         2       Technology       Phones  \n",
      "59     102         7  Office Supplies      Binders  \n",
      "17      99         5        Furniture       Chairs  \n",
      "13     109         7       Technology  Accessories  \n",
      "2      109         7       Technology  Accessories  \n"
     ]
    }
   ],
   "source": [
    "highest_order=main_frame.loc[(main_frame['Sales']>250) & (main_frame['Profit']>50)]\n",
    "highest_order=highest_order.sort_values(by='Sales',ascending=False) \n",
    "print(highest_order)"
   ]
  },
  {
   "cell_type": "code",
   "execution_count": 11,
   "metadata": {},
   "outputs": [
    {
     "data": {
      "text/html": [
       "<div>\n",
       "<style scoped>\n",
       "    .dataframe tbody tr th:only-of-type {\n",
       "        vertical-align: middle;\n",
       "    }\n",
       "\n",
       "    .dataframe tbody tr th {\n",
       "        vertical-align: top;\n",
       "    }\n",
       "\n",
       "    .dataframe thead th {\n",
       "        text-align: right;\n",
       "    }\n",
       "</style>\n",
       "<table border=\"1\" class=\"dataframe\">\n",
       "  <thead>\n",
       "    <tr style=\"text-align: right;\">\n",
       "      <th></th>\n",
       "      <th>Order ID</th>\n",
       "      <th>Product Name</th>\n",
       "      <th>Discount</th>\n",
       "      <th>Sales</th>\n",
       "      <th>Profit</th>\n",
       "      <th>Quantity</th>\n",
       "      <th>Category</th>\n",
       "      <th>Sub-Category</th>\n",
       "      <th>Profit_per_qty</th>\n",
       "    </tr>\n",
       "  </thead>\n",
       "  <tbody>\n",
       "    <tr>\n",
       "      <th>39</th>\n",
       "      <td>AZ-2011-1536006</td>\n",
       "      <td>Logitech Keyboard, Programmable</td>\n",
       "      <td>0.0</td>\n",
       "      <td>666</td>\n",
       "      <td>66</td>\n",
       "      <td>9</td>\n",
       "      <td>Technology</td>\n",
       "      <td>Accessories</td>\n",
       "      <td>7.333333</td>\n",
       "    </tr>\n",
       "    <tr>\n",
       "      <th>2</th>\n",
       "      <td>AZ-2011-1087704</td>\n",
       "      <td>Belkin Flash Drive, Bluetooth</td>\n",
       "      <td>0.0</td>\n",
       "      <td>294</td>\n",
       "      <td>109</td>\n",
       "      <td>7</td>\n",
       "      <td>Technology</td>\n",
       "      <td>Accessories</td>\n",
       "      <td>15.571429</td>\n",
       "    </tr>\n",
       "    <tr>\n",
       "      <th>13</th>\n",
       "      <td>AZ-2011-1087704</td>\n",
       "      <td>Belkin Flash Drive, Bluetooth</td>\n",
       "      <td>0.0</td>\n",
       "      <td>294</td>\n",
       "      <td>109</td>\n",
       "      <td>7</td>\n",
       "      <td>Technology</td>\n",
       "      <td>Accessories</td>\n",
       "      <td>15.571429</td>\n",
       "    </tr>\n",
       "    <tr>\n",
       "      <th>63</th>\n",
       "      <td>AZ-2011-1967754</td>\n",
       "      <td>Logitech Numeric Keypad, USB</td>\n",
       "      <td>0.0</td>\n",
       "      <td>93</td>\n",
       "      <td>40</td>\n",
       "      <td>2</td>\n",
       "      <td>Technology</td>\n",
       "      <td>Accessories</td>\n",
       "      <td>20.000000</td>\n",
       "    </tr>\n",
       "    <tr>\n",
       "      <th>8</th>\n",
       "      <td>AZ-2011-1174243</td>\n",
       "      <td>Nokia Audio Dock, with Caller ID</td>\n",
       "      <td>0.0</td>\n",
       "      <td>1334</td>\n",
       "      <td>200</td>\n",
       "      <td>8</td>\n",
       "      <td>Technology</td>\n",
       "      <td>Phones</td>\n",
       "      <td>25.000000</td>\n",
       "    </tr>\n",
       "    <tr>\n",
       "      <th>20</th>\n",
       "      <td>AZ-2011-1322840</td>\n",
       "      <td>Motorola Headset, with Caller ID</td>\n",
       "      <td>0.0</td>\n",
       "      <td>957</td>\n",
       "      <td>316</td>\n",
       "      <td>12</td>\n",
       "      <td>Technology</td>\n",
       "      <td>Phones</td>\n",
       "      <td>26.333333</td>\n",
       "    </tr>\n",
       "    <tr>\n",
       "      <th>3</th>\n",
       "      <td>AZ-2011-1372644</td>\n",
       "      <td>Panasonic Printer, Durable</td>\n",
       "      <td>0.0</td>\n",
       "      <td>800</td>\n",
       "      <td>168</td>\n",
       "      <td>3</td>\n",
       "      <td>Technology</td>\n",
       "      <td>Machines</td>\n",
       "      <td>56.000000</td>\n",
       "    </tr>\n",
       "    <tr>\n",
       "      <th>28</th>\n",
       "      <td>AZ-2011-1372644</td>\n",
       "      <td>Panasonic Printer, Durable</td>\n",
       "      <td>0.0</td>\n",
       "      <td>800</td>\n",
       "      <td>168</td>\n",
       "      <td>3</td>\n",
       "      <td>Technology</td>\n",
       "      <td>Machines</td>\n",
       "      <td>56.000000</td>\n",
       "    </tr>\n",
       "    <tr>\n",
       "      <th>52</th>\n",
       "      <td>AZ-2011-1722024</td>\n",
       "      <td>Cisco Audio Dock, VoIP</td>\n",
       "      <td>0.0</td>\n",
       "      <td>364</td>\n",
       "      <td>142</td>\n",
       "      <td>2</td>\n",
       "      <td>Technology</td>\n",
       "      <td>Phones</td>\n",
       "      <td>71.000000</td>\n",
       "    </tr>\n",
       "    <tr>\n",
       "      <th>33</th>\n",
       "      <td>AZ-2011-1445262</td>\n",
       "      <td>Apple Smart Phone, Cordless</td>\n",
       "      <td>0.0</td>\n",
       "      <td>636</td>\n",
       "      <td>140</td>\n",
       "      <td>1</td>\n",
       "      <td>Technology</td>\n",
       "      <td>Phones</td>\n",
       "      <td>140.000000</td>\n",
       "    </tr>\n",
       "    <tr>\n",
       "      <th>30</th>\n",
       "      <td>AZ-2011-1410648</td>\n",
       "      <td>Nokia Smart Phone, Full Size</td>\n",
       "      <td>0.0</td>\n",
       "      <td>1908</td>\n",
       "      <td>820</td>\n",
       "      <td>3</td>\n",
       "      <td>Technology</td>\n",
       "      <td>Phones</td>\n",
       "      <td>273.333333</td>\n",
       "    </tr>\n",
       "  </tbody>\n",
       "</table>\n",
       "</div>"
      ],
      "text/plain": [
       "           Order ID                      Product Name  Discount  Sales  \\\n",
       "39  AZ-2011-1536006   Logitech Keyboard, Programmable       0.0    666   \n",
       "2   AZ-2011-1087704     Belkin Flash Drive, Bluetooth       0.0    294   \n",
       "13  AZ-2011-1087704     Belkin Flash Drive, Bluetooth       0.0    294   \n",
       "63  AZ-2011-1967754      Logitech Numeric Keypad, USB       0.0     93   \n",
       "8   AZ-2011-1174243  Nokia Audio Dock, with Caller ID       0.0   1334   \n",
       "20  AZ-2011-1322840  Motorola Headset, with Caller ID       0.0    957   \n",
       "3   AZ-2011-1372644        Panasonic Printer, Durable       0.0    800   \n",
       "28  AZ-2011-1372644        Panasonic Printer, Durable       0.0    800   \n",
       "52  AZ-2011-1722024            Cisco Audio Dock, VoIP       0.0    364   \n",
       "33  AZ-2011-1445262       Apple Smart Phone, Cordless       0.0    636   \n",
       "30  AZ-2011-1410648      Nokia Smart Phone, Full Size       0.0   1908   \n",
       "\n",
       "    Profit  Quantity    Category Sub-Category  Profit_per_qty  \n",
       "39      66         9  Technology  Accessories        7.333333  \n",
       "2      109         7  Technology  Accessories       15.571429  \n",
       "13     109         7  Technology  Accessories       15.571429  \n",
       "63      40         2  Technology  Accessories       20.000000  \n",
       "8      200         8  Technology       Phones       25.000000  \n",
       "20     316        12  Technology       Phones       26.333333  \n",
       "3      168         3  Technology     Machines       56.000000  \n",
       "28     168         3  Technology     Machines       56.000000  \n",
       "52     142         2  Technology       Phones       71.000000  \n",
       "33     140         1  Technology       Phones      140.000000  \n",
       "30     820         3  Technology       Phones      273.333333  "
      ]
     },
     "execution_count": 11,
     "metadata": {},
     "output_type": "execute_result"
    }
   ],
   "source": [
    "lowest_profit=main_frame[main_frame.Profit>0]\n",
    "lowest_profit=lowest_profit.loc[lowest_profit.Category=='Technology']\n",
    "lowest_profit['Profit_per_qty']=lowest_profit['Profit']/lowest_profit['Quantity']\n",
    "lowest_profit.sort_values(by='Profit_per_qty',ascending=True)"
   ]
  },
  {
   "cell_type": "markdown",
   "metadata": {},
   "source": [
    "\n"
   ]
  },
  {
   "cell_type": "markdown",
   "metadata": {},
   "source": [
    "#### Combining two data frames\n",
    "Question 1: Some of the orders are stored in another csv file named `megamart_new sales`. Read the csv file, store it in a data frame and add it to the `megamart_sales` data frame. Find the total sales value of the category 'Office Supplies'  after combining the dataframes\n",
    "\n",
    "    a)7970\n",
    "    b)6964\n",
    "    c)7494\n",
    "    d)6076"
   ]
  },
  {
   "cell_type": "code",
   "execution_count": null,
   "metadata": {},
   "outputs": [],
   "source": [
    "#your code here\n"
   ]
  },
  {
   "cell_type": "markdown",
   "metadata": {},
   "source": [
    "#### Dropping duplicates\n",
    "Question 2: There are some duplicate rows in the data frame. Drop these rows and calculate the total sales value of the category Office Supplies.\n",
    "\n",
    "    a)7156\n",
    "    b)6496\n",
    "    c)6964\n",
    "    d)6023"
   ]
  },
  {
   "cell_type": "code",
   "execution_count": null,
   "metadata": {},
   "outputs": [],
   "source": [
    "#your code here\n",
    "\n"
   ]
  },
  {
   "cell_type": "markdown",
   "metadata": {},
   "source": [
    "#### Best category-sub category \n",
    "Question 3: Find the most profitable category and sub category combination based on the net profit.\n",
    "\n",
    "\n",
    "    a)Furniture-Bookcases\n",
    "    b)Office supplies-Appliances\n",
    "    c)Office supplies-Storage\n",
    "    d)Technology-Phones"
   ]
  },
  {
   "cell_type": "code",
   "execution_count": null,
   "metadata": {},
   "outputs": [],
   "source": [
    "#your code here\n",
    "\n"
   ]
  },
  {
   "cell_type": "markdown",
   "metadata": {},
   "source": [
    "#### Invalid order IDs\n",
    "Question 4: How many invalid order IDs are there in the data frame. An order id is of the form AZ-2011-Y where Y represents a whole number. A Order ID is said to be valid only if Y consists of 7 digits. Find the number of valid order order IDs in the data frame.\n",
    "    \n",
    "    a)6\n",
    "    b)7\n",
    "    c)8\n",
    "    d)9\n"
   ]
  },
  {
   "cell_type": "code",
   "execution_count": null,
   "metadata": {},
   "outputs": [],
   "source": [
    "#your code here\n",
    "\n"
   ]
  },
  {
   "cell_type": "markdown",
   "metadata": {},
   "source": [
    "#### Occurence of furniture in top 25 sales\n",
    "Question 5: Find the top 25 orders based on sales value and find the number of orders which belong to furniture category.\n",
    "\n",
    "    a)2\n",
    "    b)3\n",
    "    c)4\n",
    "    d)5 "
   ]
  },
  {
   "cell_type": "code",
   "execution_count": null,
   "metadata": {},
   "outputs": [],
   "source": [
    "#your code here\n",
    "\n"
   ]
  },
  {
   "cell_type": "code",
   "execution_count": null,
   "metadata": {},
   "outputs": [],
   "source": []
  },
  {
   "cell_type": "markdown",
   "metadata": {},
   "source": [
    "#### And operation\n",
    "Question 6: Among the orders with sales>250 and profit>50, find the product name of the fourth highest order based on sales value.\n",
    "\n",
    "    a)Motorola Headset, with Caller ID\n",
    "    b)Panasonic Printer, Durable\t\n",
    "    c)Hoover Microwave, Red\t\n",
    "    d)Fellowes Lockers, Industrial\t"
   ]
  },
  {
   "cell_type": "code",
   "execution_count": null,
   "metadata": {},
   "outputs": [],
   "source": [
    "#your code here\n",
    "\n"
   ]
  },
  {
   "cell_type": "markdown",
   "metadata": {},
   "source": [
    "#### Column manipulation\n",
    "Question 7: Remove the orders with negative profit by dropping the corresponding rows with negative `Profit`. Find the product that makes the lowest profit per Quantity in the Technology category.\n",
    "\n",
    "    a) Nokia Audio Dock, with Caller ID\n",
    "    b) Logitech Keyboard, Programmable\n",
    "    c) Motorola Headset, with Caller ID\n",
    "    d) Belkin Flash Drive, Bluetooth"
   ]
  },
  {
   "cell_type": "code",
   "execution_count": null,
   "metadata": {},
   "outputs": [],
   "source": [
    "#your code here\n",
    "\n",
    "\n"
   ]
  }
 ],
 "metadata": {
  "kernelspec": {
   "display_name": "Python 3",
   "language": "python",
   "name": "python3"
  },
  "language_info": {
   "codemirror_mode": {
    "name": "ipython",
    "version": 3
   },
   "file_extension": ".py",
   "mimetype": "text/x-python",
   "name": "python",
   "nbconvert_exporter": "python",
   "pygments_lexer": "ipython3",
   "version": "3.7.6"
  }
 },
 "nbformat": 4,
 "nbformat_minor": 2
}
