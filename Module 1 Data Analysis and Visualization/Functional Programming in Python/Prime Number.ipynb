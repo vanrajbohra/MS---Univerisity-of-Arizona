{
 "cells": [
  {
   "cell_type": "markdown",
   "metadata": {},
   "source": [
    "## Prime Number Program"
   ]
  },
  {
   "cell_type": "code",
   "execution_count": 9,
   "metadata": {},
   "outputs": [
    {
     "name": "stdout",
     "output_type": "stream",
     "text": [
      "Enter Number to Check if Prime :3\n",
      "Number is Prime\n"
     ]
    }
   ],
   "source": [
    "n = int(input(\"Enter Number to Check if Prime :\"))\n",
    "\n",
    "PrimeFlag = True\n",
    "for i in range(2,n):\n",
    "    if n%i == 0 :\n",
    "        PrimeFlag = False\n",
    "        break;\n",
    "\n",
    "if PrimeFlag:\n",
    "    print(\"Number is Prime\")\n",
    "else:\n",
    "    print(\"Number is not Prime\")\n",
    "        "
   ]
  },
  {
   "cell_type": "code",
   "execution_count": 23,
   "metadata": {},
   "outputs": [
    {
     "name": "stdout",
     "output_type": "stream",
     "text": [
      "Enter Number to Check if Prime :4\n",
      "4 is not Prime\n"
     ]
    }
   ],
   "source": [
    "n = int(input(\"Enter Number to Check if Prime :\"))\n",
    "\n",
    "if n>1:\n",
    "    PrimeFlag = True\n",
    "    for i in range(2,(int(n/2)+1)):\n",
    "        if n%i == 0 :\n",
    "            PrimeFlag = False\n",
    "            break;\n",
    "\n",
    "    if PrimeFlag:\n",
    "        print(n,\"is Prime\")\n",
    "    else:\n",
    "        print(n,\"is not Prime\")\n",
    "else:\n",
    "    print(n,\"is not prime\")"
   ]
  }
 ],
 "metadata": {
  "kernelspec": {
   "display_name": "Python 3",
   "language": "python",
   "name": "python3"
  },
  "language_info": {
   "codemirror_mode": {
    "name": "ipython",
    "version": 3
   },
   "file_extension": ".py",
   "mimetype": "text/x-python",
   "name": "python",
   "nbconvert_exporter": "python",
   "pygments_lexer": "ipython3",
   "version": "3.7.6"
  }
 },
 "nbformat": 4,
 "nbformat_minor": 4
}
